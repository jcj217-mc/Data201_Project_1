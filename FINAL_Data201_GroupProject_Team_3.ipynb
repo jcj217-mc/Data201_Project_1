{
  "nbformat": 4,
  "nbformat_minor": 0,
  "metadata": {
    "colab": {
      "name": "FINAL_Data201_GroupProject_Team_3.ipynb",
      "provenance": [],
      "collapsed_sections": [],
      "toc_visible": true,
      "include_colab_link": true
    },
    "kernelspec": {
      "display_name": "Python 3",
      "name": "python3"
    },
    "language_info": {
      "name": "python"
    }
  },
  "cells": [
    {
      "cell_type": "markdown",
      "metadata": {
        "id": "view-in-github",
        "colab_type": "text"
      },
      "source": [
        "<a href=\"https://colab.research.google.com/github/jcj217-mc/Data201_Project_1/blob/main/FINAL_Data201_GroupProject_Team_3.ipynb\" target=\"_parent\"><img src=\"https://colab.research.google.com/assets/colab-badge.svg\" alt=\"Open In Colab\"/></a>"
      ]
    },
    {
      "cell_type": "code",
      "metadata": {
        "id": "lJh6zQg4VvRb"
      },
      "source": [
        "# import packages\n",
        "import pandas as pd\n",
        "import numpy as np\n",
        "import os \n",
        "import json\n",
        "import datetime\n",
        "import seaborn as sns\n",
        "import matplotlib.pyplot as plt"
      ],
      "execution_count": 1,
      "outputs": []
    },
    {
      "cell_type": "code",
      "metadata": {
        "id": "e7EO6SQna5F4"
      },
      "source": [
        "# .csv file import\n",
        "# First, check  working directory\n",
        "# os.getcwd()\n",
        "# If need to change working directory\n",
        "# os.chdir(path)\n",
        "df = pd.read_csv(\"Accused_Pre-Trial_Inmates_in_Correctional_Facilities (1).csv\", index_col=False)"
      ],
      "execution_count": 2,
      "outputs": []
    },
    {
      "cell_type": "markdown",
      "metadata": {
        "id": "Dyua3yZ8ZPyo"
      },
      "source": [
        "## **Data Preparation and Wrangling with Pandas and Numpy**"
      ]
    },
    {
      "cell_type": "code",
      "metadata": {
        "colab": {
          "base_uri": "https://localhost:8080/",
          "height": 411
        },
        "id": "el19b9VvWEB2",
        "outputId": "5105fbf6-7ed3-4311-d2d9-c53fb693876c"
      },
      "source": [
        "# Evaluating initial data \n",
        "df.head()"
      ],
      "execution_count": 3,
      "outputs": [
        {
          "output_type": "execute_result",
          "data": {
            "text/html": [
              "<div>\n",
              "<style scoped>\n",
              "    .dataframe tbody tr th:only-of-type {\n",
              "        vertical-align: middle;\n",
              "    }\n",
              "\n",
              "    .dataframe tbody tr th {\n",
              "        vertical-align: top;\n",
              "    }\n",
              "\n",
              "    .dataframe thead th {\n",
              "        text-align: right;\n",
              "    }\n",
              "</style>\n",
              "<table border=\"1\" class=\"dataframe\">\n",
              "  <thead>\n",
              "    <tr style=\"text-align: right;\">\n",
              "      <th></th>\n",
              "      <th>DOWNLOAD DATE</th>\n",
              "      <th>IDENTIFIER</th>\n",
              "      <th>LATEST ADMISSION DATE</th>\n",
              "      <th>RACE</th>\n",
              "      <th>GENDER</th>\n",
              "      <th>AGE</th>\n",
              "      <th>BOND AMOUNT</th>\n",
              "      <th>OFFENSE</th>\n",
              "      <th>FACILITY</th>\n",
              "      <th>DETAINER</th>\n",
              "    </tr>\n",
              "  </thead>\n",
              "  <tbody>\n",
              "    <tr>\n",
              "      <th>0</th>\n",
              "      <td>05/15/2020</td>\n",
              "      <td>ZZHCZBZZ</td>\n",
              "      <td>08/16/2018</td>\n",
              "      <td>BLACK</td>\n",
              "      <td>M</td>\n",
              "      <td>27</td>\n",
              "      <td>150000</td>\n",
              "      <td>CRIMINAL POSS OF PISTOL/REVOLVER      DF</td>\n",
              "      <td>NEW HAVEN CC</td>\n",
              "      <td>NONE</td>\n",
              "    </tr>\n",
              "    <tr>\n",
              "      <th>1</th>\n",
              "      <td>05/15/2020</td>\n",
              "      <td>ZZHZZRLR</td>\n",
              "      <td>03/28/2019</td>\n",
              "      <td>HISPANIC</td>\n",
              "      <td>M</td>\n",
              "      <td>41</td>\n",
              "      <td>30100</td>\n",
              "      <td>VIOLATION OF PROBATION OR COND DISCHG</td>\n",
              "      <td>CORRIGAN CI</td>\n",
              "      <td>NONE</td>\n",
              "    </tr>\n",
              "    <tr>\n",
              "      <th>2</th>\n",
              "      <td>05/15/2020</td>\n",
              "      <td>ZZSRJBEE</td>\n",
              "      <td>04/03/2020</td>\n",
              "      <td>HISPANIC</td>\n",
              "      <td>M</td>\n",
              "      <td>21</td>\n",
              "      <td>150000</td>\n",
              "      <td>CRIMINAL ATTEMPT</td>\n",
              "      <td>CORRIGAN CI</td>\n",
              "      <td>NONE</td>\n",
              "    </tr>\n",
              "    <tr>\n",
              "      <th>3</th>\n",
              "      <td>05/15/2020</td>\n",
              "      <td>ZZHBJLRZ</td>\n",
              "      <td>01/15/2020</td>\n",
              "      <td>WHITE</td>\n",
              "      <td>M</td>\n",
              "      <td>36</td>\n",
              "      <td>50500</td>\n",
              "      <td>CRIM VIOL OF PROTECTIVE ORDER         DF</td>\n",
              "      <td>BRIDGEPORT CC</td>\n",
              "      <td>NONE</td>\n",
              "    </tr>\n",
              "    <tr>\n",
              "      <th>4</th>\n",
              "      <td>05/15/2020</td>\n",
              "      <td>ZZSRRCHH</td>\n",
              "      <td>12/26/2018</td>\n",
              "      <td>HISPANIC</td>\n",
              "      <td>M</td>\n",
              "      <td>29</td>\n",
              "      <td>100000</td>\n",
              "      <td>CRIMINAL ATTEMPT</td>\n",
              "      <td>HARTFORD CC</td>\n",
              "      <td>NONE</td>\n",
              "    </tr>\n",
              "  </tbody>\n",
              "</table>\n",
              "</div>"
            ],
            "text/plain": [
              "  DOWNLOAD DATE  ... DETAINER                                        \n",
              "0    05/15/2020  ...                                             NONE\n",
              "1    05/15/2020  ...                                             NONE\n",
              "2    05/15/2020  ...                                             NONE\n",
              "3    05/15/2020  ...                                             NONE\n",
              "4    05/15/2020  ...                                             NONE\n",
              "\n",
              "[5 rows x 10 columns]"
            ]
          },
          "metadata": {
            "tags": []
          },
          "execution_count": 3
        }
      ]
    },
    {
      "cell_type": "code",
      "metadata": {
        "colab": {
          "base_uri": "https://localhost:8080/"
        },
        "id": "sRe_qwOj_4el",
        "outputId": "64b62723-a27a-4359-a55a-2fac77a5ea4b"
      },
      "source": [
        "df.info()"
      ],
      "execution_count": 4,
      "outputs": [
        {
          "output_type": "stream",
          "text": [
            "<class 'pandas.core.frame.DataFrame'>\n",
            "RangeIndex: 5351849 entries, 0 to 5351848\n",
            "Data columns (total 10 columns):\n",
            " #   Column                                            Dtype \n",
            "---  ------                                            ----- \n",
            " 0   DOWNLOAD DATE                                     object\n",
            " 1   IDENTIFIER                                        object\n",
            " 2   LATEST ADMISSION DATE                             object\n",
            " 3   RACE                                              object\n",
            " 4   GENDER                                            object\n",
            " 5   AGE                                               int64 \n",
            " 6   BOND AMOUNT                                       int64 \n",
            " 7   OFFENSE                                           object\n",
            " 8   FACILITY                                          object\n",
            " 9   DETAINER                                          object\n",
            "dtypes: int64(2), object(8)\n",
            "memory usage: 408.3+ MB\n"
          ],
          "name": "stdout"
        }
      ]
    },
    {
      "cell_type": "code",
      "metadata": {
        "colab": {
          "base_uri": "https://localhost:8080/",
          "height": 297
        },
        "id": "AG-Ha8_a_8pe",
        "outputId": "109e31f0-633f-45b0-d08c-fcdf532512d6"
      },
      "source": [
        "df.describe()"
      ],
      "execution_count": 5,
      "outputs": [
        {
          "output_type": "execute_result",
          "data": {
            "text/html": [
              "<div>\n",
              "<style scoped>\n",
              "    .dataframe tbody tr th:only-of-type {\n",
              "        vertical-align: middle;\n",
              "    }\n",
              "\n",
              "    .dataframe tbody tr th {\n",
              "        vertical-align: top;\n",
              "    }\n",
              "\n",
              "    .dataframe thead th {\n",
              "        text-align: right;\n",
              "    }\n",
              "</style>\n",
              "<table border=\"1\" class=\"dataframe\">\n",
              "  <thead>\n",
              "    <tr style=\"text-align: right;\">\n",
              "      <th></th>\n",
              "      <th>AGE</th>\n",
              "      <th>BOND AMOUNT</th>\n",
              "    </tr>\n",
              "  </thead>\n",
              "  <tbody>\n",
              "    <tr>\n",
              "      <th>count</th>\n",
              "      <td>5.351849e+06</td>\n",
              "      <td>5.351849e+06</td>\n",
              "    </tr>\n",
              "    <tr>\n",
              "      <th>mean</th>\n",
              "      <td>3.460968e+01</td>\n",
              "      <td>2.477388e+05</td>\n",
              "    </tr>\n",
              "    <tr>\n",
              "      <th>std</th>\n",
              "      <td>1.139510e+01</td>\n",
              "      <td>4.502701e+05</td>\n",
              "    </tr>\n",
              "    <tr>\n",
              "      <th>min</th>\n",
              "      <td>1.500000e+01</td>\n",
              "      <td>1.000000e+00</td>\n",
              "    </tr>\n",
              "    <tr>\n",
              "      <th>25%</th>\n",
              "      <td>2.600000e+01</td>\n",
              "      <td>3.350000e+04</td>\n",
              "    </tr>\n",
              "    <tr>\n",
              "      <th>50%</th>\n",
              "      <td>3.300000e+01</td>\n",
              "      <td>1.000000e+05</td>\n",
              "    </tr>\n",
              "    <tr>\n",
              "      <th>75%</th>\n",
              "      <td>4.200000e+01</td>\n",
              "      <td>2.500000e+05</td>\n",
              "    </tr>\n",
              "    <tr>\n",
              "      <th>max</th>\n",
              "      <td>8.700000e+01</td>\n",
              "      <td>9.200000e+06</td>\n",
              "    </tr>\n",
              "  </tbody>\n",
              "</table>\n",
              "</div>"
            ],
            "text/plain": [
              "                AGE   BOND AMOUNT\n",
              "count  5.351849e+06  5.351849e+06\n",
              "mean   3.460968e+01  2.477388e+05\n",
              "std    1.139510e+01  4.502701e+05\n",
              "min    1.500000e+01  1.000000e+00\n",
              "25%    2.600000e+01  3.350000e+04\n",
              "50%    3.300000e+01  1.000000e+05\n",
              "75%    4.200000e+01  2.500000e+05\n",
              "max    8.700000e+01  9.200000e+06"
            ]
          },
          "metadata": {
            "tags": []
          },
          "execution_count": 5
        }
      ]
    },
    {
      "cell_type": "code",
      "metadata": {
        "colab": {
          "base_uri": "https://localhost:8080/"
        },
        "id": "xLb5cUGVWqBt",
        "outputId": "c32fe15f-e22b-4978-bd9f-23e649e2b9a5"
      },
      "source": [
        "#Checking Shape\n",
        "print(df.shape)"
      ],
      "execution_count": 6,
      "outputs": [
        {
          "output_type": "stream",
          "text": [
            "(5351849, 10)\n"
          ],
          "name": "stdout"
        }
      ]
    },
    {
      "cell_type": "code",
      "metadata": {
        "colab": {
          "base_uri": "https://localhost:8080/"
        },
        "id": "Ehd1am1TmA15",
        "outputId": "75567f58-db32-48e8-a20f-4450b3e71f37"
      },
      "source": [
        "#Check DataFrame type\n",
        "type(df)"
      ],
      "execution_count": 7,
      "outputs": [
        {
          "output_type": "execute_result",
          "data": {
            "text/plain": [
              "pandas.core.frame.DataFrame"
            ]
          },
          "metadata": {
            "tags": []
          },
          "execution_count": 7
        }
      ]
    },
    {
      "cell_type": "markdown",
      "metadata": {
        "id": "kRq9uMXEWG1Z"
      },
      "source": [
        "## **Clean/Arrange Data**"
      ]
    },
    {
      "cell_type": "code",
      "metadata": {
        "id": "rOcCCYUmWYo9",
        "colab": {
          "base_uri": "https://localhost:8080/",
          "height": 377
        },
        "outputId": "4d6f8754-c326-4de5-bd17-3f5563ceacae"
      },
      "source": [
        "# change column names\n",
        "df = df.rename(columns = {\"DOWNLOAD DATE\": \"Download_Date\", \"LATEST ADMISSION DATE\": \"Date\", \"BOND AMOUNT\":\"Bond\"})\n",
        "df.head()"
      ],
      "execution_count": 8,
      "outputs": [
        {
          "output_type": "execute_result",
          "data": {
            "text/html": [
              "<div>\n",
              "<style scoped>\n",
              "    .dataframe tbody tr th:only-of-type {\n",
              "        vertical-align: middle;\n",
              "    }\n",
              "\n",
              "    .dataframe tbody tr th {\n",
              "        vertical-align: top;\n",
              "    }\n",
              "\n",
              "    .dataframe thead th {\n",
              "        text-align: right;\n",
              "    }\n",
              "</style>\n",
              "<table border=\"1\" class=\"dataframe\">\n",
              "  <thead>\n",
              "    <tr style=\"text-align: right;\">\n",
              "      <th></th>\n",
              "      <th>Download_Date</th>\n",
              "      <th>IDENTIFIER</th>\n",
              "      <th>Date</th>\n",
              "      <th>RACE</th>\n",
              "      <th>GENDER</th>\n",
              "      <th>AGE</th>\n",
              "      <th>Bond</th>\n",
              "      <th>OFFENSE</th>\n",
              "      <th>FACILITY</th>\n",
              "      <th>DETAINER</th>\n",
              "    </tr>\n",
              "  </thead>\n",
              "  <tbody>\n",
              "    <tr>\n",
              "      <th>0</th>\n",
              "      <td>05/15/2020</td>\n",
              "      <td>ZZHCZBZZ</td>\n",
              "      <td>08/16/2018</td>\n",
              "      <td>BLACK</td>\n",
              "      <td>M</td>\n",
              "      <td>27</td>\n",
              "      <td>150000</td>\n",
              "      <td>CRIMINAL POSS OF PISTOL/REVOLVER      DF</td>\n",
              "      <td>NEW HAVEN CC</td>\n",
              "      <td>NONE</td>\n",
              "    </tr>\n",
              "    <tr>\n",
              "      <th>1</th>\n",
              "      <td>05/15/2020</td>\n",
              "      <td>ZZHZZRLR</td>\n",
              "      <td>03/28/2019</td>\n",
              "      <td>HISPANIC</td>\n",
              "      <td>M</td>\n",
              "      <td>41</td>\n",
              "      <td>30100</td>\n",
              "      <td>VIOLATION OF PROBATION OR COND DISCHG</td>\n",
              "      <td>CORRIGAN CI</td>\n",
              "      <td>NONE</td>\n",
              "    </tr>\n",
              "    <tr>\n",
              "      <th>2</th>\n",
              "      <td>05/15/2020</td>\n",
              "      <td>ZZSRJBEE</td>\n",
              "      <td>04/03/2020</td>\n",
              "      <td>HISPANIC</td>\n",
              "      <td>M</td>\n",
              "      <td>21</td>\n",
              "      <td>150000</td>\n",
              "      <td>CRIMINAL ATTEMPT</td>\n",
              "      <td>CORRIGAN CI</td>\n",
              "      <td>NONE</td>\n",
              "    </tr>\n",
              "    <tr>\n",
              "      <th>3</th>\n",
              "      <td>05/15/2020</td>\n",
              "      <td>ZZHBJLRZ</td>\n",
              "      <td>01/15/2020</td>\n",
              "      <td>WHITE</td>\n",
              "      <td>M</td>\n",
              "      <td>36</td>\n",
              "      <td>50500</td>\n",
              "      <td>CRIM VIOL OF PROTECTIVE ORDER         DF</td>\n",
              "      <td>BRIDGEPORT CC</td>\n",
              "      <td>NONE</td>\n",
              "    </tr>\n",
              "    <tr>\n",
              "      <th>4</th>\n",
              "      <td>05/15/2020</td>\n",
              "      <td>ZZSRRCHH</td>\n",
              "      <td>12/26/2018</td>\n",
              "      <td>HISPANIC</td>\n",
              "      <td>M</td>\n",
              "      <td>29</td>\n",
              "      <td>100000</td>\n",
              "      <td>CRIMINAL ATTEMPT</td>\n",
              "      <td>HARTFORD CC</td>\n",
              "      <td>NONE</td>\n",
              "    </tr>\n",
              "  </tbody>\n",
              "</table>\n",
              "</div>"
            ],
            "text/plain": [
              "  Download_Date  ... DETAINER                                        \n",
              "0    05/15/2020  ...                                             NONE\n",
              "1    05/15/2020  ...                                             NONE\n",
              "2    05/15/2020  ...                                             NONE\n",
              "3    05/15/2020  ...                                             NONE\n",
              "4    05/15/2020  ...                                             NONE\n",
              "\n",
              "[5 rows x 10 columns]"
            ]
          },
          "metadata": {
            "tags": []
          },
          "execution_count": 8
        }
      ]
    },
    {
      "cell_type": "code",
      "metadata": {
        "colab": {
          "base_uri": "https://localhost:8080/",
          "height": 80
        },
        "id": "87w6WHbIeYVX",
        "outputId": "d32c784d-5d95-4790-b7aa-d8bbe1bcd7cb"
      },
      "source": [
        "# Drop Columns\n",
        "df = df.drop(['Download_Date', 'IDENTIFIER', 'FACILITY'], axis = 'columns')\n",
        "df.head(1)"
      ],
      "execution_count": 9,
      "outputs": [
        {
          "output_type": "execute_result",
          "data": {
            "text/html": [
              "<div>\n",
              "<style scoped>\n",
              "    .dataframe tbody tr th:only-of-type {\n",
              "        vertical-align: middle;\n",
              "    }\n",
              "\n",
              "    .dataframe tbody tr th {\n",
              "        vertical-align: top;\n",
              "    }\n",
              "\n",
              "    .dataframe thead th {\n",
              "        text-align: right;\n",
              "    }\n",
              "</style>\n",
              "<table border=\"1\" class=\"dataframe\">\n",
              "  <thead>\n",
              "    <tr style=\"text-align: right;\">\n",
              "      <th></th>\n",
              "      <th>Date</th>\n",
              "      <th>RACE</th>\n",
              "      <th>GENDER</th>\n",
              "      <th>AGE</th>\n",
              "      <th>Bond</th>\n",
              "      <th>OFFENSE</th>\n",
              "      <th>DETAINER</th>\n",
              "    </tr>\n",
              "  </thead>\n",
              "  <tbody>\n",
              "    <tr>\n",
              "      <th>0</th>\n",
              "      <td>08/16/2018</td>\n",
              "      <td>BLACK</td>\n",
              "      <td>M</td>\n",
              "      <td>27</td>\n",
              "      <td>150000</td>\n",
              "      <td>CRIMINAL POSS OF PISTOL/REVOLVER      DF</td>\n",
              "      <td>NONE</td>\n",
              "    </tr>\n",
              "  </tbody>\n",
              "</table>\n",
              "</div>"
            ],
            "text/plain": [
              "         Date  ... DETAINER                                        \n",
              "0  08/16/2018  ...                                             NONE\n",
              "\n",
              "[1 rows x 7 columns]"
            ]
          },
          "metadata": {
            "tags": []
          },
          "execution_count": 9
        }
      ]
    },
    {
      "cell_type": "code",
      "metadata": {
        "colab": {
          "base_uri": "https://localhost:8080/",
          "height": 80
        },
        "id": "tM6Nysh7l8JT",
        "outputId": "3b061560-6098-4f2e-e961-eb803a702931"
      },
      "source": [
        "df = df.drop([df.columns[-1]], axis='columns')\n",
        "df.head(1)"
      ],
      "execution_count": 10,
      "outputs": [
        {
          "output_type": "execute_result",
          "data": {
            "text/html": [
              "<div>\n",
              "<style scoped>\n",
              "    .dataframe tbody tr th:only-of-type {\n",
              "        vertical-align: middle;\n",
              "    }\n",
              "\n",
              "    .dataframe tbody tr th {\n",
              "        vertical-align: top;\n",
              "    }\n",
              "\n",
              "    .dataframe thead th {\n",
              "        text-align: right;\n",
              "    }\n",
              "</style>\n",
              "<table border=\"1\" class=\"dataframe\">\n",
              "  <thead>\n",
              "    <tr style=\"text-align: right;\">\n",
              "      <th></th>\n",
              "      <th>Date</th>\n",
              "      <th>RACE</th>\n",
              "      <th>GENDER</th>\n",
              "      <th>AGE</th>\n",
              "      <th>Bond</th>\n",
              "      <th>OFFENSE</th>\n",
              "    </tr>\n",
              "  </thead>\n",
              "  <tbody>\n",
              "    <tr>\n",
              "      <th>0</th>\n",
              "      <td>08/16/2018</td>\n",
              "      <td>BLACK</td>\n",
              "      <td>M</td>\n",
              "      <td>27</td>\n",
              "      <td>150000</td>\n",
              "      <td>CRIMINAL POSS OF PISTOL/REVOLVER      DF</td>\n",
              "    </tr>\n",
              "  </tbody>\n",
              "</table>\n",
              "</div>"
            ],
            "text/plain": [
              "         Date   RACE  ...    Bond                                   OFFENSE\n",
              "0  08/16/2018  BLACK  ...  150000  CRIMINAL POSS OF PISTOL/REVOLVER      DF\n",
              "\n",
              "[1 rows x 6 columns]"
            ]
          },
          "metadata": {
            "tags": []
          },
          "execution_count": 10
        }
      ]
    },
    {
      "cell_type": "code",
      "metadata": {
        "colab": {
          "base_uri": "https://localhost:8080/"
        },
        "id": "NvbZu7n3Wml8",
        "outputId": "d5e99158-e9af-4505-8c09-70a55dd01d0e"
      },
      "source": [
        "# Checking data types for each column\n",
        "print(df.dtypes)"
      ],
      "execution_count": 11,
      "outputs": [
        {
          "output_type": "stream",
          "text": [
            "Date       object\n",
            "RACE       object\n",
            "GENDER     object\n",
            "AGE         int64\n",
            "Bond        int64\n",
            "OFFENSE    object\n",
            "dtype: object\n"
          ],
          "name": "stdout"
        }
      ]
    },
    {
      "cell_type": "markdown",
      "metadata": {
        "id": "YikyqaxLT0Ru"
      },
      "source": [
        "## **Addressing NA/Null Values**"
      ]
    },
    {
      "cell_type": "code",
      "metadata": {
        "colab": {
          "base_uri": "https://localhost:8080/",
          "height": 419
        },
        "id": "rvWY21EOWxFj",
        "outputId": "995b431f-4c64-412c-8b02-fd23fbbd2f0f"
      },
      "source": [
        "# Check null \n",
        "df.isnull()"
      ],
      "execution_count": 12,
      "outputs": [
        {
          "output_type": "execute_result",
          "data": {
            "text/html": [
              "<div>\n",
              "<style scoped>\n",
              "    .dataframe tbody tr th:only-of-type {\n",
              "        vertical-align: middle;\n",
              "    }\n",
              "\n",
              "    .dataframe tbody tr th {\n",
              "        vertical-align: top;\n",
              "    }\n",
              "\n",
              "    .dataframe thead th {\n",
              "        text-align: right;\n",
              "    }\n",
              "</style>\n",
              "<table border=\"1\" class=\"dataframe\">\n",
              "  <thead>\n",
              "    <tr style=\"text-align: right;\">\n",
              "      <th></th>\n",
              "      <th>Date</th>\n",
              "      <th>RACE</th>\n",
              "      <th>GENDER</th>\n",
              "      <th>AGE</th>\n",
              "      <th>Bond</th>\n",
              "      <th>OFFENSE</th>\n",
              "    </tr>\n",
              "  </thead>\n",
              "  <tbody>\n",
              "    <tr>\n",
              "      <th>0</th>\n",
              "      <td>False</td>\n",
              "      <td>False</td>\n",
              "      <td>False</td>\n",
              "      <td>False</td>\n",
              "      <td>False</td>\n",
              "      <td>False</td>\n",
              "    </tr>\n",
              "    <tr>\n",
              "      <th>1</th>\n",
              "      <td>False</td>\n",
              "      <td>False</td>\n",
              "      <td>False</td>\n",
              "      <td>False</td>\n",
              "      <td>False</td>\n",
              "      <td>False</td>\n",
              "    </tr>\n",
              "    <tr>\n",
              "      <th>2</th>\n",
              "      <td>False</td>\n",
              "      <td>False</td>\n",
              "      <td>False</td>\n",
              "      <td>False</td>\n",
              "      <td>False</td>\n",
              "      <td>False</td>\n",
              "    </tr>\n",
              "    <tr>\n",
              "      <th>3</th>\n",
              "      <td>False</td>\n",
              "      <td>False</td>\n",
              "      <td>False</td>\n",
              "      <td>False</td>\n",
              "      <td>False</td>\n",
              "      <td>False</td>\n",
              "    </tr>\n",
              "    <tr>\n",
              "      <th>4</th>\n",
              "      <td>False</td>\n",
              "      <td>False</td>\n",
              "      <td>False</td>\n",
              "      <td>False</td>\n",
              "      <td>False</td>\n",
              "      <td>False</td>\n",
              "    </tr>\n",
              "    <tr>\n",
              "      <th>...</th>\n",
              "      <td>...</td>\n",
              "      <td>...</td>\n",
              "      <td>...</td>\n",
              "      <td>...</td>\n",
              "      <td>...</td>\n",
              "      <td>...</td>\n",
              "    </tr>\n",
              "    <tr>\n",
              "      <th>5351844</th>\n",
              "      <td>False</td>\n",
              "      <td>False</td>\n",
              "      <td>False</td>\n",
              "      <td>False</td>\n",
              "      <td>False</td>\n",
              "      <td>False</td>\n",
              "    </tr>\n",
              "    <tr>\n",
              "      <th>5351845</th>\n",
              "      <td>False</td>\n",
              "      <td>False</td>\n",
              "      <td>False</td>\n",
              "      <td>False</td>\n",
              "      <td>False</td>\n",
              "      <td>False</td>\n",
              "    </tr>\n",
              "    <tr>\n",
              "      <th>5351846</th>\n",
              "      <td>False</td>\n",
              "      <td>False</td>\n",
              "      <td>False</td>\n",
              "      <td>False</td>\n",
              "      <td>False</td>\n",
              "      <td>False</td>\n",
              "    </tr>\n",
              "    <tr>\n",
              "      <th>5351847</th>\n",
              "      <td>False</td>\n",
              "      <td>False</td>\n",
              "      <td>False</td>\n",
              "      <td>False</td>\n",
              "      <td>False</td>\n",
              "      <td>False</td>\n",
              "    </tr>\n",
              "    <tr>\n",
              "      <th>5351848</th>\n",
              "      <td>False</td>\n",
              "      <td>False</td>\n",
              "      <td>False</td>\n",
              "      <td>False</td>\n",
              "      <td>False</td>\n",
              "      <td>False</td>\n",
              "    </tr>\n",
              "  </tbody>\n",
              "</table>\n",
              "<p>5351849 rows × 6 columns</p>\n",
              "</div>"
            ],
            "text/plain": [
              "          Date   RACE  GENDER    AGE   Bond  OFFENSE\n",
              "0        False  False   False  False  False    False\n",
              "1        False  False   False  False  False    False\n",
              "2        False  False   False  False  False    False\n",
              "3        False  False   False  False  False    False\n",
              "4        False  False   False  False  False    False\n",
              "...        ...    ...     ...    ...    ...      ...\n",
              "5351844  False  False   False  False  False    False\n",
              "5351845  False  False   False  False  False    False\n",
              "5351846  False  False   False  False  False    False\n",
              "5351847  False  False   False  False  False    False\n",
              "5351848  False  False   False  False  False    False\n",
              "\n",
              "[5351849 rows x 6 columns]"
            ]
          },
          "metadata": {
            "tags": []
          },
          "execution_count": 12
        }
      ]
    },
    {
      "cell_type": "code",
      "metadata": {
        "colab": {
          "base_uri": "https://localhost:8080/"
        },
        "id": "j6_syjhSWzmU",
        "outputId": "1a340618-bd00-4106-f418-94991fc50215"
      },
      "source": [
        "# Null sum\n",
        "df.isnull().sum()"
      ],
      "execution_count": 13,
      "outputs": [
        {
          "output_type": "execute_result",
          "data": {
            "text/plain": [
              "Date       0\n",
              "RACE       0\n",
              "GENDER     0\n",
              "AGE        0\n",
              "Bond       0\n",
              "OFFENSE    0\n",
              "dtype: int64"
            ]
          },
          "metadata": {
            "tags": []
          },
          "execution_count": 13
        }
      ]
    },
    {
      "cell_type": "markdown",
      "metadata": {
        "id": "-TkLfo7iT7KB"
      },
      "source": [
        "## **Date/Time**"
      ]
    },
    {
      "cell_type": "code",
      "metadata": {
        "id": "BtXfCHkRnqt_"
      },
      "source": [
        "# Changing Date to datetime\n",
        "df.Date = pd.to_datetime(df.Date)"
      ],
      "execution_count": 14,
      "outputs": []
    },
    {
      "cell_type": "code",
      "metadata": {
        "id": "cuPGxpczsecF",
        "colab": {
          "base_uri": "https://localhost:8080/",
          "height": 80
        },
        "outputId": "00969790-286b-4383-9b5d-5cb7b53036a8"
      },
      "source": [
        "# add a column for Year\n",
        "df['Year'] = df['Date'].dt.year\n",
        "df.head(1)"
      ],
      "execution_count": 15,
      "outputs": [
        {
          "output_type": "execute_result",
          "data": {
            "text/html": [
              "<div>\n",
              "<style scoped>\n",
              "    .dataframe tbody tr th:only-of-type {\n",
              "        vertical-align: middle;\n",
              "    }\n",
              "\n",
              "    .dataframe tbody tr th {\n",
              "        vertical-align: top;\n",
              "    }\n",
              "\n",
              "    .dataframe thead th {\n",
              "        text-align: right;\n",
              "    }\n",
              "</style>\n",
              "<table border=\"1\" class=\"dataframe\">\n",
              "  <thead>\n",
              "    <tr style=\"text-align: right;\">\n",
              "      <th></th>\n",
              "      <th>Date</th>\n",
              "      <th>RACE</th>\n",
              "      <th>GENDER</th>\n",
              "      <th>AGE</th>\n",
              "      <th>Bond</th>\n",
              "      <th>OFFENSE</th>\n",
              "      <th>Year</th>\n",
              "    </tr>\n",
              "  </thead>\n",
              "  <tbody>\n",
              "    <tr>\n",
              "      <th>0</th>\n",
              "      <td>2018-08-16</td>\n",
              "      <td>BLACK</td>\n",
              "      <td>M</td>\n",
              "      <td>27</td>\n",
              "      <td>150000</td>\n",
              "      <td>CRIMINAL POSS OF PISTOL/REVOLVER      DF</td>\n",
              "      <td>2018</td>\n",
              "    </tr>\n",
              "  </tbody>\n",
              "</table>\n",
              "</div>"
            ],
            "text/plain": [
              "        Date   RACE  ...                                   OFFENSE  Year\n",
              "0 2018-08-16  BLACK  ...  CRIMINAL POSS OF PISTOL/REVOLVER      DF  2018\n",
              "\n",
              "[1 rows x 7 columns]"
            ]
          },
          "metadata": {
            "tags": []
          },
          "execution_count": 15
        }
      ]
    },
    {
      "cell_type": "code",
      "metadata": {
        "id": "V9Kuzx4Fnu9r",
        "colab": {
          "base_uri": "https://localhost:8080/"
        },
        "outputId": "f2f628f6-f650-4de7-a6f6-2a85dbf8b537"
      },
      "source": [
        "# Checking data types for each column\n",
        "print(df.dtypes)"
      ],
      "execution_count": 16,
      "outputs": [
        {
          "output_type": "stream",
          "text": [
            "Date       datetime64[ns]\n",
            "RACE               object\n",
            "GENDER             object\n",
            "AGE                 int64\n",
            "Bond                int64\n",
            "OFFENSE            object\n",
            "Year                int64\n",
            "dtype: object\n"
          ],
          "name": "stdout"
        }
      ]
    },
    {
      "cell_type": "code",
      "metadata": {
        "colab": {
          "base_uri": "https://localhost:8080/",
          "height": 235
        },
        "id": "zRMaiLvPHjvP",
        "outputId": "7ff9c917-b31e-4694-de6a-7b3eaebe12be"
      },
      "source": [
        "# Groupby Decade\n",
        "df_decade = df.groupby(df.Year // 10 * 10).sum()\n",
        "df_decade.head()"
      ],
      "execution_count": 17,
      "outputs": [
        {
          "output_type": "execute_result",
          "data": {
            "text/html": [
              "<div>\n",
              "<style scoped>\n",
              "    .dataframe tbody tr th:only-of-type {\n",
              "        vertical-align: middle;\n",
              "    }\n",
              "\n",
              "    .dataframe tbody tr th {\n",
              "        vertical-align: top;\n",
              "    }\n",
              "\n",
              "    .dataframe thead th {\n",
              "        text-align: right;\n",
              "    }\n",
              "</style>\n",
              "<table border=\"1\" class=\"dataframe\">\n",
              "  <thead>\n",
              "    <tr style=\"text-align: right;\">\n",
              "      <th></th>\n",
              "      <th>AGE</th>\n",
              "      <th>Bond</th>\n",
              "      <th>Year</th>\n",
              "    </tr>\n",
              "    <tr>\n",
              "      <th>Year</th>\n",
              "      <th></th>\n",
              "      <th></th>\n",
              "      <th></th>\n",
              "    </tr>\n",
              "  </thead>\n",
              "  <tbody>\n",
              "    <tr>\n",
              "      <th>1980</th>\n",
              "      <td>4605</td>\n",
              "      <td>2305000</td>\n",
              "      <td>154576</td>\n",
              "    </tr>\n",
              "    <tr>\n",
              "      <th>1990</th>\n",
              "      <td>56690</td>\n",
              "      <td>129739550</td>\n",
              "      <td>2225173</td>\n",
              "    </tr>\n",
              "    <tr>\n",
              "      <th>2000</th>\n",
              "      <td>2314462</td>\n",
              "      <td>12140035808</td>\n",
              "      <td>117485939</td>\n",
              "    </tr>\n",
              "    <tr>\n",
              "      <th>2010</th>\n",
              "      <td>158020882</td>\n",
              "      <td>1175134161337</td>\n",
              "      <td>9260608478</td>\n",
              "    </tr>\n",
              "    <tr>\n",
              "      <th>2020</th>\n",
              "      <td>24829139</td>\n",
              "      <td>138454390498</td>\n",
              "      <td>1417247860</td>\n",
              "    </tr>\n",
              "  </tbody>\n",
              "</table>\n",
              "</div>"
            ],
            "text/plain": [
              "            AGE           Bond        Year\n",
              "Year                                      \n",
              "1980       4605        2305000      154576\n",
              "1990      56690      129739550     2225173\n",
              "2000    2314462    12140035808   117485939\n",
              "2010  158020882  1175134161337  9260608478\n",
              "2020   24829139   138454390498  1417247860"
            ]
          },
          "metadata": {
            "tags": []
          },
          "execution_count": 17
        }
      ]
    },
    {
      "cell_type": "code",
      "metadata": {
        "colab": {
          "base_uri": "https://localhost:8080/",
          "height": 235
        },
        "id": "5-jly9kJtCch",
        "outputId": "8ea0a0cc-1f1c-4846-fd27-895d3b1d2f4b"
      },
      "source": [
        "# Groupby Decade\n",
        "df_decade_mean = df.groupby(df.Year // 10 * 10).mean()\n",
        "df_decade_mean.head()"
      ],
      "execution_count": 18,
      "outputs": [
        {
          "output_type": "execute_result",
          "data": {
            "text/html": [
              "<div>\n",
              "<style scoped>\n",
              "    .dataframe tbody tr th:only-of-type {\n",
              "        vertical-align: middle;\n",
              "    }\n",
              "\n",
              "    .dataframe tbody tr th {\n",
              "        vertical-align: top;\n",
              "    }\n",
              "\n",
              "    .dataframe thead th {\n",
              "        text-align: right;\n",
              "    }\n",
              "</style>\n",
              "<table border=\"1\" class=\"dataframe\">\n",
              "  <thead>\n",
              "    <tr style=\"text-align: right;\">\n",
              "      <th></th>\n",
              "      <th>AGE</th>\n",
              "      <th>Bond</th>\n",
              "      <th>Year</th>\n",
              "    </tr>\n",
              "    <tr>\n",
              "      <th>Year</th>\n",
              "      <th></th>\n",
              "      <th></th>\n",
              "      <th></th>\n",
              "    </tr>\n",
              "  </thead>\n",
              "  <tbody>\n",
              "    <tr>\n",
              "      <th>1980</th>\n",
              "      <td>59.038462</td>\n",
              "      <td>29551.282051</td>\n",
              "      <td>1981.743590</td>\n",
              "    </tr>\n",
              "    <tr>\n",
              "      <th>1990</th>\n",
              "      <td>50.888689</td>\n",
              "      <td>116462.791741</td>\n",
              "      <td>1997.462298</td>\n",
              "    </tr>\n",
              "    <tr>\n",
              "      <th>2000</th>\n",
              "      <td>39.521567</td>\n",
              "      <td>207302.274649</td>\n",
              "      <td>2006.180441</td>\n",
              "    </tr>\n",
              "    <tr>\n",
              "      <th>2010</th>\n",
              "      <td>34.423360</td>\n",
              "      <td>255991.903593</td>\n",
              "      <td>2017.336293</td>\n",
              "    </tr>\n",
              "    <tr>\n",
              "      <th>2020</th>\n",
              "      <td>35.390217</td>\n",
              "      <td>197345.984501</td>\n",
              "      <td>2020.074432</td>\n",
              "    </tr>\n",
              "  </tbody>\n",
              "</table>\n",
              "</div>"
            ],
            "text/plain": [
              "            AGE           Bond         Year\n",
              "Year                                       \n",
              "1980  59.038462   29551.282051  1981.743590\n",
              "1990  50.888689  116462.791741  1997.462298\n",
              "2000  39.521567  207302.274649  2006.180441\n",
              "2010  34.423360  255991.903593  2017.336293\n",
              "2020  35.390217  197345.984501  2020.074432"
            ]
          },
          "metadata": {
            "tags": []
          },
          "execution_count": 18
        }
      ]
    },
    {
      "cell_type": "code",
      "metadata": {
        "colab": {
          "base_uri": "https://localhost:8080/",
          "height": 235
        },
        "id": "Ctok2zf5HT2m",
        "outputId": "e0f8252b-65c7-4c0f-97e9-e4cbc71d4abb"
      },
      "source": [
        "# Groupby Decade\n",
        "df_decade_median = df.groupby(df.Year // 10 * 10).median()\n",
        "df_decade_median.head()"
      ],
      "execution_count": 19,
      "outputs": [
        {
          "output_type": "execute_result",
          "data": {
            "text/html": [
              "<div>\n",
              "<style scoped>\n",
              "    .dataframe tbody tr th:only-of-type {\n",
              "        vertical-align: middle;\n",
              "    }\n",
              "\n",
              "    .dataframe tbody tr th {\n",
              "        vertical-align: top;\n",
              "    }\n",
              "\n",
              "    .dataframe thead th {\n",
              "        text-align: right;\n",
              "    }\n",
              "</style>\n",
              "<table border=\"1\" class=\"dataframe\">\n",
              "  <thead>\n",
              "    <tr style=\"text-align: right;\">\n",
              "      <th></th>\n",
              "      <th>AGE</th>\n",
              "      <th>Bond</th>\n",
              "      <th>Year</th>\n",
              "    </tr>\n",
              "    <tr>\n",
              "      <th>Year</th>\n",
              "      <th></th>\n",
              "      <th></th>\n",
              "      <th></th>\n",
              "    </tr>\n",
              "  </thead>\n",
              "  <tbody>\n",
              "    <tr>\n",
              "      <th>1980</th>\n",
              "      <td>61</td>\n",
              "      <td>35000</td>\n",
              "      <td>1980</td>\n",
              "    </tr>\n",
              "    <tr>\n",
              "      <th>1990</th>\n",
              "      <td>49</td>\n",
              "      <td>30000</td>\n",
              "      <td>1999</td>\n",
              "    </tr>\n",
              "    <tr>\n",
              "      <th>2000</th>\n",
              "      <td>38</td>\n",
              "      <td>50000</td>\n",
              "      <td>2007</td>\n",
              "    </tr>\n",
              "    <tr>\n",
              "      <th>2010</th>\n",
              "      <td>32</td>\n",
              "      <td>100000</td>\n",
              "      <td>2018</td>\n",
              "    </tr>\n",
              "    <tr>\n",
              "      <th>2020</th>\n",
              "      <td>34</td>\n",
              "      <td>80000</td>\n",
              "      <td>2020</td>\n",
              "    </tr>\n",
              "  </tbody>\n",
              "</table>\n",
              "</div>"
            ],
            "text/plain": [
              "      AGE    Bond  Year\n",
              "Year                   \n",
              "1980   61   35000  1980\n",
              "1990   49   30000  1999\n",
              "2000   38   50000  2007\n",
              "2010   32  100000  2018\n",
              "2020   34   80000  2020"
            ]
          },
          "metadata": {
            "tags": []
          },
          "execution_count": 19
        }
      ]
    },
    {
      "cell_type": "code",
      "metadata": {
        "colab": {
          "base_uri": "https://localhost:8080/"
        },
        "id": "0azs1DRSyWr-",
        "outputId": "505cea48-47db-446f-b15c-78719013acb8"
      },
      "source": [
        "# importing pandas as pd\n",
        "import pandas as pd\n",
        "  \n",
        "datetime_series = pd.Series(pd.date_range(\"1980-01-01\", periods=3, freq=\"Y\"))\n",
        "datetime_series"
      ],
      "execution_count": 20,
      "outputs": [
        {
          "output_type": "execute_result",
          "data": {
            "text/plain": [
              "0   1980-12-31\n",
              "1   1981-12-31\n",
              "2   1982-12-31\n",
              "dtype: datetime64[ns]"
            ]
          },
          "metadata": {
            "tags": []
          },
          "execution_count": 20
        }
      ]
    },
    {
      "cell_type": "code",
      "metadata": {
        "id": "MLZfPqoU6Kyn"
      },
      "source": [
        "# df.groupby(pd.(key='Date',freq='10Y')).sum()"
      ],
      "execution_count": 21,
      "outputs": []
    },
    {
      "cell_type": "code",
      "metadata": {
        "colab": {
          "base_uri": "https://localhost:8080/",
          "height": 979
        },
        "id": "AKmdCd-AGFB0",
        "outputId": "89930395-9cc6-4525-ef3c-234d2eb4b674"
      },
      "source": [
        "df_Year = df.groupby('Year').sum()\n",
        "df_Year"
      ],
      "execution_count": 22,
      "outputs": [
        {
          "output_type": "execute_result",
          "data": {
            "text/html": [
              "<div>\n",
              "<style scoped>\n",
              "    .dataframe tbody tr th:only-of-type {\n",
              "        vertical-align: middle;\n",
              "    }\n",
              "\n",
              "    .dataframe tbody tr th {\n",
              "        vertical-align: top;\n",
              "    }\n",
              "\n",
              "    .dataframe thead th {\n",
              "        text-align: right;\n",
              "    }\n",
              "</style>\n",
              "<table border=\"1\" class=\"dataframe\">\n",
              "  <thead>\n",
              "    <tr style=\"text-align: right;\">\n",
              "      <th></th>\n",
              "      <th>AGE</th>\n",
              "      <th>Bond</th>\n",
              "    </tr>\n",
              "    <tr>\n",
              "      <th>Year</th>\n",
              "      <th></th>\n",
              "      <th></th>\n",
              "    </tr>\n",
              "  </thead>\n",
              "  <tbody>\n",
              "    <tr>\n",
              "      <th>1980</th>\n",
              "      <td>3721</td>\n",
              "      <td>2135000</td>\n",
              "    </tr>\n",
              "    <tr>\n",
              "      <th>1988</th>\n",
              "      <td>884</td>\n",
              "      <td>170000</td>\n",
              "    </tr>\n",
              "    <tr>\n",
              "      <th>1993</th>\n",
              "      <td>1484</td>\n",
              "      <td>140000</td>\n",
              "    </tr>\n",
              "    <tr>\n",
              "      <th>1994</th>\n",
              "      <td>456</td>\n",
              "      <td>8000</td>\n",
              "    </tr>\n",
              "    <tr>\n",
              "      <th>1996</th>\n",
              "      <td>27491</td>\n",
              "      <td>114419050</td>\n",
              "    </tr>\n",
              "    <tr>\n",
              "      <th>1998</th>\n",
              "      <td>68</td>\n",
              "      <td>180000</td>\n",
              "    </tr>\n",
              "    <tr>\n",
              "      <th>1999</th>\n",
              "      <td>27191</td>\n",
              "      <td>14992500</td>\n",
              "    </tr>\n",
              "    <tr>\n",
              "      <th>2000</th>\n",
              "      <td>101180</td>\n",
              "      <td>341716800</td>\n",
              "    </tr>\n",
              "    <tr>\n",
              "      <th>2001</th>\n",
              "      <td>103429</td>\n",
              "      <td>187671450</td>\n",
              "    </tr>\n",
              "    <tr>\n",
              "      <th>2002</th>\n",
              "      <td>54122</td>\n",
              "      <td>177669650</td>\n",
              "    </tr>\n",
              "    <tr>\n",
              "      <th>2003</th>\n",
              "      <td>113219</td>\n",
              "      <td>224141250</td>\n",
              "    </tr>\n",
              "    <tr>\n",
              "      <th>2004</th>\n",
              "      <td>155395</td>\n",
              "      <td>795401700</td>\n",
              "    </tr>\n",
              "    <tr>\n",
              "      <th>2005</th>\n",
              "      <td>308657</td>\n",
              "      <td>702018700</td>\n",
              "    </tr>\n",
              "    <tr>\n",
              "      <th>2006</th>\n",
              "      <td>297138</td>\n",
              "      <td>2974270950</td>\n",
              "    </tr>\n",
              "    <tr>\n",
              "      <th>2007</th>\n",
              "      <td>330222</td>\n",
              "      <td>1991986600</td>\n",
              "    </tr>\n",
              "    <tr>\n",
              "      <th>2008</th>\n",
              "      <td>477392</td>\n",
              "      <td>2892836458</td>\n",
              "    </tr>\n",
              "    <tr>\n",
              "      <th>2009</th>\n",
              "      <td>373708</td>\n",
              "      <td>1852322250</td>\n",
              "    </tr>\n",
              "    <tr>\n",
              "      <th>2010</th>\n",
              "      <td>661965</td>\n",
              "      <td>2576382450</td>\n",
              "    </tr>\n",
              "    <tr>\n",
              "      <th>2011</th>\n",
              "      <td>903917</td>\n",
              "      <td>5281272977</td>\n",
              "    </tr>\n",
              "    <tr>\n",
              "      <th>2012</th>\n",
              "      <td>1438078</td>\n",
              "      <td>9162091950</td>\n",
              "    </tr>\n",
              "    <tr>\n",
              "      <th>2013</th>\n",
              "      <td>1181021</td>\n",
              "      <td>12463748628</td>\n",
              "    </tr>\n",
              "    <tr>\n",
              "      <th>2014</th>\n",
              "      <td>1967417</td>\n",
              "      <td>19898348242</td>\n",
              "    </tr>\n",
              "    <tr>\n",
              "      <th>2015</th>\n",
              "      <td>4982746</td>\n",
              "      <td>78865038998</td>\n",
              "    </tr>\n",
              "    <tr>\n",
              "      <th>2016</th>\n",
              "      <td>26235391</td>\n",
              "      <td>169451398517</td>\n",
              "    </tr>\n",
              "    <tr>\n",
              "      <th>2017</th>\n",
              "      <td>40217145</td>\n",
              "      <td>278005301079</td>\n",
              "    </tr>\n",
              "    <tr>\n",
              "      <th>2018</th>\n",
              "      <td>41735050</td>\n",
              "      <td>321355589426</td>\n",
              "    </tr>\n",
              "    <tr>\n",
              "      <th>2019</th>\n",
              "      <td>38698152</td>\n",
              "      <td>278074989070</td>\n",
              "    </tr>\n",
              "    <tr>\n",
              "      <th>2020</th>\n",
              "      <td>22974182</td>\n",
              "      <td>129790513338</td>\n",
              "    </tr>\n",
              "    <tr>\n",
              "      <th>2021</th>\n",
              "      <td>1854957</td>\n",
              "      <td>8663877160</td>\n",
              "    </tr>\n",
              "  </tbody>\n",
              "</table>\n",
              "</div>"
            ],
            "text/plain": [
              "           AGE          Bond\n",
              "Year                        \n",
              "1980      3721       2135000\n",
              "1988       884        170000\n",
              "1993      1484        140000\n",
              "1994       456          8000\n",
              "1996     27491     114419050\n",
              "1998        68        180000\n",
              "1999     27191      14992500\n",
              "2000    101180     341716800\n",
              "2001    103429     187671450\n",
              "2002     54122     177669650\n",
              "2003    113219     224141250\n",
              "2004    155395     795401700\n",
              "2005    308657     702018700\n",
              "2006    297138    2974270950\n",
              "2007    330222    1991986600\n",
              "2008    477392    2892836458\n",
              "2009    373708    1852322250\n",
              "2010    661965    2576382450\n",
              "2011    903917    5281272977\n",
              "2012   1438078    9162091950\n",
              "2013   1181021   12463748628\n",
              "2014   1967417   19898348242\n",
              "2015   4982746   78865038998\n",
              "2016  26235391  169451398517\n",
              "2017  40217145  278005301079\n",
              "2018  41735050  321355589426\n",
              "2019  38698152  278074989070\n",
              "2020  22974182  129790513338\n",
              "2021   1854957    8663877160"
            ]
          },
          "metadata": {
            "tags": []
          },
          "execution_count": 22
        }
      ]
    },
    {
      "cell_type": "code",
      "metadata": {
        "colab": {
          "base_uri": "https://localhost:8080/",
          "height": 979
        },
        "id": "Aya9gsO0GYd3",
        "outputId": "25b1e6ed-0ff9-4650-f3eb-b4d0ae61b132"
      },
      "source": [
        "df_Year_mean = df.groupby('Year').mean()\n",
        "df_Year_mean"
      ],
      "execution_count": 23,
      "outputs": [
        {
          "output_type": "execute_result",
          "data": {
            "text/html": [
              "<div>\n",
              "<style scoped>\n",
              "    .dataframe tbody tr th:only-of-type {\n",
              "        vertical-align: middle;\n",
              "    }\n",
              "\n",
              "    .dataframe tbody tr th {\n",
              "        vertical-align: top;\n",
              "    }\n",
              "\n",
              "    .dataframe thead th {\n",
              "        text-align: right;\n",
              "    }\n",
              "</style>\n",
              "<table border=\"1\" class=\"dataframe\">\n",
              "  <thead>\n",
              "    <tr style=\"text-align: right;\">\n",
              "      <th></th>\n",
              "      <th>AGE</th>\n",
              "      <th>Bond</th>\n",
              "    </tr>\n",
              "    <tr>\n",
              "      <th>Year</th>\n",
              "      <th></th>\n",
              "      <th></th>\n",
              "    </tr>\n",
              "  </thead>\n",
              "  <tbody>\n",
              "    <tr>\n",
              "      <th>1980</th>\n",
              "      <td>61.000000</td>\n",
              "      <td>35000.000000</td>\n",
              "    </tr>\n",
              "    <tr>\n",
              "      <th>1988</th>\n",
              "      <td>52.000000</td>\n",
              "      <td>10000.000000</td>\n",
              "    </tr>\n",
              "    <tr>\n",
              "      <th>1993</th>\n",
              "      <td>53.000000</td>\n",
              "      <td>5000.000000</td>\n",
              "    </tr>\n",
              "    <tr>\n",
              "      <th>1994</th>\n",
              "      <td>57.000000</td>\n",
              "      <td>1000.000000</td>\n",
              "    </tr>\n",
              "    <tr>\n",
              "      <th>1996</th>\n",
              "      <td>54.872255</td>\n",
              "      <td>228381.337325</td>\n",
              "    </tr>\n",
              "    <tr>\n",
              "      <th>1998</th>\n",
              "      <td>34.000000</td>\n",
              "      <td>90000.000000</td>\n",
              "    </tr>\n",
              "    <tr>\n",
              "      <th>1999</th>\n",
              "      <td>47.288696</td>\n",
              "      <td>26073.913043</td>\n",
              "    </tr>\n",
              "    <tr>\n",
              "      <th>2000</th>\n",
              "      <td>43.220846</td>\n",
              "      <td>145970.439983</td>\n",
              "    </tr>\n",
              "    <tr>\n",
              "      <th>2001</th>\n",
              "      <td>42.250408</td>\n",
              "      <td>76663.174020</td>\n",
              "    </tr>\n",
              "    <tr>\n",
              "      <th>2002</th>\n",
              "      <td>47.433830</td>\n",
              "      <td>155713.978966</td>\n",
              "    </tr>\n",
              "    <tr>\n",
              "      <th>2003</th>\n",
              "      <td>43.345712</td>\n",
              "      <td>85812.117152</td>\n",
              "    </tr>\n",
              "    <tr>\n",
              "      <th>2004</th>\n",
              "      <td>42.044102</td>\n",
              "      <td>215206.087662</td>\n",
              "    </tr>\n",
              "    <tr>\n",
              "      <th>2005</th>\n",
              "      <td>43.577157</td>\n",
              "      <td>99113.186503</td>\n",
              "    </tr>\n",
              "    <tr>\n",
              "      <th>2006</th>\n",
              "      <td>37.291416</td>\n",
              "      <td>373276.976657</td>\n",
              "    </tr>\n",
              "    <tr>\n",
              "      <th>2007</th>\n",
              "      <td>37.325873</td>\n",
              "      <td>225159.556912</td>\n",
              "    </tr>\n",
              "    <tr>\n",
              "      <th>2008</th>\n",
              "      <td>38.508671</td>\n",
              "      <td>233349.718319</td>\n",
              "    </tr>\n",
              "    <tr>\n",
              "      <th>2009</th>\n",
              "      <td>37.262738</td>\n",
              "      <td>184696.604846</td>\n",
              "    </tr>\n",
              "    <tr>\n",
              "      <th>2010</th>\n",
              "      <td>35.770291</td>\n",
              "      <td>139218.764185</td>\n",
              "    </tr>\n",
              "    <tr>\n",
              "      <th>2011</th>\n",
              "      <td>36.316472</td>\n",
              "      <td>212184.531016</td>\n",
              "    </tr>\n",
              "    <tr>\n",
              "      <th>2012</th>\n",
              "      <td>35.685203</td>\n",
              "      <td>227352.836299</td>\n",
              "    </tr>\n",
              "    <tr>\n",
              "      <th>2013</th>\n",
              "      <td>33.035552</td>\n",
              "      <td>348636.325259</td>\n",
              "    </tr>\n",
              "    <tr>\n",
              "      <th>2014</th>\n",
              "      <td>34.521538</td>\n",
              "      <td>349148.957590</td>\n",
              "    </tr>\n",
              "    <tr>\n",
              "      <th>2015</th>\n",
              "      <td>33.504885</td>\n",
              "      <td>530302.783125</td>\n",
              "    </tr>\n",
              "    <tr>\n",
              "      <th>2016</th>\n",
              "      <td>33.794296</td>\n",
              "      <td>218273.506899</td>\n",
              "    </tr>\n",
              "    <tr>\n",
              "      <th>2017</th>\n",
              "      <td>34.093941</td>\n",
              "      <td>235678.003082</td>\n",
              "    </tr>\n",
              "    <tr>\n",
              "      <th>2018</th>\n",
              "      <td>34.577363</td>\n",
              "      <td>266242.136052</td>\n",
              "    </tr>\n",
              "    <tr>\n",
              "      <th>2019</th>\n",
              "      <td>35.102562</td>\n",
              "      <td>252237.998632</td>\n",
              "    </tr>\n",
              "    <tr>\n",
              "      <th>2020</th>\n",
              "      <td>35.379622</td>\n",
              "      <td>199873.896745</td>\n",
              "    </tr>\n",
              "    <tr>\n",
              "      <th>2021</th>\n",
              "      <td>35.521965</td>\n",
              "      <td>165911.090770</td>\n",
              "    </tr>\n",
              "  </tbody>\n",
              "</table>\n",
              "</div>"
            ],
            "text/plain": [
              "            AGE           Bond\n",
              "Year                          \n",
              "1980  61.000000   35000.000000\n",
              "1988  52.000000   10000.000000\n",
              "1993  53.000000    5000.000000\n",
              "1994  57.000000    1000.000000\n",
              "1996  54.872255  228381.337325\n",
              "1998  34.000000   90000.000000\n",
              "1999  47.288696   26073.913043\n",
              "2000  43.220846  145970.439983\n",
              "2001  42.250408   76663.174020\n",
              "2002  47.433830  155713.978966\n",
              "2003  43.345712   85812.117152\n",
              "2004  42.044102  215206.087662\n",
              "2005  43.577157   99113.186503\n",
              "2006  37.291416  373276.976657\n",
              "2007  37.325873  225159.556912\n",
              "2008  38.508671  233349.718319\n",
              "2009  37.262738  184696.604846\n",
              "2010  35.770291  139218.764185\n",
              "2011  36.316472  212184.531016\n",
              "2012  35.685203  227352.836299\n",
              "2013  33.035552  348636.325259\n",
              "2014  34.521538  349148.957590\n",
              "2015  33.504885  530302.783125\n",
              "2016  33.794296  218273.506899\n",
              "2017  34.093941  235678.003082\n",
              "2018  34.577363  266242.136052\n",
              "2019  35.102562  252237.998632\n",
              "2020  35.379622  199873.896745\n",
              "2021  35.521965  165911.090770"
            ]
          },
          "metadata": {
            "tags": []
          },
          "execution_count": 23
        }
      ]
    },
    {
      "cell_type": "code",
      "metadata": {
        "colab": {
          "base_uri": "https://localhost:8080/",
          "height": 979
        },
        "id": "21oop8k2Gjen",
        "outputId": "b71aeae4-4e8a-4dea-a35d-d339ce959ac2"
      },
      "source": [
        "df_Year_median = df.groupby('Year').median()\n",
        "df_Year_median"
      ],
      "execution_count": 24,
      "outputs": [
        {
          "output_type": "execute_result",
          "data": {
            "text/html": [
              "<div>\n",
              "<style scoped>\n",
              "    .dataframe tbody tr th:only-of-type {\n",
              "        vertical-align: middle;\n",
              "    }\n",
              "\n",
              "    .dataframe tbody tr th {\n",
              "        vertical-align: top;\n",
              "    }\n",
              "\n",
              "    .dataframe thead th {\n",
              "        text-align: right;\n",
              "    }\n",
              "</style>\n",
              "<table border=\"1\" class=\"dataframe\">\n",
              "  <thead>\n",
              "    <tr style=\"text-align: right;\">\n",
              "      <th></th>\n",
              "      <th>AGE</th>\n",
              "      <th>Bond</th>\n",
              "    </tr>\n",
              "    <tr>\n",
              "      <th>Year</th>\n",
              "      <th></th>\n",
              "      <th></th>\n",
              "    </tr>\n",
              "  </thead>\n",
              "  <tbody>\n",
              "    <tr>\n",
              "      <th>1980</th>\n",
              "      <td>61</td>\n",
              "      <td>35000</td>\n",
              "    </tr>\n",
              "    <tr>\n",
              "      <th>1988</th>\n",
              "      <td>52</td>\n",
              "      <td>10000</td>\n",
              "    </tr>\n",
              "    <tr>\n",
              "      <th>1993</th>\n",
              "      <td>53</td>\n",
              "      <td>5000</td>\n",
              "    </tr>\n",
              "    <tr>\n",
              "      <th>1994</th>\n",
              "      <td>57</td>\n",
              "      <td>1000</td>\n",
              "    </tr>\n",
              "    <tr>\n",
              "      <th>1996</th>\n",
              "      <td>60</td>\n",
              "      <td>82500</td>\n",
              "    </tr>\n",
              "    <tr>\n",
              "      <th>1998</th>\n",
              "      <td>34</td>\n",
              "      <td>90000</td>\n",
              "    </tr>\n",
              "    <tr>\n",
              "      <th>1999</th>\n",
              "      <td>48</td>\n",
              "      <td>10000</td>\n",
              "    </tr>\n",
              "    <tr>\n",
              "      <th>2000</th>\n",
              "      <td>43</td>\n",
              "      <td>100000</td>\n",
              "    </tr>\n",
              "    <tr>\n",
              "      <th>2001</th>\n",
              "      <td>41</td>\n",
              "      <td>25000</td>\n",
              "    </tr>\n",
              "    <tr>\n",
              "      <th>2002</th>\n",
              "      <td>48</td>\n",
              "      <td>30000</td>\n",
              "    </tr>\n",
              "    <tr>\n",
              "      <th>2003</th>\n",
              "      <td>41</td>\n",
              "      <td>45000</td>\n",
              "    </tr>\n",
              "    <tr>\n",
              "      <th>2004</th>\n",
              "      <td>41</td>\n",
              "      <td>50000</td>\n",
              "    </tr>\n",
              "    <tr>\n",
              "      <th>2005</th>\n",
              "      <td>41</td>\n",
              "      <td>75000</td>\n",
              "    </tr>\n",
              "    <tr>\n",
              "      <th>2006</th>\n",
              "      <td>36</td>\n",
              "      <td>60000</td>\n",
              "    </tr>\n",
              "    <tr>\n",
              "      <th>2007</th>\n",
              "      <td>36</td>\n",
              "      <td>50000</td>\n",
              "    </tr>\n",
              "    <tr>\n",
              "      <th>2008</th>\n",
              "      <td>37</td>\n",
              "      <td>75000</td>\n",
              "    </tr>\n",
              "    <tr>\n",
              "      <th>2009</th>\n",
              "      <td>35</td>\n",
              "      <td>45000</td>\n",
              "    </tr>\n",
              "    <tr>\n",
              "      <th>2010</th>\n",
              "      <td>35</td>\n",
              "      <td>50000</td>\n",
              "    </tr>\n",
              "    <tr>\n",
              "      <th>2011</th>\n",
              "      <td>36</td>\n",
              "      <td>95000</td>\n",
              "    </tr>\n",
              "    <tr>\n",
              "      <th>2012</th>\n",
              "      <td>33</td>\n",
              "      <td>90000</td>\n",
              "    </tr>\n",
              "    <tr>\n",
              "      <th>2013</th>\n",
              "      <td>31</td>\n",
              "      <td>100000</td>\n",
              "    </tr>\n",
              "    <tr>\n",
              "      <th>2014</th>\n",
              "      <td>32</td>\n",
              "      <td>165000</td>\n",
              "    </tr>\n",
              "    <tr>\n",
              "      <th>2015</th>\n",
              "      <td>30</td>\n",
              "      <td>250000</td>\n",
              "    </tr>\n",
              "    <tr>\n",
              "      <th>2016</th>\n",
              "      <td>32</td>\n",
              "      <td>100000</td>\n",
              "    </tr>\n",
              "    <tr>\n",
              "      <th>2017</th>\n",
              "      <td>32</td>\n",
              "      <td>96500</td>\n",
              "    </tr>\n",
              "    <tr>\n",
              "      <th>2018</th>\n",
              "      <td>33</td>\n",
              "      <td>100000</td>\n",
              "    </tr>\n",
              "    <tr>\n",
              "      <th>2019</th>\n",
              "      <td>33</td>\n",
              "      <td>100000</td>\n",
              "    </tr>\n",
              "    <tr>\n",
              "      <th>2020</th>\n",
              "      <td>34</td>\n",
              "      <td>85000</td>\n",
              "    </tr>\n",
              "    <tr>\n",
              "      <th>2021</th>\n",
              "      <td>34</td>\n",
              "      <td>50000</td>\n",
              "    </tr>\n",
              "  </tbody>\n",
              "</table>\n",
              "</div>"
            ],
            "text/plain": [
              "      AGE    Bond\n",
              "Year             \n",
              "1980   61   35000\n",
              "1988   52   10000\n",
              "1993   53    5000\n",
              "1994   57    1000\n",
              "1996   60   82500\n",
              "1998   34   90000\n",
              "1999   48   10000\n",
              "2000   43  100000\n",
              "2001   41   25000\n",
              "2002   48   30000\n",
              "2003   41   45000\n",
              "2004   41   50000\n",
              "2005   41   75000\n",
              "2006   36   60000\n",
              "2007   36   50000\n",
              "2008   37   75000\n",
              "2009   35   45000\n",
              "2010   35   50000\n",
              "2011   36   95000\n",
              "2012   33   90000\n",
              "2013   31  100000\n",
              "2014   32  165000\n",
              "2015   30  250000\n",
              "2016   32  100000\n",
              "2017   32   96500\n",
              "2018   33  100000\n",
              "2019   33  100000\n",
              "2020   34   85000\n",
              "2021   34   50000"
            ]
          },
          "metadata": {
            "tags": []
          },
          "execution_count": 24
        }
      ]
    },
    {
      "cell_type": "markdown",
      "metadata": {
        "id": "pvCF758mhStf"
      },
      "source": [
        "## **Examining Types of Crime**"
      ]
    },
    {
      "cell_type": "code",
      "metadata": {
        "id": "7WWSgOh_V6ie",
        "colab": {
          "base_uri": "https://localhost:8080/"
        },
        "outputId": "4829c9d7-18a0-4dad-e6e9-5dbb6ce9ceca"
      },
      "source": [
        "# Checking data types for each column\n",
        "print(df.dtypes)"
      ],
      "execution_count": 25,
      "outputs": [
        {
          "output_type": "stream",
          "text": [
            "Date       datetime64[ns]\n",
            "RACE               object\n",
            "GENDER             object\n",
            "AGE                 int64\n",
            "Bond                int64\n",
            "OFFENSE            object\n",
            "Year                int64\n",
            "dtype: object\n"
          ],
          "name": "stdout"
        }
      ]
    },
    {
      "cell_type": "code",
      "metadata": {
        "id": "csk9qnUtUqst",
        "colab": {
          "base_uri": "https://localhost:8080/"
        },
        "outputId": "75c46079-fbfb-40e7-da4b-c688b4fff01a"
      },
      "source": [
        "# Examining Unique Entries\n",
        "df.nunique()"
      ],
      "execution_count": 26,
      "outputs": [
        {
          "output_type": "execute_result",
          "data": {
            "text/plain": [
              "Date       3085\n",
              "RACE          5\n",
              "GENDER        2\n",
              "AGE          72\n",
              "Bond       4121\n",
              "OFFENSE     371\n",
              "Year         29\n",
              "dtype: int64"
            ]
          },
          "metadata": {
            "tags": []
          },
          "execution_count": 26
        }
      ]
    },
    {
      "cell_type": "code",
      "metadata": {
        "id": "CAaCDJyIUvzi",
        "colab": {
          "base_uri": "https://localhost:8080/"
        },
        "outputId": "1a7e048d-d283-4293-c01a-bfbdb782b6d6"
      },
      "source": [
        "# Examining Offense Types Only\n",
        "df.OFFENSE.nunique()"
      ],
      "execution_count": 27,
      "outputs": [
        {
          "output_type": "execute_result",
          "data": {
            "text/plain": [
              "371"
            ]
          },
          "metadata": {
            "tags": []
          },
          "execution_count": 27
        }
      ]
    },
    {
      "cell_type": "code",
      "metadata": {
        "id": "gs4x1lr-U-RT",
        "colab": {
          "base_uri": "https://localhost:8080/"
        },
        "outputId": "a4a6b273-43ca-49cc-dff3-29791a3c6584"
      },
      "source": [
        "# Examining Offense Types\n",
        "offense_array = df.OFFENSE.unique()\n",
        "print(offense_array)"
      ],
      "execution_count": 28,
      "outputs": [
        {
          "output_type": "stream",
          "text": [
            "['CRIMINAL POSS OF PISTOL/REVOLVER      DF'\n",
            " 'VIOLATION OF PROBATION OR COND DISCHG' 'CRIMINAL ATTEMPT'\n",
            " 'CRIM VIOL OF PROTECTIVE ORDER         DF'\n",
            " 'CRIM VIOL ST CRIM RESTR ORDER         DF'\n",
            " 'ASSAULT 2ND, VICTIM 60 OR OVER        DF'\n",
            " 'INTERFERING WITH AN OFFICER           AM'\n",
            " 'LARCENY, SECOND DEGREE                CF'\n",
            " 'MURDER                                AF'\n",
            " 'ASSAULT, SECOND DEGREE                DF' 'ARREST WARRANT'\n",
            " 'YOUTHFUL OFFENDER' 'UNLAWFUL RESTRAINT, FIRST DEGREE      DF'\n",
            " 'LARCENY, FIRST DEGREE                 BF'\n",
            " 'CRIMINAL TRESPASS, THIRD DEGREE       CM'\n",
            " 'STALKING, 1ST DEGREE                  DF'\n",
            " 'BURGLARY, THIRD DEGREE                DF'\n",
            " 'SALE OF NARC/AMPHET BY NON-DEPENDENT   F'\n",
            " 'ASSAULT 2ND DEGREE WITH A FIREARM     DF'\n",
            " 'FORGERY, FIRST DEGREE                 CF' 'JUVENILE TRANSFER'\n",
            " 'CONSPIRACY' 'SEXUAL ASSAULT, FIRST DEGREE           F'\n",
            " 'ASSAULT ON POLICE OR FIRE OFFICER     CF'\n",
            " 'FORGERY, SECOND DEGREE                DF'\n",
            " 'ASSAULT 3RD DEGREE, VICTIM OVER 59    AM'\n",
            " 'STEALING A FIREARM                    DF'\n",
            " 'SEXUAL ASSAULT, SECOND DEGREE          F'\n",
            " 'CRIMINAL POSSESSION OF A PISTOL       DF'\n",
            " 'LARCENY, THIRD DEGREE                 DF'\n",
            " 'ROBBERY, FIRST DEGREE                 BF'\n",
            " 'SEXUAL ASSAULT 1ST DEGREE-AGGRVTD      F'\n",
            " 'HOME INVASION                         AF'\n",
            " 'BURGLARY, SECOND DEGREE               CF'\n",
            " 'SALE OF HEROIN, COC BY NON-DEPENDENT'\n",
            " 'INJURY OR RISK OF INJURY TO MINOR      F'\n",
            " 'ARSON, FIRST DEGREE                   AF'\n",
            " 'INCITING INJURY TO PERSONS OR PROPTY  CF' 'STRANGULATION 3RD DEGREE'\n",
            " 'FAILURE TO APPEAR, FIRST DEGREE       DF'\n",
            " 'CARRYING WEAPONS WITHOUT A PERMIT      F'\n",
            " 'THREATENING                           AM'\n",
            " 'RECKLESS ENDANGERMENT, FIRST DEGREE   AM'\n",
            " 'ASSAULT, FIRST DEGREE                 BF'\n",
            " 'ASSAULT, 1ST VICTIM 60 OR OVER        BF'\n",
            " 'ROBBERY, THIRD DEGREE                 DF'\n",
            " 'LARCENY, FOURTH DEGREE                AM'\n",
            " 'HARASSMENT, 2ND DEGREE                CM' 'SPECIAL PAROLE'\n",
            " 'VIOLATION OF CONDITIONS OF RELEASE'\n",
            " 'IDENTITY THEFT 2ND DEGREE             CF'\n",
            " 'STRANGULATION 2ND DEGREE              DF'\n",
            " 'VIOLATE COND OF RELEASE-2ND DEG       AM' 'CRUELTY TO PERSONS'\n",
            " 'ALTERING OR REMOVING IDENT NUMBER      F'\n",
            " 'CRIM VIOL OF PROTECTIVE ORDER         AM'\n",
            " 'POSSESSING CHILD PORNOGRAPH            F'\n",
            " 'OPERATING UNDER SUSPENDED LIC OR REG.  M' 'CREDIT CARD THEFT'\n",
            " 'BURGLARY, FIRST DEGREE                BF'\n",
            " 'MANSLAUGHTER, SECOND DEGREE           CF'\n",
            " 'EVADING RESPONSIBILITY                 M'\n",
            " 'ASSAULT, THIRD DEGREE                 AM'\n",
            " 'LARCENY, FIFTH DEGREE                 BM'\n",
            " 'SALE OF HALLUCIGEN/NARCOTIC SUBSTANCE  F' 'ARREST WITHOUT WARRANT'\n",
            " 'CRIMINAL IMPERSONATION                BM'\n",
            " 'ROBBERY, SECOND DEGREE                CF' 'POSSESSION OF NARCOTICS'\n",
            " 'SEX ASLT, SPOUSE/COHAB RELATIONSHIP   BF'\n",
            " 'TAMPERING WITH OR FABRICATING EVIDNC  DF'\n",
            " 'INJURY/RISK OF INJURY TO MINOR- SEXUAL C'\n",
            " 'FAILURE TO APPEAR, SECOND DEGREE      AM'\n",
            " 'FELONY MURDER                         AF'\n",
            " 'PROBATION AND CONDITIONAL DISCHARGE'\n",
            " 'ILL POSSESS CHILD PORN 2ND DEG         F'\n",
            " 'CRIM VIOL RES ORDER                   AM'\n",
            " 'STRANGULATION 1ST DEGREE              CF'\n",
            " 'BURGLARY, FIRST DEGREE: 53A101A(2)    BF'\n",
            " 'RECKLESS ENDANGERMENT, SECOND DEGREE  BM'\n",
            " 'SELLING WEAPONS TO ALIENS PROHIBITED   F' '(REPEALED) 53-048'\n",
            " 'ESCAPE FROM CUSTODY' 'KIDNAPPING, FIRST DEGREE              AF'\n",
            " 'PERMIT TO SELL OR CARRY PISTOL'\n",
            " 'CARRYING WEAPON IN A MOTOR VEHICLE     F'\n",
            " 'CRIMINAL MISCHIEF, SECOND DEGREE      AM' '53A021'\n",
            " 'BREACH OF PEACE                       BM'\n",
            " 'CONVEY UNAUTHZD ITEMS INTO INST       DF'\n",
            " 'MANSLAUGHTER, FIRST DEGREE, FIREARM   BF'\n",
            " 'AGGAVTD SEX ASSLT-VCTM < 13YR         AF'\n",
            " 'ROBBERY, FIRST DEGREE                BF'\n",
            " 'MANSLAUGHTER 2ND WITH MV (INTOX)      CF'\n",
            " 'CARRYING OR SALE OF DANGEROUS WEAPON'\n",
            " 'CRIMINAL MISCHIEF, FIRST DEGREE       DF'\n",
            " 'ASSAULT 2ND WITH MV WHILE INTOXICATED DF'\n",
            " 'DRUG PARAPHERNALIA IN DRUG FACTORY     F'\n",
            " 'ORGANIZED RETAIL THEFT                 F'\n",
            " 'OPERATE UNDER INFLU OF LIQ OR DRUGS'\n",
            " 'CAPITAL FELONY                         F'\n",
            " 'PROMOTING MINOR IN OBSCENE PERFORMNCE BF'\n",
            " 'CRIMINAL LIABILITY FOR ANOTHER PERSON'\n",
            " 'MANSLAUGHTER, FIRST DEGREE            BF'\n",
            " 'OBSCENITY                             BM'\n",
            " 'IDENTITY THEFT 3RD DEGREE             DF'\n",
            " 'CRIMINAL TRESPASS, SECOND DEGREE      BM'\n",
            " 'ASSAULT 2ND, VICTIM 60+, WITH FIREARM DF'\n",
            " 'ESCAPE, FIRST DEGREE                  CF'\n",
            " 'PRIMARY OFFENSE NOT DETERMINED'\n",
            " 'THREATENING 1ST DEGREE                DF'\n",
            " 'NEGLG STORAGE OF A FIREARM            DF'\n",
            " 'CRIMINAL TRESPASS, FIRST DEGREE       AM'\n",
            " 'USING MOTOR VEHICLE W/O PERMISSION'\n",
            " 'DISORDERLY CONDUCT                    CM'\n",
            " 'LARCENY, SIXTH DEGREE                 CM'\n",
            " 'UNLAWFUL RESTRAINT, SECOND DEGREE     AM'\n",
            " 'BRIBERY OF WITNESS                    DF'\n",
            " 'KIDNAPPING, 2ND DEGREE                BF'\n",
            " 'SEXUAL ASSAULT, THIRD DEGREE          DF' 'CARRY PIST/RVOLV W/O PERMIT'\n",
            " 'SEXUAL ASSAULT, FOURTH DEGREE         AM'\n",
            " 'INTIMIDATING A WITNESS                CF'\n",
            " 'CUSTODIAL INTERFERENCE, FIRST DEGREE  DF'\n",
            " 'STALKING, 2ND DEGREE                  AM'\n",
            " 'MANUF OR POSSESSION OF BURGLAR TOOLS  AM'\n",
            " 'HARASSMENT 1ST DEGREE                 DF'\n",
            " 'INTIMIDATE DUE TO BIAS 3RD DEG        AM'\n",
            " 'CRIM VIOL CIVIL PROTECTION ORDER      DF'\n",
            " 'EMPLOYING MINOR IN OBSCENE PERFORMNCE AF'\n",
            " 'IDENTITY THEFT 1ST DEGREE             BF' 'VOYEURISM'\n",
            " 'KIDNAPPING 2ND DEG W/ FIREARM         BF'\n",
            " 'USING MACHINE GUN IN CRIME             F' 'FALSELY REPORTING INCIDENT'\n",
            " 'OPERATE UNDER INFLU OF LIQ OR DRUGS    M'\n",
            " 'ILLEGAL MANUFACTUAL OR SALE OF DRUGS'\n",
            " 'THEFT FROM PERSON                      F'\n",
            " 'DISSEMINATING VOYEURISTIC MATERIAL    DF'\n",
            " 'CRIMINAL MISCHIEF, THIRD DEGREE       BM'\n",
            " 'MISCONDUCT WITH A MOTOR VEHICLE       DF'\n",
            " 'IMPORTING CHILD PORNOGRAPHY            F' 'SEARCHES AND SEIZURES'\n",
            " 'POSS OF WEAPON IN A CCI               BF'\n",
            " 'SALE OF CONTROLLED SUBSTANCE           F'\n",
            " 'ARSON, THIRD DEGREE                   CF'\n",
            " 'PROHIB ACTS RE: DRUG PARAPHERNALIA'\n",
            " 'KIDNAPPING 1ST DEG W/ FIREARM         AF'\n",
            " 'RECKLESS BURNING                      DF'\n",
            " 'TAMPERING WITH WITNESS                DF'\n",
            " 'ASSAULT, ON DOC EMPLOYEE              BF'\n",
            " 'LEAV CHILD UNSUPERV IN PUBL/MOT VEH    C'\n",
            " 'TRAFFICKING IN PERSONS                BF'\n",
            " 'ARSON, SECOND DEGREE                  BF'\n",
            " 'RECKLESS DRIVING                       M'\n",
            " 'TELEPHONE FRAUD, 1ST DEGREE           BF'\n",
            " 'PUBLIC INDECENCY                      BM'\n",
            " 'IL POS LRG CAP MAG OBT AF 4/13        DF'\n",
            " 'MANUFACTURE OF BOMBS                  BF'\n",
            " 'MISREP OF SUB AS CONTROLLED SUB       DF'\n",
            " 'INTIMIDATION BSD BIGOTRY/BIAS         DF'\n",
            " 'BURGLARY, SECOND DEGREE WITH FIREARM  CF' 'CRUELTY TO ANIMALS'\n",
            " 'VIO DEADLY WEAPON REGIST REQS         DF'\n",
            " 'CRIMINAL USE OF A FIREARM             DF'\n",
            " 'REG PERSON WHO COMM OFF AGAINST MINOR DF'\n",
            " 'POSSESS OF HALLUC OR 4+ OZ MARIJUANA   F'\n",
            " 'REG PERSON WHO COMM SEX VIOL OFF      DF'\n",
            " 'INJUNCTION AND RESTRAINING ORDER'\n",
            " 'FORGERY, THIRD DEGREE                 BM'\n",
            " 'CRIMINAL TROVER, 1ST DEGREE            F' 'FAILURE TO OBEY AN OFFICER'\n",
            " 'POSS OF ASSAULT WEAPON PROHIBITED'\n",
            " 'CRIMINAL MISCHIEF, FOURTH DEGREE      CM'\n",
            " 'FAILURE TO PAY OR PLEAD                M'\n",
            " 'USE OF MACHINE GUN IN A CRIME  DELETED F'\n",
            " 'FOLLOW TOO CLOSELY W/ INTENT TO HARASS M' 'PURGE CIVIL COMMITMENT'\n",
            " 'INTERFERING WITH AN EMERGENCY CALL    AM'\n",
            " 'ABUSE OF PERSONS-1ST DEGREE           CF'\n",
            " 'PROMOTING PROSTITUTION, FIRST DEGREE  BF'\n",
            " 'DRINKING WHILE OPERATING MOTOR VEHICL CM'\n",
            " 'FLR KEEP NARC IN ORG CONTAINER         F'\n",
            " 'ILLEGAL REFUSAL OF DNA TESTING'\n",
            " 'BURGLARY, THIRD DEGREE WITH FIREARM   DF'\n",
            " 'POSSESSION OF SHOTGUN OR SILENCER     DF'\n",
            " 'HINDER PROSECUTION, FIRST DEGREE      DF' 'PROHIBITED ACTIVITIES'\n",
            " 'DRUGS NEAR PROBIBITED PLACE' 'NEGLIGENT HOMICIDE W/ MOTOR VEHICLE   BM'\n",
            " 'HINDERING PROSECUTION 2ND DEG'\n",
            " 'PROSTITUTION                          AM'\n",
            " 'POSS WEAPON ON SCHOOL GROUNDS         DF'\n",
            " 'PROMOTING PROSTITUTION, SECOND DEGREE CF'\n",
            " 'ILL AFFIX FRAUDULENT                   F'\n",
            " 'UNLAWFUL REPRODUCTION OF CREDIT CARD  DF'\n",
            " 'DRIVING WHILE LICENSE SUSP FOR DWI'\n",
            " 'ILLEGAL POSSES OF SHOP LIFTING DEVICE AM'\n",
            " 'ILLEGAL POSSESSION OF EXPLOSIVES       F'\n",
            " 'RECEIVING STOLEN PROPERTY, LARCENY     M'\n",
            " 'AFFIRMATIVE DEFENSES TO CIMINAL TRESPASS'\n",
            " 'RAPE, SECOND DEGREE                   CF'\n",
            " 'ILL POSSESS CHILD PORN 3RD DEG        DF'\n",
            " 'CRIMINALLY NEGLIGENT HOMICIDE         AM'\n",
            " 'REGULATION OF RESTRICTED SUBSTANCES' 'APPLICATION TO PURCHASE A FIREARM'\n",
            " 'FOLLOWING TOO CLOSELY' 'PROHIB ACTS RE: DRUG PARA, SCHOOL'\n",
            " 'ILLEGAL USE OF CREDIT CARD' 'ILL CARRY FIREARM-UI DRUGS/ALC'\n",
            " 'PRACTICE OF LAW BY NON-ATTORNEYS       M'\n",
            " 'MISAPPLICATION OF PROPERTY            AM'\n",
            " 'CRIMINAL CONTEMPT                      M'\n",
            " 'HINDERING PROSECUTION 3RD DEG         DF'\n",
            " 'EVADING RESPONSIBILITY, OTHER THAN MV  M'\n",
            " 'OPERATING MV W/O INSURANCE            CM' 'TEMPORARY SURRENDER'\n",
            " 'CRIM DAMAGE PROPERTY 1ST DEG          DF'\n",
            " 'STALKING, 3RD DEGREE                  BM'\n",
            " 'IMPERSONATION OF POLICE OFFICER       DF' 'INTERSTATE PAROLE COMPACT'\n",
            " 'SALE, CARRY & BRAND OF FACSIMILE'\n",
            " 'POSSESS OF LT 4 OZ MJ OR CONTROLD SUB'\n",
            " 'PERMITTING PROSTITUTION               AM' 'ISSUING A BAD CHECK'\n",
            " 'FAILURE TO PAY WAGES' 'CREATING A PUBLIC DISTURBANCE' 'SIMPLE TRESPASS'\n",
            " 'DIVERT FR STATE BENE LBR EMPLOYEES    AM'\n",
            " 'INJURY TO BAGGAGE ON PUBLIC CONVEYANCE M'\n",
            " 'TAMPERING W/AIRPORT OR AIRWAYS'\n",
            " 'PROMOTING PROSTITUTION, THIRD DEGREE  DF'\n",
            " 'INJURY TO FENCES, GATES, OTHER PROP    M'\n",
            " 'ILLEGAL GAIN FROM CREDIT CARD         AM'\n",
            " 'NOTICES IN SALES AGRREMENT           UM'\n",
            " 'FALSELY REPORTING AN INCIDENT 2ND     AM'\n",
            " 'THEFT OF POULTRY                       M' 'FAILURE TO OBEY STOP SIGN'\n",
            " '(REPEALED) 53-173' 'IL TRAFFIC IN PERSONAL ID INFO        DF'\n",
            " 'SPEEDING                               M'\n",
            " 'DRIVING IMPROPERLY ON MULTI-LANE HWY'\n",
            " 'ABUSE OF PERSONS-2ND DEGREE           DF' 'OBTAINING DRUGS ILLEGALLY'\n",
            " 'COERCION' 'COMMIT SEXUAL OFF IN ANOTHER JURIS    DF'\n",
            " 'ACT OF TERRORISM-ENHANCE SENT'\n",
            " 'ALLOWING PERSON UNDER 16 TO OPERATE MV M'\n",
            " 'FALSE STATEMENT, 2ND DEGREE           AM'\n",
            " 'INTIMIDATION BASED ON BIGOTRY/BIAS    DF' 'FORGERY RELATED'\n",
            " 'HINDER PROSECUTION DEFINED             F'\n",
            " 'ILL OP MV WO IGNITION DEVICE          CM'\n",
            " 'UNFAIR OR DECEPTIVE PRAC OR ACT'\n",
            " 'CRIMINAL MISREPRESENTATION            CF' 'STARTING OR BACKING VEHICLE'\n",
            " 'IMPROPER USE OF MARKER, LICENSE, REG   M' 'EXTRADITION'\n",
            " 'CRIM DAMAGE PROPERTY 2ND DEG          AM'\n",
            " 'PATRONIZING A PROSTITUTE              AM'\n",
            " 'ENCOURAGING THE COMMISSION OF ABORTION M'\n",
            " 'COUNTERFEITING MARKER PLATES           M'\n",
            " 'USE OF HIGHWAY BY PEDESTRIAN           M'\n",
            " 'SHOTGUNS AND RIFLES IN VEHICLE         M'\n",
            " 'FORGERY OF SYMBOLS                    AM'\n",
            " 'MONEY LAUNDERING FOURTH DEGREE        AM'\n",
            " 'SOLICITING RIDES FROM MOTOR VEHICLES   M'\n",
            " 'IDENTITY THEFT DEFINED                DF'\n",
            " 'FAILURE TO CARRY MIN INSURANCE         M'\n",
            " 'FAILURE TO OBEY TRAFFIC SIGNALS' 'OPERATING MV W/O A LICENSE'\n",
            " 'INTIMIDATION BSD BIGOTRY/BIAS, 1ST    CF' 'CHEATING AT GAMBLING'\n",
            " 'FALSE RPT INCIDNT CONCER INJ OR DEATH DF'\n",
            " 'FALSE RPT INCIDNT RESULT INJ OR DEATH DF'\n",
            " 'PART OR CONS FOR EXPORT MEANS         BF'\n",
            " 'DRIVING INPROPERLY ON A ONE WAY STREET I'\n",
            " 'CRIMINAL TROVER, 2ND DEGREE           AM'\n",
            " 'INSURANCE FRAUD                       DF'\n",
            " 'PROHIB ACTS RE: CONTROLLED SUBSTANCES'\n",
            " 'FAILURE TO DRIVE ON RIGHT HAND ROADWAY'\n",
            " 'UNLAWFUL DISCHARGE OF FIREARMS         M'\n",
            " 'EXPIRATION AND RENEWAL OF REGISTRATION M'\n",
            " 'LITTERING OR DUMPING PROHIBITED' 'ROBBERY BY CARJACKING'\n",
            " 'FALSE STATEMENT TO PROCURE CREDT CARD AM'\n",
            " 'FALSE ENTRY BY OFFICER OR PUB AGENT   AM' 'FUGITIVE FROM JUSTICE'\n",
            " 'EAVESDROPPING                         DF'\n",
            " 'TRAVELING UNREASONABLY FAST            M'\n",
            " 'DRIVING IMPROPERLY IN RIGHT HAND LANE' '53A223C'\n",
            " 'FAILURE TO CARRY DRIVERS LICENSE       M'\n",
            " 'TOWN ORDINANCE $90 OR LESS (CI)' 'PENALTY FAIL TO SUBMIT FINGERPRINTS'\n",
            " 'THEFT OF NUMBER PLATE OR INSER         M' 'CRIMINAL SIMULATION'\n",
            " 'LARCENY RELATED' 'TOWN ORDINANCE > $250 (VIOLTN)'\n",
            " 'OBSCENITY AS TO MINORS                 F'\n",
            " 'CRIMINAL LOCKOUT                      CM'\n",
            " 'POSS OF ARMS OR BURG TOOLS AT NIGHT    F'\n",
            " 'VIO MOTOR VEH RACING REQS             BM'\n",
            " 'INCEST                                 F'\n",
            " 'FRAUDULENT USE OF ATM                 CM'\n",
            " 'IMPROPER TURN/STOP NO PROPER SIGN'\n",
            " 'DESTRUCTION OF PROPERTY                M'\n",
            " 'COMPUTER CRIME FOURTH DEGREE          AM'\n",
            " 'BREACH OF PEACE 1ST DEG               DF' 'RECEIVING COMMERCIAL BRIBE'\n",
            " 'FALSELY REPORTING VEHICLE THEFT        M'\n",
            " 'MONEY LAUNDERING THIRD DEGREE         DF'\n",
            " 'REFUSAL TO DISPERSE                    M'\n",
            " 'COMPUTER CRIME FIRST DEGREE           BF'\n",
            " 'WILLFUL INJURY TO PROPERTY             M'\n",
            " 'PRODUCING CONTROLLED SUBS W/O LICENSE' 'ENTICING A MINOR'\n",
            " 'INSANITY AS DEFENSE' 'CRIMINAL VIOL. PROTECTION ORDER       AM'\n",
            " 'BRIBERY                               DF' 'ROBBERY RELATED'\n",
            " 'LARCENY DEFINED' 'FAILURE REGISTER SEXUAL PURPOSE       DF'\n",
            " 'RAPE, FIRST DEGREE                    BF' 'VIO REQ RE DISP OF DEAD BODY'\n",
            " 'INTERFERENCE WITH SEARCH' 'OP MV W/HNDHLD TEL/MOV ELC DEV'\n",
            " 'RESISTING ARREST' 'DUI .02 BAC AND UNDER 21 YRS'\n",
            " 'LOITERING ON SCHOOL GROUNDS           CM'\n",
            " 'INDECENT ASSAULT                       F'\n",
            " 'SALE/POSS/TRAN OF ASLT WEAPON          F'\n",
            " 'POSS OF UNSTAMP MARI/CONTROL SUB BY DEAL' 'LIQUOR SALES TO MINORS'\n",
            " 'THEFT OF HORSE' 'TOWN ORDINANCE=$90 OR <PARKING'\n",
            " 'FAILURE TO FURNISH TAX RETURN'\n",
            " 'ADULTERY                              AM'\n",
            " 'VIOLATION, HOME IMPROVE REGISTRATION'\n",
            " 'CONTEMPT OF COURT                      M'\n",
            " 'DISPERSION OF RIOTOUS ASSEMBLY         M' 'SELLING WITHOUT PERMIT'\n",
            " 'MANSLAUGHTER 2ND, W/FIREARM           CF'\n",
            " 'FAILURE TO CARRY AND MOUNT REFLECTORS'\n",
            " 'PISTOL AND REVOLVER PERMITS            M'\n",
            " 'CRIMINAL POSS BODY ARMOR              AM'\n",
            " 'PERJURY                               DF'\n",
            " 'ESCAPE, SECOND DEGREE                 DF'\n",
            " 'MONEY LAUNDERING 2ND DEGREE           CF'\n",
            " 'MISREP AGE TO ENTICE A MINOR          CF'\n",
            " 'OUI MV W/CHILD PSNGR                  AM'\n",
            " 'SOLIC OR ACCPT BENEFIT FOR RIGGING    AM'\n",
            " 'USE OF FORCE TO DEFEND PROPERTY' 'P19-187'\n",
            " 'THEFT OF UTILITY SERVICE FOR PROFIT   DF'\n",
            " 'UNLAWFUL ASSEMBLY                     BM' 'FEDERAL OFFENSE'\n",
            " 'SEXUAL ASSAULT, 3RD DEG W/ FIREARM    CF'\n",
            " 'FAILURE TO COMPLY W/ SEAT BELTS/SYSTEM' 'USE OF MACH GUN FOR AGGR PURP'\n",
            " '(REPEALED) 53-124' 'SALE/POSS/TRAFF OF WEAPON              F'\n",
            " 'MONEY LAUNDERING FIRST DEGREE         BF'\n",
            " 'CUSTODIAL INTERFERENCE, 2ND DEGREE    AM' 'SEX ABUSE MINOR'\n",
            " 'ASSAULT, SECOND DEGREE                 F' 'SEALED'\n",
            " 'INTENT TO INJURE WITH EXPLOSIVES       F'\n",
            " 'UNLAWFUL ENTRY INTO COIN MACHINE      AM'\n",
            " 'INCSTRUCTION UNLICENSED PERSON IN VEHICL'\n",
            " 'ASSAULT TERMINATING PREGNANCY         AF']\n"
          ],
          "name": "stdout"
        }
      ]
    },
    {
      "cell_type": "code",
      "metadata": {
        "id": "-DSvRSmdVjm4",
        "colab": {
          "base_uri": "https://localhost:8080/"
        },
        "outputId": "2288fb19-b8e9-4843-c4e9-6f740ae7a42f"
      },
      "source": [
        "# Convert Array into DataFrame\n",
        "offense_df = pd.DataFrame(offense_array, columns=['Offense_Type'])\n",
        "print(offense_df)"
      ],
      "execution_count": 29,
      "outputs": [
        {
          "output_type": "stream",
          "text": [
            "                                 Offense_Type\n",
            "0    CRIMINAL POSS OF PISTOL/REVOLVER      DF\n",
            "1       VIOLATION OF PROBATION OR COND DISCHG\n",
            "2                            CRIMINAL ATTEMPT\n",
            "3    CRIM VIOL OF PROTECTIVE ORDER         DF\n",
            "4    CRIM VIOL ST CRIM RESTR ORDER         DF\n",
            "..                                        ...\n",
            "366                                    SEALED\n",
            "367  INTENT TO INJURE WITH EXPLOSIVES       F\n",
            "368  UNLAWFUL ENTRY INTO COIN MACHINE      AM\n",
            "369  INCSTRUCTION UNLICENSED PERSON IN VEHICL\n",
            "370  ASSAULT TERMINATING PREGNANCY         AF\n",
            "\n",
            "[371 rows x 1 columns]\n"
          ],
          "name": "stdout"
        }
      ]
    },
    {
      "cell_type": "code",
      "metadata": {
        "id": "sI47Nu6ovTd-",
        "colab": {
          "base_uri": "https://localhost:8080/",
          "height": 204
        },
        "outputId": "9873a64e-6663-402e-9139-5b1e74fc0f18"
      },
      "source": [
        "# Group by offense and bond amount\n",
        "df_3 = df.groupby(['OFFENSE'], as_index=False).agg({'Bond': sum})\n",
        "df_3.head()"
      ],
      "execution_count": 30,
      "outputs": [
        {
          "output_type": "execute_result",
          "data": {
            "text/html": [
              "<div>\n",
              "<style scoped>\n",
              "    .dataframe tbody tr th:only-of-type {\n",
              "        vertical-align: middle;\n",
              "    }\n",
              "\n",
              "    .dataframe tbody tr th {\n",
              "        vertical-align: top;\n",
              "    }\n",
              "\n",
              "    .dataframe thead th {\n",
              "        text-align: right;\n",
              "    }\n",
              "</style>\n",
              "<table border=\"1\" class=\"dataframe\">\n",
              "  <thead>\n",
              "    <tr style=\"text-align: right;\">\n",
              "      <th></th>\n",
              "      <th>OFFENSE</th>\n",
              "      <th>Bond</th>\n",
              "    </tr>\n",
              "  </thead>\n",
              "  <tbody>\n",
              "    <tr>\n",
              "      <th>0</th>\n",
              "      <td>(REPEALED) 53-048</td>\n",
              "      <td>332935000</td>\n",
              "    </tr>\n",
              "    <tr>\n",
              "      <th>1</th>\n",
              "      <td>(REPEALED) 53-124</td>\n",
              "      <td>10000</td>\n",
              "    </tr>\n",
              "    <tr>\n",
              "      <th>2</th>\n",
              "      <td>(REPEALED) 53-173</td>\n",
              "      <td>274750</td>\n",
              "    </tr>\n",
              "    <tr>\n",
              "      <th>3</th>\n",
              "      <td>53A021</td>\n",
              "      <td>883105836</td>\n",
              "    </tr>\n",
              "    <tr>\n",
              "      <th>4</th>\n",
              "      <td>53A223C</td>\n",
              "      <td>425900</td>\n",
              "    </tr>\n",
              "  </tbody>\n",
              "</table>\n",
              "</div>"
            ],
            "text/plain": [
              "             OFFENSE       Bond\n",
              "0  (REPEALED) 53-048  332935000\n",
              "1  (REPEALED) 53-124      10000\n",
              "2  (REPEALED) 53-173     274750\n",
              "3             53A021  883105836\n",
              "4            53A223C     425900"
            ]
          },
          "metadata": {
            "tags": []
          },
          "execution_count": 30
        }
      ]
    },
    {
      "cell_type": "code",
      "metadata": {
        "id": "Wjw8F91_1I8P",
        "colab": {
          "base_uri": "https://localhost:8080/",
          "height": 204
        },
        "outputId": "b7236ef8-4776-472b-b57c-4175ab4273e5"
      },
      "source": [
        "df_3['Offense_Total'] = df['OFFENSE']\n",
        "df_3.head()"
      ],
      "execution_count": 31,
      "outputs": [
        {
          "output_type": "execute_result",
          "data": {
            "text/html": [
              "<div>\n",
              "<style scoped>\n",
              "    .dataframe tbody tr th:only-of-type {\n",
              "        vertical-align: middle;\n",
              "    }\n",
              "\n",
              "    .dataframe tbody tr th {\n",
              "        vertical-align: top;\n",
              "    }\n",
              "\n",
              "    .dataframe thead th {\n",
              "        text-align: right;\n",
              "    }\n",
              "</style>\n",
              "<table border=\"1\" class=\"dataframe\">\n",
              "  <thead>\n",
              "    <tr style=\"text-align: right;\">\n",
              "      <th></th>\n",
              "      <th>OFFENSE</th>\n",
              "      <th>Bond</th>\n",
              "      <th>Offense_Total</th>\n",
              "    </tr>\n",
              "  </thead>\n",
              "  <tbody>\n",
              "    <tr>\n",
              "      <th>0</th>\n",
              "      <td>(REPEALED) 53-048</td>\n",
              "      <td>332935000</td>\n",
              "      <td>CRIMINAL POSS OF PISTOL/REVOLVER      DF</td>\n",
              "    </tr>\n",
              "    <tr>\n",
              "      <th>1</th>\n",
              "      <td>(REPEALED) 53-124</td>\n",
              "      <td>10000</td>\n",
              "      <td>VIOLATION OF PROBATION OR COND DISCHG</td>\n",
              "    </tr>\n",
              "    <tr>\n",
              "      <th>2</th>\n",
              "      <td>(REPEALED) 53-173</td>\n",
              "      <td>274750</td>\n",
              "      <td>CRIMINAL ATTEMPT</td>\n",
              "    </tr>\n",
              "    <tr>\n",
              "      <th>3</th>\n",
              "      <td>53A021</td>\n",
              "      <td>883105836</td>\n",
              "      <td>CRIM VIOL OF PROTECTIVE ORDER         DF</td>\n",
              "    </tr>\n",
              "    <tr>\n",
              "      <th>4</th>\n",
              "      <td>53A223C</td>\n",
              "      <td>425900</td>\n",
              "      <td>CRIMINAL ATTEMPT</td>\n",
              "    </tr>\n",
              "  </tbody>\n",
              "</table>\n",
              "</div>"
            ],
            "text/plain": [
              "             OFFENSE       Bond                             Offense_Total\n",
              "0  (REPEALED) 53-048  332935000  CRIMINAL POSS OF PISTOL/REVOLVER      DF\n",
              "1  (REPEALED) 53-124      10000     VIOLATION OF PROBATION OR COND DISCHG\n",
              "2  (REPEALED) 53-173     274750                          CRIMINAL ATTEMPT\n",
              "3             53A021  883105836  CRIM VIOL OF PROTECTIVE ORDER         DF\n",
              "4            53A223C     425900                          CRIMINAL ATTEMPT"
            ]
          },
          "metadata": {
            "tags": []
          },
          "execution_count": 31
        }
      ]
    },
    {
      "cell_type": "markdown",
      "metadata": {
        "id": "dXSxNgtbejF8"
      },
      "source": [
        "##**Creating New Column with Offense Category**"
      ]
    },
    {
      "cell_type": "code",
      "metadata": {
        "id": "vJY_LJbKe9_0"
      },
      "source": [
        "# Successfully creating excel sheet with cell output\n",
        "# offense_df.to_excel(\"./offensedf3.xlsx\")"
      ],
      "execution_count": 32,
      "outputs": []
    },
    {
      "cell_type": "code",
      "metadata": {
        "id": "nlQosSFwmpmr",
        "colab": {
          "base_uri": "https://localhost:8080/",
          "height": 204
        },
        "outputId": "3e90f436-4a1f-4e1c-c519-bec691b8d278"
      },
      "source": [
        "# load newly coded .csv \n",
        "df_2 = pd.read_csv(\"offensedf3.csv\", index_col=False)\n",
        "df_2.head()"
      ],
      "execution_count": 33,
      "outputs": [
        {
          "output_type": "execute_result",
          "data": {
            "text/html": [
              "<div>\n",
              "<style scoped>\n",
              "    .dataframe tbody tr th:only-of-type {\n",
              "        vertical-align: middle;\n",
              "    }\n",
              "\n",
              "    .dataframe tbody tr th {\n",
              "        vertical-align: top;\n",
              "    }\n",
              "\n",
              "    .dataframe thead th {\n",
              "        text-align: right;\n",
              "    }\n",
              "</style>\n",
              "<table border=\"1\" class=\"dataframe\">\n",
              "  <thead>\n",
              "    <tr style=\"text-align: right;\">\n",
              "      <th></th>\n",
              "      <th>Unnamed: 0</th>\n",
              "      <th>Offense_Type</th>\n",
              "      <th>Category</th>\n",
              "    </tr>\n",
              "  </thead>\n",
              "  <tbody>\n",
              "    <tr>\n",
              "      <th>0</th>\n",
              "      <td>0</td>\n",
              "      <td>CRIMINAL POSS OF PISTOL/REVOLVER      DF</td>\n",
              "      <td>Weapons</td>\n",
              "    </tr>\n",
              "    <tr>\n",
              "      <th>1</th>\n",
              "      <td>1</td>\n",
              "      <td>VIOLATION OF PROBATION OR COND DISCHG</td>\n",
              "      <td>Probation</td>\n",
              "    </tr>\n",
              "    <tr>\n",
              "      <th>2</th>\n",
              "      <td>2</td>\n",
              "      <td>CRIMINAL ATTEMPT</td>\n",
              "      <td>Attempt</td>\n",
              "    </tr>\n",
              "    <tr>\n",
              "      <th>3</th>\n",
              "      <td>3</td>\n",
              "      <td>CRIM VIOL OF PROTECTIVE ORDER         DF</td>\n",
              "      <td>Order</td>\n",
              "    </tr>\n",
              "    <tr>\n",
              "      <th>4</th>\n",
              "      <td>4</td>\n",
              "      <td>CRIM VIOL ST CRIM RESTR ORDER         DF</td>\n",
              "      <td>Order</td>\n",
              "    </tr>\n",
              "  </tbody>\n",
              "</table>\n",
              "</div>"
            ],
            "text/plain": [
              "   Unnamed: 0                              Offense_Type   Category\n",
              "0           0  CRIMINAL POSS OF PISTOL/REVOLVER      DF    Weapons\n",
              "1           1     VIOLATION OF PROBATION OR COND DISCHG  Probation\n",
              "2           2                          CRIMINAL ATTEMPT    Attempt\n",
              "3           3  CRIM VIOL OF PROTECTIVE ORDER         DF      Order\n",
              "4           4  CRIM VIOL ST CRIM RESTR ORDER         DF      Order"
            ]
          },
          "metadata": {
            "tags": []
          },
          "execution_count": 33
        }
      ]
    },
    {
      "cell_type": "markdown",
      "metadata": {
        "id": "9u2D_yQWH7w1"
      },
      "source": [
        "Took exported excel sheet and coded each type of offense as one of following:\n",
        "1. Person\n",
        "2. Property\n",
        "3. Probation\n",
        "4. Order (Violation of Order by Court, Police, or Municipality)\n",
        "5. Drugs\n",
        "6. Weapon\n",
        "7. Juvenile\n",
        "8. Attempt"
      ]
    },
    {
      "cell_type": "code",
      "metadata": {
        "id": "BHKiWXzV3gju",
        "colab": {
          "base_uri": "https://localhost:8080/"
        },
        "outputId": "0720d4e2-86ac-4f67-97db-bc196785d5ec"
      },
      "source": [
        "# Sum of each Type of Category\n",
        "df_2['Category'].value_counts()\n"
      ],
      "execution_count": 34,
      "outputs": [
        {
          "output_type": "execute_result",
          "data": {
            "text/plain": [
              "Person       153\n",
              "Property      89\n",
              "Order         55\n",
              "Weapons       32\n",
              "Drugs         23\n",
              "Attempt        7\n",
              "Probation      6\n",
              "ND             4\n",
              "Juvenile       2\n",
              "Name: Category, dtype: int64"
            ]
          },
          "metadata": {
            "tags": []
          },
          "execution_count": 34
        }
      ]
    },
    {
      "cell_type": "code",
      "metadata": {
        "id": "e4lnTQy4WxO-",
        "colab": {
          "base_uri": "https://localhost:8080/"
        },
        "outputId": "3e01a00a-5d3c-4281-c404-978d9b04a6fa"
      },
      "source": [
        "# Sum of each Type of Offense\n",
        "df_offense = df['OFFENSE'].value_counts()\n",
        "df_offense.head(50)"
      ],
      "execution_count": 35,
      "outputs": [
        {
          "output_type": "execute_result",
          "data": {
            "text/plain": [
              "VIOLATION OF PROBATION OR COND DISCHG       624816\n",
              "CRIM VIOL OF PROTECTIVE ORDER         DF    271397\n",
              "INJURY OR RISK OF INJURY TO MINOR      F    245038\n",
              "ASSAULT, FIRST DEGREE                 BF    215743\n",
              "ROBBERY, FIRST DEGREE                 BF    199466\n",
              "MURDER                                AF    181229\n",
              "BURGLARY, THIRD DEGREE                DF    161147\n",
              "SEXUAL ASSAULT, FIRST DEGREE           F    150527\n",
              "ASSAULT ON POLICE OR FIRE OFFICER     CF    127775\n",
              "CRIMINAL POSSESSION OF A PISTOL       DF    120866\n",
              "FAILURE TO APPEAR, FIRST DEGREE       DF    119307\n",
              "SALE OF NARC/AMPHET BY NON-DEPENDENT   F    118456\n",
              "CRIMINAL POSS OF PISTOL/REVOLVER      DF    115349\n",
              "HOME INVASION                         AF    114861\n",
              "CRIMINAL ATTEMPT                            110031\n",
              "ASSAULT, THIRD DEGREE                 AM    101101\n",
              "FAILURE TO APPEAR, SECOND DEGREE      AM     94753\n",
              "ASSAULT, SECOND DEGREE                DF     94226\n",
              "LARCENY, FIRST DEGREE                 BF     91870\n",
              "LARCENY, THIRD DEGREE                 DF     85813\n",
              "INTERFERING WITH AN OFFICER           AM     84351\n",
              "LARCENY, SECOND DEGREE                CF     71728\n",
              "BURGLARY, FIRST DEGREE                BF     70155\n",
              "STRANGULATION 2ND DEGREE              DF     62660\n",
              "SALE OF HALLUCIGEN/NARCOTIC SUBSTANCE  F     62001\n",
              "THREATENING                           AM     58822\n",
              "POSSESSION OF NARCOTICS                      57556\n",
              "STEALING A FIREARM                    DF     56573\n",
              "CONSPIRACY                                   56487\n",
              "BURGLARY, SECOND DEGREE               CF     51051\n",
              "ROBBERY, SECOND DEGREE                CF     49950\n",
              "SEXUAL ASSAULT, SECOND DEGREE          F     49904\n",
              "CRIM VIOL OF PROTECTIVE ORDER         AM     38455\n",
              "YOUTHFUL OFFENDER                            37957\n",
              "ROBBERY, THIRD DEGREE                 DF     35268\n",
              "FELONY MURDER                         AF     34341\n",
              "ARREST WITHOUT WARRANT                       31590\n",
              "SEXUAL ASSAULT 1ST DEGREE-AGGRVTD      F     31336\n",
              "LARCENY, SIXTH DEGREE                 CM     30656\n",
              "SALE OF HEROIN, COC BY NON-DEPENDENT         30120\n",
              "KIDNAPPING, FIRST DEGREE              AF     28488\n",
              "CRIMINAL TRESPASS, FIRST DEGREE       AM     28315\n",
              "CRIM VIOL ST CRIM RESTR ORDER         DF     27855\n",
              "CRIM VIOL RES ORDER                   AM     27236\n",
              "DRUG PARAPHERNALIA IN DRUG FACTORY     F     25192\n",
              "CARRYING WEAPON IN A MOTOR VEHICLE     F     24878\n",
              "ARSON, FIRST DEGREE                   AF     24518\n",
              "OPERATE UNDER INFLU OF LIQ OR DRUGS          23563\n",
              "ASSAULT, 1ST VICTIM 60 OR OVER        BF     22418\n",
              "MANSLAUGHTER, FIRST DEGREE            BF     21409\n",
              "Name: OFFENSE, dtype: int64"
            ]
          },
          "metadata": {
            "tags": []
          },
          "execution_count": 35
        }
      ]
    },
    {
      "cell_type": "code",
      "metadata": {
        "id": "RPQNbxn0hvtw",
        "colab": {
          "base_uri": "https://localhost:8080/"
        },
        "outputId": "06425a5a-5a32-44a8-90c2-6a83c39f1e21"
      },
      "source": [
        "# The pretty print library allows you to print text with line breaks and indents\n",
        "# instead of one long line\n",
        "import pprint as pp\n",
        "\n",
        "# Created a dictionary out of the two Offense Category dataframe columns\n",
        "OT_dict = dict(zip(df_2.Offense_Type, df_2.Category))\n",
        "pp.pprint(OT_dict)"
      ],
      "execution_count": 36,
      "outputs": [
        {
          "output_type": "stream",
          "text": [
            "{'(REPEALED) 53-048': 'Order',\n",
            " '(REPEALED) 53-124': 'Order',\n",
            " '(REPEALED) 53-173': 'Order',\n",
            " '53A021': 'Order',\n",
            " '53A223C': 'Order',\n",
            " 'ABUSE OF PERSONS-1ST DEGREE           CF': 'Person',\n",
            " 'ABUSE OF PERSONS-2ND DEGREE           DF': 'Person',\n",
            " 'ACT OF TERRORISM-ENHANCE SENT': 'Person',\n",
            " 'ADULTERY                              AM': 'Person',\n",
            " 'AFFIRMATIVE DEFENSES TO CIMINAL TRESPASS': 'Property',\n",
            " 'AGGAVTD SEX ASSLT-VCTM < 13YR         AF': 'Person',\n",
            " 'ALLOWING PERSON UNDER 16 TO OPERATE MV M': 'Person',\n",
            " 'ALTERING OR REMOVING IDENT NUMBER      F': 'Property',\n",
            " 'APPLICATION TO PURCHASE A FIREARM': 'Weapons',\n",
            " 'ARREST WARRANT': 'Order',\n",
            " 'ARREST WITHOUT WARRANT': 'Order',\n",
            " 'ARSON, FIRST DEGREE                   AF': 'Property',\n",
            " 'ARSON, SECOND DEGREE                  BF': 'Property',\n",
            " 'ARSON, THIRD DEGREE                   CF': 'Property',\n",
            " 'ASSAULT 2ND DEGREE WITH A FIREARM     DF': 'Weapons',\n",
            " 'ASSAULT 2ND WITH MV WHILE INTOXICATED DF': 'Person',\n",
            " 'ASSAULT 2ND, VICTIM 60 OR OVER        DF': 'Person',\n",
            " 'ASSAULT 2ND, VICTIM 60+, WITH FIREARM DF': 'Person',\n",
            " 'ASSAULT 3RD DEGREE, VICTIM OVER 59    AM': 'Person',\n",
            " 'ASSAULT ON POLICE OR FIRE OFFICER     CF': 'Person',\n",
            " 'ASSAULT TERMINATING PREGNANCY         AF': 'Person',\n",
            " 'ASSAULT, 1ST VICTIM 60 OR OVER        BF': 'Person',\n",
            " 'ASSAULT, FIRST DEGREE                 BF': 'Person',\n",
            " 'ASSAULT, ON DOC EMPLOYEE              BF': 'Person',\n",
            " 'ASSAULT, SECOND DEGREE                 F': 'Person',\n",
            " 'ASSAULT, SECOND DEGREE                DF': 'Person',\n",
            " 'ASSAULT, THIRD DEGREE                 AM': 'Person',\n",
            " 'BREACH OF PEACE                       BM': 'Person',\n",
            " 'BREACH OF PEACE 1ST DEG               DF': 'Person',\n",
            " 'BRIBERY                               DF': 'Person',\n",
            " 'BRIBERY OF WITNESS                    DF': 'Person',\n",
            " 'BURGLARY, FIRST DEGREE                BF': 'Property',\n",
            " 'BURGLARY, FIRST DEGREE: 53A101A(2)    BF': 'Property',\n",
            " 'BURGLARY, SECOND DEGREE               CF': 'Property',\n",
            " 'BURGLARY, SECOND DEGREE WITH FIREARM  CF': 'Property',\n",
            " 'BURGLARY, THIRD DEGREE                DF': 'Property',\n",
            " 'BURGLARY, THIRD DEGREE WITH FIREARM   DF': 'Property',\n",
            " 'CAPITAL FELONY                         F': 'Person',\n",
            " 'CARRY PIST/RVOLV W/O PERMIT': 'Weapons',\n",
            " 'CARRYING OR SALE OF DANGEROUS WEAPON': 'Weapons',\n",
            " 'CARRYING WEAPON IN A MOTOR VEHICLE     F': 'Weapons',\n",
            " 'CARRYING WEAPONS WITHOUT A PERMIT      F': 'Weapons',\n",
            " 'CHEATING AT GAMBLING': 'Property',\n",
            " 'COERCION': 'Person',\n",
            " 'COMMIT SEXUAL OFF IN ANOTHER JURIS    DF': 'Person',\n",
            " 'COMPUTER CRIME FIRST DEGREE           BF': 'Property',\n",
            " 'COMPUTER CRIME FOURTH DEGREE          AM': 'Property',\n",
            " 'CONSPIRACY': 'Attempt',\n",
            " 'CONTEMPT OF COURT                      M': 'Order',\n",
            " 'CONVEY UNAUTHZD ITEMS INTO INST       DF': 'Property',\n",
            " 'COUNTERFEITING MARKER PLATES           M': 'Property',\n",
            " 'CREATING A PUBLIC DISTURBANCE': 'Person',\n",
            " 'CREDIT CARD THEFT': 'Property',\n",
            " 'CRIM DAMAGE PROPERTY 1ST DEG          DF': 'Property',\n",
            " 'CRIM DAMAGE PROPERTY 2ND DEG          AM': 'Property',\n",
            " 'CRIM VIOL CIVIL PROTECTION ORDER      DF': 'Order',\n",
            " 'CRIM VIOL OF PROTECTIVE ORDER         AM': 'Order',\n",
            " 'CRIM VIOL OF PROTECTIVE ORDER         DF': 'Order',\n",
            " 'CRIM VIOL RES ORDER                   AM': 'Order',\n",
            " 'CRIM VIOL ST CRIM RESTR ORDER         DF': 'Order',\n",
            " 'CRIMINAL ATTEMPT': 'Attempt',\n",
            " 'CRIMINAL CONTEMPT                      M': 'Order',\n",
            " 'CRIMINAL IMPERSONATION                BM': 'Person',\n",
            " 'CRIMINAL LIABILITY FOR ANOTHER PERSON': 'Person',\n",
            " 'CRIMINAL LOCKOUT                      CM': 'Property',\n",
            " 'CRIMINAL MISCHIEF, FIRST DEGREE       DF': 'Attempt',\n",
            " 'CRIMINAL MISCHIEF, FOURTH DEGREE      CM': 'Attempt',\n",
            " 'CRIMINAL MISCHIEF, SECOND DEGREE      AM': 'Attempt',\n",
            " 'CRIMINAL MISCHIEF, THIRD DEGREE       BM': 'Attempt',\n",
            " 'CRIMINAL MISREPRESENTATION            CF': 'Order',\n",
            " 'CRIMINAL POSS BODY ARMOR              AM': 'Weapons',\n",
            " 'CRIMINAL POSS OF PISTOL/REVOLVER      DF': 'Weapons',\n",
            " 'CRIMINAL POSSESSION OF A PISTOL       DF': 'Weapons',\n",
            " 'CRIMINAL SIMULATION': 'Attempt',\n",
            " 'CRIMINAL TRESPASS, FIRST DEGREE       AM': 'Property',\n",
            " 'CRIMINAL TRESPASS, SECOND DEGREE      BM': 'Property',\n",
            " 'CRIMINAL TRESPASS, THIRD DEGREE       CM': 'Property',\n",
            " 'CRIMINAL TROVER, 1ST DEGREE            F': 'Property',\n",
            " 'CRIMINAL TROVER, 2ND DEGREE           AM': 'Property',\n",
            " 'CRIMINAL USE OF A FIREARM             DF': 'Weapons',\n",
            " 'CRIMINAL VIOL. PROTECTION ORDER       AM': 'Order',\n",
            " 'CRIMINALLY NEGLIGENT HOMICIDE         AM': 'Person',\n",
            " 'CRUELTY TO ANIMALS': 'Property',\n",
            " 'CRUELTY TO PERSONS': 'Person',\n",
            " 'CUSTODIAL INTERFERENCE, 2ND DEGREE    AM': 'Person',\n",
            " 'CUSTODIAL INTERFERENCE, FIRST DEGREE  DF': 'Person',\n",
            " 'DESTRUCTION OF PROPERTY                M': 'Property',\n",
            " 'DISORDERLY CONDUCT                    CM': 'Person',\n",
            " 'DISPERSION OF RIOTOUS ASSEMBLY         M': 'Person',\n",
            " 'DISSEMINATING VOYEURISTIC MATERIAL    DF': 'Person',\n",
            " 'DIVERT FR STATE BENE LBR EMPLOYEES    AM': 'Property',\n",
            " 'DRINKING WHILE OPERATING MOTOR VEHICL CM': 'Person',\n",
            " 'DRIVING IMPROPERLY IN RIGHT HAND LANE': 'Person',\n",
            " 'DRIVING IMPROPERLY ON MULTI-LANE HWY': 'Property',\n",
            " 'DRIVING INPROPERLY ON A ONE WAY STREET I': 'Person',\n",
            " 'DRIVING WHILE LICENSE SUSP FOR DWI': 'Person',\n",
            " 'DRUG PARAPHERNALIA IN DRUG FACTORY     F': 'Drugs',\n",
            " 'DRUGS NEAR PROBIBITED PLACE': 'Drugs',\n",
            " 'DUI .02 BAC AND UNDER 21 YRS': 'Drugs',\n",
            " 'EAVESDROPPING                         DF': 'Person',\n",
            " 'EMPLOYING MINOR IN OBSCENE PERFORMNCE AF': 'Person',\n",
            " 'ENCOURAGING THE COMMISSION OF ABORTION M': 'Person',\n",
            " 'ENTICING A MINOR': 'Person',\n",
            " 'ESCAPE FROM CUSTODY': 'Order',\n",
            " 'ESCAPE, FIRST DEGREE                  CF': 'Order',\n",
            " 'ESCAPE, SECOND DEGREE                 DF': 'Order',\n",
            " 'EVADING RESPONSIBILITY                 M': 'Order',\n",
            " 'EVADING RESPONSIBILITY, OTHER THAN MV  M': 'Order',\n",
            " 'EXPIRATION AND RENEWAL OF REGISTRATION M': 'Order',\n",
            " 'EXTRADITION': 'Order',\n",
            " 'FAILURE REGISTER SEXUAL PURPOSE       DF': 'Person',\n",
            " 'FAILURE TO APPEAR, FIRST DEGREE       DF': 'Order',\n",
            " 'FAILURE TO APPEAR, SECOND DEGREE      AM': 'Order',\n",
            " 'FAILURE TO CARRY AND MOUNT REFLECTORS': 'Person',\n",
            " 'FAILURE TO CARRY DRIVERS LICENSE       M': 'Order',\n",
            " 'FAILURE TO CARRY MIN INSURANCE         M': 'Order',\n",
            " 'FAILURE TO COMPLY W/ SEAT BELTS/SYSTEM': 'Person',\n",
            " 'FAILURE TO DRIVE ON RIGHT HAND ROADWAY': 'Person',\n",
            " 'FAILURE TO FURNISH TAX RETURN': 'Property',\n",
            " 'FAILURE TO OBEY AN OFFICER': 'Order',\n",
            " 'FAILURE TO OBEY STOP SIGN': 'Person',\n",
            " 'FAILURE TO OBEY TRAFFIC SIGNALS': 'Order',\n",
            " 'FAILURE TO PAY OR PLEAD                M': 'Order',\n",
            " 'FAILURE TO PAY WAGES': 'Property',\n",
            " 'FALSE ENTRY BY OFFICER OR PUB AGENT   AM': 'Property',\n",
            " 'FALSE RPT INCIDNT CONCER INJ OR DEATH DF': 'Person',\n",
            " 'FALSE RPT INCIDNT RESULT INJ OR DEATH DF': 'Person',\n",
            " 'FALSE STATEMENT TO PROCURE CREDT CARD AM': 'Property',\n",
            " 'FALSE STATEMENT, 2ND DEGREE           AM': 'Order',\n",
            " 'FALSELY REPORTING AN INCIDENT 2ND     AM': 'Person',\n",
            " 'FALSELY REPORTING INCIDENT': 'Person',\n",
            " 'FALSELY REPORTING VEHICLE THEFT        M': 'Person',\n",
            " 'FEDERAL OFFENSE': 'ND',\n",
            " 'FELONY MURDER                         AF': 'Person',\n",
            " 'FLR KEEP NARC IN ORG CONTAINER         F': 'Drugs',\n",
            " 'FOLLOW TOO CLOSELY W/ INTENT TO HARASS M': 'Person',\n",
            " 'FOLLOWING TOO CLOSELY': 'Person',\n",
            " 'FORGERY OF SYMBOLS                    AM': 'Property',\n",
            " 'FORGERY RELATED': 'Property',\n",
            " 'FORGERY, FIRST DEGREE                 CF': 'Property',\n",
            " 'FORGERY, SECOND DEGREE                DF': 'Property',\n",
            " 'FORGERY, THIRD DEGREE                 BM': 'Property',\n",
            " 'FRAUDULENT USE OF ATM                 CM': 'Property',\n",
            " 'FUGITIVE FROM JUSTICE': 'Order',\n",
            " 'HARASSMENT 1ST DEGREE                 DF': 'Person',\n",
            " 'HARASSMENT, 2ND DEGREE                CM': 'Person',\n",
            " 'HINDER PROSECUTION DEFINED             F': 'Order',\n",
            " 'HINDER PROSECUTION, FIRST DEGREE      DF': 'Order',\n",
            " 'HINDERING PROSECUTION 2ND DEG': 'Order',\n",
            " 'HINDERING PROSECUTION 3RD DEG         DF': 'Order',\n",
            " 'HOME INVASION                         AF': 'Property',\n",
            " 'IDENTITY THEFT 1ST DEGREE             BF': 'Person',\n",
            " 'IDENTITY THEFT 2ND DEGREE             CF': 'Person',\n",
            " 'IDENTITY THEFT 3RD DEGREE             DF': 'Person',\n",
            " 'IDENTITY THEFT DEFINED                DF': 'Person',\n",
            " 'IL POS LRG CAP MAG OBT AF 4/13        DF': 'Weapons',\n",
            " 'IL TRAFFIC IN PERSONAL ID INFO        DF': 'Person',\n",
            " 'ILL AFFIX FRAUDULENT                   F': 'Property',\n",
            " 'ILL CARRY FIREARM-UI DRUGS/ALC': 'Weapons',\n",
            " 'ILL OP MV WO IGNITION DEVICE          CM': 'Property',\n",
            " 'ILL POSSESS CHILD PORN 2ND DEG         F': 'Person',\n",
            " 'ILL POSSESS CHILD PORN 3RD DEG        DF': 'Person',\n",
            " 'ILLEGAL GAIN FROM CREDIT CARD         AM': 'Property',\n",
            " 'ILLEGAL MANUFACTUAL OR SALE OF DRUGS': 'Drugs',\n",
            " 'ILLEGAL POSSES OF SHOP LIFTING DEVICE AM': 'Property',\n",
            " 'ILLEGAL POSSESSION OF EXPLOSIVES       F': 'Weapons',\n",
            " 'ILLEGAL REFUSAL OF DNA TESTING': 'Order',\n",
            " 'ILLEGAL USE OF CREDIT CARD': 'Property',\n",
            " 'IMPERSONATION OF POLICE OFFICER       DF': 'Person',\n",
            " 'IMPORTING CHILD PORNOGRAPHY            F': 'Person',\n",
            " 'IMPROPER TURN/STOP NO PROPER SIGN': 'Person',\n",
            " 'IMPROPER USE OF MARKER, LICENSE, REG   M': 'Order',\n",
            " 'INCEST                                 F': 'Person',\n",
            " 'INCITING INJURY TO PERSONS OR PROPTY  CF': 'Person',\n",
            " 'INCSTRUCTION UNLICENSED PERSON IN VEHICL': 'Person',\n",
            " 'INDECENT ASSAULT                       F': 'Person',\n",
            " 'INJUNCTION AND RESTRAINING ORDER': 'Order',\n",
            " 'INJURY OR RISK OF INJURY TO MINOR      F': 'Person',\n",
            " 'INJURY TO BAGGAGE ON PUBLIC CONVEYANCE M': 'Property',\n",
            " 'INJURY TO FENCES, GATES, OTHER PROP    M': 'Property',\n",
            " 'INJURY/RISK OF INJURY TO MINOR- SEXUAL C': 'Person',\n",
            " 'INSANITY AS DEFENSE': 'ND',\n",
            " 'INSURANCE FRAUD                       DF': 'Property',\n",
            " 'INTENT TO INJURE WITH EXPLOSIVES       F': 'Weapons',\n",
            " 'INTERFERENCE WITH SEARCH': 'Order',\n",
            " 'INTERFERING WITH AN EMERGENCY CALL    AM': 'Person',\n",
            " 'INTERFERING WITH AN OFFICER           AM': 'Person',\n",
            " 'INTERSTATE PAROLE COMPACT': 'Probation',\n",
            " 'INTIMIDATE DUE TO BIAS 3RD DEG        AM': 'Person',\n",
            " 'INTIMIDATING A WITNESS                CF': 'Person',\n",
            " 'INTIMIDATION BASED ON BIGOTRY/BIAS    DF': 'Person',\n",
            " 'INTIMIDATION BSD BIGOTRY/BIAS         DF': 'Person',\n",
            " 'INTIMIDATION BSD BIGOTRY/BIAS, 1ST    CF': 'Person',\n",
            " 'ISSUING A BAD CHECK': 'Property',\n",
            " 'JUVENILE TRANSFER': 'Juvenile',\n",
            " 'KIDNAPPING 1ST DEG W/ FIREARM         AF': 'Person',\n",
            " 'KIDNAPPING 2ND DEG W/ FIREARM         BF': 'Person',\n",
            " 'KIDNAPPING, 2ND DEGREE                BF': 'Person',\n",
            " 'KIDNAPPING, FIRST DEGREE              AF': 'Person',\n",
            " 'LARCENY DEFINED': 'Property',\n",
            " 'LARCENY RELATED': 'Property',\n",
            " 'LARCENY, FIFTH DEGREE                 BM': 'Property',\n",
            " 'LARCENY, FIRST DEGREE                 BF': 'Property',\n",
            " 'LARCENY, FOURTH DEGREE                AM': 'Property',\n",
            " 'LARCENY, SECOND DEGREE                CF': 'Property',\n",
            " 'LARCENY, SIXTH DEGREE                 CM': 'Property',\n",
            " 'LARCENY, THIRD DEGREE                 DF': 'Property',\n",
            " 'LEAV CHILD UNSUPERV IN PUBL/MOT VEH    C': 'Person',\n",
            " 'LIQUOR SALES TO MINORS': 'Person',\n",
            " 'LITTERING OR DUMPING PROHIBITED': 'Order',\n",
            " 'LOITERING ON SCHOOL GROUNDS           CM': 'Property',\n",
            " 'MANSLAUGHTER 2ND WITH MV (INTOX)      CF': 'Person',\n",
            " 'MANSLAUGHTER 2ND, W/FIREARM           CF': 'Person',\n",
            " 'MANSLAUGHTER, FIRST DEGREE            BF': 'Person',\n",
            " 'MANSLAUGHTER, FIRST DEGREE, FIREARM   BF': 'Person',\n",
            " 'MANSLAUGHTER, SECOND DEGREE           CF': 'Person',\n",
            " 'MANUF OR POSSESSION OF BURGLAR TOOLS  AM': 'Property',\n",
            " 'MANUFACTURE OF BOMBS                  BF': 'Weapons',\n",
            " 'MISAPPLICATION OF PROPERTY            AM': 'Property',\n",
            " 'MISCONDUCT WITH A MOTOR VEHICLE       DF': 'Person',\n",
            " 'MISREP AGE TO ENTICE A MINOR          CF': 'Person',\n",
            " 'MISREP OF SUB AS CONTROLLED SUB       DF': 'Drugs',\n",
            " 'MONEY LAUNDERING 2ND DEGREE           CF': 'Property',\n",
            " 'MONEY LAUNDERING FIRST DEGREE         BF': 'Property',\n",
            " 'MONEY LAUNDERING FOURTH DEGREE        AM': 'Property',\n",
            " 'MONEY LAUNDERING THIRD DEGREE         DF': 'Property',\n",
            " 'MURDER                                AF': 'Person',\n",
            " 'NEGLG STORAGE OF A FIREARM            DF': 'Weapons',\n",
            " 'NEGLIGENT HOMICIDE W/ MOTOR VEHICLE   BM': 'Person',\n",
            " 'NOTICES IN SALES AGRREMENT           UM': 'Property',\n",
            " 'OBSCENITY                             BM': 'Person',\n",
            " 'OBSCENITY AS TO MINORS                 F': 'Person',\n",
            " 'OBTAINING DRUGS ILLEGALLY': 'Drugs',\n",
            " 'OP MV W/HNDHLD TEL/MOV ELC DEV': 'Person',\n",
            " 'OPERATE UNDER INFLU OF LIQ OR DRUGS': 'Drugs',\n",
            " 'OPERATE UNDER INFLU OF LIQ OR DRUGS    M': 'Drugs',\n",
            " 'OPERATING MV W/O A LICENSE': 'Order',\n",
            " 'OPERATING MV W/O INSURANCE            CM': 'Order',\n",
            " 'OPERATING UNDER SUSPENDED LIC OR REG.  M': 'Order',\n",
            " 'ORGANIZED RETAIL THEFT                 F': 'Property',\n",
            " 'OUI MV W/CHILD PSNGR                  AM': 'Person',\n",
            " 'P19-187': 'Order',\n",
            " 'PART OR CONS FOR EXPORT MEANS         BF': 'Property',\n",
            " 'PATRONIZING A PROSTITUTE              AM': 'Person',\n",
            " 'PENALTY FAIL TO SUBMIT FINGERPRINTS': 'Order',\n",
            " 'PERJURY                               DF': 'Order',\n",
            " 'PERMIT TO SELL OR CARRY PISTOL': 'Weapons',\n",
            " 'PERMITTING PROSTITUTION               AM': 'Person',\n",
            " 'PISTOL AND REVOLVER PERMITS            M': 'Weapons',\n",
            " 'POSS OF ARMS OR BURG TOOLS AT NIGHT    F': 'Weapons',\n",
            " 'POSS OF ASSAULT WEAPON PROHIBITED': 'Weapons',\n",
            " 'POSS OF UNSTAMP MARI/CONTROL SUB BY DEAL': 'Drugs',\n",
            " 'POSS OF WEAPON IN A CCI               BF': 'Weapons',\n",
            " 'POSS WEAPON ON SCHOOL GROUNDS         DF': 'Drugs',\n",
            " 'POSSESS OF HALLUC OR 4+ OZ MARIJUANA   F': 'Drugs',\n",
            " 'POSSESS OF LT 4 OZ MJ OR CONTROLD SUB': 'Drugs',\n",
            " 'POSSESSING CHILD PORNOGRAPH            F': 'Person',\n",
            " 'POSSESSION OF NARCOTICS': 'Drugs',\n",
            " 'POSSESSION OF SHOTGUN OR SILENCER     DF': 'Weapons',\n",
            " 'PRACTICE OF LAW BY NON-ATTORNEYS       M': 'Person',\n",
            " 'PRIMARY OFFENSE NOT DETERMINED': 'ND',\n",
            " 'PROBATION AND CONDITIONAL DISCHARGE': 'Probation',\n",
            " 'PRODUCING CONTROLLED SUBS W/O LICENSE': 'Drugs',\n",
            " 'PROHIB ACTS RE: CONTROLLED SUBSTANCES': 'Drugs',\n",
            " 'PROHIB ACTS RE: DRUG PARA, SCHOOL': 'Drugs',\n",
            " 'PROHIB ACTS RE: DRUG PARAPHERNALIA': 'Drugs',\n",
            " 'PROHIBITED ACTIVITIES': 'Person',\n",
            " 'PROMOTING MINOR IN OBSCENE PERFORMNCE BF': 'Person',\n",
            " 'PROMOTING PROSTITUTION, FIRST DEGREE  BF': 'Person',\n",
            " 'PROMOTING PROSTITUTION, SECOND DEGREE CF': 'Person',\n",
            " 'PROMOTING PROSTITUTION, THIRD DEGREE  DF': 'Person',\n",
            " 'PROSTITUTION                          AM': 'Person',\n",
            " 'PUBLIC INDECENCY                      BM': 'Person',\n",
            " 'PURGE CIVIL COMMITMENT': 'Order',\n",
            " 'RAPE, FIRST DEGREE                    BF': 'Person',\n",
            " 'RAPE, SECOND DEGREE                   CF': 'Person',\n",
            " 'RECEIVING COMMERCIAL BRIBE': 'Person',\n",
            " 'RECEIVING STOLEN PROPERTY, LARCENY     M': 'Property',\n",
            " 'RECKLESS BURNING                      DF': 'Person',\n",
            " 'RECKLESS DRIVING                       M': 'Person',\n",
            " 'RECKLESS ENDANGERMENT, FIRST DEGREE   AM': 'Person',\n",
            " 'RECKLESS ENDANGERMENT, SECOND DEGREE  BM': 'Person',\n",
            " 'REFUSAL TO DISPERSE                    M': 'Person',\n",
            " 'REG PERSON WHO COMM OFF AGAINST MINOR DF': 'Person',\n",
            " 'REG PERSON WHO COMM SEX VIOL OFF      DF': 'Person',\n",
            " 'REGULATION OF RESTRICTED SUBSTANCES': 'Drugs',\n",
            " 'RESISTING ARREST': 'Person',\n",
            " 'ROBBERY BY CARJACKING': 'Property',\n",
            " 'ROBBERY RELATED': 'Property',\n",
            " 'ROBBERY, FIRST DEGREE                 BF': 'Property',\n",
            " 'ROBBERY, FIRST DEGREE                BF': 'Property',\n",
            " 'ROBBERY, SECOND DEGREE                CF': 'Property',\n",
            " 'ROBBERY, THIRD DEGREE                 DF': 'Property',\n",
            " 'SALE OF CONTROLLED SUBSTANCE           F': 'Drugs',\n",
            " 'SALE OF HALLUCIGEN/NARCOTIC SUBSTANCE  F': 'Drugs',\n",
            " 'SALE OF HEROIN, COC BY NON-DEPENDENT': 'Drugs',\n",
            " 'SALE OF NARC/AMPHET BY NON-DEPENDENT   F': 'Drugs',\n",
            " 'SALE, CARRY & BRAND OF FACSIMILE': 'Property',\n",
            " 'SALE/POSS/TRAFF OF WEAPON              F': 'Weapons',\n",
            " 'SALE/POSS/TRAN OF ASLT WEAPON          F': 'Weapons',\n",
            " 'SEALED': 'ND',\n",
            " 'SEARCHES AND SEIZURES': 'Order',\n",
            " 'SELLING WEAPONS TO ALIENS PROHIBITED   F': 'Weapons',\n",
            " 'SELLING WITHOUT PERMIT': 'Property',\n",
            " 'SEX ABUSE MINOR': 'Person',\n",
            " 'SEX ASLT, SPOUSE/COHAB RELATIONSHIP   BF': 'Person',\n",
            " 'SEXUAL ASSAULT 1ST DEGREE-AGGRVTD      F': 'Person',\n",
            " 'SEXUAL ASSAULT, 3RD DEG W/ FIREARM    CF': 'Person',\n",
            " 'SEXUAL ASSAULT, FIRST DEGREE           F': 'Person',\n",
            " 'SEXUAL ASSAULT, FOURTH DEGREE         AM': 'Person',\n",
            " 'SEXUAL ASSAULT, SECOND DEGREE          F': 'Person',\n",
            " 'SEXUAL ASSAULT, THIRD DEGREE          DF': 'Person',\n",
            " 'SHOTGUNS AND RIFLES IN VEHICLE         M': 'Weapons',\n",
            " 'SIMPLE TRESPASS': 'Property',\n",
            " 'SOLIC OR ACCPT BENEFIT FOR RIGGING    AM': 'Person',\n",
            " 'SOLICITING RIDES FROM MOTOR VEHICLES   M': 'Person',\n",
            " 'SPECIAL PAROLE': 'Probation',\n",
            " 'SPEEDING                               M': 'Person',\n",
            " 'STALKING, 1ST DEGREE                  DF': 'Person',\n",
            " 'STALKING, 2ND DEGREE                  AM': 'Person',\n",
            " 'STALKING, 3RD DEGREE                  BM': 'Person',\n",
            " 'STARTING OR BACKING VEHICLE': 'Property',\n",
            " 'STEALING A FIREARM                    DF': 'Weapons',\n",
            " 'STRANGULATION 1ST DEGREE              CF': 'Person',\n",
            " 'STRANGULATION 2ND DEGREE              DF': 'Person',\n",
            " 'STRANGULATION 3RD DEGREE': 'Person',\n",
            " 'TAMPERING W/AIRPORT OR AIRWAYS': 'Property',\n",
            " 'TAMPERING WITH OR FABRICATING EVIDNC  DF': 'Property',\n",
            " 'TAMPERING WITH WITNESS                DF': 'Person',\n",
            " 'TELEPHONE FRAUD, 1ST DEGREE           BF': 'Property',\n",
            " 'TEMPORARY SURRENDER': 'Order',\n",
            " 'THEFT FROM PERSON                      F': 'Person',\n",
            " 'THEFT OF HORSE': 'Property',\n",
            " 'THEFT OF NUMBER PLATE OR INSER         M': 'Property',\n",
            " 'THEFT OF POULTRY                       M': 'Property',\n",
            " 'THEFT OF UTILITY SERVICE FOR PROFIT   DF': 'Property',\n",
            " 'THREATENING                           AM': 'Person',\n",
            " 'THREATENING 1ST DEGREE                DF': 'Person',\n",
            " 'TOWN ORDINANCE $90 OR LESS (CI)': 'Order',\n",
            " 'TOWN ORDINANCE > $250 (VIOLTN)': 'Order',\n",
            " 'TOWN ORDINANCE=$90 OR <PARKING': 'Order',\n",
            " 'TRAFFICKING IN PERSONS                BF': 'Person',\n",
            " 'TRAVELING UNREASONABLY FAST            M': 'Person',\n",
            " 'UNFAIR OR DECEPTIVE PRAC OR ACT': 'Order',\n",
            " 'UNLAWFUL ASSEMBLY                     BM': 'Person',\n",
            " 'UNLAWFUL DISCHARGE OF FIREARMS         M': 'Weapons',\n",
            " 'UNLAWFUL ENTRY INTO COIN MACHINE      AM': 'Property',\n",
            " 'UNLAWFUL REPRODUCTION OF CREDIT CARD  DF': 'Property',\n",
            " 'UNLAWFUL RESTRAINT, FIRST DEGREE      DF': 'Person',\n",
            " 'UNLAWFUL RESTRAINT, SECOND DEGREE     AM': 'Person',\n",
            " 'USE OF FORCE TO DEFEND PROPERTY': 'Person',\n",
            " 'USE OF HIGHWAY BY PEDESTRIAN           M': 'Person',\n",
            " 'USE OF MACH GUN FOR AGGR PURP': 'Weapons',\n",
            " 'USE OF MACHINE GUN IN A CRIME  DELETED F': 'Weapons',\n",
            " 'USING MACHINE GUN IN CRIME             F': 'Weapons',\n",
            " 'USING MOTOR VEHICLE W/O PERMISSION': 'Property',\n",
            " 'VIO DEADLY WEAPON REGIST REQS         DF': 'Weapons',\n",
            " 'VIO MOTOR VEH RACING REQS             BM': 'Person',\n",
            " 'VIO REQ RE DISP OF DEAD BODY': 'Person',\n",
            " 'VIOLATE COND OF RELEASE-2ND DEG       AM': 'Probation',\n",
            " 'VIOLATION OF CONDITIONS OF RELEASE': 'Probation',\n",
            " 'VIOLATION OF PROBATION OR COND DISCHG': 'Probation',\n",
            " 'VIOLATION, HOME IMPROVE REGISTRATION': 'Order',\n",
            " 'VOYEURISM': 'Person',\n",
            " 'WILLFUL INJURY TO PROPERTY             M': 'Property',\n",
            " 'YOUTHFUL OFFENDER': 'Juvenile'}\n"
          ],
          "name": "stdout"
        }
      ]
    },
    {
      "cell_type": "code",
      "metadata": {
        "id": "m6cm2fzMZf8W"
      },
      "source": [
        "# create a new column called 'offense_cat' based on dictionary that maps the appropriate category value\n",
        "# based on the key in the dictionary\n",
        "# key/value combinations did not have to be unique as long as the key was unique\n",
        "\n",
        "df['offense_cat'] = df['OFFENSE'].map(OT_dict)"
      ],
      "execution_count": 37,
      "outputs": []
    },
    {
      "cell_type": "code",
      "metadata": {
        "colab": {
          "base_uri": "https://localhost:8080/",
          "height": 289
        },
        "id": "rGurdWLyZkXD",
        "outputId": "58443900-ca4d-4cb5-acab-d030436fa023"
      },
      "source": [
        "df.head()"
      ],
      "execution_count": 38,
      "outputs": [
        {
          "output_type": "execute_result",
          "data": {
            "text/html": [
              "<div>\n",
              "<style scoped>\n",
              "    .dataframe tbody tr th:only-of-type {\n",
              "        vertical-align: middle;\n",
              "    }\n",
              "\n",
              "    .dataframe tbody tr th {\n",
              "        vertical-align: top;\n",
              "    }\n",
              "\n",
              "    .dataframe thead th {\n",
              "        text-align: right;\n",
              "    }\n",
              "</style>\n",
              "<table border=\"1\" class=\"dataframe\">\n",
              "  <thead>\n",
              "    <tr style=\"text-align: right;\">\n",
              "      <th></th>\n",
              "      <th>Date</th>\n",
              "      <th>RACE</th>\n",
              "      <th>GENDER</th>\n",
              "      <th>AGE</th>\n",
              "      <th>Bond</th>\n",
              "      <th>OFFENSE</th>\n",
              "      <th>Year</th>\n",
              "      <th>offense_cat</th>\n",
              "    </tr>\n",
              "  </thead>\n",
              "  <tbody>\n",
              "    <tr>\n",
              "      <th>0</th>\n",
              "      <td>2018-08-16</td>\n",
              "      <td>BLACK</td>\n",
              "      <td>M</td>\n",
              "      <td>27</td>\n",
              "      <td>150000</td>\n",
              "      <td>CRIMINAL POSS OF PISTOL/REVOLVER      DF</td>\n",
              "      <td>2018</td>\n",
              "      <td>Weapons</td>\n",
              "    </tr>\n",
              "    <tr>\n",
              "      <th>1</th>\n",
              "      <td>2019-03-28</td>\n",
              "      <td>HISPANIC</td>\n",
              "      <td>M</td>\n",
              "      <td>41</td>\n",
              "      <td>30100</td>\n",
              "      <td>VIOLATION OF PROBATION OR COND DISCHG</td>\n",
              "      <td>2019</td>\n",
              "      <td>Probation</td>\n",
              "    </tr>\n",
              "    <tr>\n",
              "      <th>2</th>\n",
              "      <td>2020-04-03</td>\n",
              "      <td>HISPANIC</td>\n",
              "      <td>M</td>\n",
              "      <td>21</td>\n",
              "      <td>150000</td>\n",
              "      <td>CRIMINAL ATTEMPT</td>\n",
              "      <td>2020</td>\n",
              "      <td>Attempt</td>\n",
              "    </tr>\n",
              "    <tr>\n",
              "      <th>3</th>\n",
              "      <td>2020-01-15</td>\n",
              "      <td>WHITE</td>\n",
              "      <td>M</td>\n",
              "      <td>36</td>\n",
              "      <td>50500</td>\n",
              "      <td>CRIM VIOL OF PROTECTIVE ORDER         DF</td>\n",
              "      <td>2020</td>\n",
              "      <td>Order</td>\n",
              "    </tr>\n",
              "    <tr>\n",
              "      <th>4</th>\n",
              "      <td>2018-12-26</td>\n",
              "      <td>HISPANIC</td>\n",
              "      <td>M</td>\n",
              "      <td>29</td>\n",
              "      <td>100000</td>\n",
              "      <td>CRIMINAL ATTEMPT</td>\n",
              "      <td>2018</td>\n",
              "      <td>Attempt</td>\n",
              "    </tr>\n",
              "  </tbody>\n",
              "</table>\n",
              "</div>"
            ],
            "text/plain": [
              "        Date      RACE  ...  Year  offense_cat\n",
              "0 2018-08-16     BLACK  ...  2018      Weapons\n",
              "1 2019-03-28  HISPANIC  ...  2019    Probation\n",
              "2 2020-04-03  HISPANIC  ...  2020      Attempt\n",
              "3 2020-01-15     WHITE  ...  2020        Order\n",
              "4 2018-12-26  HISPANIC  ...  2018      Attempt\n",
              "\n",
              "[5 rows x 8 columns]"
            ]
          },
          "metadata": {
            "tags": []
          },
          "execution_count": 38
        }
      ]
    },
    {
      "cell_type": "code",
      "metadata": {
        "colab": {
          "base_uri": "https://localhost:8080/"
        },
        "id": "bgKgIbHvZrEX",
        "outputId": "dd5bd36e-3883-4c40-9f96-96afa1896f77"
      },
      "source": [
        "# Checking for nulls\n",
        "df.isnull().sum()"
      ],
      "execution_count": 39,
      "outputs": [
        {
          "output_type": "execute_result",
          "data": {
            "text/plain": [
              "Date           0\n",
              "RACE           0\n",
              "GENDER         0\n",
              "AGE            0\n",
              "Bond           0\n",
              "OFFENSE        0\n",
              "Year           0\n",
              "offense_cat    0\n",
              "dtype: int64"
            ]
          },
          "metadata": {
            "tags": []
          },
          "execution_count": 39
        }
      ]
    },
    {
      "cell_type": "code",
      "metadata": {
        "colab": {
          "base_uri": "https://localhost:8080/"
        },
        "id": "plI3Zn4UZn8G",
        "outputId": "3100915e-5af6-464e-829f-081c1cb2c718"
      },
      "source": [
        "# Checking all offense categories included\n",
        "df.offense_cat.unique()"
      ],
      "execution_count": 40,
      "outputs": [
        {
          "output_type": "execute_result",
          "data": {
            "text/plain": [
              "array(['Weapons', 'Probation', 'Attempt', 'Order', 'Person', 'Property',\n",
              "       'Juvenile', 'Drugs', 'ND'], dtype=object)"
            ]
          },
          "metadata": {
            "tags": []
          },
          "execution_count": 40
        }
      ]
    },
    {
      "cell_type": "markdown",
      "metadata": {
        "id": "UNDlHHaAati4"
      },
      "source": [
        "Note:  ND = Not Disclosed - main offense not provided"
      ]
    },
    {
      "cell_type": "code",
      "metadata": {
        "colab": {
          "base_uri": "https://localhost:8080/"
        },
        "id": "5lM2bUCVZzyo",
        "outputId": "00d0eb75-853b-4058-ada9-aa305f5e6098"
      },
      "source": [
        "# Sum of each Type of Category\n",
        "df['offense_cat'].value_counts()"
      ],
      "execution_count": 41,
      "outputs": [
        {
          "output_type": "execute_result",
          "data": {
            "text/plain": [
              "Person       1876856\n",
              "Property     1152549\n",
              "Order         676128\n",
              "Probation     638960\n",
              "Weapons       405835\n",
              "Drugs         357636\n",
              "Attempt       189222\n",
              "Juvenile       53967\n",
              "ND               696\n",
              "Name: offense_cat, dtype: int64"
            ]
          },
          "metadata": {
            "tags": []
          },
          "execution_count": 41
        }
      ]
    },
    {
      "cell_type": "markdown",
      "metadata": {
        "id": "eSHroQJte5Pk"
      },
      "source": [
        "##**Creating New Column with Offense Violence Status**"
      ]
    },
    {
      "cell_type": "code",
      "metadata": {
        "colab": {
          "base_uri": "https://localhost:8080/",
          "height": 204
        },
        "id": "1RNU7cI9gJFV",
        "outputId": "b06be71f-5ac5-4d34-a7a3-4feac4c50cd6"
      },
      "source": [
        "# load newly coded .csv \n",
        "df_3 = pd.read_csv(\"violentstatus.csv\", index_col=False)\n",
        "df_3.head()"
      ],
      "execution_count": 42,
      "outputs": [
        {
          "output_type": "execute_result",
          "data": {
            "text/html": [
              "<div>\n",
              "<style scoped>\n",
              "    .dataframe tbody tr th:only-of-type {\n",
              "        vertical-align: middle;\n",
              "    }\n",
              "\n",
              "    .dataframe tbody tr th {\n",
              "        vertical-align: top;\n",
              "    }\n",
              "\n",
              "    .dataframe thead th {\n",
              "        text-align: right;\n",
              "    }\n",
              "</style>\n",
              "<table border=\"1\" class=\"dataframe\">\n",
              "  <thead>\n",
              "    <tr style=\"text-align: right;\">\n",
              "      <th></th>\n",
              "      <th>offense_cat</th>\n",
              "      <th>violence_status</th>\n",
              "    </tr>\n",
              "  </thead>\n",
              "  <tbody>\n",
              "    <tr>\n",
              "      <th>0</th>\n",
              "      <td>Weapons</td>\n",
              "      <td>Violent</td>\n",
              "    </tr>\n",
              "    <tr>\n",
              "      <th>1</th>\n",
              "      <td>Probation</td>\n",
              "      <td>Non_Violent</td>\n",
              "    </tr>\n",
              "    <tr>\n",
              "      <th>2</th>\n",
              "      <td>Attempt</td>\n",
              "      <td>Non_Violent</td>\n",
              "    </tr>\n",
              "    <tr>\n",
              "      <th>3</th>\n",
              "      <td>Order</td>\n",
              "      <td>Non_Violent</td>\n",
              "    </tr>\n",
              "    <tr>\n",
              "      <th>4</th>\n",
              "      <td>Person</td>\n",
              "      <td>Violent</td>\n",
              "    </tr>\n",
              "  </tbody>\n",
              "</table>\n",
              "</div>"
            ],
            "text/plain": [
              "  offense_cat violence_status\n",
              "0     Weapons         Violent\n",
              "1   Probation     Non_Violent\n",
              "2     Attempt     Non_Violent\n",
              "3       Order     Non_Violent\n",
              "4      Person         Violent"
            ]
          },
          "metadata": {
            "tags": []
          },
          "execution_count": 42
        }
      ]
    },
    {
      "cell_type": "code",
      "metadata": {
        "colab": {
          "base_uri": "https://localhost:8080/"
        },
        "id": "8jE7Yy7_g-o1",
        "outputId": "e4ed8112-836a-4eca-853d-4aa1284b8650"
      },
      "source": [
        "# The pretty print library allows you to print text with line breaks and indents\n",
        "# instead of one long line\n",
        "import pprint as pp\n",
        "\n",
        "# Created a dictionary out of the two violent status df columns\n",
        "OT_dict2 = dict(zip(df_3.offense_cat, df_3.violence_status))\n",
        "pp.pprint(OT_dict2)"
      ],
      "execution_count": 43,
      "outputs": [
        {
          "output_type": "stream",
          "text": [
            "{'Attempt': 'Non_Violent',\n",
            " 'Drugs': 'Non_Violent',\n",
            " 'Juvenile': 'ND',\n",
            " 'ND': 'ND',\n",
            " 'Order': 'Non_Violent',\n",
            " 'Person': 'Violent',\n",
            " 'Probation': 'Non_Violent',\n",
            " 'Property': 'Non_Violent',\n",
            " 'Weapons': 'Violent'}\n"
          ],
          "name": "stdout"
        }
      ]
    },
    {
      "cell_type": "code",
      "metadata": {
        "id": "rTMwxdOdhGa3"
      },
      "source": [
        "# Created a new column called 'violence_status' based on dictionary that maps the appropriate category value\n",
        "# based on the key in the dictionary\n",
        "# key/value combinations did not have to be unique as long as the key was unique\n",
        "\n",
        "df['violence_status'] = df['offense_cat'].map(OT_dict2)"
      ],
      "execution_count": 44,
      "outputs": []
    },
    {
      "cell_type": "code",
      "metadata": {
        "colab": {
          "base_uri": "https://localhost:8080/",
          "height": 289
        },
        "id": "5lMAZkCohqIl",
        "outputId": "926d77e0-f8fe-481a-8f1f-51d4732975cb"
      },
      "source": [
        "df.head()"
      ],
      "execution_count": 45,
      "outputs": [
        {
          "output_type": "execute_result",
          "data": {
            "text/html": [
              "<div>\n",
              "<style scoped>\n",
              "    .dataframe tbody tr th:only-of-type {\n",
              "        vertical-align: middle;\n",
              "    }\n",
              "\n",
              "    .dataframe tbody tr th {\n",
              "        vertical-align: top;\n",
              "    }\n",
              "\n",
              "    .dataframe thead th {\n",
              "        text-align: right;\n",
              "    }\n",
              "</style>\n",
              "<table border=\"1\" class=\"dataframe\">\n",
              "  <thead>\n",
              "    <tr style=\"text-align: right;\">\n",
              "      <th></th>\n",
              "      <th>Date</th>\n",
              "      <th>RACE</th>\n",
              "      <th>GENDER</th>\n",
              "      <th>AGE</th>\n",
              "      <th>Bond</th>\n",
              "      <th>OFFENSE</th>\n",
              "      <th>Year</th>\n",
              "      <th>offense_cat</th>\n",
              "      <th>violence_status</th>\n",
              "    </tr>\n",
              "  </thead>\n",
              "  <tbody>\n",
              "    <tr>\n",
              "      <th>0</th>\n",
              "      <td>2018-08-16</td>\n",
              "      <td>BLACK</td>\n",
              "      <td>M</td>\n",
              "      <td>27</td>\n",
              "      <td>150000</td>\n",
              "      <td>CRIMINAL POSS OF PISTOL/REVOLVER      DF</td>\n",
              "      <td>2018</td>\n",
              "      <td>Weapons</td>\n",
              "      <td>Violent</td>\n",
              "    </tr>\n",
              "    <tr>\n",
              "      <th>1</th>\n",
              "      <td>2019-03-28</td>\n",
              "      <td>HISPANIC</td>\n",
              "      <td>M</td>\n",
              "      <td>41</td>\n",
              "      <td>30100</td>\n",
              "      <td>VIOLATION OF PROBATION OR COND DISCHG</td>\n",
              "      <td>2019</td>\n",
              "      <td>Probation</td>\n",
              "      <td>Non_Violent</td>\n",
              "    </tr>\n",
              "    <tr>\n",
              "      <th>2</th>\n",
              "      <td>2020-04-03</td>\n",
              "      <td>HISPANIC</td>\n",
              "      <td>M</td>\n",
              "      <td>21</td>\n",
              "      <td>150000</td>\n",
              "      <td>CRIMINAL ATTEMPT</td>\n",
              "      <td>2020</td>\n",
              "      <td>Attempt</td>\n",
              "      <td>Non_Violent</td>\n",
              "    </tr>\n",
              "    <tr>\n",
              "      <th>3</th>\n",
              "      <td>2020-01-15</td>\n",
              "      <td>WHITE</td>\n",
              "      <td>M</td>\n",
              "      <td>36</td>\n",
              "      <td>50500</td>\n",
              "      <td>CRIM VIOL OF PROTECTIVE ORDER         DF</td>\n",
              "      <td>2020</td>\n",
              "      <td>Order</td>\n",
              "      <td>Non_Violent</td>\n",
              "    </tr>\n",
              "    <tr>\n",
              "      <th>4</th>\n",
              "      <td>2018-12-26</td>\n",
              "      <td>HISPANIC</td>\n",
              "      <td>M</td>\n",
              "      <td>29</td>\n",
              "      <td>100000</td>\n",
              "      <td>CRIMINAL ATTEMPT</td>\n",
              "      <td>2018</td>\n",
              "      <td>Attempt</td>\n",
              "      <td>Non_Violent</td>\n",
              "    </tr>\n",
              "  </tbody>\n",
              "</table>\n",
              "</div>"
            ],
            "text/plain": [
              "        Date      RACE GENDER  ...  Year  offense_cat violence_status\n",
              "0 2018-08-16     BLACK      M  ...  2018      Weapons         Violent\n",
              "1 2019-03-28  HISPANIC      M  ...  2019    Probation     Non_Violent\n",
              "2 2020-04-03  HISPANIC      M  ...  2020      Attempt     Non_Violent\n",
              "3 2020-01-15     WHITE      M  ...  2020        Order     Non_Violent\n",
              "4 2018-12-26  HISPANIC      M  ...  2018      Attempt     Non_Violent\n",
              "\n",
              "[5 rows x 9 columns]"
            ]
          },
          "metadata": {
            "tags": []
          },
          "execution_count": 45
        }
      ]
    },
    {
      "cell_type": "markdown",
      "metadata": {
        "id": "UImnUvuHgyzz"
      },
      "source": [
        "## **Comparing Bond Amounts Between Groups**"
      ]
    },
    {
      "cell_type": "markdown",
      "metadata": {
        "id": "SG7-sVsSg-XJ"
      },
      "source": [
        "Our team is interested in exploring the relationship between the following:\n",
        "- Mean bond amounts for any age in each of the Race groups. \n",
        "-  Race of individuals and bond amounts\n",
        "-  Gender and bond amounts\n",
        "- Violent/non-violent crimes and bond amounts\n",
        "\n",
        "In the following 7 chunks of code we synthesize the data in order to obtain the mean bond amounts at the age, and gender levels, for each of the 5 Race groups in the data set.  "
      ]
    },
    {
      "cell_type": "code",
      "metadata": {
        "id": "oNES4BtOgr9k"
      },
      "source": [
        "#FEMALES bail data subset\n",
        "bail_Females = df[df.GENDER == 'F']"
      ],
      "execution_count": 46,
      "outputs": []
    },
    {
      "cell_type": "code",
      "metadata": {
        "id": "raUo0i4cgsKv"
      },
      "source": [
        "#FEMALE data subset by RACE\n",
        "F_AMER_IND = bail_Females[bail_Females.RACE == 'AMER IND']\n",
        "F_ASIAN = bail_Females[bail_Females.RACE == 'ASIAN']\n",
        "F_BLACK = bail_Females[bail_Females.RACE == 'BLACK']\n",
        "F_HISPANIC = bail_Females[bail_Females.RACE == 'HISPANIC']\n",
        "F_WHITE = bail_Females[bail_Females.RACE == 'WHITE']"
      ],
      "execution_count": 47,
      "outputs": []
    },
    {
      "cell_type": "code",
      "metadata": {
        "id": "X_hzdr05gsUT"
      },
      "source": [
        "#FEMALE bond mean amoounts by age\n",
        "F_AI_Mean = F_AMER_IND.groupby(['AGE','RACE','GENDER'], as_index=False).mean()\n",
        "F_AS_Mean = F_ASIAN.groupby(['AGE','RACE','GENDER'], as_index=False).mean()\n",
        "F_BL_Mean = F_BLACK.groupby(['AGE','RACE','GENDER'], as_index=False).mean()\n",
        "F_HI_Mean = F_HISPANIC.groupby(['AGE','RACE','GENDER'], as_index=False).mean()\n",
        "F_WH_Mean = F_WHITE.groupby(['AGE','RACE','GENDER'], as_index=False).mean()"
      ],
      "execution_count": 48,
      "outputs": []
    },
    {
      "cell_type": "code",
      "metadata": {
        "id": "8ETkM6QwgsaY"
      },
      "source": [
        "#MALES bail data subset\n",
        "bail_Males = df[df.GENDER == 'M']"
      ],
      "execution_count": 49,
      "outputs": []
    },
    {
      "cell_type": "code",
      "metadata": {
        "id": "6SVDcDkygsjp"
      },
      "source": [
        "#MALE data subset by RACE\n",
        "M_AMER_IND = bail_Males[bail_Males.RACE == 'AMER IND']\n",
        "M_ASIAN = bail_Males[bail_Males.RACE == 'ASIAN']\n",
        "M_BLACK = bail_Males[bail_Males.RACE == 'BLACK']\n",
        "M_HISPANIC = bail_Males[bail_Males.RACE == 'HISPANIC']\n",
        "M_WHITE = bail_Males[bail_Males.RACE == 'WHITE']"
      ],
      "execution_count": 50,
      "outputs": []
    },
    {
      "cell_type": "code",
      "metadata": {
        "id": "1rF2fFG3gstB"
      },
      "source": [
        "#MALE bond mean amoounts by age\n",
        "M_AI_Mean = M_AMER_IND.groupby(['AGE','RACE','GENDER'], as_index=False).mean()\n",
        "M_AS_Mean = M_ASIAN.groupby(['AGE','RACE','GENDER'], as_index=False).mean()\n",
        "M_BL_Mean = M_BLACK.groupby(['AGE','RACE','GENDER'], as_index=False).mean()\n",
        "M_HI_Mean = M_HISPANIC.groupby(['AGE','RACE','GENDER'], as_index=False).mean()\n",
        "M_WH_Mean = M_WHITE.groupby(['AGE','RACE','GENDER'], as_index=False).mean()"
      ],
      "execution_count": 51,
      "outputs": []
    },
    {
      "cell_type": "code",
      "metadata": {
        "id": "FMLUqJRfgs23"
      },
      "source": [
        "#JOINED \"mean\" data frames by gender\n",
        "F_mean_frames = F_AI_Mean.append([F_AS_Mean, F_BL_Mean, F_HI_Mean, F_WH_Mean])\n",
        "M_mean_frames = M_AI_Mean.append([M_AS_Mean, M_BL_Mean, M_HI_Mean, M_WH_Mean])"
      ],
      "execution_count": 52,
      "outputs": []
    },
    {
      "cell_type": "markdown",
      "metadata": {
        "id": "WbJEMFs_hlOA"
      },
      "source": [
        "**Mean Bond Amount vs Age, for each of the 5 Race groups, broken down by gender**\n",
        "\n",
        "As depicted by the scatter plots below, and the regression line.  In all cases there seems to be correlation between mean bond amounts and the age of the individuals.  \n",
        "\n",
        "For all, but two of the cases - American Indian females, and White males, the correlation between the mean bond amount and age appears to be negative/inverse.  That is to say that as one variable (i.e age) increases, the other variable decreases (i.e. bond amount). For White males, however, the correlation is positive, as the bond amounts increase with age.\n",
        "\n",
        "In our analysis, American Indians appear to have no offenses after the age of 60.  It is our suspicion, that this perhaps can be due to their shorter life expectancy in comparison to other races. \n",
        "\n",
        "The graphs below also validate our previous calculation of the median/mean age by race and bond amounts.  It clearly illustrates that for Asian, Black, and Hispanic races the highest bond amounts appear to be for individuals in their early 30s, as opposed to bond amounts for White males, which highest bond amounts appear to be for individuals in their late 30s - early 40s. \n",
        "\n",
        "After looking at covariance, we could validate the existance of inverse/positive relationships between the bond amounts and the age of the different race groups, as seen in the graphs. While this is easily apparent to the eye, our team wanted to examine the stregth of such relationship for each of the Race groups. After looking at the correlation coefficient for each of the groups we were able to uncover that there is a very strong negative relationship between age and bond amounts for Black males of 87.1%.\n",
        "\n"
      ]
    },
    {
      "cell_type": "code",
      "metadata": {
        "id": "VWfckfKXgtAF",
        "colab": {
          "base_uri": "https://localhost:8080/",
          "height": 355
        },
        "outputId": "b3814d83-f9ac-4ac9-8d45-2ecba92edc74"
      },
      "source": [
        "#FEMALE BOND AMOUNTS vs AGE with regression line &\n",
        "#MALE BOND AMOUNTS vs AGE with regression line\n",
        "import seaborn as sns\n",
        "sns.lmplot(x='AGE',y='Bond', \n",
        "           data=F_mean_frames, col='RACE')\n",
        "plt.show()\n",
        "\n",
        "sns.lmplot(x='AGE',y='Bond', \n",
        "           data=M_mean_frames, col='RACE')\n",
        "plt.show()"
      ],
      "execution_count": 55,
      "outputs": [
        {
          "output_type": "display_data",
          "data": {
            "image/png": "[encoded data removed]",
            "text/plain": [
              "<Figure size 1800x360 with 5 Axes>"
            ]
          },
          "metadata": {
            "tags": [],
            "needs_background": "light"
          }
        },
        {
          "output_type": "display_data",
          "data": {
            "image/png": "[encoded data removed]",
            "text/plain": [
              "<Figure size 1800x360 with 5 Axes>"
            ]
          },
          "metadata": {
            "tags": [],
            "needs_background": "light"
          }
        }
      ]
    },
    {
      "cell_type": "code",
      "metadata": {
        "id": "t9nDP81fgtKF",
        "colab": {
          "base_uri": "https://localhost:8080/",
          "height": 142
        },
        "outputId": "1b077bce-339b-434a-a885-014c4e177d57"
      },
      "source": [
        "#Covariance between age and bond amounts for American Indian Females\n",
        "F_AI_Mean.cov()"
      ],
      "execution_count": 56,
      "outputs": [
        {
          "output_type": "execute_result",
          "data": {
            "text/html": [
              "<div>\n",
              "<style scoped>\n",
              "    .dataframe tbody tr th:only-of-type {\n",
              "        vertical-align: middle;\n",
              "    }\n",
              "\n",
              "    .dataframe tbody tr th {\n",
              "        vertical-align: top;\n",
              "    }\n",
              "\n",
              "    .dataframe thead th {\n",
              "        text-align: right;\n",
              "    }\n",
              "</style>\n",
              "<table border=\"1\" class=\"dataframe\">\n",
              "  <thead>\n",
              "    <tr style=\"text-align: right;\">\n",
              "      <th></th>\n",
              "      <th>AGE</th>\n",
              "      <th>Bond</th>\n",
              "      <th>Year</th>\n",
              "    </tr>\n",
              "  </thead>\n",
              "  <tbody>\n",
              "    <tr>\n",
              "      <th>AGE</th>\n",
              "      <td>88.000000</td>\n",
              "      <td>5.075401e+03</td>\n",
              "      <td>0.635930</td>\n",
              "    </tr>\n",
              "    <tr>\n",
              "      <th>Bond</th>\n",
              "      <td>5075.400781</td>\n",
              "      <td>4.043003e+09</td>\n",
              "      <td>19567.611150</td>\n",
              "    </tr>\n",
              "    <tr>\n",
              "      <th>Year</th>\n",
              "      <td>0.635930</td>\n",
              "      <td>1.956761e+04</td>\n",
              "      <td>2.378249</td>\n",
              "    </tr>\n",
              "  </tbody>\n",
              "</table>\n",
              "</div>"
            ],
            "text/plain": [
              "              AGE          Bond          Year\n",
              "AGE     88.000000  5.075401e+03      0.635930\n",
              "Bond  5075.400781  4.043003e+09  19567.611150\n",
              "Year     0.635930  1.956761e+04      2.378249"
            ]
          },
          "metadata": {
            "tags": []
          },
          "execution_count": 56
        }
      ]
    },
    {
      "cell_type": "code",
      "metadata": {
        "id": "t8hrTAiCgtUm",
        "colab": {
          "base_uri": "https://localhost:8080/",
          "height": 142
        },
        "outputId": "f4e28d59-b90b-41ee-e654-d61bec691f51"
      },
      "source": [
        "#Correlation between age and bond amounts for American Indian Females\n",
        "F_AI_Mean.corr('pearson')"
      ],
      "execution_count": 57,
      "outputs": [
        {
          "output_type": "execute_result",
          "data": {
            "text/html": [
              "<div>\n",
              "<style scoped>\n",
              "    .dataframe tbody tr th:only-of-type {\n",
              "        vertical-align: middle;\n",
              "    }\n",
              "\n",
              "    .dataframe tbody tr th {\n",
              "        vertical-align: top;\n",
              "    }\n",
              "\n",
              "    .dataframe thead th {\n",
              "        text-align: right;\n",
              "    }\n",
              "</style>\n",
              "<table border=\"1\" class=\"dataframe\">\n",
              "  <thead>\n",
              "    <tr style=\"text-align: right;\">\n",
              "      <th></th>\n",
              "      <th>AGE</th>\n",
              "      <th>Bond</th>\n",
              "      <th>Year</th>\n",
              "    </tr>\n",
              "  </thead>\n",
              "  <tbody>\n",
              "    <tr>\n",
              "      <th>AGE</th>\n",
              "      <td>1.000000</td>\n",
              "      <td>0.008509</td>\n",
              "      <td>0.043958</td>\n",
              "    </tr>\n",
              "    <tr>\n",
              "      <th>Bond</th>\n",
              "      <td>0.008509</td>\n",
              "      <td>1.000000</td>\n",
              "      <td>0.199552</td>\n",
              "    </tr>\n",
              "    <tr>\n",
              "      <th>Year</th>\n",
              "      <td>0.043958</td>\n",
              "      <td>0.199552</td>\n",
              "      <td>1.000000</td>\n",
              "    </tr>\n",
              "  </tbody>\n",
              "</table>\n",
              "</div>"
            ],
            "text/plain": [
              "           AGE      Bond      Year\n",
              "AGE   1.000000  0.008509  0.043958\n",
              "Bond  0.008509  1.000000  0.199552\n",
              "Year  0.043958  0.199552  1.000000"
            ]
          },
          "metadata": {
            "tags": []
          },
          "execution_count": 57
        }
      ]
    },
    {
      "cell_type": "code",
      "metadata": {
        "id": "w9hWeunwgtfx",
        "colab": {
          "base_uri": "https://localhost:8080/",
          "height": 142
        },
        "outputId": "e5b00da7-3094-4ff6-82f0-b5484e75b659"
      },
      "source": [
        "#Covariance between age and bond amounts for Asian Females\n",
        "F_AS_Mean.cov()"
      ],
      "execution_count": 58,
      "outputs": [
        {
          "output_type": "execute_result",
          "data": {
            "text/html": [
              "<div>\n",
              "<style scoped>\n",
              "    .dataframe tbody tr th:only-of-type {\n",
              "        vertical-align: middle;\n",
              "    }\n",
              "\n",
              "    .dataframe tbody tr th {\n",
              "        vertical-align: top;\n",
              "    }\n",
              "\n",
              "    .dataframe thead th {\n",
              "        text-align: right;\n",
              "    }\n",
              "</style>\n",
              "<table border=\"1\" class=\"dataframe\">\n",
              "  <thead>\n",
              "    <tr style=\"text-align: right;\">\n",
              "      <th></th>\n",
              "      <th>AGE</th>\n",
              "      <th>Bond</th>\n",
              "      <th>Year</th>\n",
              "    </tr>\n",
              "  </thead>\n",
              "  <tbody>\n",
              "    <tr>\n",
              "      <th>AGE</th>\n",
              "      <td>175.085586</td>\n",
              "      <td>-2.344931e+05</td>\n",
              "      <td>2.149990</td>\n",
              "    </tr>\n",
              "    <tr>\n",
              "      <th>Bond</th>\n",
              "      <td>-234493.067518</td>\n",
              "      <td>4.744560e+09</td>\n",
              "      <td>10749.481765</td>\n",
              "    </tr>\n",
              "    <tr>\n",
              "      <th>Year</th>\n",
              "      <td>2.149990</td>\n",
              "      <td>1.074948e+04</td>\n",
              "      <td>0.971195</td>\n",
              "    </tr>\n",
              "  </tbody>\n",
              "</table>\n",
              "</div>"
            ],
            "text/plain": [
              "                AGE          Bond          Year\n",
              "AGE      175.085586 -2.344931e+05      2.149990\n",
              "Bond -234493.067518  4.744560e+09  10749.481765\n",
              "Year       2.149990  1.074948e+04      0.971195"
            ]
          },
          "metadata": {
            "tags": []
          },
          "execution_count": 58
        }
      ]
    },
    {
      "cell_type": "code",
      "metadata": {
        "id": "imoe0JjggtqL",
        "colab": {
          "base_uri": "https://localhost:8080/",
          "height": 142
        },
        "outputId": "3f644ee2-96d1-473a-abb3-fab364f5c1f3"
      },
      "source": [
        "#Correlation between age and bond amounts for Asian Females\n",
        "F_AS_Mean.corr('pearson')"
      ],
      "execution_count": 59,
      "outputs": [
        {
          "output_type": "execute_result",
          "data": {
            "text/html": [
              "<div>\n",
              "<style scoped>\n",
              "    .dataframe tbody tr th:only-of-type {\n",
              "        vertical-align: middle;\n",
              "    }\n",
              "\n",
              "    .dataframe tbody tr th {\n",
              "        vertical-align: top;\n",
              "    }\n",
              "\n",
              "    .dataframe thead th {\n",
              "        text-align: right;\n",
              "    }\n",
              "</style>\n",
              "<table border=\"1\" class=\"dataframe\">\n",
              "  <thead>\n",
              "    <tr style=\"text-align: right;\">\n",
              "      <th></th>\n",
              "      <th>AGE</th>\n",
              "      <th>Bond</th>\n",
              "      <th>Year</th>\n",
              "    </tr>\n",
              "  </thead>\n",
              "  <tbody>\n",
              "    <tr>\n",
              "      <th>AGE</th>\n",
              "      <td>1.000000</td>\n",
              "      <td>-0.257280</td>\n",
              "      <td>0.164876</td>\n",
              "    </tr>\n",
              "    <tr>\n",
              "      <th>Bond</th>\n",
              "      <td>-0.257280</td>\n",
              "      <td>1.000000</td>\n",
              "      <td>0.158357</td>\n",
              "    </tr>\n",
              "    <tr>\n",
              "      <th>Year</th>\n",
              "      <td>0.164876</td>\n",
              "      <td>0.158357</td>\n",
              "      <td>1.000000</td>\n",
              "    </tr>\n",
              "  </tbody>\n",
              "</table>\n",
              "</div>"
            ],
            "text/plain": [
              "           AGE      Bond      Year\n",
              "AGE   1.000000 -0.257280  0.164876\n",
              "Bond -0.257280  1.000000  0.158357\n",
              "Year  0.164876  0.158357  1.000000"
            ]
          },
          "metadata": {
            "tags": []
          },
          "execution_count": 59
        }
      ]
    },
    {
      "cell_type": "code",
      "metadata": {
        "id": "BfiBSgXEgt1C",
        "colab": {
          "base_uri": "https://localhost:8080/",
          "height": 142
        },
        "outputId": "55ae7d98-7e5d-4b7e-f8fa-42f157874ce6"
      },
      "source": [
        "#Covariance between age and bond amounts for Black Females\n",
        "F_BL_Mean.cov()"
      ],
      "execution_count": 60,
      "outputs": [
        {
          "output_type": "execute_result",
          "data": {
            "text/html": [
              "<div>\n",
              "<style scoped>\n",
              "    .dataframe tbody tr th:only-of-type {\n",
              "        vertical-align: middle;\n",
              "    }\n",
              "\n",
              "    .dataframe tbody tr th {\n",
              "        vertical-align: top;\n",
              "    }\n",
              "\n",
              "    .dataframe thead th {\n",
              "        text-align: right;\n",
              "    }\n",
              "</style>\n",
              "<table border=\"1\" class=\"dataframe\">\n",
              "  <thead>\n",
              "    <tr style=\"text-align: right;\">\n",
              "      <th></th>\n",
              "      <th>AGE</th>\n",
              "      <th>Bond</th>\n",
              "      <th>Year</th>\n",
              "    </tr>\n",
              "  </thead>\n",
              "  <tbody>\n",
              "    <tr>\n",
              "      <th>AGE</th>\n",
              "      <td>252.534833</td>\n",
              "      <td>-4.444437e+05</td>\n",
              "      <td>2.782806</td>\n",
              "    </tr>\n",
              "    <tr>\n",
              "      <th>Bond</th>\n",
              "      <td>-444443.744806</td>\n",
              "      <td>2.822617e+10</td>\n",
              "      <td>41507.147050</td>\n",
              "    </tr>\n",
              "    <tr>\n",
              "      <th>Year</th>\n",
              "      <td>2.782806</td>\n",
              "      <td>4.150715e+04</td>\n",
              "      <td>0.462243</td>\n",
              "    </tr>\n",
              "  </tbody>\n",
              "</table>\n",
              "</div>"
            ],
            "text/plain": [
              "                AGE          Bond          Year\n",
              "AGE      252.534833 -4.444437e+05      2.782806\n",
              "Bond -444443.744806  2.822617e+10  41507.147050\n",
              "Year       2.782806  4.150715e+04      0.462243"
            ]
          },
          "metadata": {
            "tags": []
          },
          "execution_count": 60
        }
      ]
    },
    {
      "cell_type": "code",
      "metadata": {
        "id": "8__7Ladpgt_x",
        "colab": {
          "base_uri": "https://localhost:8080/",
          "height": 142
        },
        "outputId": "d63b292c-f3bf-49ca-f5f0-9cc076c642dc"
      },
      "source": [
        "#Correlation between age and bond amounts for Black Females\n",
        "F_BL_Mean.corr('pearson')"
      ],
      "execution_count": 61,
      "outputs": [
        {
          "output_type": "execute_result",
          "data": {
            "text/html": [
              "<div>\n",
              "<style scoped>\n",
              "    .dataframe tbody tr th:only-of-type {\n",
              "        vertical-align: middle;\n",
              "    }\n",
              "\n",
              "    .dataframe tbody tr th {\n",
              "        vertical-align: top;\n",
              "    }\n",
              "\n",
              "    .dataframe thead th {\n",
              "        text-align: right;\n",
              "    }\n",
              "</style>\n",
              "<table border=\"1\" class=\"dataframe\">\n",
              "  <thead>\n",
              "    <tr style=\"text-align: right;\">\n",
              "      <th></th>\n",
              "      <th>AGE</th>\n",
              "      <th>Bond</th>\n",
              "      <th>Year</th>\n",
              "    </tr>\n",
              "  </thead>\n",
              "  <tbody>\n",
              "    <tr>\n",
              "      <th>AGE</th>\n",
              "      <td>1.000000</td>\n",
              "      <td>-0.166468</td>\n",
              "      <td>0.257565</td>\n",
              "    </tr>\n",
              "    <tr>\n",
              "      <th>Bond</th>\n",
              "      <td>-0.166468</td>\n",
              "      <td>1.000000</td>\n",
              "      <td>0.363380</td>\n",
              "    </tr>\n",
              "    <tr>\n",
              "      <th>Year</th>\n",
              "      <td>0.257565</td>\n",
              "      <td>0.363380</td>\n",
              "      <td>1.000000</td>\n",
              "    </tr>\n",
              "  </tbody>\n",
              "</table>\n",
              "</div>"
            ],
            "text/plain": [
              "           AGE      Bond      Year\n",
              "AGE   1.000000 -0.166468  0.257565\n",
              "Bond -0.166468  1.000000  0.363380\n",
              "Year  0.257565  0.363380  1.000000"
            ]
          },
          "metadata": {
            "tags": []
          },
          "execution_count": 61
        }
      ]
    },
    {
      "cell_type": "code",
      "metadata": {
        "id": "O1mWJTHpguK9",
        "colab": {
          "base_uri": "https://localhost:8080/",
          "height": 142
        },
        "outputId": "98dfb9b8-c451-40f1-9f18-e0ba5470ed4a"
      },
      "source": [
        "#Covariance between age and bond amounts for Hispanic Females\n",
        "F_HI_Mean.cov()"
      ],
      "execution_count": 62,
      "outputs": [
        {
          "output_type": "execute_result",
          "data": {
            "text/html": [
              "<div>\n",
              "<style scoped>\n",
              "    .dataframe tbody tr th:only-of-type {\n",
              "        vertical-align: middle;\n",
              "    }\n",
              "\n",
              "    .dataframe tbody tr th {\n",
              "        vertical-align: top;\n",
              "    }\n",
              "\n",
              "    .dataframe thead th {\n",
              "        text-align: right;\n",
              "    }\n",
              "</style>\n",
              "<table border=\"1\" class=\"dataframe\">\n",
              "  <thead>\n",
              "    <tr style=\"text-align: right;\">\n",
              "      <th></th>\n",
              "      <th>AGE</th>\n",
              "      <th>Bond</th>\n",
              "      <th>Year</th>\n",
              "    </tr>\n",
              "  </thead>\n",
              "  <tbody>\n",
              "    <tr>\n",
              "      <th>AGE</th>\n",
              "      <td>221.000000</td>\n",
              "      <td>-3.220174e+05</td>\n",
              "      <td>4.054984</td>\n",
              "    </tr>\n",
              "    <tr>\n",
              "      <th>Bond</th>\n",
              "      <td>-322017.405889</td>\n",
              "      <td>1.733117e+10</td>\n",
              "      <td>5153.159839</td>\n",
              "    </tr>\n",
              "    <tr>\n",
              "      <th>Year</th>\n",
              "      <td>4.054984</td>\n",
              "      <td>5.153160e+03</td>\n",
              "      <td>0.302869</td>\n",
              "    </tr>\n",
              "  </tbody>\n",
              "</table>\n",
              "</div>"
            ],
            "text/plain": [
              "                AGE          Bond         Year\n",
              "AGE      221.000000 -3.220174e+05     4.054984\n",
              "Bond -322017.405889  1.733117e+10  5153.159839\n",
              "Year       4.054984  5.153160e+03     0.302869"
            ]
          },
          "metadata": {
            "tags": []
          },
          "execution_count": 62
        }
      ]
    },
    {
      "cell_type": "code",
      "metadata": {
        "id": "QxtqIZuEguVt",
        "colab": {
          "base_uri": "https://localhost:8080/",
          "height": 142
        },
        "outputId": "73305ed4-f900-4535-f828-8ca801a1baa3"
      },
      "source": [
        "#Correlation between age and bond amounts for Hispanic Females\n",
        "F_HI_Mean.corr('pearson')"
      ],
      "execution_count": 63,
      "outputs": [
        {
          "output_type": "execute_result",
          "data": {
            "text/html": [
              "<div>\n",
              "<style scoped>\n",
              "    .dataframe tbody tr th:only-of-type {\n",
              "        vertical-align: middle;\n",
              "    }\n",
              "\n",
              "    .dataframe tbody tr th {\n",
              "        vertical-align: top;\n",
              "    }\n",
              "\n",
              "    .dataframe thead th {\n",
              "        text-align: right;\n",
              "    }\n",
              "</style>\n",
              "<table border=\"1\" class=\"dataframe\">\n",
              "  <thead>\n",
              "    <tr style=\"text-align: right;\">\n",
              "      <th></th>\n",
              "      <th>AGE</th>\n",
              "      <th>Bond</th>\n",
              "      <th>Year</th>\n",
              "    </tr>\n",
              "  </thead>\n",
              "  <tbody>\n",
              "    <tr>\n",
              "      <th>AGE</th>\n",
              "      <td>1.000000</td>\n",
              "      <td>-0.164539</td>\n",
              "      <td>0.495639</td>\n",
              "    </tr>\n",
              "    <tr>\n",
              "      <th>Bond</th>\n",
              "      <td>-0.164539</td>\n",
              "      <td>1.000000</td>\n",
              "      <td>0.071127</td>\n",
              "    </tr>\n",
              "    <tr>\n",
              "      <th>Year</th>\n",
              "      <td>0.495639</td>\n",
              "      <td>0.071127</td>\n",
              "      <td>1.000000</td>\n",
              "    </tr>\n",
              "  </tbody>\n",
              "</table>\n",
              "</div>"
            ],
            "text/plain": [
              "           AGE      Bond      Year\n",
              "AGE   1.000000 -0.164539  0.495639\n",
              "Bond -0.164539  1.000000  0.071127\n",
              "Year  0.495639  0.071127  1.000000"
            ]
          },
          "metadata": {
            "tags": []
          },
          "execution_count": 63
        }
      ]
    },
    {
      "cell_type": "code",
      "metadata": {
        "id": "LHzzU7fAguge",
        "colab": {
          "base_uri": "https://localhost:8080/",
          "height": 142
        },
        "outputId": "0be29319-bc39-45fe-e89b-d150a3e9501f"
      },
      "source": [
        "#Covariance between age and bond amounts for White Females\n",
        "F_WH_Mean.cov()"
      ],
      "execution_count": 64,
      "outputs": [
        {
          "output_type": "execute_result",
          "data": {
            "text/html": [
              "<div>\n",
              "<style scoped>\n",
              "    .dataframe tbody tr th:only-of-type {\n",
              "        vertical-align: middle;\n",
              "    }\n",
              "\n",
              "    .dataframe tbody tr th {\n",
              "        vertical-align: top;\n",
              "    }\n",
              "\n",
              "    .dataframe thead th {\n",
              "        text-align: right;\n",
              "    }\n",
              "</style>\n",
              "<table border=\"1\" class=\"dataframe\">\n",
              "  <thead>\n",
              "    <tr style=\"text-align: right;\">\n",
              "      <th></th>\n",
              "      <th>AGE</th>\n",
              "      <th>Bond</th>\n",
              "      <th>Year</th>\n",
              "    </tr>\n",
              "  </thead>\n",
              "  <tbody>\n",
              "    <tr>\n",
              "      <th>AGE</th>\n",
              "      <td>304.028054</td>\n",
              "      <td>-5.986842e+05</td>\n",
              "      <td>0.235866</td>\n",
              "    </tr>\n",
              "    <tr>\n",
              "      <th>Bond</th>\n",
              "      <td>-598684.193619</td>\n",
              "      <td>7.418801e+09</td>\n",
              "      <td>-7862.456806</td>\n",
              "    </tr>\n",
              "    <tr>\n",
              "      <th>Year</th>\n",
              "      <td>0.235866</td>\n",
              "      <td>-7.862457e+03</td>\n",
              "      <td>0.495244</td>\n",
              "    </tr>\n",
              "  </tbody>\n",
              "</table>\n",
              "</div>"
            ],
            "text/plain": [
              "                AGE          Bond         Year\n",
              "AGE      304.028054 -5.986842e+05     0.235866\n",
              "Bond -598684.193619  7.418801e+09 -7862.456806\n",
              "Year       0.235866 -7.862457e+03     0.495244"
            ]
          },
          "metadata": {
            "tags": []
          },
          "execution_count": 64
        }
      ]
    },
    {
      "cell_type": "code",
      "metadata": {
        "id": "mNQL_Ltyguru",
        "colab": {
          "base_uri": "https://localhost:8080/",
          "height": 142
        },
        "outputId": "8d6aaab5-71ca-4372-d8cd-f185b77e264a"
      },
      "source": [
        "#Correlation between age and bond amounts for White Females\n",
        "F_WH_Mean.corr('pearson')"
      ],
      "execution_count": 65,
      "outputs": [
        {
          "output_type": "execute_result",
          "data": {
            "text/html": [
              "<div>\n",
              "<style scoped>\n",
              "    .dataframe tbody tr th:only-of-type {\n",
              "        vertical-align: middle;\n",
              "    }\n",
              "\n",
              "    .dataframe tbody tr th {\n",
              "        vertical-align: top;\n",
              "    }\n",
              "\n",
              "    .dataframe thead th {\n",
              "        text-align: right;\n",
              "    }\n",
              "</style>\n",
              "<table border=\"1\" class=\"dataframe\">\n",
              "  <thead>\n",
              "    <tr style=\"text-align: right;\">\n",
              "      <th></th>\n",
              "      <th>AGE</th>\n",
              "      <th>Bond</th>\n",
              "      <th>Year</th>\n",
              "    </tr>\n",
              "  </thead>\n",
              "  <tbody>\n",
              "    <tr>\n",
              "      <th>AGE</th>\n",
              "      <td>1.000000</td>\n",
              "      <td>-0.398634</td>\n",
              "      <td>0.019222</td>\n",
              "    </tr>\n",
              "    <tr>\n",
              "      <th>Bond</th>\n",
              "      <td>-0.398634</td>\n",
              "      <td>1.000000</td>\n",
              "      <td>-0.129713</td>\n",
              "    </tr>\n",
              "    <tr>\n",
              "      <th>Year</th>\n",
              "      <td>0.019222</td>\n",
              "      <td>-0.129713</td>\n",
              "      <td>1.000000</td>\n",
              "    </tr>\n",
              "  </tbody>\n",
              "</table>\n",
              "</div>"
            ],
            "text/plain": [
              "           AGE      Bond      Year\n",
              "AGE   1.000000 -0.398634  0.019222\n",
              "Bond -0.398634  1.000000 -0.129713\n",
              "Year  0.019222 -0.129713  1.000000"
            ]
          },
          "metadata": {
            "tags": []
          },
          "execution_count": 65
        }
      ]
    },
    {
      "cell_type": "code",
      "metadata": {
        "id": "NAfM_aPogu2m",
        "colab": {
          "base_uri": "https://localhost:8080/",
          "height": 142
        },
        "outputId": "8849978a-43da-4f61-a968-3dd8c1423e22"
      },
      "source": [
        "#Covariance between age and bond amounts for American Indian Males\n",
        "M_AI_Mean.cov()"
      ],
      "execution_count": 66,
      "outputs": [
        {
          "output_type": "execute_result",
          "data": {
            "text/html": [
              "<div>\n",
              "<style scoped>\n",
              "    .dataframe tbody tr th:only-of-type {\n",
              "        vertical-align: middle;\n",
              "    }\n",
              "\n",
              "    .dataframe tbody tr th {\n",
              "        vertical-align: top;\n",
              "    }\n",
              "\n",
              "    .dataframe thead th {\n",
              "        text-align: right;\n",
              "    }\n",
              "</style>\n",
              "<table border=\"1\" class=\"dataframe\">\n",
              "  <thead>\n",
              "    <tr style=\"text-align: right;\">\n",
              "      <th></th>\n",
              "      <th>AGE</th>\n",
              "      <th>Bond</th>\n",
              "      <th>Year</th>\n",
              "    </tr>\n",
              "  </thead>\n",
              "  <tbody>\n",
              "    <tr>\n",
              "      <th>AGE</th>\n",
              "      <td>162.643902</td>\n",
              "      <td>-1.539443e+05</td>\n",
              "      <td>-0.932955</td>\n",
              "    </tr>\n",
              "    <tr>\n",
              "      <th>Bond</th>\n",
              "      <td>-153944.298322</td>\n",
              "      <td>7.723833e+09</td>\n",
              "      <td>17107.621452</td>\n",
              "    </tr>\n",
              "    <tr>\n",
              "      <th>Year</th>\n",
              "      <td>-0.932955</td>\n",
              "      <td>1.710762e+04</td>\n",
              "      <td>1.982418</td>\n",
              "    </tr>\n",
              "  </tbody>\n",
              "</table>\n",
              "</div>"
            ],
            "text/plain": [
              "                AGE          Bond          Year\n",
              "AGE      162.643902 -1.539443e+05     -0.932955\n",
              "Bond -153944.298322  7.723833e+09  17107.621452\n",
              "Year      -0.932955  1.710762e+04      1.982418"
            ]
          },
          "metadata": {
            "tags": []
          },
          "execution_count": 66
        }
      ]
    },
    {
      "cell_type": "code",
      "metadata": {
        "id": "mkE1_PyCgvBs",
        "colab": {
          "base_uri": "https://localhost:8080/",
          "height": 142
        },
        "outputId": "bfe7293c-ae5b-4a10-a7d8-066d5cef1ef3"
      },
      "source": [
        "#Correlation between age and bond amounts for American Indian Males\n",
        "M_AI_Mean.corr('pearson')"
      ],
      "execution_count": 67,
      "outputs": [
        {
          "output_type": "execute_result",
          "data": {
            "text/html": [
              "<div>\n",
              "<style scoped>\n",
              "    .dataframe tbody tr th:only-of-type {\n",
              "        vertical-align: middle;\n",
              "    }\n",
              "\n",
              "    .dataframe tbody tr th {\n",
              "        vertical-align: top;\n",
              "    }\n",
              "\n",
              "    .dataframe thead th {\n",
              "        text-align: right;\n",
              "    }\n",
              "</style>\n",
              "<table border=\"1\" class=\"dataframe\">\n",
              "  <thead>\n",
              "    <tr style=\"text-align: right;\">\n",
              "      <th></th>\n",
              "      <th>AGE</th>\n",
              "      <th>Bond</th>\n",
              "      <th>Year</th>\n",
              "    </tr>\n",
              "  </thead>\n",
              "  <tbody>\n",
              "    <tr>\n",
              "      <th>AGE</th>\n",
              "      <td>1.000000</td>\n",
              "      <td>-0.137350</td>\n",
              "      <td>-0.051957</td>\n",
              "    </tr>\n",
              "    <tr>\n",
              "      <th>Bond</th>\n",
              "      <td>-0.137350</td>\n",
              "      <td>1.000000</td>\n",
              "      <td>0.138253</td>\n",
              "    </tr>\n",
              "    <tr>\n",
              "      <th>Year</th>\n",
              "      <td>-0.051957</td>\n",
              "      <td>0.138253</td>\n",
              "      <td>1.000000</td>\n",
              "    </tr>\n",
              "  </tbody>\n",
              "</table>\n",
              "</div>"
            ],
            "text/plain": [
              "           AGE      Bond      Year\n",
              "AGE   1.000000 -0.137350 -0.051957\n",
              "Bond -0.137350  1.000000  0.138253\n",
              "Year -0.051957  0.138253  1.000000"
            ]
          },
          "metadata": {
            "tags": []
          },
          "execution_count": 67
        }
      ]
    },
    {
      "cell_type": "code",
      "metadata": {
        "id": "69pkkP9wgvL9",
        "colab": {
          "base_uri": "https://localhost:8080/",
          "height": 142
        },
        "outputId": "127bf5a6-fb27-4961-e19e-9b53b9d95c64"
      },
      "source": [
        "#Covariance between age and bond amounts for Asian Males\n",
        "M_AS_Mean.cov()"
      ],
      "execution_count": 68,
      "outputs": [
        {
          "output_type": "execute_result",
          "data": {
            "text/html": [
              "<div>\n",
              "<style scoped>\n",
              "    .dataframe tbody tr th:only-of-type {\n",
              "        vertical-align: middle;\n",
              "    }\n",
              "\n",
              "    .dataframe tbody tr th {\n",
              "        vertical-align: top;\n",
              "    }\n",
              "\n",
              "    .dataframe thead th {\n",
              "        text-align: right;\n",
              "    }\n",
              "</style>\n",
              "<table border=\"1\" class=\"dataframe\">\n",
              "  <thead>\n",
              "    <tr style=\"text-align: right;\">\n",
              "      <th></th>\n",
              "      <th>AGE</th>\n",
              "      <th>Bond</th>\n",
              "      <th>Year</th>\n",
              "    </tr>\n",
              "  </thead>\n",
              "  <tbody>\n",
              "    <tr>\n",
              "      <th>AGE</th>\n",
              "      <td>249.438316</td>\n",
              "      <td>-9.617335e+05</td>\n",
              "      <td>2.284514</td>\n",
              "    </tr>\n",
              "    <tr>\n",
              "      <th>Bond</th>\n",
              "      <td>-961733.494930</td>\n",
              "      <td>2.815690e+10</td>\n",
              "      <td>-47200.341956</td>\n",
              "    </tr>\n",
              "    <tr>\n",
              "      <th>Year</th>\n",
              "      <td>2.284514</td>\n",
              "      <td>-4.720034e+04</td>\n",
              "      <td>1.781610</td>\n",
              "    </tr>\n",
              "  </tbody>\n",
              "</table>\n",
              "</div>"
            ],
            "text/plain": [
              "                AGE          Bond          Year\n",
              "AGE      249.438316 -9.617335e+05      2.284514\n",
              "Bond -961733.494930  2.815690e+10 -47200.341956\n",
              "Year       2.284514 -4.720034e+04      1.781610"
            ]
          },
          "metadata": {
            "tags": []
          },
          "execution_count": 68
        }
      ]
    },
    {
      "cell_type": "code",
      "metadata": {
        "id": "OHg1YZNFiGfv",
        "colab": {
          "base_uri": "https://localhost:8080/",
          "height": 142
        },
        "outputId": "ab071e9c-a5c2-4163-8d6c-48eb04996f8e"
      },
      "source": [
        "#Correlation between age and bond amounts for Asian Males\n",
        "M_AS_Mean.corr('pearson')"
      ],
      "execution_count": 69,
      "outputs": [
        {
          "output_type": "execute_result",
          "data": {
            "text/html": [
              "<div>\n",
              "<style scoped>\n",
              "    .dataframe tbody tr th:only-of-type {\n",
              "        vertical-align: middle;\n",
              "    }\n",
              "\n",
              "    .dataframe tbody tr th {\n",
              "        vertical-align: top;\n",
              "    }\n",
              "\n",
              "    .dataframe thead th {\n",
              "        text-align: right;\n",
              "    }\n",
              "</style>\n",
              "<table border=\"1\" class=\"dataframe\">\n",
              "  <thead>\n",
              "    <tr style=\"text-align: right;\">\n",
              "      <th></th>\n",
              "      <th>AGE</th>\n",
              "      <th>Bond</th>\n",
              "      <th>Year</th>\n",
              "    </tr>\n",
              "  </thead>\n",
              "  <tbody>\n",
              "    <tr>\n",
              "      <th>AGE</th>\n",
              "      <td>1.000000</td>\n",
              "      <td>-0.362895</td>\n",
              "      <td>0.108369</td>\n",
              "    </tr>\n",
              "    <tr>\n",
              "      <th>Bond</th>\n",
              "      <td>-0.362895</td>\n",
              "      <td>1.000000</td>\n",
              "      <td>-0.210740</td>\n",
              "    </tr>\n",
              "    <tr>\n",
              "      <th>Year</th>\n",
              "      <td>0.108369</td>\n",
              "      <td>-0.210740</td>\n",
              "      <td>1.000000</td>\n",
              "    </tr>\n",
              "  </tbody>\n",
              "</table>\n",
              "</div>"
            ],
            "text/plain": [
              "           AGE      Bond      Year\n",
              "AGE   1.000000 -0.362895  0.108369\n",
              "Bond -0.362895  1.000000 -0.210740\n",
              "Year  0.108369 -0.210740  1.000000"
            ]
          },
          "metadata": {
            "tags": []
          },
          "execution_count": 69
        }
      ]
    },
    {
      "cell_type": "code",
      "metadata": {
        "id": "OFa9Pme6iG0F",
        "colab": {
          "base_uri": "https://localhost:8080/",
          "height": 142
        },
        "outputId": "4f949fd2-7d7d-4997-b252-39ab7da69b75"
      },
      "source": [
        "#Covariance between age and bond amounts for Black Males\n",
        "M_BL_Mean.cov()"
      ],
      "execution_count": 70,
      "outputs": [
        {
          "output_type": "execute_result",
          "data": {
            "text/html": [
              "<div>\n",
              "<style scoped>\n",
              "    .dataframe tbody tr th:only-of-type {\n",
              "        vertical-align: middle;\n",
              "    }\n",
              "\n",
              "    .dataframe tbody tr th {\n",
              "        vertical-align: top;\n",
              "    }\n",
              "\n",
              "    .dataframe thead th {\n",
              "        text-align: right;\n",
              "    }\n",
              "</style>\n",
              "<table border=\"1\" class=\"dataframe\">\n",
              "  <thead>\n",
              "    <tr style=\"text-align: right;\">\n",
              "      <th></th>\n",
              "      <th>AGE</th>\n",
              "      <th>Bond</th>\n",
              "      <th>Year</th>\n",
              "    </tr>\n",
              "  </thead>\n",
              "  <tbody>\n",
              "    <tr>\n",
              "      <th>AGE</th>\n",
              "      <td>3.556667e+02</td>\n",
              "      <td>-1.849666e+06</td>\n",
              "      <td>1.609784</td>\n",
              "    </tr>\n",
              "    <tr>\n",
              "      <th>Bond</th>\n",
              "      <td>-1.849666e+06</td>\n",
              "      <td>1.266709e+10</td>\n",
              "      <td>-17968.499415</td>\n",
              "    </tr>\n",
              "    <tr>\n",
              "      <th>Year</th>\n",
              "      <td>1.609784e+00</td>\n",
              "      <td>-1.796850e+04</td>\n",
              "      <td>0.340547</td>\n",
              "    </tr>\n",
              "  </tbody>\n",
              "</table>\n",
              "</div>"
            ],
            "text/plain": [
              "               AGE          Bond          Year\n",
              "AGE   3.556667e+02 -1.849666e+06      1.609784\n",
              "Bond -1.849666e+06  1.266709e+10 -17968.499415\n",
              "Year  1.609784e+00 -1.796850e+04      0.340547"
            ]
          },
          "metadata": {
            "tags": []
          },
          "execution_count": 70
        }
      ]
    },
    {
      "cell_type": "code",
      "metadata": {
        "id": "eiy_lpnRiHAS",
        "colab": {
          "base_uri": "https://localhost:8080/",
          "height": 142
        },
        "outputId": "254c1495-3fb7-416f-9bf3-ae2ccc6f888d"
      },
      "source": [
        "#Correlation between age and bond amounts for Black Males\n",
        "M_BL_Mean.corr('pearson')"
      ],
      "execution_count": 71,
      "outputs": [
        {
          "output_type": "execute_result",
          "data": {
            "text/html": [
              "<div>\n",
              "<style scoped>\n",
              "    .dataframe tbody tr th:only-of-type {\n",
              "        vertical-align: middle;\n",
              "    }\n",
              "\n",
              "    .dataframe tbody tr th {\n",
              "        vertical-align: top;\n",
              "    }\n",
              "\n",
              "    .dataframe thead th {\n",
              "        text-align: right;\n",
              "    }\n",
              "</style>\n",
              "<table border=\"1\" class=\"dataframe\">\n",
              "  <thead>\n",
              "    <tr style=\"text-align: right;\">\n",
              "      <th></th>\n",
              "      <th>AGE</th>\n",
              "      <th>Bond</th>\n",
              "      <th>Year</th>\n",
              "    </tr>\n",
              "  </thead>\n",
              "  <tbody>\n",
              "    <tr>\n",
              "      <th>AGE</th>\n",
              "      <td>1.000000</td>\n",
              "      <td>-0.871432</td>\n",
              "      <td>0.146271</td>\n",
              "    </tr>\n",
              "    <tr>\n",
              "      <th>Bond</th>\n",
              "      <td>-0.871432</td>\n",
              "      <td>1.000000</td>\n",
              "      <td>-0.273580</td>\n",
              "    </tr>\n",
              "    <tr>\n",
              "      <th>Year</th>\n",
              "      <td>0.146271</td>\n",
              "      <td>-0.273580</td>\n",
              "      <td>1.000000</td>\n",
              "    </tr>\n",
              "  </tbody>\n",
              "</table>\n",
              "</div>"
            ],
            "text/plain": [
              "           AGE      Bond      Year\n",
              "AGE   1.000000 -0.871432  0.146271\n",
              "Bond -0.871432  1.000000 -0.273580\n",
              "Year  0.146271 -0.273580  1.000000"
            ]
          },
          "metadata": {
            "tags": []
          },
          "execution_count": 71
        }
      ]
    },
    {
      "cell_type": "code",
      "metadata": {
        "id": "Gb2fp2uwiHHV",
        "colab": {
          "base_uri": "https://localhost:8080/",
          "height": 142
        },
        "outputId": "c6d68fd4-787e-4455-b761-69546cb74625"
      },
      "source": [
        "#Covariance between age and bond amounts for Hispanic Males\n",
        "M_HI_Mean.cov()"
      ],
      "execution_count": 72,
      "outputs": [
        {
          "output_type": "execute_result",
          "data": {
            "text/html": [
              "<div>\n",
              "<style scoped>\n",
              "    .dataframe tbody tr th:only-of-type {\n",
              "        vertical-align: middle;\n",
              "    }\n",
              "\n",
              "    .dataframe tbody tr th {\n",
              "        vertical-align: top;\n",
              "    }\n",
              "\n",
              "    .dataframe thead th {\n",
              "        text-align: right;\n",
              "    }\n",
              "</style>\n",
              "<table border=\"1\" class=\"dataframe\">\n",
              "  <thead>\n",
              "    <tr style=\"text-align: right;\">\n",
              "      <th></th>\n",
              "      <th>AGE</th>\n",
              "      <th>Bond</th>\n",
              "      <th>Year</th>\n",
              "    </tr>\n",
              "  </thead>\n",
              "  <tbody>\n",
              "    <tr>\n",
              "      <th>AGE</th>\n",
              "      <td>384.797377</td>\n",
              "      <td>-5.172961e+05</td>\n",
              "      <td>-1.231184</td>\n",
              "    </tr>\n",
              "    <tr>\n",
              "      <th>Bond</th>\n",
              "      <td>-517296.130921</td>\n",
              "      <td>6.949930e+09</td>\n",
              "      <td>6724.285214</td>\n",
              "    </tr>\n",
              "    <tr>\n",
              "      <th>Year</th>\n",
              "      <td>-1.231184</td>\n",
              "      <td>6.724285e+03</td>\n",
              "      <td>0.434795</td>\n",
              "    </tr>\n",
              "  </tbody>\n",
              "</table>\n",
              "</div>"
            ],
            "text/plain": [
              "                AGE          Bond         Year\n",
              "AGE      384.797377 -5.172961e+05    -1.231184\n",
              "Bond -517296.130921  6.949930e+09  6724.285214\n",
              "Year      -1.231184  6.724285e+03     0.434795"
            ]
          },
          "metadata": {
            "tags": []
          },
          "execution_count": 72
        }
      ]
    },
    {
      "cell_type": "code",
      "metadata": {
        "id": "mVDQlvOtiHSk",
        "colab": {
          "base_uri": "https://localhost:8080/",
          "height": 142
        },
        "outputId": "823ace0f-998e-47db-8063-72349bc2b3a5"
      },
      "source": [
        "#Correlation between age and bond amounts for Hispanic Males\n",
        "M_HI_Mean.corr('pearson')"
      ],
      "execution_count": 73,
      "outputs": [
        {
          "output_type": "execute_result",
          "data": {
            "text/html": [
              "<div>\n",
              "<style scoped>\n",
              "    .dataframe tbody tr th:only-of-type {\n",
              "        vertical-align: middle;\n",
              "    }\n",
              "\n",
              "    .dataframe tbody tr th {\n",
              "        vertical-align: top;\n",
              "    }\n",
              "\n",
              "    .dataframe thead th {\n",
              "        text-align: right;\n",
              "    }\n",
              "</style>\n",
              "<table border=\"1\" class=\"dataframe\">\n",
              "  <thead>\n",
              "    <tr style=\"text-align: right;\">\n",
              "      <th></th>\n",
              "      <th>AGE</th>\n",
              "      <th>Bond</th>\n",
              "      <th>Year</th>\n",
              "    </tr>\n",
              "  </thead>\n",
              "  <tbody>\n",
              "    <tr>\n",
              "      <th>AGE</th>\n",
              "      <td>1.000000</td>\n",
              "      <td>-0.316325</td>\n",
              "      <td>-0.095184</td>\n",
              "    </tr>\n",
              "    <tr>\n",
              "      <th>Bond</th>\n",
              "      <td>-0.316325</td>\n",
              "      <td>1.000000</td>\n",
              "      <td>0.122325</td>\n",
              "    </tr>\n",
              "    <tr>\n",
              "      <th>Year</th>\n",
              "      <td>-0.095184</td>\n",
              "      <td>0.122325</td>\n",
              "      <td>1.000000</td>\n",
              "    </tr>\n",
              "  </tbody>\n",
              "</table>\n",
              "</div>"
            ],
            "text/plain": [
              "           AGE      Bond      Year\n",
              "AGE   1.000000 -0.316325 -0.095184\n",
              "Bond -0.316325  1.000000  0.122325\n",
              "Year -0.095184  0.122325  1.000000"
            ]
          },
          "metadata": {
            "tags": []
          },
          "execution_count": 73
        }
      ]
    },
    {
      "cell_type": "code",
      "metadata": {
        "id": "hKNl0VPsiHef",
        "colab": {
          "base_uri": "https://localhost:8080/",
          "height": 142
        },
        "outputId": "fe409c31-ea44-48d2-bd8d-2da83f84229e"
      },
      "source": [
        "#Covariance between age and bond amounts for White Males\n",
        "M_WH_Mean.cov()"
      ],
      "execution_count": 74,
      "outputs": [
        {
          "output_type": "execute_result",
          "data": {
            "text/html": [
              "<div>\n",
              "<style scoped>\n",
              "    .dataframe tbody tr th:only-of-type {\n",
              "        vertical-align: middle;\n",
              "    }\n",
              "\n",
              "    .dataframe tbody tr th {\n",
              "        vertical-align: top;\n",
              "    }\n",
              "\n",
              "    .dataframe thead th {\n",
              "        text-align: right;\n",
              "    }\n",
              "</style>\n",
              "<table border=\"1\" class=\"dataframe\">\n",
              "  <thead>\n",
              "    <tr style=\"text-align: right;\">\n",
              "      <th></th>\n",
              "      <th>AGE</th>\n",
              "      <th>Bond</th>\n",
              "      <th>Year</th>\n",
              "    </tr>\n",
              "  </thead>\n",
              "  <tbody>\n",
              "    <tr>\n",
              "      <th>AGE</th>\n",
              "      <td>4.192919e+02</td>\n",
              "      <td>1.397924e+06</td>\n",
              "      <td>3.408698</td>\n",
              "    </tr>\n",
              "    <tr>\n",
              "      <th>Bond</th>\n",
              "      <td>1.397924e+06</td>\n",
              "      <td>4.534590e+10</td>\n",
              "      <td>1177.333913</td>\n",
              "    </tr>\n",
              "    <tr>\n",
              "      <th>Year</th>\n",
              "      <td>3.408698e+00</td>\n",
              "      <td>1.177334e+03</td>\n",
              "      <td>0.434535</td>\n",
              "    </tr>\n",
              "  </tbody>\n",
              "</table>\n",
              "</div>"
            ],
            "text/plain": [
              "               AGE          Bond         Year\n",
              "AGE   4.192919e+02  1.397924e+06     3.408698\n",
              "Bond  1.397924e+06  4.534590e+10  1177.333913\n",
              "Year  3.408698e+00  1.177334e+03     0.434535"
            ]
          },
          "metadata": {
            "tags": []
          },
          "execution_count": 74
        }
      ]
    },
    {
      "cell_type": "code",
      "metadata": {
        "id": "NUsB6py1iHry",
        "colab": {
          "base_uri": "https://localhost:8080/",
          "height": 142
        },
        "outputId": "58cd773d-e1c3-49b5-8a00-03e9f681a0be"
      },
      "source": [
        "#Correlation between age and bond amounts for White Males\n",
        "M_WH_Mean.corr('pearson')"
      ],
      "execution_count": 75,
      "outputs": [
        {
          "output_type": "execute_result",
          "data": {
            "text/html": [
              "<div>\n",
              "<style scoped>\n",
              "    .dataframe tbody tr th:only-of-type {\n",
              "        vertical-align: middle;\n",
              "    }\n",
              "\n",
              "    .dataframe tbody tr th {\n",
              "        vertical-align: top;\n",
              "    }\n",
              "\n",
              "    .dataframe thead th {\n",
              "        text-align: right;\n",
              "    }\n",
              "</style>\n",
              "<table border=\"1\" class=\"dataframe\">\n",
              "  <thead>\n",
              "    <tr style=\"text-align: right;\">\n",
              "      <th></th>\n",
              "      <th>AGE</th>\n",
              "      <th>Bond</th>\n",
              "      <th>Year</th>\n",
              "    </tr>\n",
              "  </thead>\n",
              "  <tbody>\n",
              "    <tr>\n",
              "      <th>AGE</th>\n",
              "      <td>1.000000</td>\n",
              "      <td>0.320595</td>\n",
              "      <td>0.252533</td>\n",
              "    </tr>\n",
              "    <tr>\n",
              "      <th>Bond</th>\n",
              "      <td>0.320595</td>\n",
              "      <td>1.000000</td>\n",
              "      <td>0.008387</td>\n",
              "    </tr>\n",
              "    <tr>\n",
              "      <th>Year</th>\n",
              "      <td>0.252533</td>\n",
              "      <td>0.008387</td>\n",
              "      <td>1.000000</td>\n",
              "    </tr>\n",
              "  </tbody>\n",
              "</table>\n",
              "</div>"
            ],
            "text/plain": [
              "           AGE      Bond      Year\n",
              "AGE   1.000000  0.320595  0.252533\n",
              "Bond  0.320595  1.000000  0.008387\n",
              "Year  0.252533  0.008387  1.000000"
            ]
          },
          "metadata": {
            "tags": []
          },
          "execution_count": 75
        }
      ]
    },
    {
      "cell_type": "code",
      "metadata": {
        "id": "Im2RRkGkbowa",
        "colab": {
          "base_uri": "https://localhost:8080/"
        },
        "outputId": "8dcb6b04-9a6b-4116-b617-1ef4cc2e298f"
      },
      "source": [
        "# Overall Median for Bond Amount\n",
        "df.median()"
      ],
      "execution_count": 76,
      "outputs": [
        {
          "output_type": "stream",
          "text": [
            "/usr/local/lib/python3.7/dist-packages/ipykernel_launcher.py:2: FutureWarning: DataFrame.mean and DataFrame.median with numeric_only=None will include datetime64 and datetime64tz columns in a future version.\n",
            "  \n"
          ],
          "name": "stderr"
        },
        {
          "output_type": "execute_result",
          "data": {
            "text/plain": [
              "AGE         33.0\n",
              "Bond    100000.0\n",
              "Year      2018.0\n",
              "dtype: float64"
            ]
          },
          "metadata": {
            "tags": []
          },
          "execution_count": 76
        }
      ]
    },
    {
      "cell_type": "code",
      "metadata": {
        "id": "5nHbDGRbyKR3",
        "colab": {
          "base_uri": "https://localhost:8080/"
        },
        "outputId": "243f13b7-2cfd-4a90-f314-6393bf25a158"
      },
      "source": [
        "# Group by Offense then Sum of each race\n",
        "df_race = df['RACE'].value_counts() \n",
        "df_race.head()"
      ],
      "execution_count": 77,
      "outputs": [
        {
          "output_type": "execute_result",
          "data": {
            "text/plain": [
              "BLACK       2206677\n",
              "WHITE       1663676\n",
              "HISPANIC    1432744\n",
              "ASIAN         31994\n",
              "AMER IND      16758\n",
              "Name: RACE, dtype: int64"
            ]
          },
          "metadata": {
            "tags": []
          },
          "execution_count": 77
        }
      ]
    },
    {
      "cell_type": "code",
      "metadata": {
        "id": "iSGcOuwqZ0x9",
        "colab": {
          "base_uri": "https://localhost:8080/",
          "height": 204
        },
        "outputId": "b572d262-1e7c-4541-fd9c-0f4a1cb7ca2f"
      },
      "source": [
        "# Sum of bail amount by race\n",
        "df_racebail = df.groupby(['RACE'], as_index=False).agg({'Bond': sum})\n",
        "df_racebail.head()"
      ],
      "execution_count": 78,
      "outputs": [
        {
          "output_type": "execute_result",
          "data": {
            "text/html": [
              "<div>\n",
              "<style scoped>\n",
              "    .dataframe tbody tr th:only-of-type {\n",
              "        vertical-align: middle;\n",
              "    }\n",
              "\n",
              "    .dataframe tbody tr th {\n",
              "        vertical-align: top;\n",
              "    }\n",
              "\n",
              "    .dataframe thead th {\n",
              "        text-align: right;\n",
              "    }\n",
              "</style>\n",
              "<table border=\"1\" class=\"dataframe\">\n",
              "  <thead>\n",
              "    <tr style=\"text-align: right;\">\n",
              "      <th></th>\n",
              "      <th>RACE</th>\n",
              "      <th>Bond</th>\n",
              "    </tr>\n",
              "  </thead>\n",
              "  <tbody>\n",
              "    <tr>\n",
              "      <th>0</th>\n",
              "      <td>AMER IND</td>\n",
              "      <td>2535846250</td>\n",
              "    </tr>\n",
              "    <tr>\n",
              "      <th>1</th>\n",
              "      <td>ASIAN</td>\n",
              "      <td>6745403232</td>\n",
              "    </tr>\n",
              "    <tr>\n",
              "      <th>2</th>\n",
              "      <td>BLACK</td>\n",
              "      <td>675255067723</td>\n",
              "    </tr>\n",
              "    <tr>\n",
              "      <th>3</th>\n",
              "      <td>HISPANIC</td>\n",
              "      <td>367035798673</td>\n",
              "    </tr>\n",
              "    <tr>\n",
              "      <th>4</th>\n",
              "      <td>WHITE</td>\n",
              "      <td>274288516315</td>\n",
              "    </tr>\n",
              "  </tbody>\n",
              "</table>\n",
              "</div>"
            ],
            "text/plain": [
              "       RACE          Bond\n",
              "0  AMER IND    2535846250\n",
              "1     ASIAN    6745403232\n",
              "2     BLACK  675255067723\n",
              "3  HISPANIC  367035798673\n",
              "4     WHITE  274288516315"
            ]
          },
          "metadata": {
            "tags": []
          },
          "execution_count": 78
        }
      ]
    },
    {
      "cell_type": "code",
      "metadata": {
        "id": "NfmlcX_rbL0p",
        "colab": {
          "base_uri": "https://localhost:8080/",
          "height": 204
        },
        "outputId": "0fd71305-aa43-46d2-c546-ec4cd9ca91df"
      },
      "source": [
        "# mean of bail amount and age by race\n",
        "df_racebailmean = df.groupby(['RACE'], as_index=False).mean()\n",
        "df_racebailmean.head()"
      ],
      "execution_count": 79,
      "outputs": [
        {
          "output_type": "execute_result",
          "data": {
            "text/html": [
              "<div>\n",
              "<style scoped>\n",
              "    .dataframe tbody tr th:only-of-type {\n",
              "        vertical-align: middle;\n",
              "    }\n",
              "\n",
              "    .dataframe tbody tr th {\n",
              "        vertical-align: top;\n",
              "    }\n",
              "\n",
              "    .dataframe thead th {\n",
              "        text-align: right;\n",
              "    }\n",
              "</style>\n",
              "<table border=\"1\" class=\"dataframe\">\n",
              "  <thead>\n",
              "    <tr style=\"text-align: right;\">\n",
              "      <th></th>\n",
              "      <th>RACE</th>\n",
              "      <th>AGE</th>\n",
              "      <th>Bond</th>\n",
              "      <th>Year</th>\n",
              "    </tr>\n",
              "  </thead>\n",
              "  <tbody>\n",
              "    <tr>\n",
              "      <th>0</th>\n",
              "      <td>AMER IND</td>\n",
              "      <td>31.753730</td>\n",
              "      <td>151321.532999</td>\n",
              "      <td>2017.811433</td>\n",
              "    </tr>\n",
              "    <tr>\n",
              "      <th>1</th>\n",
              "      <td>ASIAN</td>\n",
              "      <td>34.839064</td>\n",
              "      <td>210833.382259</td>\n",
              "      <td>2017.406764</td>\n",
              "    </tr>\n",
              "    <tr>\n",
              "      <th>2</th>\n",
              "      <td>BLACK</td>\n",
              "      <td>33.234479</td>\n",
              "      <td>306005.395317</td>\n",
              "      <td>2017.452547</td>\n",
              "    </tr>\n",
              "    <tr>\n",
              "      <th>3</th>\n",
              "      <td>HISPANIC</td>\n",
              "      <td>33.557529</td>\n",
              "      <td>256176.817822</td>\n",
              "      <td>2017.631587</td>\n",
              "    </tr>\n",
              "    <tr>\n",
              "      <th>4</th>\n",
              "      <td>WHITE</td>\n",
              "      <td>37.364185</td>\n",
              "      <td>164868.950634</td>\n",
              "      <td>2017.668673</td>\n",
              "    </tr>\n",
              "  </tbody>\n",
              "</table>\n",
              "</div>"
            ],
            "text/plain": [
              "       RACE        AGE           Bond         Year\n",
              "0  AMER IND  31.753730  151321.532999  2017.811433\n",
              "1     ASIAN  34.839064  210833.382259  2017.406764\n",
              "2     BLACK  33.234479  306005.395317  2017.452547\n",
              "3  HISPANIC  33.557529  256176.817822  2017.631587\n",
              "4     WHITE  37.364185  164868.950634  2017.668673"
            ]
          },
          "metadata": {
            "tags": []
          },
          "execution_count": 79
        }
      ]
    },
    {
      "cell_type": "code",
      "metadata": {
        "id": "lRhuTAR2b5-K",
        "colab": {
          "base_uri": "https://localhost:8080/",
          "height": 204
        },
        "outputId": "f3b2c2ff-53f4-4252-a1fe-229d45aeb9fd"
      },
      "source": [
        "# median of bail amount by race\n",
        "df_racebailmed = df.groupby(['RACE'], as_index=False).median()\n",
        "df_racebailmed.head()"
      ],
      "execution_count": 80,
      "outputs": [
        {
          "output_type": "execute_result",
          "data": {
            "text/html": [
              "<div>\n",
              "<style scoped>\n",
              "    .dataframe tbody tr th:only-of-type {\n",
              "        vertical-align: middle;\n",
              "    }\n",
              "\n",
              "    .dataframe tbody tr th {\n",
              "        vertical-align: top;\n",
              "    }\n",
              "\n",
              "    .dataframe thead th {\n",
              "        text-align: right;\n",
              "    }\n",
              "</style>\n",
              "<table border=\"1\" class=\"dataframe\">\n",
              "  <thead>\n",
              "    <tr style=\"text-align: right;\">\n",
              "      <th></th>\n",
              "      <th>RACE</th>\n",
              "      <th>AGE</th>\n",
              "      <th>Bond</th>\n",
              "      <th>Year</th>\n",
              "    </tr>\n",
              "  </thead>\n",
              "  <tbody>\n",
              "    <tr>\n",
              "      <th>0</th>\n",
              "      <td>AMER IND</td>\n",
              "      <td>30</td>\n",
              "      <td>100000</td>\n",
              "      <td>2018</td>\n",
              "    </tr>\n",
              "    <tr>\n",
              "      <th>1</th>\n",
              "      <td>ASIAN</td>\n",
              "      <td>35</td>\n",
              "      <td>90000</td>\n",
              "      <td>2018</td>\n",
              "    </tr>\n",
              "    <tr>\n",
              "      <th>2</th>\n",
              "      <td>BLACK</td>\n",
              "      <td>31</td>\n",
              "      <td>125000</td>\n",
              "      <td>2018</td>\n",
              "    </tr>\n",
              "    <tr>\n",
              "      <th>3</th>\n",
              "      <td>HISPANIC</td>\n",
              "      <td>32</td>\n",
              "      <td>100100</td>\n",
              "      <td>2018</td>\n",
              "    </tr>\n",
              "    <tr>\n",
              "      <th>4</th>\n",
              "      <td>WHITE</td>\n",
              "      <td>35</td>\n",
              "      <td>60600</td>\n",
              "      <td>2018</td>\n",
              "    </tr>\n",
              "  </tbody>\n",
              "</table>\n",
              "</div>"
            ],
            "text/plain": [
              "       RACE  AGE    Bond  Year\n",
              "0  AMER IND   30  100000  2018\n",
              "1     ASIAN   35   90000  2018\n",
              "2     BLACK   31  125000  2018\n",
              "3  HISPANIC   32  100100  2018\n",
              "4     WHITE   35   60600  2018"
            ]
          },
          "metadata": {
            "tags": []
          },
          "execution_count": 80
        }
      ]
    },
    {
      "cell_type": "code",
      "metadata": {
        "colab": {
          "base_uri": "https://localhost:8080/",
          "height": 328
        },
        "id": "LjgvDr4laEdT",
        "outputId": "b5a282cc-2891-4c9d-f702-1f9ec8a97138"
      },
      "source": [
        "# median of bail amount by offense category\n",
        "df_offensebailmed = df.groupby(['offense_cat'], as_index=False).median()\n",
        "df_offensebailmed"
      ],
      "execution_count": 81,
      "outputs": [
        {
          "output_type": "execute_result",
          "data": {
            "text/html": [
              "<div>\n",
              "<style scoped>\n",
              "    .dataframe tbody tr th:only-of-type {\n",
              "        vertical-align: middle;\n",
              "    }\n",
              "\n",
              "    .dataframe tbody tr th {\n",
              "        vertical-align: top;\n",
              "    }\n",
              "\n",
              "    .dataframe thead th {\n",
              "        text-align: right;\n",
              "    }\n",
              "</style>\n",
              "<table border=\"1\" class=\"dataframe\">\n",
              "  <thead>\n",
              "    <tr style=\"text-align: right;\">\n",
              "      <th></th>\n",
              "      <th>offense_cat</th>\n",
              "      <th>AGE</th>\n",
              "      <th>Bond</th>\n",
              "      <th>Year</th>\n",
              "    </tr>\n",
              "  </thead>\n",
              "  <tbody>\n",
              "    <tr>\n",
              "      <th>0</th>\n",
              "      <td>Attempt</td>\n",
              "      <td>29</td>\n",
              "      <td>200000</td>\n",
              "      <td>2018</td>\n",
              "    </tr>\n",
              "    <tr>\n",
              "      <th>1</th>\n",
              "      <td>Drugs</td>\n",
              "      <td>34</td>\n",
              "      <td>75100</td>\n",
              "      <td>2017</td>\n",
              "    </tr>\n",
              "    <tr>\n",
              "      <th>2</th>\n",
              "      <td>Juvenile</td>\n",
              "      <td>17</td>\n",
              "      <td>150000</td>\n",
              "      <td>2019</td>\n",
              "    </tr>\n",
              "    <tr>\n",
              "      <th>3</th>\n",
              "      <td>ND</td>\n",
              "      <td>32</td>\n",
              "      <td>20000</td>\n",
              "      <td>2018</td>\n",
              "    </tr>\n",
              "    <tr>\n",
              "      <th>4</th>\n",
              "      <td>Order</td>\n",
              "      <td>35</td>\n",
              "      <td>50000</td>\n",
              "      <td>2018</td>\n",
              "    </tr>\n",
              "    <tr>\n",
              "      <th>5</th>\n",
              "      <td>Person</td>\n",
              "      <td>33</td>\n",
              "      <td>150000</td>\n",
              "      <td>2018</td>\n",
              "    </tr>\n",
              "    <tr>\n",
              "      <th>6</th>\n",
              "      <td>Probation</td>\n",
              "      <td>34</td>\n",
              "      <td>50000</td>\n",
              "      <td>2018</td>\n",
              "    </tr>\n",
              "    <tr>\n",
              "      <th>7</th>\n",
              "      <td>Property</td>\n",
              "      <td>32</td>\n",
              "      <td>100000</td>\n",
              "      <td>2018</td>\n",
              "    </tr>\n",
              "    <tr>\n",
              "      <th>8</th>\n",
              "      <td>Weapons</td>\n",
              "      <td>29</td>\n",
              "      <td>200000</td>\n",
              "      <td>2018</td>\n",
              "    </tr>\n",
              "  </tbody>\n",
              "</table>\n",
              "</div>"
            ],
            "text/plain": [
              "  offense_cat  AGE    Bond  Year\n",
              "0     Attempt   29  200000  2018\n",
              "1       Drugs   34   75100  2017\n",
              "2    Juvenile   17  150000  2019\n",
              "3          ND   32   20000  2018\n",
              "4       Order   35   50000  2018\n",
              "5      Person   33  150000  2018\n",
              "6   Probation   34   50000  2018\n",
              "7    Property   32  100000  2018\n",
              "8     Weapons   29  200000  2018"
            ]
          },
          "metadata": {
            "tags": []
          },
          "execution_count": 81
        }
      ]
    },
    {
      "cell_type": "code",
      "metadata": {
        "colab": {
          "base_uri": "https://localhost:8080/",
          "height": 328
        },
        "id": "0aRm6ereacRE",
        "outputId": "a0119588-ea4e-4a8a-ef1c-c0e39bbde789"
      },
      "source": [
        "# mean of bail amount by offense category\n",
        "df_offensebailmean = df.groupby(['offense_cat'], as_index=False).mean()\n",
        "df_offensebailmean"
      ],
      "execution_count": 82,
      "outputs": [
        {
          "output_type": "execute_result",
          "data": {
            "text/html": [
              "<div>\n",
              "<style scoped>\n",
              "    .dataframe tbody tr th:only-of-type {\n",
              "        vertical-align: middle;\n",
              "    }\n",
              "\n",
              "    .dataframe tbody tr th {\n",
              "        vertical-align: top;\n",
              "    }\n",
              "\n",
              "    .dataframe thead th {\n",
              "        text-align: right;\n",
              "    }\n",
              "</style>\n",
              "<table border=\"1\" class=\"dataframe\">\n",
              "  <thead>\n",
              "    <tr style=\"text-align: right;\">\n",
              "      <th></th>\n",
              "      <th>offense_cat</th>\n",
              "      <th>AGE</th>\n",
              "      <th>Bond</th>\n",
              "      <th>Year</th>\n",
              "    </tr>\n",
              "  </thead>\n",
              "  <tbody>\n",
              "    <tr>\n",
              "      <th>0</th>\n",
              "      <td>Attempt</td>\n",
              "      <td>31.510601</td>\n",
              "      <td>379358.579806</td>\n",
              "      <td>2017.335299</td>\n",
              "    </tr>\n",
              "    <tr>\n",
              "      <th>1</th>\n",
              "      <td>Drugs</td>\n",
              "      <td>35.370198</td>\n",
              "      <td>156681.442388</td>\n",
              "      <td>2016.650843</td>\n",
              "    </tr>\n",
              "    <tr>\n",
              "      <th>2</th>\n",
              "      <td>Juvenile</td>\n",
              "      <td>17.287046</td>\n",
              "      <td>308812.107121</td>\n",
              "      <td>2018.308225</td>\n",
              "    </tr>\n",
              "    <tr>\n",
              "      <th>3</th>\n",
              "      <td>ND</td>\n",
              "      <td>32.024425</td>\n",
              "      <td>281306.709770</td>\n",
              "      <td>2017.616379</td>\n",
              "    </tr>\n",
              "    <tr>\n",
              "      <th>4</th>\n",
              "      <td>Order</td>\n",
              "      <td>36.641217</td>\n",
              "      <td>106984.093941</td>\n",
              "      <td>2018.095040</td>\n",
              "    </tr>\n",
              "    <tr>\n",
              "      <th>5</th>\n",
              "      <td>Person</td>\n",
              "      <td>35.297016</td>\n",
              "      <td>379458.133454</td>\n",
              "      <td>2017.465940</td>\n",
              "    </tr>\n",
              "    <tr>\n",
              "      <th>6</th>\n",
              "      <td>Probation</td>\n",
              "      <td>36.379506</td>\n",
              "      <td>102129.274380</td>\n",
              "      <td>2017.959243</td>\n",
              "    </tr>\n",
              "    <tr>\n",
              "      <th>7</th>\n",
              "      <td>Property</td>\n",
              "      <td>33.857662</td>\n",
              "      <td>188043.074293</td>\n",
              "      <td>2017.536505</td>\n",
              "    </tr>\n",
              "    <tr>\n",
              "      <th>8</th>\n",
              "      <td>Weapons</td>\n",
              "      <td>30.478325</td>\n",
              "      <td>282559.837961</td>\n",
              "      <td>2017.460367</td>\n",
              "    </tr>\n",
              "  </tbody>\n",
              "</table>\n",
              "</div>"
            ],
            "text/plain": [
              "  offense_cat        AGE           Bond         Year\n",
              "0     Attempt  31.510601  379358.579806  2017.335299\n",
              "1       Drugs  35.370198  156681.442388  2016.650843\n",
              "2    Juvenile  17.287046  308812.107121  2018.308225\n",
              "3          ND  32.024425  281306.709770  2017.616379\n",
              "4       Order  36.641217  106984.093941  2018.095040\n",
              "5      Person  35.297016  379458.133454  2017.465940\n",
              "6   Probation  36.379506  102129.274380  2017.959243\n",
              "7    Property  33.857662  188043.074293  2017.536505\n",
              "8     Weapons  30.478325  282559.837961  2017.460367"
            ]
          },
          "metadata": {
            "tags": []
          },
          "execution_count": 82
        }
      ]
    },
    {
      "cell_type": "code",
      "metadata": {
        "colab": {
          "base_uri": "https://localhost:8080/",
          "height": 142
        },
        "id": "PLryRXSJlOpw",
        "outputId": "9d646f28-f08b-4b56-ed0b-ae55fe3c9f4a"
      },
      "source": [
        "# median of bail amount by violence status\n",
        "df_violencebailmedian = df.groupby(['violence_status'], as_index=False).median()\n",
        "df_violencebailmedian"
      ],
      "execution_count": 83,
      "outputs": [
        {
          "output_type": "execute_result",
          "data": {
            "text/html": [
              "<div>\n",
              "<style scoped>\n",
              "    .dataframe tbody tr th:only-of-type {\n",
              "        vertical-align: middle;\n",
              "    }\n",
              "\n",
              "    .dataframe tbody tr th {\n",
              "        vertical-align: top;\n",
              "    }\n",
              "\n",
              "    .dataframe thead th {\n",
              "        text-align: right;\n",
              "    }\n",
              "</style>\n",
              "<table border=\"1\" class=\"dataframe\">\n",
              "  <thead>\n",
              "    <tr style=\"text-align: right;\">\n",
              "      <th></th>\n",
              "      <th>violence_status</th>\n",
              "      <th>AGE</th>\n",
              "      <th>Bond</th>\n",
              "      <th>Year</th>\n",
              "    </tr>\n",
              "  </thead>\n",
              "  <tbody>\n",
              "    <tr>\n",
              "      <th>0</th>\n",
              "      <td>ND</td>\n",
              "      <td>17</td>\n",
              "      <td>150000</td>\n",
              "      <td>2019</td>\n",
              "    </tr>\n",
              "    <tr>\n",
              "      <th>1</th>\n",
              "      <td>Non_Violent</td>\n",
              "      <td>33</td>\n",
              "      <td>75000</td>\n",
              "      <td>2018</td>\n",
              "    </tr>\n",
              "    <tr>\n",
              "      <th>2</th>\n",
              "      <td>Violent</td>\n",
              "      <td>32</td>\n",
              "      <td>150000</td>\n",
              "      <td>2018</td>\n",
              "    </tr>\n",
              "  </tbody>\n",
              "</table>\n",
              "</div>"
            ],
            "text/plain": [
              "  violence_status  AGE    Bond  Year\n",
              "0              ND   17  150000  2019\n",
              "1     Non_Violent   33   75000  2018\n",
              "2         Violent   32  150000  2018"
            ]
          },
          "metadata": {
            "tags": []
          },
          "execution_count": 83
        }
      ]
    },
    {
      "cell_type": "code",
      "metadata": {
        "colab": {
          "base_uri": "https://localhost:8080/",
          "height": 142
        },
        "id": "mUqtdQKck9QI",
        "outputId": "bc64e6b9-faef-4652-a3b7-e41246935c52"
      },
      "source": [
        "# mean of bail amount by violence status\n",
        "df_violencebailmean = df.groupby(['violence_status'], as_index=False).mean()\n",
        "df_violencebailmean"
      ],
      "execution_count": 84,
      "outputs": [
        {
          "output_type": "execute_result",
          "data": {
            "text/html": [
              "<div>\n",
              "<style scoped>\n",
              "    .dataframe tbody tr th:only-of-type {\n",
              "        vertical-align: middle;\n",
              "    }\n",
              "\n",
              "    .dataframe tbody tr th {\n",
              "        vertical-align: top;\n",
              "    }\n",
              "\n",
              "    .dataframe thead th {\n",
              "        text-align: right;\n",
              "    }\n",
              "</style>\n",
              "<table border=\"1\" class=\"dataframe\">\n",
              "  <thead>\n",
              "    <tr style=\"text-align: right;\">\n",
              "      <th></th>\n",
              "      <th>violence_status</th>\n",
              "      <th>AGE</th>\n",
              "      <th>Bond</th>\n",
              "      <th>Year</th>\n",
              "    </tr>\n",
              "  </thead>\n",
              "  <tbody>\n",
              "    <tr>\n",
              "      <th>0</th>\n",
              "      <td>ND</td>\n",
              "      <td>17.474690</td>\n",
              "      <td>308461.892962</td>\n",
              "      <td>2018.299416</td>\n",
              "    </tr>\n",
              "    <tr>\n",
              "      <th>1</th>\n",
              "      <td>Non_Violent</td>\n",
              "      <td>35.048647</td>\n",
              "      <td>159939.967848</td>\n",
              "      <td>2017.633681</td>\n",
              "    </tr>\n",
              "    <tr>\n",
              "      <th>2</th>\n",
              "      <td>Violent</td>\n",
              "      <td>34.440311</td>\n",
              "      <td>362230.782161</td>\n",
              "      <td>2017.464949</td>\n",
              "    </tr>\n",
              "  </tbody>\n",
              "</table>\n",
              "</div>"
            ],
            "text/plain": [
              "  violence_status        AGE           Bond         Year\n",
              "0              ND  17.474690  308461.892962  2018.299416\n",
              "1     Non_Violent  35.048647  159939.967848  2017.633681\n",
              "2         Violent  34.440311  362230.782161  2017.464949"
            ]
          },
          "metadata": {
            "tags": []
          },
          "execution_count": 84
        }
      ]
    },
    {
      "cell_type": "code",
      "metadata": {
        "colab": {
          "base_uri": "https://localhost:8080/",
          "height": 450
        },
        "id": "sdYEghvhRdQX",
        "outputId": "8fd7063d-5514-408d-d609-0699b9a0f96d"
      },
      "source": [
        "# Group by Race and Year\n",
        "df_race_year = df.groupby(['Year', 'RACE']).sum()\n",
        "df_race_year"
      ],
      "execution_count": 85,
      "outputs": [
        {
          "output_type": "execute_result",
          "data": {
            "text/html": [
              "<div>\n",
              "<style scoped>\n",
              "    .dataframe tbody tr th:only-of-type {\n",
              "        vertical-align: middle;\n",
              "    }\n",
              "\n",
              "    .dataframe tbody tr th {\n",
              "        vertical-align: top;\n",
              "    }\n",
              "\n",
              "    .dataframe thead th {\n",
              "        text-align: right;\n",
              "    }\n",
              "</style>\n",
              "<table border=\"1\" class=\"dataframe\">\n",
              "  <thead>\n",
              "    <tr style=\"text-align: right;\">\n",
              "      <th></th>\n",
              "      <th></th>\n",
              "      <th>AGE</th>\n",
              "      <th>Bond</th>\n",
              "    </tr>\n",
              "    <tr>\n",
              "      <th>Year</th>\n",
              "      <th>RACE</th>\n",
              "      <th></th>\n",
              "      <th></th>\n",
              "    </tr>\n",
              "  </thead>\n",
              "  <tbody>\n",
              "    <tr>\n",
              "      <th>1980</th>\n",
              "      <th>WHITE</th>\n",
              "      <td>3721</td>\n",
              "      <td>2135000</td>\n",
              "    </tr>\n",
              "    <tr>\n",
              "      <th>1988</th>\n",
              "      <th>BLACK</th>\n",
              "      <td>884</td>\n",
              "      <td>170000</td>\n",
              "    </tr>\n",
              "    <tr>\n",
              "      <th>1993</th>\n",
              "      <th>BLACK</th>\n",
              "      <td>1484</td>\n",
              "      <td>140000</td>\n",
              "    </tr>\n",
              "    <tr>\n",
              "      <th>1994</th>\n",
              "      <th>WHITE</th>\n",
              "      <td>456</td>\n",
              "      <td>8000</td>\n",
              "    </tr>\n",
              "    <tr>\n",
              "      <th>1996</th>\n",
              "      <th>BLACK</th>\n",
              "      <td>6379</td>\n",
              "      <td>95934000</td>\n",
              "    </tr>\n",
              "    <tr>\n",
              "      <th>...</th>\n",
              "      <th>...</th>\n",
              "      <td>...</td>\n",
              "      <td>...</td>\n",
              "    </tr>\n",
              "    <tr>\n",
              "      <th rowspan=\"5\" valign=\"top\">2021</th>\n",
              "      <th>AMER IND</th>\n",
              "      <td>7123</td>\n",
              "      <td>64610000</td>\n",
              "    </tr>\n",
              "    <tr>\n",
              "      <th>ASIAN</th>\n",
              "      <td>13185</td>\n",
              "      <td>40070000</td>\n",
              "    </tr>\n",
              "    <tr>\n",
              "      <th>BLACK</th>\n",
              "      <td>688522</td>\n",
              "      <td>4267914717</td>\n",
              "    </tr>\n",
              "    <tr>\n",
              "      <th>HISPANIC</th>\n",
              "      <td>486007</td>\n",
              "      <td>2386174488</td>\n",
              "    </tr>\n",
              "    <tr>\n",
              "      <th>WHITE</th>\n",
              "      <td>660120</td>\n",
              "      <td>1905107955</td>\n",
              "    </tr>\n",
              "  </tbody>\n",
              "</table>\n",
              "<p>94 rows × 2 columns</p>\n",
              "</div>"
            ],
            "text/plain": [
              "                  AGE        Bond\n",
              "Year RACE                        \n",
              "1980 WHITE       3721     2135000\n",
              "1988 BLACK        884      170000\n",
              "1993 BLACK       1484      140000\n",
              "1994 WHITE        456        8000\n",
              "1996 BLACK       6379    95934000\n",
              "...               ...         ...\n",
              "2021 AMER IND    7123    64610000\n",
              "     ASIAN      13185    40070000\n",
              "     BLACK     688522  4267914717\n",
              "     HISPANIC  486007  2386174488\n",
              "     WHITE     660120  1905107955\n",
              "\n",
              "[94 rows x 2 columns]"
            ]
          },
          "metadata": {
            "tags": []
          },
          "execution_count": 85
        }
      ]
    },
    {
      "cell_type": "code",
      "metadata": {
        "colab": {
          "base_uri": "https://localhost:8080/",
          "height": 450
        },
        "id": "Ca_wlkt4MZC6",
        "outputId": "d9389dd8-1270-4344-9745-79a71d6d2002"
      },
      "source": [
        "# Group by Race and Year\n",
        "df_race_year_count = df.groupby(['Year', 'RACE']).count()\n",
        "df_race_year_count"
      ],
      "execution_count": 86,
      "outputs": [
        {
          "output_type": "execute_result",
          "data": {
            "text/html": [
              "<div>\n",
              "<style scoped>\n",
              "    .dataframe tbody tr th:only-of-type {\n",
              "        vertical-align: middle;\n",
              "    }\n",
              "\n",
              "    .dataframe tbody tr th {\n",
              "        vertical-align: top;\n",
              "    }\n",
              "\n",
              "    .dataframe thead th {\n",
              "        text-align: right;\n",
              "    }\n",
              "</style>\n",
              "<table border=\"1\" class=\"dataframe\">\n",
              "  <thead>\n",
              "    <tr style=\"text-align: right;\">\n",
              "      <th></th>\n",
              "      <th></th>\n",
              "      <th>Date</th>\n",
              "      <th>GENDER</th>\n",
              "      <th>AGE</th>\n",
              "      <th>Bond</th>\n",
              "      <th>OFFENSE</th>\n",
              "      <th>offense_cat</th>\n",
              "      <th>violence_status</th>\n",
              "    </tr>\n",
              "    <tr>\n",
              "      <th>Year</th>\n",
              "      <th>RACE</th>\n",
              "      <th></th>\n",
              "      <th></th>\n",
              "      <th></th>\n",
              "      <th></th>\n",
              "      <th></th>\n",
              "      <th></th>\n",
              "      <th></th>\n",
              "    </tr>\n",
              "  </thead>\n",
              "  <tbody>\n",
              "    <tr>\n",
              "      <th>1980</th>\n",
              "      <th>WHITE</th>\n",
              "      <td>61</td>\n",
              "      <td>61</td>\n",
              "      <td>61</td>\n",
              "      <td>61</td>\n",
              "      <td>61</td>\n",
              "      <td>61</td>\n",
              "      <td>61</td>\n",
              "    </tr>\n",
              "    <tr>\n",
              "      <th>1988</th>\n",
              "      <th>BLACK</th>\n",
              "      <td>17</td>\n",
              "      <td>17</td>\n",
              "      <td>17</td>\n",
              "      <td>17</td>\n",
              "      <td>17</td>\n",
              "      <td>17</td>\n",
              "      <td>17</td>\n",
              "    </tr>\n",
              "    <tr>\n",
              "      <th>1993</th>\n",
              "      <th>BLACK</th>\n",
              "      <td>28</td>\n",
              "      <td>28</td>\n",
              "      <td>28</td>\n",
              "      <td>28</td>\n",
              "      <td>28</td>\n",
              "      <td>28</td>\n",
              "      <td>28</td>\n",
              "    </tr>\n",
              "    <tr>\n",
              "      <th>1994</th>\n",
              "      <th>WHITE</th>\n",
              "      <td>8</td>\n",
              "      <td>8</td>\n",
              "      <td>8</td>\n",
              "      <td>8</td>\n",
              "      <td>8</td>\n",
              "      <td>8</td>\n",
              "      <td>8</td>\n",
              "    </tr>\n",
              "    <tr>\n",
              "      <th>1996</th>\n",
              "      <th>BLACK</th>\n",
              "      <td>147</td>\n",
              "      <td>147</td>\n",
              "      <td>147</td>\n",
              "      <td>147</td>\n",
              "      <td>147</td>\n",
              "      <td>147</td>\n",
              "      <td>147</td>\n",
              "    </tr>\n",
              "    <tr>\n",
              "      <th>...</th>\n",
              "      <th>...</th>\n",
              "      <td>...</td>\n",
              "      <td>...</td>\n",
              "      <td>...</td>\n",
              "      <td>...</td>\n",
              "      <td>...</td>\n",
              "      <td>...</td>\n",
              "      <td>...</td>\n",
              "    </tr>\n",
              "    <tr>\n",
              "      <th rowspan=\"5\" valign=\"top\">2021</th>\n",
              "      <th>AMER IND</th>\n",
              "      <td>190</td>\n",
              "      <td>190</td>\n",
              "      <td>190</td>\n",
              "      <td>190</td>\n",
              "      <td>190</td>\n",
              "      <td>190</td>\n",
              "      <td>190</td>\n",
              "    </tr>\n",
              "    <tr>\n",
              "      <th>ASIAN</th>\n",
              "      <td>367</td>\n",
              "      <td>367</td>\n",
              "      <td>367</td>\n",
              "      <td>367</td>\n",
              "      <td>367</td>\n",
              "      <td>367</td>\n",
              "      <td>367</td>\n",
              "    </tr>\n",
              "    <tr>\n",
              "      <th>BLACK</th>\n",
              "      <td>19921</td>\n",
              "      <td>19921</td>\n",
              "      <td>19921</td>\n",
              "      <td>19921</td>\n",
              "      <td>19921</td>\n",
              "      <td>19921</td>\n",
              "      <td>19921</td>\n",
              "    </tr>\n",
              "    <tr>\n",
              "      <th>HISPANIC</th>\n",
              "      <td>14232</td>\n",
              "      <td>14232</td>\n",
              "      <td>14232</td>\n",
              "      <td>14232</td>\n",
              "      <td>14232</td>\n",
              "      <td>14232</td>\n",
              "      <td>14232</td>\n",
              "    </tr>\n",
              "    <tr>\n",
              "      <th>WHITE</th>\n",
              "      <td>17510</td>\n",
              "      <td>17510</td>\n",
              "      <td>17510</td>\n",
              "      <td>17510</td>\n",
              "      <td>17510</td>\n",
              "      <td>17510</td>\n",
              "      <td>17510</td>\n",
              "    </tr>\n",
              "  </tbody>\n",
              "</table>\n",
              "<p>94 rows × 7 columns</p>\n",
              "</div>"
            ],
            "text/plain": [
              "                Date  GENDER    AGE  ...  OFFENSE  offense_cat  violence_status\n",
              "Year RACE                            ...                                       \n",
              "1980 WHITE        61      61     61  ...       61           61               61\n",
              "1988 BLACK        17      17     17  ...       17           17               17\n",
              "1993 BLACK        28      28     28  ...       28           28               28\n",
              "1994 WHITE         8       8      8  ...        8            8                8\n",
              "1996 BLACK       147     147    147  ...      147          147              147\n",
              "...              ...     ...    ...  ...      ...          ...              ...\n",
              "2021 AMER IND    190     190    190  ...      190          190              190\n",
              "     ASIAN       367     367    367  ...      367          367              367\n",
              "     BLACK     19921   19921  19921  ...    19921        19921            19921\n",
              "     HISPANIC  14232   14232  14232  ...    14232        14232            14232\n",
              "     WHITE     17510   17510  17510  ...    17510        17510            17510\n",
              "\n",
              "[94 rows x 7 columns]"
            ]
          },
          "metadata": {
            "tags": []
          },
          "execution_count": 86
        }
      ]
    },
    {
      "cell_type": "code",
      "metadata": {
        "id": "DIEmjt6MrWej",
        "colab": {
          "base_uri": "https://localhost:8080/",
          "height": 657
        },
        "outputId": "d871a4fb-9ec1-439d-af4e-95a33446bf32"
      },
      "source": [
        "Count_Females = df[df.GENDER == 'F']\n",
        "Count_Females"
      ],
      "execution_count": 87,
      "outputs": [
        {
          "output_type": "execute_result",
          "data": {
            "text/html": [
              "<div>\n",
              "<style scoped>\n",
              "    .dataframe tbody tr th:only-of-type {\n",
              "        vertical-align: middle;\n",
              "    }\n",
              "\n",
              "    .dataframe tbody tr th {\n",
              "        vertical-align: top;\n",
              "    }\n",
              "\n",
              "    .dataframe thead th {\n",
              "        text-align: right;\n",
              "    }\n",
              "</style>\n",
              "<table border=\"1\" class=\"dataframe\">\n",
              "  <thead>\n",
              "    <tr style=\"text-align: right;\">\n",
              "      <th></th>\n",
              "      <th>Date</th>\n",
              "      <th>RACE</th>\n",
              "      <th>GENDER</th>\n",
              "      <th>AGE</th>\n",
              "      <th>Bond</th>\n",
              "      <th>OFFENSE</th>\n",
              "      <th>Year</th>\n",
              "      <th>offense_cat</th>\n",
              "      <th>violence_status</th>\n",
              "    </tr>\n",
              "  </thead>\n",
              "  <tbody>\n",
              "    <tr>\n",
              "      <th>12</th>\n",
              "      <td>2019-09-23</td>\n",
              "      <td>BLACK</td>\n",
              "      <td>F</td>\n",
              "      <td>42</td>\n",
              "      <td>70050</td>\n",
              "      <td>ASSAULT, SECOND DEGREE                DF</td>\n",
              "      <td>2019</td>\n",
              "      <td>Person</td>\n",
              "      <td>Violent</td>\n",
              "    </tr>\n",
              "    <tr>\n",
              "      <th>25</th>\n",
              "      <td>2019-11-26</td>\n",
              "      <td>HISPANIC</td>\n",
              "      <td>F</td>\n",
              "      <td>60</td>\n",
              "      <td>15200</td>\n",
              "      <td>FORGERY, FIRST DEGREE                 CF</td>\n",
              "      <td>2019</td>\n",
              "      <td>Property</td>\n",
              "      <td>Non_Violent</td>\n",
              "    </tr>\n",
              "    <tr>\n",
              "      <th>34</th>\n",
              "      <td>2020-05-13</td>\n",
              "      <td>WHITE</td>\n",
              "      <td>F</td>\n",
              "      <td>36</td>\n",
              "      <td>50000</td>\n",
              "      <td>VIOLATION OF PROBATION OR COND DISCHG</td>\n",
              "      <td>2020</td>\n",
              "      <td>Probation</td>\n",
              "      <td>Non_Violent</td>\n",
              "    </tr>\n",
              "    <tr>\n",
              "      <th>37</th>\n",
              "      <td>2019-11-15</td>\n",
              "      <td>ASIAN</td>\n",
              "      <td>F</td>\n",
              "      <td>40</td>\n",
              "      <td>10500</td>\n",
              "      <td>VIOLATION OF PROBATION OR COND DISCHG</td>\n",
              "      <td>2019</td>\n",
              "      <td>Probation</td>\n",
              "      <td>Non_Violent</td>\n",
              "    </tr>\n",
              "    <tr>\n",
              "      <th>54</th>\n",
              "      <td>2019-08-13</td>\n",
              "      <td>WHITE</td>\n",
              "      <td>F</td>\n",
              "      <td>28</td>\n",
              "      <td>100000</td>\n",
              "      <td>SALE OF HEROIN, COC BY NON-DEPENDENT</td>\n",
              "      <td>2019</td>\n",
              "      <td>Drugs</td>\n",
              "      <td>Non_Violent</td>\n",
              "    </tr>\n",
              "    <tr>\n",
              "      <th>...</th>\n",
              "      <td>...</td>\n",
              "      <td>...</td>\n",
              "      <td>...</td>\n",
              "      <td>...</td>\n",
              "      <td>...</td>\n",
              "      <td>...</td>\n",
              "      <td>...</td>\n",
              "      <td>...</td>\n",
              "      <td>...</td>\n",
              "    </tr>\n",
              "    <tr>\n",
              "      <th>5351763</th>\n",
              "      <td>2018-05-12</td>\n",
              "      <td>HISPANIC</td>\n",
              "      <td>F</td>\n",
              "      <td>26</td>\n",
              "      <td>2500000</td>\n",
              "      <td>CAPITAL FELONY                         F</td>\n",
              "      <td>2018</td>\n",
              "      <td>Person</td>\n",
              "      <td>Violent</td>\n",
              "    </tr>\n",
              "    <tr>\n",
              "      <th>5351796</th>\n",
              "      <td>2020-12-21</td>\n",
              "      <td>WHITE</td>\n",
              "      <td>F</td>\n",
              "      <td>35</td>\n",
              "      <td>500000</td>\n",
              "      <td>ROBBERY, FIRST DEGREE                 BF</td>\n",
              "      <td>2020</td>\n",
              "      <td>Property</td>\n",
              "      <td>Non_Violent</td>\n",
              "    </tr>\n",
              "    <tr>\n",
              "      <th>5351797</th>\n",
              "      <td>2021-02-18</td>\n",
              "      <td>WHITE</td>\n",
              "      <td>F</td>\n",
              "      <td>36</td>\n",
              "      <td>21500</td>\n",
              "      <td>ASSAULT ON POLICE OR FIRE OFFICER     CF</td>\n",
              "      <td>2021</td>\n",
              "      <td>Person</td>\n",
              "      <td>Violent</td>\n",
              "    </tr>\n",
              "    <tr>\n",
              "      <th>5351811</th>\n",
              "      <td>2020-08-17</td>\n",
              "      <td>BLACK</td>\n",
              "      <td>F</td>\n",
              "      <td>33</td>\n",
              "      <td>273150</td>\n",
              "      <td>ARSON, FIRST DEGREE                   AF</td>\n",
              "      <td>2020</td>\n",
              "      <td>Property</td>\n",
              "      <td>Non_Violent</td>\n",
              "    </tr>\n",
              "    <tr>\n",
              "      <th>5351842</th>\n",
              "      <td>2019-11-13</td>\n",
              "      <td>BLACK</td>\n",
              "      <td>F</td>\n",
              "      <td>40</td>\n",
              "      <td>291900</td>\n",
              "      <td>IDENTITY THEFT 1ST DEGREE             BF</td>\n",
              "      <td>2019</td>\n",
              "      <td>Person</td>\n",
              "      <td>Violent</td>\n",
              "    </tr>\n",
              "  </tbody>\n",
              "</table>\n",
              "<p>510359 rows × 9 columns</p>\n",
              "</div>"
            ],
            "text/plain": [
              "              Date      RACE GENDER  ...  Year  offense_cat violence_status\n",
              "12      2019-09-23     BLACK      F  ...  2019       Person         Violent\n",
              "25      2019-11-26  HISPANIC      F  ...  2019     Property     Non_Violent\n",
              "34      2020-05-13     WHITE      F  ...  2020    Probation     Non_Violent\n",
              "37      2019-11-15     ASIAN      F  ...  2019    Probation     Non_Violent\n",
              "54      2019-08-13     WHITE      F  ...  2019        Drugs     Non_Violent\n",
              "...            ...       ...    ...  ...   ...          ...             ...\n",
              "5351763 2018-05-12  HISPANIC      F  ...  2018       Person         Violent\n",
              "5351796 2020-12-21     WHITE      F  ...  2020     Property     Non_Violent\n",
              "5351797 2021-02-18     WHITE      F  ...  2021       Person         Violent\n",
              "5351811 2020-08-17     BLACK      F  ...  2020     Property     Non_Violent\n",
              "5351842 2019-11-13     BLACK      F  ...  2019       Person         Violent\n",
              "\n",
              "[510359 rows x 9 columns]"
            ]
          },
          "metadata": {
            "tags": []
          },
          "execution_count": 87
        }
      ]
    },
    {
      "cell_type": "code",
      "metadata": {
        "id": "v0KK4u_9rdyT"
      },
      "source": [
        "#FEMALE data subset by RACE\n",
        "F_AMER_IND = Count_Females[Count_Females.RACE == 'AMER IND']\n",
        "F_ASIAN = Count_Females[Count_Females.RACE == 'ASIAN']\n",
        "F_BLACK = Count_Females[Count_Females.RACE == 'BLACK']\n",
        "F_HISPANIC = Count_Females[Count_Females.RACE == 'HISPANIC']\n",
        "F_WHITE = Count_Females[Count_Females.RACE == 'WHITE']"
      ],
      "execution_count": 88,
      "outputs": []
    },
    {
      "cell_type": "code",
      "metadata": {
        "id": "5FQRKMfkrjRa"
      },
      "source": [
        "#FEMALE total of ppl by held on bond (RACE/YEAR/GENDER COUNT)\n",
        "F_AI_Count = F_AMER_IND.groupby(['Year','RACE','GENDER'], as_index=False).count()\n",
        "F_AS_Count = F_ASIAN.groupby(['Year','RACE','GENDER'], as_index=False).count()\n",
        "F_BL_Count = F_BLACK.groupby(['Year','RACE','GENDER'], as_index=False).count()\n",
        "F_HI_Count = F_HISPANIC.groupby(['Year','RACE','GENDER'], as_index=False).count()\n",
        "F_WH_Count = F_WHITE.groupby(['Year','RACE','GENDER'], as_index=False).count()"
      ],
      "execution_count": 89,
      "outputs": []
    },
    {
      "cell_type": "code",
      "metadata": {
        "id": "3IAoZZR-rq7j",
        "colab": {
          "base_uri": "https://localhost:8080/",
          "height": 640
        },
        "outputId": "37da6827-d389-476d-f1d8-5026d11636b7"
      },
      "source": [
        "#MALES data subset\n",
        "Count_Males = df[df.GENDER == 'M']\n",
        "Count_Males"
      ],
      "execution_count": 90,
      "outputs": [
        {
          "output_type": "execute_result",
          "data": {
            "text/html": [
              "<div>\n",
              "<style scoped>\n",
              "    .dataframe tbody tr th:only-of-type {\n",
              "        vertical-align: middle;\n",
              "    }\n",
              "\n",
              "    .dataframe tbody tr th {\n",
              "        vertical-align: top;\n",
              "    }\n",
              "\n",
              "    .dataframe thead th {\n",
              "        text-align: right;\n",
              "    }\n",
              "</style>\n",
              "<table border=\"1\" class=\"dataframe\">\n",
              "  <thead>\n",
              "    <tr style=\"text-align: right;\">\n",
              "      <th></th>\n",
              "      <th>Date</th>\n",
              "      <th>RACE</th>\n",
              "      <th>GENDER</th>\n",
              "      <th>AGE</th>\n",
              "      <th>Bond</th>\n",
              "      <th>OFFENSE</th>\n",
              "      <th>Year</th>\n",
              "      <th>offense_cat</th>\n",
              "      <th>violence_status</th>\n",
              "    </tr>\n",
              "  </thead>\n",
              "  <tbody>\n",
              "    <tr>\n",
              "      <th>0</th>\n",
              "      <td>2018-08-16</td>\n",
              "      <td>BLACK</td>\n",
              "      <td>M</td>\n",
              "      <td>27</td>\n",
              "      <td>150000</td>\n",
              "      <td>CRIMINAL POSS OF PISTOL/REVOLVER      DF</td>\n",
              "      <td>2018</td>\n",
              "      <td>Weapons</td>\n",
              "      <td>Violent</td>\n",
              "    </tr>\n",
              "    <tr>\n",
              "      <th>1</th>\n",
              "      <td>2019-03-28</td>\n",
              "      <td>HISPANIC</td>\n",
              "      <td>M</td>\n",
              "      <td>41</td>\n",
              "      <td>30100</td>\n",
              "      <td>VIOLATION OF PROBATION OR COND DISCHG</td>\n",
              "      <td>2019</td>\n",
              "      <td>Probation</td>\n",
              "      <td>Non_Violent</td>\n",
              "    </tr>\n",
              "    <tr>\n",
              "      <th>2</th>\n",
              "      <td>2020-04-03</td>\n",
              "      <td>HISPANIC</td>\n",
              "      <td>M</td>\n",
              "      <td>21</td>\n",
              "      <td>150000</td>\n",
              "      <td>CRIMINAL ATTEMPT</td>\n",
              "      <td>2020</td>\n",
              "      <td>Attempt</td>\n",
              "      <td>Non_Violent</td>\n",
              "    </tr>\n",
              "    <tr>\n",
              "      <th>3</th>\n",
              "      <td>2020-01-15</td>\n",
              "      <td>WHITE</td>\n",
              "      <td>M</td>\n",
              "      <td>36</td>\n",
              "      <td>50500</td>\n",
              "      <td>CRIM VIOL OF PROTECTIVE ORDER         DF</td>\n",
              "      <td>2020</td>\n",
              "      <td>Order</td>\n",
              "      <td>Non_Violent</td>\n",
              "    </tr>\n",
              "    <tr>\n",
              "      <th>4</th>\n",
              "      <td>2018-12-26</td>\n",
              "      <td>HISPANIC</td>\n",
              "      <td>M</td>\n",
              "      <td>29</td>\n",
              "      <td>100000</td>\n",
              "      <td>CRIMINAL ATTEMPT</td>\n",
              "      <td>2018</td>\n",
              "      <td>Attempt</td>\n",
              "      <td>Non_Violent</td>\n",
              "    </tr>\n",
              "    <tr>\n",
              "      <th>...</th>\n",
              "      <td>...</td>\n",
              "      <td>...</td>\n",
              "      <td>...</td>\n",
              "      <td>...</td>\n",
              "      <td>...</td>\n",
              "      <td>...</td>\n",
              "      <td>...</td>\n",
              "      <td>...</td>\n",
              "      <td>...</td>\n",
              "    </tr>\n",
              "    <tr>\n",
              "      <th>5351844</th>\n",
              "      <td>2014-01-02</td>\n",
              "      <td>BLACK</td>\n",
              "      <td>M</td>\n",
              "      <td>22</td>\n",
              "      <td>505500</td>\n",
              "      <td>ROBBERY, FIRST DEGREE                 BF</td>\n",
              "      <td>2014</td>\n",
              "      <td>Property</td>\n",
              "      <td>Non_Violent</td>\n",
              "    </tr>\n",
              "    <tr>\n",
              "      <th>5351845</th>\n",
              "      <td>2020-12-01</td>\n",
              "      <td>HISPANIC</td>\n",
              "      <td>M</td>\n",
              "      <td>30</td>\n",
              "      <td>75000</td>\n",
              "      <td>BURGLARY, FIRST DEGREE                BF</td>\n",
              "      <td>2020</td>\n",
              "      <td>Property</td>\n",
              "      <td>Non_Violent</td>\n",
              "    </tr>\n",
              "    <tr>\n",
              "      <th>5351846</th>\n",
              "      <td>2019-08-12</td>\n",
              "      <td>WHITE</td>\n",
              "      <td>M</td>\n",
              "      <td>34</td>\n",
              "      <td>501400</td>\n",
              "      <td>HOME INVASION                         AF</td>\n",
              "      <td>2019</td>\n",
              "      <td>Property</td>\n",
              "      <td>Non_Violent</td>\n",
              "    </tr>\n",
              "    <tr>\n",
              "      <th>5351847</th>\n",
              "      <td>2021-03-08</td>\n",
              "      <td>HISPANIC</td>\n",
              "      <td>M</td>\n",
              "      <td>28</td>\n",
              "      <td>150000</td>\n",
              "      <td>CRIMINAL POSS OF PISTOL/REVOLVER      DF</td>\n",
              "      <td>2021</td>\n",
              "      <td>Weapons</td>\n",
              "      <td>Violent</td>\n",
              "    </tr>\n",
              "    <tr>\n",
              "      <th>5351848</th>\n",
              "      <td>2021-02-05</td>\n",
              "      <td>WHITE</td>\n",
              "      <td>M</td>\n",
              "      <td>48</td>\n",
              "      <td>600000</td>\n",
              "      <td>VIOLATION OF PROBATION OR COND DISCHG</td>\n",
              "      <td>2021</td>\n",
              "      <td>Probation</td>\n",
              "      <td>Non_Violent</td>\n",
              "    </tr>\n",
              "  </tbody>\n",
              "</table>\n",
              "<p>4841490 rows × 9 columns</p>\n",
              "</div>"
            ],
            "text/plain": [
              "              Date      RACE GENDER  ...  Year  offense_cat violence_status\n",
              "0       2018-08-16     BLACK      M  ...  2018      Weapons         Violent\n",
              "1       2019-03-28  HISPANIC      M  ...  2019    Probation     Non_Violent\n",
              "2       2020-04-03  HISPANIC      M  ...  2020      Attempt     Non_Violent\n",
              "3       2020-01-15     WHITE      M  ...  2020        Order     Non_Violent\n",
              "4       2018-12-26  HISPANIC      M  ...  2018      Attempt     Non_Violent\n",
              "...            ...       ...    ...  ...   ...          ...             ...\n",
              "5351844 2014-01-02     BLACK      M  ...  2014     Property     Non_Violent\n",
              "5351845 2020-12-01  HISPANIC      M  ...  2020     Property     Non_Violent\n",
              "5351846 2019-08-12     WHITE      M  ...  2019     Property     Non_Violent\n",
              "5351847 2021-03-08  HISPANIC      M  ...  2021      Weapons         Violent\n",
              "5351848 2021-02-05     WHITE      M  ...  2021    Probation     Non_Violent\n",
              "\n",
              "[4841490 rows x 9 columns]"
            ]
          },
          "metadata": {
            "tags": []
          },
          "execution_count": 90
        }
      ]
    },
    {
      "cell_type": "code",
      "metadata": {
        "id": "hxl6N1UNrufY"
      },
      "source": [
        "#MALE data subset by RACE\n",
        "M_AMER_IND = Count_Males[Count_Males.RACE == 'AMER IND']\n",
        "M_ASIAN = Count_Males[Count_Males.RACE == 'ASIAN']\n",
        "M_BLACK = Count_Males[Count_Males.RACE == 'BLACK']\n",
        "M_HISPANIC = Count_Males[Count_Males.RACE == 'HISPANIC']\n",
        "M_WHITE = Count_Males[Count_Males.RACE == 'WHITE']"
      ],
      "execution_count": 91,
      "outputs": []
    },
    {
      "cell_type": "code",
      "metadata": {
        "colab": {
          "base_uri": "https://localhost:8080/",
          "height": 824
        },
        "id": "INmHJiXir0C-",
        "outputId": "47efdebc-70fa-486b-a162-775ffeae6f7c"
      },
      "source": [
        "#MALE total of ppl by held on bond (RACE/YEAR/GENDER COUNT)\n",
        "M_AI_Count = M_AMER_IND.groupby(['Year','RACE','GENDER'], as_index=False).count()\n",
        "M_AS_Count = M_ASIAN.groupby(['Year','RACE','GENDER'], as_index=False).count()\n",
        "M_BL_Count = M_BLACK.groupby(['Year','RACE','GENDER'], as_index=False).count()\n",
        "M_HI_Count = M_HISPANIC.groupby(['Year','RACE','GENDER'], as_index=False).count()\n",
        "M_WH_Count = M_WHITE.groupby(['Year','RACE','GENDER'], as_index=False).count()\n",
        "M_WH_Count"
      ],
      "execution_count": 92,
      "outputs": [
        {
          "output_type": "execute_result",
          "data": {
            "text/html": [
              "<div>\n",
              "<style scoped>\n",
              "    .dataframe tbody tr th:only-of-type {\n",
              "        vertical-align: middle;\n",
              "    }\n",
              "\n",
              "    .dataframe tbody tr th {\n",
              "        vertical-align: top;\n",
              "    }\n",
              "\n",
              "    .dataframe thead th {\n",
              "        text-align: right;\n",
              "    }\n",
              "</style>\n",
              "<table border=\"1\" class=\"dataframe\">\n",
              "  <thead>\n",
              "    <tr style=\"text-align: right;\">\n",
              "      <th></th>\n",
              "      <th>Year</th>\n",
              "      <th>RACE</th>\n",
              "      <th>GENDER</th>\n",
              "      <th>Date</th>\n",
              "      <th>AGE</th>\n",
              "      <th>Bond</th>\n",
              "      <th>OFFENSE</th>\n",
              "      <th>offense_cat</th>\n",
              "      <th>violence_status</th>\n",
              "    </tr>\n",
              "  </thead>\n",
              "  <tbody>\n",
              "    <tr>\n",
              "      <th>0</th>\n",
              "      <td>1980</td>\n",
              "      <td>WHITE</td>\n",
              "      <td>M</td>\n",
              "      <td>61</td>\n",
              "      <td>61</td>\n",
              "      <td>61</td>\n",
              "      <td>61</td>\n",
              "      <td>61</td>\n",
              "      <td>61</td>\n",
              "    </tr>\n",
              "    <tr>\n",
              "      <th>1</th>\n",
              "      <td>1994</td>\n",
              "      <td>WHITE</td>\n",
              "      <td>M</td>\n",
              "      <td>8</td>\n",
              "      <td>8</td>\n",
              "      <td>8</td>\n",
              "      <td>8</td>\n",
              "      <td>8</td>\n",
              "      <td>8</td>\n",
              "    </tr>\n",
              "    <tr>\n",
              "      <th>2</th>\n",
              "      <td>1996</td>\n",
              "      <td>WHITE</td>\n",
              "      <td>M</td>\n",
              "      <td>354</td>\n",
              "      <td>354</td>\n",
              "      <td>354</td>\n",
              "      <td>354</td>\n",
              "      <td>354</td>\n",
              "      <td>354</td>\n",
              "    </tr>\n",
              "    <tr>\n",
              "      <th>3</th>\n",
              "      <td>2000</td>\n",
              "      <td>WHITE</td>\n",
              "      <td>M</td>\n",
              "      <td>167</td>\n",
              "      <td>167</td>\n",
              "      <td>167</td>\n",
              "      <td>167</td>\n",
              "      <td>167</td>\n",
              "      <td>167</td>\n",
              "    </tr>\n",
              "    <tr>\n",
              "      <th>4</th>\n",
              "      <td>2001</td>\n",
              "      <td>WHITE</td>\n",
              "      <td>M</td>\n",
              "      <td>924</td>\n",
              "      <td>924</td>\n",
              "      <td>924</td>\n",
              "      <td>924</td>\n",
              "      <td>924</td>\n",
              "      <td>924</td>\n",
              "    </tr>\n",
              "    <tr>\n",
              "      <th>5</th>\n",
              "      <td>2002</td>\n",
              "      <td>WHITE</td>\n",
              "      <td>M</td>\n",
              "      <td>458</td>\n",
              "      <td>458</td>\n",
              "      <td>458</td>\n",
              "      <td>458</td>\n",
              "      <td>458</td>\n",
              "      <td>458</td>\n",
              "    </tr>\n",
              "    <tr>\n",
              "      <th>6</th>\n",
              "      <td>2003</td>\n",
              "      <td>WHITE</td>\n",
              "      <td>M</td>\n",
              "      <td>653</td>\n",
              "      <td>653</td>\n",
              "      <td>653</td>\n",
              "      <td>653</td>\n",
              "      <td>653</td>\n",
              "      <td>653</td>\n",
              "    </tr>\n",
              "    <tr>\n",
              "      <th>7</th>\n",
              "      <td>2004</td>\n",
              "      <td>WHITE</td>\n",
              "      <td>M</td>\n",
              "      <td>75</td>\n",
              "      <td>75</td>\n",
              "      <td>75</td>\n",
              "      <td>75</td>\n",
              "      <td>75</td>\n",
              "      <td>75</td>\n",
              "    </tr>\n",
              "    <tr>\n",
              "      <th>8</th>\n",
              "      <td>2005</td>\n",
              "      <td>WHITE</td>\n",
              "      <td>M</td>\n",
              "      <td>1780</td>\n",
              "      <td>1780</td>\n",
              "      <td>1780</td>\n",
              "      <td>1780</td>\n",
              "      <td>1780</td>\n",
              "      <td>1780</td>\n",
              "    </tr>\n",
              "    <tr>\n",
              "      <th>9</th>\n",
              "      <td>2006</td>\n",
              "      <td>WHITE</td>\n",
              "      <td>M</td>\n",
              "      <td>1201</td>\n",
              "      <td>1201</td>\n",
              "      <td>1201</td>\n",
              "      <td>1201</td>\n",
              "      <td>1201</td>\n",
              "      <td>1201</td>\n",
              "    </tr>\n",
              "    <tr>\n",
              "      <th>10</th>\n",
              "      <td>2007</td>\n",
              "      <td>WHITE</td>\n",
              "      <td>M</td>\n",
              "      <td>2347</td>\n",
              "      <td>2347</td>\n",
              "      <td>2347</td>\n",
              "      <td>2347</td>\n",
              "      <td>2347</td>\n",
              "      <td>2347</td>\n",
              "    </tr>\n",
              "    <tr>\n",
              "      <th>11</th>\n",
              "      <td>2008</td>\n",
              "      <td>WHITE</td>\n",
              "      <td>M</td>\n",
              "      <td>3872</td>\n",
              "      <td>3872</td>\n",
              "      <td>3872</td>\n",
              "      <td>3872</td>\n",
              "      <td>3872</td>\n",
              "      <td>3872</td>\n",
              "    </tr>\n",
              "    <tr>\n",
              "      <th>12</th>\n",
              "      <td>2009</td>\n",
              "      <td>WHITE</td>\n",
              "      <td>M</td>\n",
              "      <td>2347</td>\n",
              "      <td>2347</td>\n",
              "      <td>2347</td>\n",
              "      <td>2347</td>\n",
              "      <td>2347</td>\n",
              "      <td>2347</td>\n",
              "    </tr>\n",
              "    <tr>\n",
              "      <th>13</th>\n",
              "      <td>2010</td>\n",
              "      <td>WHITE</td>\n",
              "      <td>M</td>\n",
              "      <td>3393</td>\n",
              "      <td>3393</td>\n",
              "      <td>3393</td>\n",
              "      <td>3393</td>\n",
              "      <td>3393</td>\n",
              "      <td>3393</td>\n",
              "    </tr>\n",
              "    <tr>\n",
              "      <th>14</th>\n",
              "      <td>2011</td>\n",
              "      <td>WHITE</td>\n",
              "      <td>M</td>\n",
              "      <td>2761</td>\n",
              "      <td>2761</td>\n",
              "      <td>2761</td>\n",
              "      <td>2761</td>\n",
              "      <td>2761</td>\n",
              "      <td>2761</td>\n",
              "    </tr>\n",
              "    <tr>\n",
              "      <th>15</th>\n",
              "      <td>2012</td>\n",
              "      <td>WHITE</td>\n",
              "      <td>M</td>\n",
              "      <td>4674</td>\n",
              "      <td>4674</td>\n",
              "      <td>4674</td>\n",
              "      <td>4674</td>\n",
              "      <td>4674</td>\n",
              "      <td>4674</td>\n",
              "    </tr>\n",
              "    <tr>\n",
              "      <th>16</th>\n",
              "      <td>2013</td>\n",
              "      <td>WHITE</td>\n",
              "      <td>M</td>\n",
              "      <td>8911</td>\n",
              "      <td>8911</td>\n",
              "      <td>8911</td>\n",
              "      <td>8911</td>\n",
              "      <td>8911</td>\n",
              "      <td>8911</td>\n",
              "    </tr>\n",
              "    <tr>\n",
              "      <th>17</th>\n",
              "      <td>2014</td>\n",
              "      <td>WHITE</td>\n",
              "      <td>M</td>\n",
              "      <td>11851</td>\n",
              "      <td>11851</td>\n",
              "      <td>11851</td>\n",
              "      <td>11851</td>\n",
              "      <td>11851</td>\n",
              "      <td>11851</td>\n",
              "    </tr>\n",
              "    <tr>\n",
              "      <th>18</th>\n",
              "      <td>2015</td>\n",
              "      <td>WHITE</td>\n",
              "      <td>M</td>\n",
              "      <td>31066</td>\n",
              "      <td>31066</td>\n",
              "      <td>31066</td>\n",
              "      <td>31066</td>\n",
              "      <td>31066</td>\n",
              "      <td>31066</td>\n",
              "    </tr>\n",
              "    <tr>\n",
              "      <th>19</th>\n",
              "      <td>2016</td>\n",
              "      <td>WHITE</td>\n",
              "      <td>M</td>\n",
              "      <td>212719</td>\n",
              "      <td>212719</td>\n",
              "      <td>212719</td>\n",
              "      <td>212719</td>\n",
              "      <td>212719</td>\n",
              "      <td>212719</td>\n",
              "    </tr>\n",
              "    <tr>\n",
              "      <th>20</th>\n",
              "      <td>2017</td>\n",
              "      <td>WHITE</td>\n",
              "      <td>M</td>\n",
              "      <td>327198</td>\n",
              "      <td>327198</td>\n",
              "      <td>327198</td>\n",
              "      <td>327198</td>\n",
              "      <td>327198</td>\n",
              "      <td>327198</td>\n",
              "    </tr>\n",
              "    <tr>\n",
              "      <th>21</th>\n",
              "      <td>2018</td>\n",
              "      <td>WHITE</td>\n",
              "      <td>M</td>\n",
              "      <td>314244</td>\n",
              "      <td>314244</td>\n",
              "      <td>314244</td>\n",
              "      <td>314244</td>\n",
              "      <td>314244</td>\n",
              "      <td>314244</td>\n",
              "    </tr>\n",
              "    <tr>\n",
              "      <th>22</th>\n",
              "      <td>2019</td>\n",
              "      <td>WHITE</td>\n",
              "      <td>M</td>\n",
              "      <td>277190</td>\n",
              "      <td>277190</td>\n",
              "      <td>277190</td>\n",
              "      <td>277190</td>\n",
              "      <td>277190</td>\n",
              "      <td>277190</td>\n",
              "    </tr>\n",
              "    <tr>\n",
              "      <th>23</th>\n",
              "      <td>2020</td>\n",
              "      <td>WHITE</td>\n",
              "      <td>M</td>\n",
              "      <td>171976</td>\n",
              "      <td>171976</td>\n",
              "      <td>171976</td>\n",
              "      <td>171976</td>\n",
              "      <td>171976</td>\n",
              "      <td>171976</td>\n",
              "    </tr>\n",
              "    <tr>\n",
              "      <th>24</th>\n",
              "      <td>2021</td>\n",
              "      <td>WHITE</td>\n",
              "      <td>M</td>\n",
              "      <td>14108</td>\n",
              "      <td>14108</td>\n",
              "      <td>14108</td>\n",
              "      <td>14108</td>\n",
              "      <td>14108</td>\n",
              "      <td>14108</td>\n",
              "    </tr>\n",
              "  </tbody>\n",
              "</table>\n",
              "</div>"
            ],
            "text/plain": [
              "    Year   RACE GENDER    Date  ...    Bond  OFFENSE  offense_cat  violence_status\n",
              "0   1980  WHITE      M      61  ...      61       61           61               61\n",
              "1   1994  WHITE      M       8  ...       8        8            8                8\n",
              "2   1996  WHITE      M     354  ...     354      354          354              354\n",
              "3   2000  WHITE      M     167  ...     167      167          167              167\n",
              "4   2001  WHITE      M     924  ...     924      924          924              924\n",
              "5   2002  WHITE      M     458  ...     458      458          458              458\n",
              "6   2003  WHITE      M     653  ...     653      653          653              653\n",
              "7   2004  WHITE      M      75  ...      75       75           75               75\n",
              "8   2005  WHITE      M    1780  ...    1780     1780         1780             1780\n",
              "9   2006  WHITE      M    1201  ...    1201     1201         1201             1201\n",
              "10  2007  WHITE      M    2347  ...    2347     2347         2347             2347\n",
              "11  2008  WHITE      M    3872  ...    3872     3872         3872             3872\n",
              "12  2009  WHITE      M    2347  ...    2347     2347         2347             2347\n",
              "13  2010  WHITE      M    3393  ...    3393     3393         3393             3393\n",
              "14  2011  WHITE      M    2761  ...    2761     2761         2761             2761\n",
              "15  2012  WHITE      M    4674  ...    4674     4674         4674             4674\n",
              "16  2013  WHITE      M    8911  ...    8911     8911         8911             8911\n",
              "17  2014  WHITE      M   11851  ...   11851    11851        11851            11851\n",
              "18  2015  WHITE      M   31066  ...   31066    31066        31066            31066\n",
              "19  2016  WHITE      M  212719  ...  212719   212719       212719           212719\n",
              "20  2017  WHITE      M  327198  ...  327198   327198       327198           327198\n",
              "21  2018  WHITE      M  314244  ...  314244   314244       314244           314244\n",
              "22  2019  WHITE      M  277190  ...  277190   277190       277190           277190\n",
              "23  2020  WHITE      M  171976  ...  171976   171976       171976           171976\n",
              "24  2021  WHITE      M   14108  ...   14108    14108        14108            14108\n",
              "\n",
              "[25 rows x 9 columns]"
            ]
          },
          "metadata": {
            "tags": []
          },
          "execution_count": 92
        }
      ]
    },
    {
      "cell_type": "code",
      "metadata": {
        "id": "Jm5TmLvEr9tv"
      },
      "source": [
        "#JOINED \"Count\" data frames by gender/race\n",
        "F_count_frames = F_AI_Count.append([F_AS_Count, F_BL_Count, F_HI_Count, F_WH_Count])\n",
        "M_count_frames = M_AI_Count.append([M_AS_Count, M_BL_Count, M_HI_Count, M_WH_Count])"
      ],
      "execution_count": 93,
      "outputs": []
    },
    {
      "cell_type": "code",
      "metadata": {
        "colab": {
          "base_uri": "https://localhost:8080/",
          "height": 202
        },
        "id": "mT04yUUksG9A",
        "outputId": "fee9728b-ecbd-4338-edbd-3841af54ce8a"
      },
      "source": [
        "g = sns.FacetGrid(F_count_frames, col=\"RACE\", row=\"GENDER\")\n",
        "g.map_dataframe(sns.lineplot, x=\"Year\", y= \"Date\")\n",
        "g.set_axis_labels(\"YEAR\", \"Total Indivduals Held on Bond\")\n",
        "plt.xlim(2010,2021)\n",
        "g.add_legend()"
      ],
      "execution_count": 94,
      "outputs": [
        {
          "output_type": "execute_result",
          "data": {
            "text/plain": [
              "<seaborn.axisgrid.FacetGrid at 0x7f3caa148b50>"
            ]
          },
          "metadata": {
            "tags": []
          },
          "execution_count": 94
        },
        {
          "output_type": "display_data",
          "data": {
            "image/png": "[encoded data removed]",
            "text/plain": [
              "<Figure size 1088x216 with 5 Axes>"
            ]
          },
          "metadata": {
            "tags": [],
            "needs_background": "light"
          }
        }
      ]
    },
    {
      "cell_type": "code",
      "metadata": {
        "colab": {
          "base_uri": "https://localhost:8080/",
          "height": 202
        },
        "id": "dnPvReX-svtr",
        "outputId": "78dffce9-52b7-4b64-fadc-160e9f0aa193"
      },
      "source": [
        "g = sns.FacetGrid(M_count_frames, col=\"RACE\", row=\"GENDER\")\n",
        "g.map_dataframe(sns.lineplot, x=\"Year\", y=\"Date\")\n",
        "g.set_axis_labels(\"YEAR\", \"Total Indivduals Held on Bond\")\n",
        "plt.xlim(2010,2021)\n",
        "g.add_legend()"
      ],
      "execution_count": 95,
      "outputs": [
        {
          "output_type": "execute_result",
          "data": {
            "text/plain": [
              "<seaborn.axisgrid.FacetGrid at 0x7f3caa37ef10>"
            ]
          },
          "metadata": {
            "tags": []
          },
          "execution_count": 95
        },
        {
          "output_type": "display_data",
          "data": {
            "image/png": "[encoded data removed]",
            "text/plain": [
              "<Figure size 1088x216 with 5 Axes>"
            ]
          },
          "metadata": {
            "tags": [],
            "needs_background": "light"
          }
        }
      ]
    },
    {
      "cell_type": "code",
      "metadata": {
        "colab": {
          "base_uri": "https://localhost:8080/"
        },
        "id": "IhcOIRPCpoRu",
        "outputId": "590e4f02-5738-465b-9ecc-d5e80f5aaf7b"
      },
      "source": [
        "# Group by race & gender & bail amounts \n",
        "df_race_gender_average= df.groupby(['GENDER', 'RACE'])['Bond'].mean()\n",
        "df_race_gender_average"
      ],
      "execution_count": 96,
      "outputs": [
        {
          "output_type": "execute_result",
          "data": {
            "text/plain": [
              "GENDER  RACE    \n",
              "F       AMER IND    106903.954802\n",
              "        ASIAN        92171.212535\n",
              "        BLACK       168174.505839\n",
              "        HISPANIC    190300.492827\n",
              "        WHITE        98719.901143\n",
              "M       AMER IND    155987.355753\n",
              "        ASIAN       232698.213503\n",
              "        BLACK       315178.679255\n",
              "        HISPANIC    260947.448860\n",
              "        WHITE       177646.664999\n",
              "Name: Bond, dtype: float64"
            ]
          },
          "metadata": {
            "tags": []
          },
          "execution_count": 96
        }
      ]
    },
    {
      "cell_type": "code",
      "metadata": {
        "colab": {
          "base_uri": "https://localhost:8080/",
          "height": 297
        },
        "id": "a3GkmVUZqSoz",
        "outputId": "a48c47a3-508f-4e1d-9298-a63ea4672114"
      },
      "source": [
        "#PLOT 1 Average Bond Amount between race & gender\n",
        "\n",
        "labels = ['AMER IND', 'ASIAN', 'BLACK ', 'HISPANIC', ' WHITE']\n",
        "men_means = [155748.532128, 232742.599207 , 315105.028987, 260895.535516, 177618.248335]\n",
        "women_means = [106661.219359, 92160.597951, 168158.587609, 190246.443777, 98698.096450]\n",
        "\n",
        "x = np.arange(len(labels))  # the label locations\n",
        "width = 0.35  # the width of the bars\n",
        "\n",
        "fig, ax = plt.subplots()\n",
        "rects1 =ax.bar(x - width/2, men_means, width, label='Men',color='purple' )\n",
        "rects2= ax.bar(x + width/2, women_means, width, label='Women', color='pink')\n",
        "\n",
        "# Add some text for labels, title and custom x-axis tick labels, etc.\n",
        "ax.set_ylabel('BOND AMOUNTS')\n",
        "ax.set_title('Average Bond Amounts by Race and Gender')\n",
        "ax.set_xticks(x)\n",
        "ax.set_xticklabels(labels)\n",
        "ax.legend()\n",
        "\n",
        "fig.tight_layout()\n",
        "\n",
        "plt.show()"
      ],
      "execution_count": 97,
      "outputs": [
        {
          "output_type": "display_data",
          "data": {
            "image/png": "[encoded data removed]",
            "text/plain": [
              "<Figure size 432x288 with 1 Axes>"
            ]
          },
          "metadata": {
            "tags": [],
            "needs_background": "light"
          }
        }
      ]
    },
    {
      "cell_type": "code",
      "metadata": {
        "colab": {
          "base_uri": "https://localhost:8080/",
          "height": 1000
        },
        "id": "G5P-sBx-Rn5L",
        "outputId": "b9bccdf8-3750-4762-b472-aef376687d49"
      },
      "source": [
        "# Group by Gender and Year\n",
        "df_gender_year = df.groupby(['Year', 'GENDER']).sum()\n",
        "df_gender_year"
      ],
      "execution_count": 98,
      "outputs": [
        {
          "output_type": "execute_result",
          "data": {
            "text/html": [
              "<div>\n",
              "<style scoped>\n",
              "    .dataframe tbody tr th:only-of-type {\n",
              "        vertical-align: middle;\n",
              "    }\n",
              "\n",
              "    .dataframe tbody tr th {\n",
              "        vertical-align: top;\n",
              "    }\n",
              "\n",
              "    .dataframe thead th {\n",
              "        text-align: right;\n",
              "    }\n",
              "</style>\n",
              "<table border=\"1\" class=\"dataframe\">\n",
              "  <thead>\n",
              "    <tr style=\"text-align: right;\">\n",
              "      <th></th>\n",
              "      <th></th>\n",
              "      <th>AGE</th>\n",
              "      <th>Bond</th>\n",
              "    </tr>\n",
              "    <tr>\n",
              "      <th>Year</th>\n",
              "      <th>GENDER</th>\n",
              "      <th></th>\n",
              "      <th></th>\n",
              "    </tr>\n",
              "  </thead>\n",
              "  <tbody>\n",
              "    <tr>\n",
              "      <th>1980</th>\n",
              "      <th>M</th>\n",
              "      <td>3721</td>\n",
              "      <td>2135000</td>\n",
              "    </tr>\n",
              "    <tr>\n",
              "      <th>1988</th>\n",
              "      <th>M</th>\n",
              "      <td>884</td>\n",
              "      <td>170000</td>\n",
              "    </tr>\n",
              "    <tr>\n",
              "      <th>1993</th>\n",
              "      <th>M</th>\n",
              "      <td>1484</td>\n",
              "      <td>140000</td>\n",
              "    </tr>\n",
              "    <tr>\n",
              "      <th>1994</th>\n",
              "      <th>M</th>\n",
              "      <td>456</td>\n",
              "      <td>8000</td>\n",
              "    </tr>\n",
              "    <tr>\n",
              "      <th>1996</th>\n",
              "      <th>M</th>\n",
              "      <td>27491</td>\n",
              "      <td>114419050</td>\n",
              "    </tr>\n",
              "    <tr>\n",
              "      <th>1998</th>\n",
              "      <th>M</th>\n",
              "      <td>68</td>\n",
              "      <td>180000</td>\n",
              "    </tr>\n",
              "    <tr>\n",
              "      <th>1999</th>\n",
              "      <th>M</th>\n",
              "      <td>27191</td>\n",
              "      <td>14992500</td>\n",
              "    </tr>\n",
              "    <tr>\n",
              "      <th>2000</th>\n",
              "      <th>M</th>\n",
              "      <td>101180</td>\n",
              "      <td>341716800</td>\n",
              "    </tr>\n",
              "    <tr>\n",
              "      <th>2001</th>\n",
              "      <th>M</th>\n",
              "      <td>103429</td>\n",
              "      <td>187671450</td>\n",
              "    </tr>\n",
              "    <tr>\n",
              "      <th>2002</th>\n",
              "      <th>M</th>\n",
              "      <td>54122</td>\n",
              "      <td>177669650</td>\n",
              "    </tr>\n",
              "    <tr>\n",
              "      <th>2003</th>\n",
              "      <th>M</th>\n",
              "      <td>113219</td>\n",
              "      <td>224141250</td>\n",
              "    </tr>\n",
              "    <tr>\n",
              "      <th>2004</th>\n",
              "      <th>M</th>\n",
              "      <td>155395</td>\n",
              "      <td>795401700</td>\n",
              "    </tr>\n",
              "    <tr>\n",
              "      <th>2005</th>\n",
              "      <th>M</th>\n",
              "      <td>308657</td>\n",
              "      <td>702018700</td>\n",
              "    </tr>\n",
              "    <tr>\n",
              "      <th rowspan=\"2\" valign=\"top\">2006</th>\n",
              "      <th>F</th>\n",
              "      <td>12430</td>\n",
              "      <td>8970000</td>\n",
              "    </tr>\n",
              "    <tr>\n",
              "      <th>M</th>\n",
              "      <td>284708</td>\n",
              "      <td>2965300950</td>\n",
              "    </tr>\n",
              "    <tr>\n",
              "      <th rowspan=\"2\" valign=\"top\">2007</th>\n",
              "      <th>F</th>\n",
              "      <td>6108</td>\n",
              "      <td>865000</td>\n",
              "    </tr>\n",
              "    <tr>\n",
              "      <th>M</th>\n",
              "      <td>324114</td>\n",
              "      <td>1991121600</td>\n",
              "    </tr>\n",
              "    <tr>\n",
              "      <th rowspan=\"2\" valign=\"top\">2008</th>\n",
              "      <th>F</th>\n",
              "      <td>3564</td>\n",
              "      <td>2705400</td>\n",
              "    </tr>\n",
              "    <tr>\n",
              "      <th>M</th>\n",
              "      <td>473828</td>\n",
              "      <td>2890131058</td>\n",
              "    </tr>\n",
              "    <tr>\n",
              "      <th rowspan=\"2\" valign=\"top\">2009</th>\n",
              "      <th>F</th>\n",
              "      <td>6036</td>\n",
              "      <td>3260000</td>\n",
              "    </tr>\n",
              "    <tr>\n",
              "      <th>M</th>\n",
              "      <td>367672</td>\n",
              "      <td>1849062250</td>\n",
              "    </tr>\n",
              "    <tr>\n",
              "      <th>2010</th>\n",
              "      <th>M</th>\n",
              "      <td>661965</td>\n",
              "      <td>2576382450</td>\n",
              "    </tr>\n",
              "    <tr>\n",
              "      <th rowspan=\"2\" valign=\"top\">2011</th>\n",
              "      <th>F</th>\n",
              "      <td>8950</td>\n",
              "      <td>172500</td>\n",
              "    </tr>\n",
              "    <tr>\n",
              "      <th>M</th>\n",
              "      <td>894967</td>\n",
              "      <td>5281100477</td>\n",
              "    </tr>\n",
              "    <tr>\n",
              "      <th rowspan=\"2\" valign=\"top\">2012</th>\n",
              "      <th>F</th>\n",
              "      <td>26482</td>\n",
              "      <td>284647000</td>\n",
              "    </tr>\n",
              "    <tr>\n",
              "      <th>M</th>\n",
              "      <td>1411596</td>\n",
              "      <td>8877444950</td>\n",
              "    </tr>\n",
              "    <tr>\n",
              "      <th rowspan=\"2\" valign=\"top\">2013</th>\n",
              "      <th>F</th>\n",
              "      <td>9774</td>\n",
              "      <td>6541700</td>\n",
              "    </tr>\n",
              "    <tr>\n",
              "      <th>M</th>\n",
              "      <td>1171247</td>\n",
              "      <td>12457206928</td>\n",
              "    </tr>\n",
              "    <tr>\n",
              "      <th rowspan=\"2\" valign=\"top\">2014</th>\n",
              "      <th>F</th>\n",
              "      <td>37355</td>\n",
              "      <td>721126528</td>\n",
              "    </tr>\n",
              "    <tr>\n",
              "      <th>M</th>\n",
              "      <td>1930062</td>\n",
              "      <td>19177221714</td>\n",
              "    </tr>\n",
              "    <tr>\n",
              "      <th rowspan=\"2\" valign=\"top\">2015</th>\n",
              "      <th>F</th>\n",
              "      <td>272364</td>\n",
              "      <td>5106065365</td>\n",
              "    </tr>\n",
              "    <tr>\n",
              "      <th>M</th>\n",
              "      <td>4710382</td>\n",
              "      <td>73758973633</td>\n",
              "    </tr>\n",
              "    <tr>\n",
              "      <th rowspan=\"2\" valign=\"top\">2016</th>\n",
              "      <th>F</th>\n",
              "      <td>2195700</td>\n",
              "      <td>8601977350</td>\n",
              "    </tr>\n",
              "    <tr>\n",
              "      <th>M</th>\n",
              "      <td>24039691</td>\n",
              "      <td>160849421167</td>\n",
              "    </tr>\n",
              "    <tr>\n",
              "      <th rowspan=\"2\" valign=\"top\">2017</th>\n",
              "      <th>F</th>\n",
              "      <td>4242185</td>\n",
              "      <td>13790820312</td>\n",
              "    </tr>\n",
              "    <tr>\n",
              "      <th>M</th>\n",
              "      <td>35974960</td>\n",
              "      <td>264214480767</td>\n",
              "    </tr>\n",
              "    <tr>\n",
              "      <th rowspan=\"2\" valign=\"top\">2018</th>\n",
              "      <th>F</th>\n",
              "      <td>4321357</td>\n",
              "      <td>17050356812</td>\n",
              "    </tr>\n",
              "    <tr>\n",
              "      <th>M</th>\n",
              "      <td>37413693</td>\n",
              "      <td>304305232614</td>\n",
              "    </tr>\n",
              "    <tr>\n",
              "      <th rowspan=\"2\" valign=\"top\">2019</th>\n",
              "      <th>F</th>\n",
              "      <td>4117366</td>\n",
              "      <td>15440876658</td>\n",
              "    </tr>\n",
              "    <tr>\n",
              "      <th>M</th>\n",
              "      <td>34580786</td>\n",
              "      <td>262634112412</td>\n",
              "    </tr>\n",
              "    <tr>\n",
              "      <th rowspan=\"2\" valign=\"top\">2020</th>\n",
              "      <th>F</th>\n",
              "      <td>2207953</td>\n",
              "      <td>7278064150</td>\n",
              "    </tr>\n",
              "    <tr>\n",
              "      <th>M</th>\n",
              "      <td>20766229</td>\n",
              "      <td>122512449188</td>\n",
              "    </tr>\n",
              "    <tr>\n",
              "      <th rowspan=\"2\" valign=\"top\">2021</th>\n",
              "      <th>F</th>\n",
              "      <td>251820</td>\n",
              "      <td>490900390</td>\n",
              "    </tr>\n",
              "    <tr>\n",
              "      <th>M</th>\n",
              "      <td>1603137</td>\n",
              "      <td>8172976770</td>\n",
              "    </tr>\n",
              "  </tbody>\n",
              "</table>\n",
              "</div>"
            ],
            "text/plain": [
              "                  AGE          Bond\n",
              "Year GENDER                        \n",
              "1980 M           3721       2135000\n",
              "1988 M            884        170000\n",
              "1993 M           1484        140000\n",
              "1994 M            456          8000\n",
              "1996 M          27491     114419050\n",
              "1998 M             68        180000\n",
              "1999 M          27191      14992500\n",
              "2000 M         101180     341716800\n",
              "2001 M         103429     187671450\n",
              "2002 M          54122     177669650\n",
              "2003 M         113219     224141250\n",
              "2004 M         155395     795401700\n",
              "2005 M         308657     702018700\n",
              "2006 F          12430       8970000\n",
              "     M         284708    2965300950\n",
              "2007 F           6108        865000\n",
              "     M         324114    1991121600\n",
              "2008 F           3564       2705400\n",
              "     M         473828    2890131058\n",
              "2009 F           6036       3260000\n",
              "     M         367672    1849062250\n",
              "2010 M         661965    2576382450\n",
              "2011 F           8950        172500\n",
              "     M         894967    5281100477\n",
              "2012 F          26482     284647000\n",
              "     M        1411596    8877444950\n",
              "2013 F           9774       6541700\n",
              "     M        1171247   12457206928\n",
              "2014 F          37355     721126528\n",
              "     M        1930062   19177221714\n",
              "2015 F         272364    5106065365\n",
              "     M        4710382   73758973633\n",
              "2016 F        2195700    8601977350\n",
              "     M       24039691  160849421167\n",
              "2017 F        4242185   13790820312\n",
              "     M       35974960  264214480767\n",
              "2018 F        4321357   17050356812\n",
              "     M       37413693  304305232614\n",
              "2019 F        4117366   15440876658\n",
              "     M       34580786  262634112412\n",
              "2020 F        2207953    7278064150\n",
              "     M       20766229  122512449188\n",
              "2021 F         251820     490900390\n",
              "     M        1603137    8172976770"
            ]
          },
          "metadata": {
            "tags": []
          },
          "execution_count": 98
        }
      ]
    },
    {
      "cell_type": "code",
      "metadata": {
        "colab": {
          "base_uri": "https://localhost:8080/",
          "height": 1000
        },
        "id": "-HHsjysdOG2z",
        "outputId": "53cb40a4-f392-43c0-a5bf-5c11af12a4c8"
      },
      "source": [
        "# Group by Gender and Year - Count\n",
        "df_gender_year_count = df.groupby(['Year', 'GENDER']).count()\n",
        "df_gender_year_count"
      ],
      "execution_count": 99,
      "outputs": [
        {
          "output_type": "execute_result",
          "data": {
            "text/html": [
              "<div>\n",
              "<style scoped>\n",
              "    .dataframe tbody tr th:only-of-type {\n",
              "        vertical-align: middle;\n",
              "    }\n",
              "\n",
              "    .dataframe tbody tr th {\n",
              "        vertical-align: top;\n",
              "    }\n",
              "\n",
              "    .dataframe thead th {\n",
              "        text-align: right;\n",
              "    }\n",
              "</style>\n",
              "<table border=\"1\" class=\"dataframe\">\n",
              "  <thead>\n",
              "    <tr style=\"text-align: right;\">\n",
              "      <th></th>\n",
              "      <th></th>\n",
              "      <th>Date</th>\n",
              "      <th>RACE</th>\n",
              "      <th>AGE</th>\n",
              "      <th>Bond</th>\n",
              "      <th>OFFENSE</th>\n",
              "      <th>offense_cat</th>\n",
              "      <th>violence_status</th>\n",
              "    </tr>\n",
              "    <tr>\n",
              "      <th>Year</th>\n",
              "      <th>GENDER</th>\n",
              "      <th></th>\n",
              "      <th></th>\n",
              "      <th></th>\n",
              "      <th></th>\n",
              "      <th></th>\n",
              "      <th></th>\n",
              "      <th></th>\n",
              "    </tr>\n",
              "  </thead>\n",
              "  <tbody>\n",
              "    <tr>\n",
              "      <th>1980</th>\n",
              "      <th>M</th>\n",
              "      <td>61</td>\n",
              "      <td>61</td>\n",
              "      <td>61</td>\n",
              "      <td>61</td>\n",
              "      <td>61</td>\n",
              "      <td>61</td>\n",
              "      <td>61</td>\n",
              "    </tr>\n",
              "    <tr>\n",
              "      <th>1988</th>\n",
              "      <th>M</th>\n",
              "      <td>17</td>\n",
              "      <td>17</td>\n",
              "      <td>17</td>\n",
              "      <td>17</td>\n",
              "      <td>17</td>\n",
              "      <td>17</td>\n",
              "      <td>17</td>\n",
              "    </tr>\n",
              "    <tr>\n",
              "      <th>1993</th>\n",
              "      <th>M</th>\n",
              "      <td>28</td>\n",
              "      <td>28</td>\n",
              "      <td>28</td>\n",
              "      <td>28</td>\n",
              "      <td>28</td>\n",
              "      <td>28</td>\n",
              "      <td>28</td>\n",
              "    </tr>\n",
              "    <tr>\n",
              "      <th>1994</th>\n",
              "      <th>M</th>\n",
              "      <td>8</td>\n",
              "      <td>8</td>\n",
              "      <td>8</td>\n",
              "      <td>8</td>\n",
              "      <td>8</td>\n",
              "      <td>8</td>\n",
              "      <td>8</td>\n",
              "    </tr>\n",
              "    <tr>\n",
              "      <th>1996</th>\n",
              "      <th>M</th>\n",
              "      <td>501</td>\n",
              "      <td>501</td>\n",
              "      <td>501</td>\n",
              "      <td>501</td>\n",
              "      <td>501</td>\n",
              "      <td>501</td>\n",
              "      <td>501</td>\n",
              "    </tr>\n",
              "    <tr>\n",
              "      <th>1998</th>\n",
              "      <th>M</th>\n",
              "      <td>2</td>\n",
              "      <td>2</td>\n",
              "      <td>2</td>\n",
              "      <td>2</td>\n",
              "      <td>2</td>\n",
              "      <td>2</td>\n",
              "      <td>2</td>\n",
              "    </tr>\n",
              "    <tr>\n",
              "      <th>1999</th>\n",
              "      <th>M</th>\n",
              "      <td>575</td>\n",
              "      <td>575</td>\n",
              "      <td>575</td>\n",
              "      <td>575</td>\n",
              "      <td>575</td>\n",
              "      <td>575</td>\n",
              "      <td>575</td>\n",
              "    </tr>\n",
              "    <tr>\n",
              "      <th>2000</th>\n",
              "      <th>M</th>\n",
              "      <td>2341</td>\n",
              "      <td>2341</td>\n",
              "      <td>2341</td>\n",
              "      <td>2341</td>\n",
              "      <td>2341</td>\n",
              "      <td>2341</td>\n",
              "      <td>2341</td>\n",
              "    </tr>\n",
              "    <tr>\n",
              "      <th>2001</th>\n",
              "      <th>M</th>\n",
              "      <td>2448</td>\n",
              "      <td>2448</td>\n",
              "      <td>2448</td>\n",
              "      <td>2448</td>\n",
              "      <td>2448</td>\n",
              "      <td>2448</td>\n",
              "      <td>2448</td>\n",
              "    </tr>\n",
              "    <tr>\n",
              "      <th>2002</th>\n",
              "      <th>M</th>\n",
              "      <td>1141</td>\n",
              "      <td>1141</td>\n",
              "      <td>1141</td>\n",
              "      <td>1141</td>\n",
              "      <td>1141</td>\n",
              "      <td>1141</td>\n",
              "      <td>1141</td>\n",
              "    </tr>\n",
              "    <tr>\n",
              "      <th>2003</th>\n",
              "      <th>M</th>\n",
              "      <td>2612</td>\n",
              "      <td>2612</td>\n",
              "      <td>2612</td>\n",
              "      <td>2612</td>\n",
              "      <td>2612</td>\n",
              "      <td>2612</td>\n",
              "      <td>2612</td>\n",
              "    </tr>\n",
              "    <tr>\n",
              "      <th>2004</th>\n",
              "      <th>M</th>\n",
              "      <td>3696</td>\n",
              "      <td>3696</td>\n",
              "      <td>3696</td>\n",
              "      <td>3696</td>\n",
              "      <td>3696</td>\n",
              "      <td>3696</td>\n",
              "      <td>3696</td>\n",
              "    </tr>\n",
              "    <tr>\n",
              "      <th>2005</th>\n",
              "      <th>M</th>\n",
              "      <td>7083</td>\n",
              "      <td>7083</td>\n",
              "      <td>7083</td>\n",
              "      <td>7083</td>\n",
              "      <td>7083</td>\n",
              "      <td>7083</td>\n",
              "      <td>7083</td>\n",
              "    </tr>\n",
              "    <tr>\n",
              "      <th rowspan=\"2\" valign=\"top\">2006</th>\n",
              "      <th>F</th>\n",
              "      <td>351</td>\n",
              "      <td>351</td>\n",
              "      <td>351</td>\n",
              "      <td>351</td>\n",
              "      <td>351</td>\n",
              "      <td>351</td>\n",
              "      <td>351</td>\n",
              "    </tr>\n",
              "    <tr>\n",
              "      <th>M</th>\n",
              "      <td>7617</td>\n",
              "      <td>7617</td>\n",
              "      <td>7617</td>\n",
              "      <td>7617</td>\n",
              "      <td>7617</td>\n",
              "      <td>7617</td>\n",
              "      <td>7617</td>\n",
              "    </tr>\n",
              "    <tr>\n",
              "      <th rowspan=\"2\" valign=\"top\">2007</th>\n",
              "      <th>F</th>\n",
              "      <td>141</td>\n",
              "      <td>141</td>\n",
              "      <td>141</td>\n",
              "      <td>141</td>\n",
              "      <td>141</td>\n",
              "      <td>141</td>\n",
              "      <td>141</td>\n",
              "    </tr>\n",
              "    <tr>\n",
              "      <th>M</th>\n",
              "      <td>8706</td>\n",
              "      <td>8706</td>\n",
              "      <td>8706</td>\n",
              "      <td>8706</td>\n",
              "      <td>8706</td>\n",
              "      <td>8706</td>\n",
              "      <td>8706</td>\n",
              "    </tr>\n",
              "    <tr>\n",
              "      <th rowspan=\"2\" valign=\"top\">2008</th>\n",
              "      <th>F</th>\n",
              "      <td>108</td>\n",
              "      <td>108</td>\n",
              "      <td>108</td>\n",
              "      <td>108</td>\n",
              "      <td>108</td>\n",
              "      <td>108</td>\n",
              "      <td>108</td>\n",
              "    </tr>\n",
              "    <tr>\n",
              "      <th>M</th>\n",
              "      <td>12289</td>\n",
              "      <td>12289</td>\n",
              "      <td>12289</td>\n",
              "      <td>12289</td>\n",
              "      <td>12289</td>\n",
              "      <td>12289</td>\n",
              "      <td>12289</td>\n",
              "    </tr>\n",
              "    <tr>\n",
              "      <th rowspan=\"2\" valign=\"top\">2009</th>\n",
              "      <th>F</th>\n",
              "      <td>152</td>\n",
              "      <td>152</td>\n",
              "      <td>152</td>\n",
              "      <td>152</td>\n",
              "      <td>152</td>\n",
              "      <td>152</td>\n",
              "      <td>152</td>\n",
              "    </tr>\n",
              "    <tr>\n",
              "      <th>M</th>\n",
              "      <td>9877</td>\n",
              "      <td>9877</td>\n",
              "      <td>9877</td>\n",
              "      <td>9877</td>\n",
              "      <td>9877</td>\n",
              "      <td>9877</td>\n",
              "      <td>9877</td>\n",
              "    </tr>\n",
              "    <tr>\n",
              "      <th>2010</th>\n",
              "      <th>M</th>\n",
              "      <td>18506</td>\n",
              "      <td>18506</td>\n",
              "      <td>18506</td>\n",
              "      <td>18506</td>\n",
              "      <td>18506</td>\n",
              "      <td>18506</td>\n",
              "      <td>18506</td>\n",
              "    </tr>\n",
              "    <tr>\n",
              "      <th rowspan=\"2\" valign=\"top\">2011</th>\n",
              "      <th>F</th>\n",
              "      <td>212</td>\n",
              "      <td>212</td>\n",
              "      <td>212</td>\n",
              "      <td>212</td>\n",
              "      <td>212</td>\n",
              "      <td>212</td>\n",
              "      <td>212</td>\n",
              "    </tr>\n",
              "    <tr>\n",
              "      <th>M</th>\n",
              "      <td>24678</td>\n",
              "      <td>24678</td>\n",
              "      <td>24678</td>\n",
              "      <td>24678</td>\n",
              "      <td>24678</td>\n",
              "      <td>24678</td>\n",
              "      <td>24678</td>\n",
              "    </tr>\n",
              "    <tr>\n",
              "      <th rowspan=\"2\" valign=\"top\">2012</th>\n",
              "      <th>F</th>\n",
              "      <td>620</td>\n",
              "      <td>620</td>\n",
              "      <td>620</td>\n",
              "      <td>620</td>\n",
              "      <td>620</td>\n",
              "      <td>620</td>\n",
              "      <td>620</td>\n",
              "    </tr>\n",
              "    <tr>\n",
              "      <th>M</th>\n",
              "      <td>39679</td>\n",
              "      <td>39679</td>\n",
              "      <td>39679</td>\n",
              "      <td>39679</td>\n",
              "      <td>39679</td>\n",
              "      <td>39679</td>\n",
              "      <td>39679</td>\n",
              "    </tr>\n",
              "    <tr>\n",
              "      <th rowspan=\"2\" valign=\"top\">2013</th>\n",
              "      <th>F</th>\n",
              "      <td>306</td>\n",
              "      <td>306</td>\n",
              "      <td>306</td>\n",
              "      <td>306</td>\n",
              "      <td>306</td>\n",
              "      <td>306</td>\n",
              "      <td>306</td>\n",
              "    </tr>\n",
              "    <tr>\n",
              "      <th>M</th>\n",
              "      <td>35444</td>\n",
              "      <td>35444</td>\n",
              "      <td>35444</td>\n",
              "      <td>35444</td>\n",
              "      <td>35444</td>\n",
              "      <td>35444</td>\n",
              "      <td>35444</td>\n",
              "    </tr>\n",
              "    <tr>\n",
              "      <th rowspan=\"2\" valign=\"top\">2014</th>\n",
              "      <th>F</th>\n",
              "      <td>1196</td>\n",
              "      <td>1196</td>\n",
              "      <td>1196</td>\n",
              "      <td>1196</td>\n",
              "      <td>1196</td>\n",
              "      <td>1196</td>\n",
              "      <td>1196</td>\n",
              "    </tr>\n",
              "    <tr>\n",
              "      <th>M</th>\n",
              "      <td>55795</td>\n",
              "      <td>55795</td>\n",
              "      <td>55795</td>\n",
              "      <td>55795</td>\n",
              "      <td>55795</td>\n",
              "      <td>55795</td>\n",
              "      <td>55795</td>\n",
              "    </tr>\n",
              "    <tr>\n",
              "      <th rowspan=\"2\" valign=\"top\">2015</th>\n",
              "      <th>F</th>\n",
              "      <td>7846</td>\n",
              "      <td>7846</td>\n",
              "      <td>7846</td>\n",
              "      <td>7846</td>\n",
              "      <td>7846</td>\n",
              "      <td>7846</td>\n",
              "      <td>7846</td>\n",
              "    </tr>\n",
              "    <tr>\n",
              "      <th>M</th>\n",
              "      <td>140871</td>\n",
              "      <td>140871</td>\n",
              "      <td>140871</td>\n",
              "      <td>140871</td>\n",
              "      <td>140871</td>\n",
              "      <td>140871</td>\n",
              "      <td>140871</td>\n",
              "    </tr>\n",
              "    <tr>\n",
              "      <th rowspan=\"2\" valign=\"top\">2016</th>\n",
              "      <th>F</th>\n",
              "      <td>65258</td>\n",
              "      <td>65258</td>\n",
              "      <td>65258</td>\n",
              "      <td>65258</td>\n",
              "      <td>65258</td>\n",
              "      <td>65258</td>\n",
              "      <td>65258</td>\n",
              "    </tr>\n",
              "    <tr>\n",
              "      <th>M</th>\n",
              "      <td>711068</td>\n",
              "      <td>711068</td>\n",
              "      <td>711068</td>\n",
              "      <td>711068</td>\n",
              "      <td>711068</td>\n",
              "      <td>711068</td>\n",
              "      <td>711068</td>\n",
              "    </tr>\n",
              "    <tr>\n",
              "      <th rowspan=\"2\" valign=\"top\">2017</th>\n",
              "      <th>F</th>\n",
              "      <td>123036</td>\n",
              "      <td>123036</td>\n",
              "      <td>123036</td>\n",
              "      <td>123036</td>\n",
              "      <td>123036</td>\n",
              "      <td>123036</td>\n",
              "      <td>123036</td>\n",
              "    </tr>\n",
              "    <tr>\n",
              "      <th>M</th>\n",
              "      <td>1056562</td>\n",
              "      <td>1056562</td>\n",
              "      <td>1056562</td>\n",
              "      <td>1056562</td>\n",
              "      <td>1056562</td>\n",
              "      <td>1056562</td>\n",
              "      <td>1056562</td>\n",
              "    </tr>\n",
              "    <tr>\n",
              "      <th rowspan=\"2\" valign=\"top\">2018</th>\n",
              "      <th>F</th>\n",
              "      <td>125663</td>\n",
              "      <td>125663</td>\n",
              "      <td>125663</td>\n",
              "      <td>125663</td>\n",
              "      <td>125663</td>\n",
              "      <td>125663</td>\n",
              "      <td>125663</td>\n",
              "    </tr>\n",
              "    <tr>\n",
              "      <th>M</th>\n",
              "      <td>1081342</td>\n",
              "      <td>1081342</td>\n",
              "      <td>1081342</td>\n",
              "      <td>1081342</td>\n",
              "      <td>1081342</td>\n",
              "      <td>1081342</td>\n",
              "      <td>1081342</td>\n",
              "    </tr>\n",
              "    <tr>\n",
              "      <th rowspan=\"2\" valign=\"top\">2019</th>\n",
              "      <th>F</th>\n",
              "      <td>117879</td>\n",
              "      <td>117879</td>\n",
              "      <td>117879</td>\n",
              "      <td>117879</td>\n",
              "      <td>117879</td>\n",
              "      <td>117879</td>\n",
              "      <td>117879</td>\n",
              "    </tr>\n",
              "    <tr>\n",
              "      <th>M</th>\n",
              "      <td>984552</td>\n",
              "      <td>984552</td>\n",
              "      <td>984552</td>\n",
              "      <td>984552</td>\n",
              "      <td>984552</td>\n",
              "      <td>984552</td>\n",
              "      <td>984552</td>\n",
              "    </tr>\n",
              "    <tr>\n",
              "      <th rowspan=\"2\" valign=\"top\">2020</th>\n",
              "      <th>F</th>\n",
              "      <td>60595</td>\n",
              "      <td>60595</td>\n",
              "      <td>60595</td>\n",
              "      <td>60595</td>\n",
              "      <td>60595</td>\n",
              "      <td>60595</td>\n",
              "      <td>60595</td>\n",
              "    </tr>\n",
              "    <tr>\n",
              "      <th>M</th>\n",
              "      <td>588767</td>\n",
              "      <td>588767</td>\n",
              "      <td>588767</td>\n",
              "      <td>588767</td>\n",
              "      <td>588767</td>\n",
              "      <td>588767</td>\n",
              "      <td>588767</td>\n",
              "    </tr>\n",
              "    <tr>\n",
              "      <th rowspan=\"2\" valign=\"top\">2021</th>\n",
              "      <th>F</th>\n",
              "      <td>6996</td>\n",
              "      <td>6996</td>\n",
              "      <td>6996</td>\n",
              "      <td>6996</td>\n",
              "      <td>6996</td>\n",
              "      <td>6996</td>\n",
              "      <td>6996</td>\n",
              "    </tr>\n",
              "    <tr>\n",
              "      <th>M</th>\n",
              "      <td>45224</td>\n",
              "      <td>45224</td>\n",
              "      <td>45224</td>\n",
              "      <td>45224</td>\n",
              "      <td>45224</td>\n",
              "      <td>45224</td>\n",
              "      <td>45224</td>\n",
              "    </tr>\n",
              "  </tbody>\n",
              "</table>\n",
              "</div>"
            ],
            "text/plain": [
              "                Date     RACE      AGE  ...  OFFENSE  offense_cat  violence_status\n",
              "Year GENDER                             ...                                       \n",
              "1980 M            61       61       61  ...       61           61               61\n",
              "1988 M            17       17       17  ...       17           17               17\n",
              "1993 M            28       28       28  ...       28           28               28\n",
              "1994 M             8        8        8  ...        8            8                8\n",
              "1996 M           501      501      501  ...      501          501              501\n",
              "1998 M             2        2        2  ...        2            2                2\n",
              "1999 M           575      575      575  ...      575          575              575\n",
              "2000 M          2341     2341     2341  ...     2341         2341             2341\n",
              "2001 M          2448     2448     2448  ...     2448         2448             2448\n",
              "2002 M          1141     1141     1141  ...     1141         1141             1141\n",
              "2003 M          2612     2612     2612  ...     2612         2612             2612\n",
              "2004 M          3696     3696     3696  ...     3696         3696             3696\n",
              "2005 M          7083     7083     7083  ...     7083         7083             7083\n",
              "2006 F           351      351      351  ...      351          351              351\n",
              "     M          7617     7617     7617  ...     7617         7617             7617\n",
              "2007 F           141      141      141  ...      141          141              141\n",
              "     M          8706     8706     8706  ...     8706         8706             8706\n",
              "2008 F           108      108      108  ...      108          108              108\n",
              "     M         12289    12289    12289  ...    12289        12289            12289\n",
              "2009 F           152      152      152  ...      152          152              152\n",
              "     M          9877     9877     9877  ...     9877         9877             9877\n",
              "2010 M         18506    18506    18506  ...    18506        18506            18506\n",
              "2011 F           212      212      212  ...      212          212              212\n",
              "     M         24678    24678    24678  ...    24678        24678            24678\n",
              "2012 F           620      620      620  ...      620          620              620\n",
              "     M         39679    39679    39679  ...    39679        39679            39679\n",
              "2013 F           306      306      306  ...      306          306              306\n",
              "     M         35444    35444    35444  ...    35444        35444            35444\n",
              "2014 F          1196     1196     1196  ...     1196         1196             1196\n",
              "     M         55795    55795    55795  ...    55795        55795            55795\n",
              "2015 F          7846     7846     7846  ...     7846         7846             7846\n",
              "     M        140871   140871   140871  ...   140871       140871           140871\n",
              "2016 F         65258    65258    65258  ...    65258        65258            65258\n",
              "     M        711068   711068   711068  ...   711068       711068           711068\n",
              "2017 F        123036   123036   123036  ...   123036       123036           123036\n",
              "     M       1056562  1056562  1056562  ...  1056562      1056562          1056562\n",
              "2018 F        125663   125663   125663  ...   125663       125663           125663\n",
              "     M       1081342  1081342  1081342  ...  1081342      1081342          1081342\n",
              "2019 F        117879   117879   117879  ...   117879       117879           117879\n",
              "     M        984552   984552   984552  ...   984552       984552           984552\n",
              "2020 F         60595    60595    60595  ...    60595        60595            60595\n",
              "     M        588767   588767   588767  ...   588767       588767           588767\n",
              "2021 F          6996     6996     6996  ...     6996         6996             6996\n",
              "     M         45224    45224    45224  ...    45224        45224            45224\n",
              "\n",
              "[44 rows x 7 columns]"
            ]
          },
          "metadata": {
            "tags": []
          },
          "execution_count": 99
        }
      ]
    },
    {
      "cell_type": "code",
      "metadata": {
        "colab": {
          "base_uri": "https://localhost:8080/",
          "height": 295
        },
        "id": "pVdesNMpqrk7",
        "outputId": "1796d904-c22b-4837-c7cc-53660927afad"
      },
      "source": [
        "#PLOT 2 (Created New DataFrame From 2012-2020) # of ppl on bond\n",
        "year= ['2012','2013','2014','2015','2016','2017','2018','2019','2020','2021']\n",
        "\n",
        "male=[39679,35444,55795,140871,711068,1056562,1081342,984552,588767,45224]\n",
        "female = [620,306,1196,7846,65258,123036,125663,117879,60595,6996]\n",
        "line_chart1 = plt.plot(year, male, color='navy')\n",
        "line_chart2 = plt.plot(year, female, color='blueviolet')\n",
        "plt.xlabel('Year',color=\"black\")\n",
        "plt.ylabel('Number of ppl held on Bond',color=\"black\")\n",
        "plt.title('Number of People held on Bond by Gender')\n",
        "plt.legend(['Males', 'Female'], loc=1)\n",
        "plt.show()"
      ],
      "execution_count": 100,
      "outputs": [
        {
          "output_type": "display_data",
          "data": {
            "image/png": "[encoded data removed]",
            "text/plain": [
              "<Figure size 432x288 with 1 Axes>"
            ]
          },
          "metadata": {
            "tags": [],
            "needs_background": "light"
          }
        }
      ]
    },
    {
      "cell_type": "code",
      "metadata": {
        "id": "wOC-1HfpRmI-"
      },
      "source": [
        "# Have not yet figured out decade with another variable of race or gender - this gets error\n",
        "# df_decade_race = df.groupby([(df.Year // 10 * 10), 'Race']).sum()\n",
        "# df_decade_race.head()"
      ],
      "execution_count": 101,
      "outputs": []
    },
    {
      "cell_type": "markdown",
      "metadata": {
        "id": "GH7F2do2ZKDY"
      },
      "source": [
        "## **EDA and Data Visualization with Matplotlib and Seaborn**"
      ]
    },
    {
      "cell_type": "code",
      "metadata": {
        "id": "nBipkr6-ZIz1"
      },
      "source": [
        "# Basic Plots with Matplotlib\n",
        "import matplotlib as mpl\n",
        "import matplotlib.pyplot as plt\n",
        "plt.style.use('classic')"
      ],
      "execution_count": 102,
      "outputs": []
    },
    {
      "cell_type": "code",
      "metadata": {
        "id": "JN49lsSvbI1Z",
        "colab": {
          "base_uri": "https://localhost:8080/",
          "height": 470
        },
        "outputId": "414b332a-ac4f-4099-9491-1121461f6edf"
      },
      "source": [
        "# Race Histogram\n",
        "plt.hist(df.RACE, bins=5, facecolor='navy', alpha=0.5)\n",
        "plt.title('Race Histogram for Pre-Trial Detainment')\n",
        "plt.xlabel('Race')\n",
        "plt.ylabel('Frequency')\n",
        "plt.show()"
      ],
      "execution_count": 103,
      "outputs": [
        {
          "output_type": "display_data",
          "data": {
            "image/png": "[encoded data removed]",
            "text/plain": [
              "<Figure size 640x480 with 1 Axes>"
            ]
          },
          "metadata": {
            "tags": []
          }
        }
      ]
    },
    {
      "cell_type": "code",
      "metadata": {
        "id": "7uiXwneLbUKQ",
        "colab": {
          "base_uri": "https://localhost:8080/",
          "height": 470
        },
        "outputId": "a3f0cca2-2df1-4d95-a80a-be5bb3e31163"
      },
      "source": [
        "# Age Histogram\n",
        "plt.hist(df.AGE, bins=40, facecolor='green', alpha=0.5)\n",
        "plt.title('Age Histogram for Pre-Trial Detainment')\n",
        "plt.xlabel('Age')\n",
        "plt.ylabel('Frequency')\n",
        "plt.show()"
      ],
      "execution_count": 104,
      "outputs": [
        {
          "output_type": "display_data",
          "data": {
            "image/png": "[encoded data removed]",
            "text/plain": [
              "<Figure size 640x480 with 1 Axes>"
            ]
          },
          "metadata": {
            "tags": []
          }
        }
      ]
    },
    {
      "cell_type": "code",
      "metadata": {
        "colab": {
          "base_uri": "https://localhost:8080/",
          "height": 470
        },
        "id": "LUGOioihpTNY",
        "outputId": "324ed57d-c6df-4e84-f4ff-31fa66ffdb46"
      },
      "source": [
        "# Offense Category Histogram\n",
        "plt.hist(df.offense_cat, bins=20, facecolor='navy', alpha=0.5)\n",
        "plt.title('Offense Category Histogram for Pre-Trial Detainment')\n",
        "plt.xlabel('Offense Category')\n",
        "plt.ylabel('Frequency')\n",
        "plt.show()"
      ],
      "execution_count": 105,
      "outputs": [
        {
          "output_type": "display_data",
          "data": {
            "image/png": "[encoded data removed]",
            "text/plain": [
              "<Figure size 640x480 with 1 Axes>"
            ]
          },
          "metadata": {
            "tags": []
          }
        }
      ]
    },
    {
      "cell_type": "code",
      "metadata": {
        "colab": {
          "base_uri": "https://localhost:8080/",
          "height": 470
        },
        "id": "l5NNFN-uq-yy",
        "outputId": "d8321ff7-3d4a-41f5-d936-d73c88676da5"
      },
      "source": [
        "# Violence Status  Histogram\n",
        "plt.hist(df.violence_status, bins=5, facecolor='navy', alpha=0.5)\n",
        "plt.title('Violence Status Histogram for Pre-Trial Detainment')\n",
        "plt.xlabel('Violence Status')\n",
        "plt.ylabel('Frequency')\n",
        "plt.show()"
      ],
      "execution_count": 106,
      "outputs": [
        {
          "output_type": "display_data",
          "data": {
            "image/png": "[encoded data removed]",
            "text/plain": [
              "<Figure size 640x480 with 1 Axes>"
            ]
          },
          "metadata": {
            "tags": []
          }
        }
      ]
    },
    {
      "cell_type": "code",
      "metadata": {
        "id": "NKKki0HUv8DO",
        "colab": {
          "base_uri": "https://localhost:8080/",
          "height": 521
        },
        "outputId": "24cb04bd-1350-43c8-8c5c-c1aaad176907"
      },
      "source": [
        "# Boxplot\n",
        "boxplot = df.boxplot(column=['Bond' ], by = ['GENDER'])"
      ],
      "execution_count": 107,
      "outputs": [
        {
          "output_type": "stream",
          "text": [
            "/usr/local/lib/python3.7/dist-packages/numpy/core/_asarray.py:83: VisibleDeprecationWarning: Creating an ndarray from ragged nested sequences (which is a list-or-tuple of lists-or-tuples-or ndarrays with different lengths or shapes) is deprecated. If you meant to do this, you must specify 'dtype=object' when creating the ndarray\n",
            "  return array(a, dtype, copy=False, order=order)\n"
          ],
          "name": "stderr"
        },
        {
          "output_type": "display_data",
          "data": {
            "image/png": "[encoded data removed]",
            "text/plain": [
              "<Figure size 640x480 with 1 Axes>"
            ]
          },
          "metadata": {
            "tags": []
          }
        }
      ]
    },
    {
      "cell_type": "code",
      "metadata": {
        "id": "nEjOlF5g16Kb",
        "colab": {
          "base_uri": "https://localhost:8080/",
          "height": 521
        },
        "outputId": "a17637ca-c763-49a7-8940-99aac0f1777e"
      },
      "source": [
        "import seaborn as sns\n",
        "boxplot = df.boxplot(column=['Bond' ], by = ['GENDER'])\n",
        "plt.ylim(0, 500000)\n",
        "plt.xlabel(\"Gender\")\n",
        "plt.ylabel(\"Bond\")\n",
        "plt.title(\"Boxplot of Gender and Bond\")\n",
        "plt.show()"
      ],
      "execution_count": 108,
      "outputs": [
        {
          "output_type": "stream",
          "text": [
            "/usr/local/lib/python3.7/dist-packages/numpy/core/_asarray.py:83: VisibleDeprecationWarning: Creating an ndarray from ragged nested sequences (which is a list-or-tuple of lists-or-tuples-or ndarrays with different lengths or shapes) is deprecated. If you meant to do this, you must specify 'dtype=object' when creating the ndarray\n",
            "  return array(a, dtype, copy=False, order=order)\n"
          ],
          "name": "stderr"
        },
        {
          "output_type": "display_data",
          "data": {
            "image/png": "[encoded data removed]",
            "text/plain": [
              "<Figure size 640x480 with 1 Axes>"
            ]
          },
          "metadata": {
            "tags": []
          }
        }
      ]
    },
    {
      "cell_type": "code",
      "metadata": {
        "id": "CRWXWFmuw52e",
        "colab": {
          "base_uri": "https://localhost:8080/",
          "height": 538
        },
        "outputId": "3247e5fb-4964-4e1b-d012-b4d6a638d6a1"
      },
      "source": [
        "# Boxplot\n",
        "boxplot = df.boxplot(column=['Bond' ], by = ['RACE'])\n",
        "plt.xlabel(\"Race\")\n",
        "plt.ylabel(\"Bond\")\n",
        "plt.title(\"Boxplot of Race and Bond\")"
      ],
      "execution_count": 109,
      "outputs": [
        {
          "output_type": "stream",
          "text": [
            "/usr/local/lib/python3.7/dist-packages/numpy/core/_asarray.py:83: VisibleDeprecationWarning: Creating an ndarray from ragged nested sequences (which is a list-or-tuple of lists-or-tuples-or ndarrays with different lengths or shapes) is deprecated. If you meant to do this, you must specify 'dtype=object' when creating the ndarray\n",
            "  return array(a, dtype, copy=False, order=order)\n"
          ],
          "name": "stderr"
        },
        {
          "output_type": "execute_result",
          "data": {
            "text/plain": [
              "Text(0.5, 1.0, 'Boxplot of Race and Bond')"
            ]
          },
          "metadata": {
            "tags": []
          },
          "execution_count": 109
        },
        {
          "output_type": "display_data",
          "data": {
            "image/png": "[encoded data removed]",
            "text/plain": [
              "<Figure size 640x480 with 1 Axes>"
            ]
          },
          "metadata": {
            "tags": []
          }
        }
      ]
    },
    {
      "cell_type": "code",
      "metadata": {
        "id": "tiW01Ymfy8rs",
        "colab": {
          "base_uri": "https://localhost:8080/",
          "height": 521
        },
        "outputId": "9460fc59-069f-444b-81e8-22f4d49a18ca"
      },
      "source": [
        "import seaborn as sns\n",
        "boxplot = df.boxplot(column=['Bond' ], by = ['RACE'])\n",
        "plt.ylim(0, 500000)\n",
        "plt.xlabel(\"Race\")\n",
        "plt.ylabel(\"Bond\")\n",
        "plt.title(\"Boxplot of Race and Bond\")\n",
        "plt.show()"
      ],
      "execution_count": 110,
      "outputs": [
        {
          "output_type": "stream",
          "text": [
            "/usr/local/lib/python3.7/dist-packages/numpy/core/_asarray.py:83: VisibleDeprecationWarning: Creating an ndarray from ragged nested sequences (which is a list-or-tuple of lists-or-tuples-or ndarrays with different lengths or shapes) is deprecated. If you meant to do this, you must specify 'dtype=object' when creating the ndarray\n",
            "  return array(a, dtype, copy=False, order=order)\n"
          ],
          "name": "stderr"
        },
        {
          "output_type": "display_data",
          "data": {
            "image/png": "[encoded data removed]",
            "text/plain": [
              "<Figure size 640x480 with 1 Axes>"
            ]
          },
          "metadata": {
            "tags": []
          }
        }
      ]
    },
    {
      "cell_type": "code",
      "metadata": {
        "id": "9upBtM8DxYQM",
        "colab": {
          "base_uri": "https://localhost:8080/",
          "height": 483
        },
        "outputId": "7d3f193e-fb1b-49b9-f2ab-ac9f16da8346"
      },
      "source": [
        "#Importing required modules\n",
        "import seaborn as sns\n",
        "import pandas as ppd\n",
        " \n",
        " \n",
        "sns.boxplot(data = df , x = 'RACE' , y = 'Bond' , hue = 'GENDER' , notch = True )"
      ],
      "execution_count": 111,
      "outputs": [
        {
          "output_type": "execute_result",
          "data": {
            "text/plain": [
              "<matplotlib.axes._subplots.AxesSubplot at 0x7f3caa5a1b50>"
            ]
          },
          "metadata": {
            "tags": []
          },
          "execution_count": 111
        },
        {
          "output_type": "display_data",
          "data": {
            "image/png": "[encoded data removed]",
            "text/plain": [
              "<Figure size 640x480 with 1 Axes>"
            ]
          },
          "metadata": {
            "tags": []
          }
        }
      ]
    },
    {
      "cell_type": "code",
      "metadata": {
        "id": "vkAQ82lFycMd",
        "colab": {
          "base_uri": "https://localhost:8080/",
          "height": 463
        },
        "outputId": "2a374ce7-9b2d-4e2b-bc5f-302890350506"
      },
      "source": [
        "sns.set_style(\"whitegrid\")\n",
        "sns.boxplot(data = df , x = 'RACE' , y = 'Bond' , hue = 'GENDER', notch = True, palette=\"Blues\")\n",
        "# place the legend outside the figure/plot\n",
        "plt.legend(bbox_to_anchor=(1,1),borderaxespad=0)\n",
        "plt.ylim(0, 500000)\n",
        "plt.show()"
      ],
      "execution_count": 112,
      "outputs": [
        {
          "output_type": "display_data",
          "data": {
            "image/png": "[encoded data removed]",
            "text/plain": [
              "<Figure size 640x480 with 1 Axes>"
            ]
          },
          "metadata": {
            "tags": []
          }
        }
      ]
    },
    {
      "cell_type": "code",
      "metadata": {
        "colab": {
          "base_uri": "https://localhost:8080/",
          "height": 457
        },
        "id": "14RJjlArraBA",
        "outputId": "cecb08cd-8f3e-4b1b-cfa1-d89fba420c47"
      },
      "source": [
        "sns.set_style(\"whitegrid\")\n",
        "sns.boxplot(data = df , x = 'RACE' , y = 'Bond' , hue = 'violence_status', notch = True, palette=\"Blues\")\n",
        "# place the legend outside the figure/plot\n",
        "plt.legend(bbox_to_anchor=(1,1),borderaxespad=0)\n",
        "plt.ylim(0, 550000)\n",
        "plt.show()"
      ],
      "execution_count": 113,
      "outputs": [
        {
          "output_type": "display_data",
          "data": {
            "image/png": "[encoded data removed]",
            "text/plain": [
              "<Figure size 640x480 with 1 Axes>"
            ]
          },
          "metadata": {
            "tags": []
          }
        }
      ]
    },
    {
      "cell_type": "markdown",
      "metadata": {
        "id": "uJUVkwwNcCXo"
      },
      "source": [
        "## **Simulated Nonparametric Inference of the Median, Mean and CI for Quantitative Variable - Bond Amount**"
      ]
    },
    {
      "cell_type": "code",
      "metadata": {
        "id": "hsk3G91PcFDy"
      },
      "source": [
        "# Multiple functions\n",
        "# grouped['C'].agg([np.sum, np.mean, np.std])"
      ],
      "execution_count": 114,
      "outputs": []
    },
    {
      "cell_type": "code",
      "metadata": {
        "id": "rJLbp6nRcNw6"
      },
      "source": [
        "#df.groupby('A').aggregate('C').mean()"
      ],
      "execution_count": 115,
      "outputs": []
    },
    {
      "cell_type": "code",
      "metadata": {
        "id": "TLac9VKbcQ2E"
      },
      "source": [
        "#df.groupby('A').C.mean()"
      ],
      "execution_count": 116,
      "outputs": []
    },
    {
      "cell_type": "code",
      "metadata": {
        "id": "xYv6xaHhcRM5"
      },
      "source": [
        "# Median Bootstrapping - Sample 100\n",
        "bootstrap = pd.DataFrame({'df': [df.sample(100, replace = True).Bond.median() for i in range (1000)]})"
      ],
      "execution_count": 117,
      "outputs": []
    },
    {
      "cell_type": "code",
      "metadata": {
        "id": "7oHYT1I0ZX5M",
        "colab": {
          "base_uri": "https://localhost:8080/",
          "height": 204
        },
        "outputId": "5a76c6ed-cbdc-4f2e-ffc7-48b981f015c5"
      },
      "source": [
        "bootstrap.head()"
      ],
      "execution_count": 118,
      "outputs": [
        {
          "output_type": "execute_result",
          "data": {
            "text/html": [
              "<div>\n",
              "<style scoped>\n",
              "    .dataframe tbody tr th:only-of-type {\n",
              "        vertical-align: middle;\n",
              "    }\n",
              "\n",
              "    .dataframe tbody tr th {\n",
              "        vertical-align: top;\n",
              "    }\n",
              "\n",
              "    .dataframe thead th {\n",
              "        text-align: right;\n",
              "    }\n",
              "</style>\n",
              "<table border=\"1\" class=\"dataframe\">\n",
              "  <thead>\n",
              "    <tr style=\"text-align: right;\">\n",
              "      <th></th>\n",
              "      <th>df</th>\n",
              "    </tr>\n",
              "  </thead>\n",
              "  <tbody>\n",
              "    <tr>\n",
              "      <th>0</th>\n",
              "      <td>100000.0</td>\n",
              "    </tr>\n",
              "    <tr>\n",
              "      <th>1</th>\n",
              "      <td>150000.0</td>\n",
              "    </tr>\n",
              "    <tr>\n",
              "      <th>2</th>\n",
              "      <td>75000.0</td>\n",
              "    </tr>\n",
              "    <tr>\n",
              "      <th>3</th>\n",
              "      <td>150000.0</td>\n",
              "    </tr>\n",
              "    <tr>\n",
              "      <th>4</th>\n",
              "      <td>100000.0</td>\n",
              "    </tr>\n",
              "  </tbody>\n",
              "</table>\n",
              "</div>"
            ],
            "text/plain": [
              "         df\n",
              "0  100000.0\n",
              "1  150000.0\n",
              "2   75000.0\n",
              "3  150000.0\n",
              "4  100000.0"
            ]
          },
          "metadata": {
            "tags": []
          },
          "execution_count": 118
        }
      ]
    },
    {
      "cell_type": "code",
      "metadata": {
        "id": "OaDET8RbZjcE",
        "colab": {
          "base_uri": "https://localhost:8080/"
        },
        "outputId": "3089aeb5-dd81-4ccf-bef1-4239f6b0cf38"
      },
      "source": [
        "bootstrap.median()"
      ],
      "execution_count": 119,
      "outputs": [
        {
          "output_type": "execute_result",
          "data": {
            "text/plain": [
              "df    100000.0\n",
              "dtype: float64"
            ]
          },
          "metadata": {
            "tags": []
          },
          "execution_count": 119
        }
      ]
    },
    {
      "cell_type": "code",
      "metadata": {
        "id": "0HiJ_Li2Ztjn",
        "colab": {
          "base_uri": "https://localhost:8080/"
        },
        "outputId": "dc9689b4-ce6c-4e1b-bf8a-cf7a89bf8f21"
      },
      "source": [
        "df.Bond.median()"
      ],
      "execution_count": 120,
      "outputs": [
        {
          "output_type": "execute_result",
          "data": {
            "text/plain": [
              "100000.0"
            ]
          },
          "metadata": {
            "tags": []
          },
          "execution_count": 120
        }
      ]
    },
    {
      "cell_type": "code",
      "metadata": {
        "id": "HtGU3Z_SZxPc"
      },
      "source": [
        "# Median Bootstrapping 2 - Sample 1000\n",
        "bootstrap2 = pd.DataFrame({'df': [df.sample(1000, replace = True).Bond.median() for i in range (1000)]})"
      ],
      "execution_count": 121,
      "outputs": []
    },
    {
      "cell_type": "code",
      "metadata": {
        "id": "f1vM8vX8Z3XA",
        "colab": {
          "base_uri": "https://localhost:8080/"
        },
        "outputId": "ace2d4d3-6cef-4477-8a89-82cb1f5b2adf"
      },
      "source": [
        "bootstrap2.median()"
      ],
      "execution_count": 122,
      "outputs": [
        {
          "output_type": "execute_result",
          "data": {
            "text/plain": [
              "df    100000.0\n",
              "dtype: float64"
            ]
          },
          "metadata": {
            "tags": []
          },
          "execution_count": 122
        }
      ]
    },
    {
      "cell_type": "code",
      "metadata": {
        "id": "1UYJLamhZ9eZ"
      },
      "source": [
        "# Median Bootstrapping 3 - Sample 5000\n",
        "bootstrap3 = pd.DataFrame({'df': [df.sample(5000, replace = True).Bond.median() for i in range (5000)]})"
      ],
      "execution_count": 123,
      "outputs": []
    },
    {
      "cell_type": "code",
      "metadata": {
        "id": "2PYJ6frRaWbh",
        "colab": {
          "base_uri": "https://localhost:8080/"
        },
        "outputId": "4a73d8cb-9add-46fd-87f3-9a23d55b2d16"
      },
      "source": [
        "bootstrap3.median()"
      ],
      "execution_count": 124,
      "outputs": [
        {
          "output_type": "execute_result",
          "data": {
            "text/plain": [
              "df    100000.0\n",
              "dtype: float64"
            ]
          },
          "metadata": {
            "tags": []
          },
          "execution_count": 124
        }
      ]
    },
    {
      "cell_type": "code",
      "metadata": {
        "id": "NcDV14PV6xTQ"
      },
      "source": [
        "# Median Bootstrapping 3 - Sample 10%: 535184.9\n",
        "bootstrap_10pct = pd.DataFrame({'df': [df.sample(535184, replace = True).Bond.median() for i in range (5000)]})"
      ],
      "execution_count": 125,
      "outputs": []
    },
    {
      "cell_type": "code",
      "metadata": {
        "colab": {
          "base_uri": "https://localhost:8080/"
        },
        "id": "snDk5Ed8HgX8",
        "outputId": "372725c0-d0b7-4a0f-d2ae-10ec4181c75a"
      },
      "source": [
        "bootstrap_10pct.median()"
      ],
      "execution_count": 126,
      "outputs": [
        {
          "output_type": "execute_result",
          "data": {
            "text/plain": [
              "df    100000.0\n",
              "dtype: float64"
            ]
          },
          "metadata": {
            "tags": []
          },
          "execution_count": 126
        }
      ]
    },
    {
      "cell_type": "code",
      "metadata": {
        "id": "TBTdg7gIabK4",
        "colab": {
          "base_uri": "https://localhost:8080/"
        },
        "outputId": "6ada5503-50be-40c8-a13b-f1e91dcb2d44"
      },
      "source": [
        "# Dataset Mean\n",
        "df.Bond.mean()"
      ],
      "execution_count": 127,
      "outputs": [
        {
          "output_type": "execute_result",
          "data": {
            "text/plain": [
              "247738.79685189176"
            ]
          },
          "metadata": {
            "tags": []
          },
          "execution_count": 127
        }
      ]
    },
    {
      "cell_type": "code",
      "metadata": {
        "id": "KoLlNXufmdz8",
        "colab": {
          "base_uri": "https://localhost:8080/"
        },
        "outputId": "f1d48ea4-03b3-4dc2-c4eb-5e77d22623b3"
      },
      "source": [
        "# Mean Bootstrapping - Sample 100\n",
        "bootstrap4 = pd.DataFrame({'df': [df.sample(100, replace = True).Bond.mean() for i in range (5000)]})\n",
        "bootstrap4.mean()"
      ],
      "execution_count": 128,
      "outputs": [
        {
          "output_type": "execute_result",
          "data": {
            "text/plain": [
              "df    247071.541326\n",
              "dtype: float64"
            ]
          },
          "metadata": {
            "tags": []
          },
          "execution_count": 128
        }
      ]
    },
    {
      "cell_type": "code",
      "metadata": {
        "id": "DqlXdKDBmtZb",
        "colab": {
          "base_uri": "https://localhost:8080/"
        },
        "outputId": "b8951b95-6165-48e1-884d-a83f2cdad855"
      },
      "source": [
        "# Mean Bootstrapping 2 - Sample 1000\n",
        "bootstrap5 = pd.DataFrame({'df': [df.sample(1000, replace = True).Bond.mean() for i in range (5000)]})\n",
        "bootstrap5.mean()"
      ],
      "execution_count": 129,
      "outputs": [
        {
          "output_type": "execute_result",
          "data": {
            "text/plain": [
              "df    247361.256511\n",
              "dtype: float64"
            ]
          },
          "metadata": {
            "tags": []
          },
          "execution_count": 129
        }
      ]
    },
    {
      "cell_type": "code",
      "metadata": {
        "colab": {
          "base_uri": "https://localhost:8080/"
        },
        "id": "AoT4SSJgtDEG",
        "outputId": "978fbae1-9e85-4a3e-f57f-cbfdbe3acb0f"
      },
      "source": [
        "# Mean Bootstrapping 3 - Sample 5000\n",
        "bootstrap6 = pd.DataFrame({'df': [df.sample(5000, replace = True).Bond.mean() for i in range (5000)]})\n",
        "bootstrap6.mean()"
      ],
      "execution_count": 130,
      "outputs": [
        {
          "output_type": "execute_result",
          "data": {
            "text/plain": [
              "df    247799.168577\n",
              "dtype: float64"
            ]
          },
          "metadata": {
            "tags": []
          },
          "execution_count": 130
        }
      ]
    },
    {
      "cell_type": "markdown",
      "metadata": {
        "id": "IQu5-6DKuhCt"
      },
      "source": [
        "##**Confidence Intervals**"
      ]
    },
    {
      "cell_type": "code",
      "metadata": {
        "id": "G0NsVc_TFlv0",
        "colab": {
          "base_uri": "https://localhost:8080/"
        },
        "outputId": "00b68e51-5c39-482d-e33b-7d13029eb3af"
      },
      "source": [
        "# 95% Confidence Interval - Median Bootstrapping - 100 Samples\n",
        "conf_int1 = np.percentile(bootstrap, [2.5, 97.5]) # The middle 95% interval\n",
        "conf_int1\n",
        "\n"
      ],
      "execution_count": 131,
      "outputs": [
        {
          "output_type": "execute_result",
          "data": {
            "text/plain": [
              "array([ 70488.75, 150000.  ])"
            ]
          },
          "metadata": {
            "tags": []
          },
          "execution_count": 131
        }
      ]
    },
    {
      "cell_type": "code",
      "metadata": {
        "id": "N-Ab4SjWHfvi",
        "colab": {
          "base_uri": "https://localhost:8080/"
        },
        "outputId": "771a7d43-dfdf-43fc-986b-a66ada0b4efb"
      },
      "source": [
        "# 95% Confidence Interval - Median Bootstrapping - 1000 Samples\n",
        "conf_int2 = np.percentile(bootstrap2, [2.5, 97.5]) # The middle 95% interval\n",
        "conf_int2\n"
      ],
      "execution_count": 132,
      "outputs": [
        {
          "output_type": "execute_result",
          "data": {
            "text/plain": [
              "array([ 95000., 100050.])"
            ]
          },
          "metadata": {
            "tags": []
          },
          "execution_count": 132
        }
      ]
    },
    {
      "cell_type": "code",
      "metadata": {
        "id": "69Wa9An-HiQb",
        "colab": {
          "base_uri": "https://localhost:8080/"
        },
        "outputId": "90d6cea5-6b11-44a3-d174-5b4e6ecffffb"
      },
      "source": [
        "# 95% Confidence Interval - Median Bootstrapping - 5000 Samples\n",
        "conf_int3 = np.percentile(bootstrap3, [2.5, 97.5]) # The middle 95% interval\n",
        "conf_int3\n"
      ],
      "execution_count": 133,
      "outputs": [
        {
          "output_type": "execute_result",
          "data": {
            "text/plain": [
              "array([100000., 100000.])"
            ]
          },
          "metadata": {
            "tags": []
          },
          "execution_count": 133
        }
      ]
    },
    {
      "cell_type": "code",
      "metadata": {
        "id": "vqJg-hAJHkUO",
        "colab": {
          "base_uri": "https://localhost:8080/"
        },
        "outputId": "190420a9-d1fc-4c9b-c2b8-077a3f6f0656"
      },
      "source": [
        "# 95% Confidence Interval - Median Original Dataset\n",
        "conf_int_df = np.percentile(df.Bond.median(), [2.5, 97.5]) # The middle 95% interval\n",
        "conf_int_df\n"
      ],
      "execution_count": 134,
      "outputs": [
        {
          "output_type": "execute_result",
          "data": {
            "text/plain": [
              "array([100000., 100000.])"
            ]
          },
          "metadata": {
            "tags": []
          },
          "execution_count": 134
        }
      ]
    },
    {
      "cell_type": "code",
      "metadata": {
        "id": "LDHRKQVTHtzy",
        "colab": {
          "base_uri": "https://localhost:8080/"
        },
        "outputId": "a8d1f22c-e78e-461b-fee4-5c6fc8f54546"
      },
      "source": [
        "# 95% Confidence Interval - Mean Bootstrapping - 100 Samples\n",
        "conf_int4 = np.percentile(bootstrap4, [2.5, 97.5]) # The middle 95% interval\n",
        "conf_int4\n"
      ],
      "execution_count": 135,
      "outputs": [
        {
          "output_type": "execute_result",
          "data": {
            "text/plain": [
              "array([168238.68125, 347070.921  ])"
            ]
          },
          "metadata": {
            "tags": []
          },
          "execution_count": 135
        }
      ]
    },
    {
      "cell_type": "code",
      "metadata": {
        "colab": {
          "base_uri": "https://localhost:8080/"
        },
        "id": "omYtiqHvuGPn",
        "outputId": "856f929f-e416-48c5-9ea1-3b4a3cdee193"
      },
      "source": [
        "# 95% Confidence Interval - Mean Bootstrapping - 1000 Samples\n",
        "conf_int5 = np.percentile(bootstrap5, [2.5, 97.5]) # The middle 95% interval\n",
        "conf_int5"
      ],
      "execution_count": 136,
      "outputs": [
        {
          "output_type": "execute_result",
          "data": {
            "text/plain": [
              "array([220308.037575, 276157.288725])"
            ]
          },
          "metadata": {
            "tags": []
          },
          "execution_count": 136
        }
      ]
    },
    {
      "cell_type": "code",
      "metadata": {
        "colab": {
          "base_uri": "https://localhost:8080/"
        },
        "id": "55O4KEXPuQTe",
        "outputId": "1718f236-8d17-4c88-90cb-27d3e154d419"
      },
      "source": [
        "# 95% Confidence Interval - Mean Bootstrapping - 5000 Samples\n",
        "conf_int6 = np.percentile(bootstrap6, [2.5, 97.5]) # The middle 95% interval\n",
        "conf_int6"
      ],
      "execution_count": 137,
      "outputs": [
        {
          "output_type": "execute_result",
          "data": {
            "text/plain": [
              "array([235217.82417 , 260610.309185])"
            ]
          },
          "metadata": {
            "tags": []
          },
          "execution_count": 137
        }
      ]
    },
    {
      "cell_type": "code",
      "metadata": {
        "id": "sBkqbvI_HwzK",
        "colab": {
          "base_uri": "https://localhost:8080/"
        },
        "outputId": "7a80422f-f079-4206-be6d-f5ba7c48685f"
      },
      "source": [
        "# 95% Confidence Interval - Mean Bootstrapping - Original Dataset\n",
        "conf_int_dfmean = np.percentile(df.Bond.mean(), [2.5, 97.5]) # The middle 95% interval\n",
        "conf_int_dfmean\n"
      ],
      "execution_count": 138,
      "outputs": [
        {
          "output_type": "execute_result",
          "data": {
            "text/plain": [
              "array([247738.79685189, 247738.79685189])"
            ]
          },
          "metadata": {
            "tags": []
          },
          "execution_count": 138
        }
      ]
    },
    {
      "cell_type": "code",
      "metadata": {
        "id": "gYI9aAMdIZPy",
        "colab": {
          "base_uri": "https://localhost:8080/"
        },
        "outputId": "828eb965-95fe-4d4f-bf76-d61d08f55ab8"
      },
      "source": [
        "df_bootstrap = pd.DataFrame(bootstrap, index=[0])\n",
        "print(df_bootstrap)"
      ],
      "execution_count": 139,
      "outputs": [
        {
          "output_type": "stream",
          "text": [
            "         df\n",
            "0  100000.0\n"
          ],
          "name": "stdout"
        }
      ]
    },
    {
      "cell_type": "code",
      "metadata": {
        "id": "fs5MZ3pdH-B_",
        "colab": {
          "base_uri": "https://localhost:8080/",
          "height": 463
        },
        "outputId": "b2b6aab3-af0b-4c41-aae4-39208102f807"
      },
      "source": [
        "# Confidence Interval Graph for Dataset - Median\n",
        "import seaborn as sns\n",
        "sns.kdeplot(df.Bond)\n",
        "for endpoint in conf_int_df:\n",
        "    plt.axvline(endpoint, color='red')"
      ],
      "execution_count": 140,
      "outputs": [
        {
          "output_type": "display_data",
          "data": {
            "image/png": "[encoded data removed]",
            "text/plain": [
              "<Figure size 640x480 with 1 Axes>"
            ]
          },
          "metadata": {
            "tags": []
          }
        }
      ]
    },
    {
      "cell_type": "code",
      "metadata": {
        "id": "KPQ8pfibRdqZ",
        "colab": {
          "base_uri": "https://localhost:8080/",
          "height": 463
        },
        "outputId": "9eaf9aa6-714e-4ffd-f560-85b413ca3c05"
      },
      "source": [
        "# Confidence Interval Graph for Bootstrap Sample - Median\n",
        "import seaborn as sns\n",
        "sns.kdeplot(bootstrap3.df)\n",
        "for endpoint in conf_int3:\n",
        "    plt.axvline(endpoint, color='red')"
      ],
      "execution_count": 141,
      "outputs": [
        {
          "output_type": "display_data",
          "data": {
            "image/png": "[encoded data removed]",
            "text/plain": [
              "<Figure size 640x480 with 1 Axes>"
            ]
          },
          "metadata": {
            "tags": []
          }
        }
      ]
    },
    {
      "cell_type": "code",
      "metadata": {
        "id": "dAHKAfUWKzJd",
        "colab": {
          "base_uri": "https://localhost:8080/"
        },
        "outputId": "e1b2f37d-eabc-4ab8-e1d8-bf9461b7dae3"
      },
      "source": [
        "#Bootstrapping from all entries in dataset\n",
        "median_boot_samples = []\n",
        "for i in range(1000):\n",
        "                df.Bond = np.random.choice(df.Bond, 5351849)\n",
        "                median_boot_samples.append(df.Bond.median())\n",
        "        \n",
        "np.median(median_boot_samples)"
      ],
      "execution_count": 142,
      "outputs": [
        {
          "output_type": "execute_result",
          "data": {
            "text/plain": [
              "100000.0"
            ]
          },
          "metadata": {
            "tags": []
          },
          "execution_count": 142
        }
      ]
    },
    {
      "cell_type": "code",
      "metadata": {
        "colab": {
          "base_uri": "https://localhost:8080/",
          "height": 463
        },
        "id": "IvdGFhZH5DfO",
        "outputId": "8a5f1270-755b-4d29-b930-06bc34890daa"
      },
      "source": [
        "# Confidence Interval Graph for Dataset Mean\n",
        "import seaborn as sns\n",
        "sns.kdeplot(df.Bond)\n",
        "for endpoint in conf_int_dfmean:\n",
        "    plt.axvline(endpoint, color='red')"
      ],
      "execution_count": 143,
      "outputs": [
        {
          "output_type": "display_data",
          "data": {
            "image/png": "[encoded data removed]",
            "text/plain": [
              "<Figure size 640x480 with 1 Axes>"
            ]
          },
          "metadata": {
            "tags": []
          }
        }
      ]
    },
    {
      "cell_type": "code",
      "metadata": {
        "colab": {
          "base_uri": "https://localhost:8080/",
          "height": 463
        },
        "id": "in10Um9i5dqg",
        "outputId": "47386110-7872-40ba-d425-f4c032908875"
      },
      "source": [
        "# Confidence Interval Graph for Bootstrap Mean - Sample 5000\n",
        "import seaborn as sns\n",
        "sns.kdeplot(df.Bond)\n",
        "for endpoint in conf_int6:\n",
        "    plt.axvline(endpoint, color='red')\n",
        "    "
      ],
      "execution_count": 144,
      "outputs": [
        {
          "output_type": "display_data",
          "data": {
            "image/png": "[encoded data removed]",
            "text/plain": [
              "<Figure size 640x480 with 1 Axes>"
            ]
          },
          "metadata": {
            "tags": []
          }
        }
      ]
    },
    {
      "cell_type": "markdown",
      "metadata": {
        "id": "AO-W5rYL6hib"
      },
      "source": [
        "5351849 total entries\n"
      ]
    },
    {
      "cell_type": "code",
      "metadata": {
        "id": "btWCWbQI6nRF",
        "colab": {
          "base_uri": "https://localhost:8080/"
        },
        "outputId": "5c6bedab-deb5-420d-9c66-a0ec5f60ee27"
      },
      "source": [
        "median_boot_samples = []\n",
        "for i in range(1000):\n",
        "                df.Bond = np.random.choice(df.Bond, 5351849)\n",
        "                median_boot_samples.append(df.Bond.median())\n",
        "        \n",
        "np.median(median_boot_samples)"
      ],
      "execution_count": 147,
      "outputs": [
        {
          "output_type": "execute_result",
          "data": {
            "text/plain": [
              "100000.0"
            ]
          },
          "metadata": {
            "tags": []
          },
          "execution_count": 147
        }
      ]
    }
  ]
}