{
  "nbformat": 4,
  "nbformat_minor": 0,
  "metadata": {
    "colab": {
      "name": "Copy of Data201_GroupProject_Team_3.ipynb",
      "provenance": [],
      "collapsed_sections": [],
      "toc_visible": true,
      "mount_file_id": "1rghpm3IMognEufDh8AWV8JNDVmNFF1Oz",
      "authorship_tag": "ABX9TyPdy/zCENtImS18kbcBiIf6",
      "include_colab_link": true
    },
    "kernelspec": {
      "display_name": "Python 3",
      "name": "python3"
    },
    "language_info": {
      "name": "python"
    }
  },
  "cells": [
    {
      "cell_type": "markdown",
      "metadata": {
        "id": "view-in-github",
        "colab_type": "text"
      },
      "source": [
        "<a href=\"https://colab.research.google.com/github/jcj217-mc/Data201_Project_1/blob/main/Copy_of_Data201_GroupProject_Team_3.ipynb\" target=\"_parent\"><img src=\"https://colab.research.google.com/assets/colab-badge.svg\" alt=\"Open In Colab\"/></a>"
      ]
    },
    {
      "cell_type": "code",
      "metadata": {
        "id": "lJh6zQg4VvRb"
      },
      "source": [
        "# import packages\n",
        "import pandas as pd\n",
        "import numpy as np\n",
        "import os \n",
        "import json"
      ],
      "execution_count": 136,
      "outputs": []
    },
    {
      "cell_type": "code",
      "metadata": {
        "id": "e7EO6SQna5F4"
      },
      "source": [
        "# .csv file import\n",
        "# First, check  working directory\n",
        "# os.getcwd()\n",
        "# If need to change working directory\n",
        "# os.chdir(path)\n",
        "df = pd.read_csv(\"Accused_Pre-Trial_Inmates_in_Correctional_Facilities (1).csv\", index_col=False)"
      ],
      "execution_count": 137,
      "outputs": []
    },
    {
      "cell_type": "markdown",
      "metadata": {
        "id": "aQZ-Iq-ki_hX"
      },
      "source": [
        ""
      ]
    },
    {
      "cell_type": "markdown",
      "metadata": {
        "id": "Dyua3yZ8ZPyo"
      },
      "source": [
        "## **Data Preparation and Wrangling with Pandas and Numpy**"
      ]
    },
    {
      "cell_type": "code",
      "metadata": {
        "colab": {
          "base_uri": "https://localhost:8080/",
          "height": 411
        },
        "id": "el19b9VvWEB2",
        "outputId": "ce6e7f44-42da-44a5-c7ef-aeb0259253d1"
      },
      "source": [
        "# Evaluating initial data \n",
        "df.head()"
      ],
      "execution_count": 138,
      "outputs": [
        {
          "output_type": "execute_result",
          "data": {
            "text/html": [
              "<div>\n",
              "<style scoped>\n",
              "    .dataframe tbody tr th:only-of-type {\n",
              "        vertical-align: middle;\n",
              "    }\n",
              "\n",
              "    .dataframe tbody tr th {\n",
              "        vertical-align: top;\n",
              "    }\n",
              "\n",
              "    .dataframe thead th {\n",
              "        text-align: right;\n",
              "    }\n",
              "</style>\n",
              "<table border=\"1\" class=\"dataframe\">\n",
              "  <thead>\n",
              "    <tr style=\"text-align: right;\">\n",
              "      <th></th>\n",
              "      <th>DOWNLOAD DATE</th>\n",
              "      <th>IDENTIFIER</th>\n",
              "      <th>LATEST ADMISSION DATE</th>\n",
              "      <th>RACE</th>\n",
              "      <th>GENDER</th>\n",
              "      <th>AGE</th>\n",
              "      <th>BOND AMOUNT</th>\n",
              "      <th>OFFENSE</th>\n",
              "      <th>FACILITY</th>\n",
              "      <th>DETAINER</th>\n",
              "    </tr>\n",
              "  </thead>\n",
              "  <tbody>\n",
              "    <tr>\n",
              "      <th>0</th>\n",
              "      <td>05/15/2020</td>\n",
              "      <td>ZZHCZBZZ</td>\n",
              "      <td>08/16/2018</td>\n",
              "      <td>BLACK</td>\n",
              "      <td>M</td>\n",
              "      <td>27</td>\n",
              "      <td>150000</td>\n",
              "      <td>CRIMINAL POSS OF PISTOL/REVOLVER      DF</td>\n",
              "      <td>NEW HAVEN CC</td>\n",
              "      <td>NONE</td>\n",
              "    </tr>\n",
              "    <tr>\n",
              "      <th>1</th>\n",
              "      <td>05/15/2020</td>\n",
              "      <td>ZZHZZRLR</td>\n",
              "      <td>03/28/2019</td>\n",
              "      <td>HISPANIC</td>\n",
              "      <td>M</td>\n",
              "      <td>41</td>\n",
              "      <td>30100</td>\n",
              "      <td>VIOLATION OF PROBATION OR COND DISCHG</td>\n",
              "      <td>CORRIGAN CI</td>\n",
              "      <td>NONE</td>\n",
              "    </tr>\n",
              "    <tr>\n",
              "      <th>2</th>\n",
              "      <td>05/15/2020</td>\n",
              "      <td>ZZSRJBEE</td>\n",
              "      <td>04/03/2020</td>\n",
              "      <td>HISPANIC</td>\n",
              "      <td>M</td>\n",
              "      <td>21</td>\n",
              "      <td>150000</td>\n",
              "      <td>CRIMINAL ATTEMPT</td>\n",
              "      <td>CORRIGAN CI</td>\n",
              "      <td>NONE</td>\n",
              "    </tr>\n",
              "    <tr>\n",
              "      <th>3</th>\n",
              "      <td>05/15/2020</td>\n",
              "      <td>ZZHBJLRZ</td>\n",
              "      <td>01/15/2020</td>\n",
              "      <td>WHITE</td>\n",
              "      <td>M</td>\n",
              "      <td>36</td>\n",
              "      <td>50500</td>\n",
              "      <td>CRIM VIOL OF PROTECTIVE ORDER         DF</td>\n",
              "      <td>BRIDGEPORT CC</td>\n",
              "      <td>NONE</td>\n",
              "    </tr>\n",
              "    <tr>\n",
              "      <th>4</th>\n",
              "      <td>05/15/2020</td>\n",
              "      <td>ZZSRRCHH</td>\n",
              "      <td>12/26/2018</td>\n",
              "      <td>HISPANIC</td>\n",
              "      <td>M</td>\n",
              "      <td>29</td>\n",
              "      <td>100000</td>\n",
              "      <td>CRIMINAL ATTEMPT</td>\n",
              "      <td>HARTFORD CC</td>\n",
              "      <td>NONE</td>\n",
              "    </tr>\n",
              "  </tbody>\n",
              "</table>\n",
              "</div>"
            ],
            "text/plain": [
              "  DOWNLOAD DATE  ... DETAINER                                        \n",
              "0    05/15/2020  ...                                             NONE\n",
              "1    05/15/2020  ...                                             NONE\n",
              "2    05/15/2020  ...                                             NONE\n",
              "3    05/15/2020  ...                                             NONE\n",
              "4    05/15/2020  ...                                             NONE\n",
              "\n",
              "[5 rows x 10 columns]"
            ]
          },
          "metadata": {
            "tags": []
          },
          "execution_count": 138
        }
      ]
    },
    {
      "cell_type": "code",
      "metadata": {
        "colab": {
          "base_uri": "https://localhost:8080/"
        },
        "id": "sRe_qwOj_4el",
        "outputId": "bd49790b-2c44-4f29-82e9-5760a1274aef"
      },
      "source": [
        "df.info()"
      ],
      "execution_count": 139,
      "outputs": [
        {
          "output_type": "stream",
          "text": [
            "<class 'pandas.core.frame.DataFrame'>\n",
            "RangeIndex: 5351849 entries, 0 to 5351848\n",
            "Data columns (total 10 columns):\n",
            " #   Column                                            Dtype \n",
            "---  ------                                            ----- \n",
            " 0   DOWNLOAD DATE                                     object\n",
            " 1   IDENTIFIER                                        object\n",
            " 2   LATEST ADMISSION DATE                             object\n",
            " 3   RACE                                              object\n",
            " 4   GENDER                                            object\n",
            " 5   AGE                                               int64 \n",
            " 6   BOND AMOUNT                                       int64 \n",
            " 7   OFFENSE                                           object\n",
            " 8   FACILITY                                          object\n",
            " 9   DETAINER                                          object\n",
            "dtypes: int64(2), object(8)\n",
            "memory usage: 408.3+ MB\n"
          ],
          "name": "stdout"
        }
      ]
    },
    {
      "cell_type": "code",
      "metadata": {
        "colab": {
          "base_uri": "https://localhost:8080/",
          "height": 297
        },
        "id": "AG-Ha8_a_8pe",
        "outputId": "a7902f25-9d29-4488-ef16-c7b70d75709b"
      },
      "source": [
        "df.describe()"
      ],
      "execution_count": 140,
      "outputs": [
        {
          "output_type": "execute_result",
          "data": {
            "text/html": [
              "<div>\n",
              "<style scoped>\n",
              "    .dataframe tbody tr th:only-of-type {\n",
              "        vertical-align: middle;\n",
              "    }\n",
              "\n",
              "    .dataframe tbody tr th {\n",
              "        vertical-align: top;\n",
              "    }\n",
              "\n",
              "    .dataframe thead th {\n",
              "        text-align: right;\n",
              "    }\n",
              "</style>\n",
              "<table border=\"1\" class=\"dataframe\">\n",
              "  <thead>\n",
              "    <tr style=\"text-align: right;\">\n",
              "      <th></th>\n",
              "      <th>AGE</th>\n",
              "      <th>BOND AMOUNT</th>\n",
              "    </tr>\n",
              "  </thead>\n",
              "  <tbody>\n",
              "    <tr>\n",
              "      <th>count</th>\n",
              "      <td>5.351849e+06</td>\n",
              "      <td>5.351849e+06</td>\n",
              "    </tr>\n",
              "    <tr>\n",
              "      <th>mean</th>\n",
              "      <td>3.460968e+01</td>\n",
              "      <td>2.477388e+05</td>\n",
              "    </tr>\n",
              "    <tr>\n",
              "      <th>std</th>\n",
              "      <td>1.139510e+01</td>\n",
              "      <td>4.502701e+05</td>\n",
              "    </tr>\n",
              "    <tr>\n",
              "      <th>min</th>\n",
              "      <td>1.500000e+01</td>\n",
              "      <td>1.000000e+00</td>\n",
              "    </tr>\n",
              "    <tr>\n",
              "      <th>25%</th>\n",
              "      <td>2.600000e+01</td>\n",
              "      <td>3.350000e+04</td>\n",
              "    </tr>\n",
              "    <tr>\n",
              "      <th>50%</th>\n",
              "      <td>3.300000e+01</td>\n",
              "      <td>1.000000e+05</td>\n",
              "    </tr>\n",
              "    <tr>\n",
              "      <th>75%</th>\n",
              "      <td>4.200000e+01</td>\n",
              "      <td>2.500000e+05</td>\n",
              "    </tr>\n",
              "    <tr>\n",
              "      <th>max</th>\n",
              "      <td>8.700000e+01</td>\n",
              "      <td>9.200000e+06</td>\n",
              "    </tr>\n",
              "  </tbody>\n",
              "</table>\n",
              "</div>"
            ],
            "text/plain": [
              "                AGE   BOND AMOUNT\n",
              "count  5.351849e+06  5.351849e+06\n",
              "mean   3.460968e+01  2.477388e+05\n",
              "std    1.139510e+01  4.502701e+05\n",
              "min    1.500000e+01  1.000000e+00\n",
              "25%    2.600000e+01  3.350000e+04\n",
              "50%    3.300000e+01  1.000000e+05\n",
              "75%    4.200000e+01  2.500000e+05\n",
              "max    8.700000e+01  9.200000e+06"
            ]
          },
          "metadata": {
            "tags": []
          },
          "execution_count": 140
        }
      ]
    },
    {
      "cell_type": "code",
      "metadata": {
        "colab": {
          "base_uri": "https://localhost:8080/"
        },
        "id": "xLb5cUGVWqBt",
        "outputId": "9d2cbbad-5d51-4163-e07f-33f9f55b5084"
      },
      "source": [
        "#Checking Shape\n",
        "print(df.shape)"
      ],
      "execution_count": 141,
      "outputs": [
        {
          "output_type": "stream",
          "text": [
            "(5351849, 10)\n"
          ],
          "name": "stdout"
        }
      ]
    },
    {
      "cell_type": "code",
      "metadata": {
        "colab": {
          "base_uri": "https://localhost:8080/"
        },
        "id": "Ehd1am1TmA15",
        "outputId": "9620a5f6-9e33-4fbf-d785-49c137560c53"
      },
      "source": [
        "#Check DataFrame type\n",
        "type(df)"
      ],
      "execution_count": 142,
      "outputs": [
        {
          "output_type": "execute_result",
          "data": {
            "text/plain": [
              "pandas.core.frame.DataFrame"
            ]
          },
          "metadata": {
            "tags": []
          },
          "execution_count": 142
        }
      ]
    },
    {
      "cell_type": "markdown",
      "metadata": {
        "id": "kRq9uMXEWG1Z"
      },
      "source": [
        "## **Clean/Arrange Data**"
      ]
    },
    {
      "cell_type": "code",
      "metadata": {
        "id": "rOcCCYUmWYo9",
        "colab": {
          "base_uri": "https://localhost:8080/",
          "height": 377
        },
        "outputId": "d598f7f9-584c-4b37-c943-d2ad403eb9af"
      },
      "source": [
        "# change column names\n",
        "df = df.rename(columns = {\"DOWNLOAD DATE\": \"Download_Date\", \"LATEST ADMISSION DATE\": \"Date\", \"BOND AMOUNT\":\"Bond\"})\n",
        "df.head()"
      ],
      "execution_count": 143,
      "outputs": [
        {
          "output_type": "execute_result",
          "data": {
            "text/html": [
              "<div>\n",
              "<style scoped>\n",
              "    .dataframe tbody tr th:only-of-type {\n",
              "        vertical-align: middle;\n",
              "    }\n",
              "\n",
              "    .dataframe tbody tr th {\n",
              "        vertical-align: top;\n",
              "    }\n",
              "\n",
              "    .dataframe thead th {\n",
              "        text-align: right;\n",
              "    }\n",
              "</style>\n",
              "<table border=\"1\" class=\"dataframe\">\n",
              "  <thead>\n",
              "    <tr style=\"text-align: right;\">\n",
              "      <th></th>\n",
              "      <th>Download_Date</th>\n",
              "      <th>IDENTIFIER</th>\n",
              "      <th>Date</th>\n",
              "      <th>RACE</th>\n",
              "      <th>GENDER</th>\n",
              "      <th>AGE</th>\n",
              "      <th>Bond</th>\n",
              "      <th>OFFENSE</th>\n",
              "      <th>FACILITY</th>\n",
              "      <th>DETAINER</th>\n",
              "    </tr>\n",
              "  </thead>\n",
              "  <tbody>\n",
              "    <tr>\n",
              "      <th>0</th>\n",
              "      <td>05/15/2020</td>\n",
              "      <td>ZZHCZBZZ</td>\n",
              "      <td>08/16/2018</td>\n",
              "      <td>BLACK</td>\n",
              "      <td>M</td>\n",
              "      <td>27</td>\n",
              "      <td>150000</td>\n",
              "      <td>CRIMINAL POSS OF PISTOL/REVOLVER      DF</td>\n",
              "      <td>NEW HAVEN CC</td>\n",
              "      <td>NONE</td>\n",
              "    </tr>\n",
              "    <tr>\n",
              "      <th>1</th>\n",
              "      <td>05/15/2020</td>\n",
              "      <td>ZZHZZRLR</td>\n",
              "      <td>03/28/2019</td>\n",
              "      <td>HISPANIC</td>\n",
              "      <td>M</td>\n",
              "      <td>41</td>\n",
              "      <td>30100</td>\n",
              "      <td>VIOLATION OF PROBATION OR COND DISCHG</td>\n",
              "      <td>CORRIGAN CI</td>\n",
              "      <td>NONE</td>\n",
              "    </tr>\n",
              "    <tr>\n",
              "      <th>2</th>\n",
              "      <td>05/15/2020</td>\n",
              "      <td>ZZSRJBEE</td>\n",
              "      <td>04/03/2020</td>\n",
              "      <td>HISPANIC</td>\n",
              "      <td>M</td>\n",
              "      <td>21</td>\n",
              "      <td>150000</td>\n",
              "      <td>CRIMINAL ATTEMPT</td>\n",
              "      <td>CORRIGAN CI</td>\n",
              "      <td>NONE</td>\n",
              "    </tr>\n",
              "    <tr>\n",
              "      <th>3</th>\n",
              "      <td>05/15/2020</td>\n",
              "      <td>ZZHBJLRZ</td>\n",
              "      <td>01/15/2020</td>\n",
              "      <td>WHITE</td>\n",
              "      <td>M</td>\n",
              "      <td>36</td>\n",
              "      <td>50500</td>\n",
              "      <td>CRIM VIOL OF PROTECTIVE ORDER         DF</td>\n",
              "      <td>BRIDGEPORT CC</td>\n",
              "      <td>NONE</td>\n",
              "    </tr>\n",
              "    <tr>\n",
              "      <th>4</th>\n",
              "      <td>05/15/2020</td>\n",
              "      <td>ZZSRRCHH</td>\n",
              "      <td>12/26/2018</td>\n",
              "      <td>HISPANIC</td>\n",
              "      <td>M</td>\n",
              "      <td>29</td>\n",
              "      <td>100000</td>\n",
              "      <td>CRIMINAL ATTEMPT</td>\n",
              "      <td>HARTFORD CC</td>\n",
              "      <td>NONE</td>\n",
              "    </tr>\n",
              "  </tbody>\n",
              "</table>\n",
              "</div>"
            ],
            "text/plain": [
              "  Download_Date  ... DETAINER                                        \n",
              "0    05/15/2020  ...                                             NONE\n",
              "1    05/15/2020  ...                                             NONE\n",
              "2    05/15/2020  ...                                             NONE\n",
              "3    05/15/2020  ...                                             NONE\n",
              "4    05/15/2020  ...                                             NONE\n",
              "\n",
              "[5 rows x 10 columns]"
            ]
          },
          "metadata": {
            "tags": []
          },
          "execution_count": 143
        }
      ]
    },
    {
      "cell_type": "code",
      "metadata": {
        "colab": {
          "base_uri": "https://localhost:8080/",
          "height": 80
        },
        "id": "87w6WHbIeYVX",
        "outputId": "835a8a15-94c7-45b3-db61-ad4022838d11"
      },
      "source": [
        "# Drop Columns\n",
        "df = df.drop(['Download_Date', 'IDENTIFIER', 'FACILITY'], axis = 'columns')\n",
        "df.head(1)"
      ],
      "execution_count": 144,
      "outputs": [
        {
          "output_type": "execute_result",
          "data": {
            "text/html": [
              "<div>\n",
              "<style scoped>\n",
              "    .dataframe tbody tr th:only-of-type {\n",
              "        vertical-align: middle;\n",
              "    }\n",
              "\n",
              "    .dataframe tbody tr th {\n",
              "        vertical-align: top;\n",
              "    }\n",
              "\n",
              "    .dataframe thead th {\n",
              "        text-align: right;\n",
              "    }\n",
              "</style>\n",
              "<table border=\"1\" class=\"dataframe\">\n",
              "  <thead>\n",
              "    <tr style=\"text-align: right;\">\n",
              "      <th></th>\n",
              "      <th>Date</th>\n",
              "      <th>RACE</th>\n",
              "      <th>GENDER</th>\n",
              "      <th>AGE</th>\n",
              "      <th>Bond</th>\n",
              "      <th>OFFENSE</th>\n",
              "      <th>DETAINER</th>\n",
              "    </tr>\n",
              "  </thead>\n",
              "  <tbody>\n",
              "    <tr>\n",
              "      <th>0</th>\n",
              "      <td>08/16/2018</td>\n",
              "      <td>BLACK</td>\n",
              "      <td>M</td>\n",
              "      <td>27</td>\n",
              "      <td>150000</td>\n",
              "      <td>CRIMINAL POSS OF PISTOL/REVOLVER      DF</td>\n",
              "      <td>NONE</td>\n",
              "    </tr>\n",
              "  </tbody>\n",
              "</table>\n",
              "</div>"
            ],
            "text/plain": [
              "         Date  ... DETAINER                                        \n",
              "0  08/16/2018  ...                                             NONE\n",
              "\n",
              "[1 rows x 7 columns]"
            ]
          },
          "metadata": {
            "tags": []
          },
          "execution_count": 144
        }
      ]
    },
    {
      "cell_type": "code",
      "metadata": {
        "colab": {
          "base_uri": "https://localhost:8080/",
          "height": 80
        },
        "id": "tM6Nysh7l8JT",
        "outputId": "733a87d5-1f95-4160-c96d-6bcf0b3d93a4"
      },
      "source": [
        "df = df.drop([df.columns[-1]], axis='columns')\n",
        "df.head(1)"
      ],
      "execution_count": 145,
      "outputs": [
        {
          "output_type": "execute_result",
          "data": {
            "text/html": [
              "<div>\n",
              "<style scoped>\n",
              "    .dataframe tbody tr th:only-of-type {\n",
              "        vertical-align: middle;\n",
              "    }\n",
              "\n",
              "    .dataframe tbody tr th {\n",
              "        vertical-align: top;\n",
              "    }\n",
              "\n",
              "    .dataframe thead th {\n",
              "        text-align: right;\n",
              "    }\n",
              "</style>\n",
              "<table border=\"1\" class=\"dataframe\">\n",
              "  <thead>\n",
              "    <tr style=\"text-align: right;\">\n",
              "      <th></th>\n",
              "      <th>Date</th>\n",
              "      <th>RACE</th>\n",
              "      <th>GENDER</th>\n",
              "      <th>AGE</th>\n",
              "      <th>Bond</th>\n",
              "      <th>OFFENSE</th>\n",
              "    </tr>\n",
              "  </thead>\n",
              "  <tbody>\n",
              "    <tr>\n",
              "      <th>0</th>\n",
              "      <td>08/16/2018</td>\n",
              "      <td>BLACK</td>\n",
              "      <td>M</td>\n",
              "      <td>27</td>\n",
              "      <td>150000</td>\n",
              "      <td>CRIMINAL POSS OF PISTOL/REVOLVER      DF</td>\n",
              "    </tr>\n",
              "  </tbody>\n",
              "</table>\n",
              "</div>"
            ],
            "text/plain": [
              "         Date   RACE  ...    Bond                                   OFFENSE\n",
              "0  08/16/2018  BLACK  ...  150000  CRIMINAL POSS OF PISTOL/REVOLVER      DF\n",
              "\n",
              "[1 rows x 6 columns]"
            ]
          },
          "metadata": {
            "tags": []
          },
          "execution_count": 145
        }
      ]
    },
    {
      "cell_type": "code",
      "metadata": {
        "colab": {
          "base_uri": "https://localhost:8080/"
        },
        "id": "NvbZu7n3Wml8",
        "outputId": "6a1ccc09-bb25-494b-deef-13baa6a91926"
      },
      "source": [
        "# Checking data types for each column\n",
        "print(df.dtypes)"
      ],
      "execution_count": 146,
      "outputs": [
        {
          "output_type": "stream",
          "text": [
            "Date       object\n",
            "RACE       object\n",
            "GENDER     object\n",
            "AGE         int64\n",
            "Bond        int64\n",
            "OFFENSE    object\n",
            "dtype: object\n"
          ],
          "name": "stdout"
        }
      ]
    },
    {
      "cell_type": "markdown",
      "metadata": {
        "id": "YikyqaxLT0Ru"
      },
      "source": [
        "## **Addressing NA/Null Values**"
      ]
    },
    {
      "cell_type": "code",
      "metadata": {
        "colab": {
          "base_uri": "https://localhost:8080/",
          "height": 419
        },
        "id": "rvWY21EOWxFj",
        "outputId": "cb0bf1e3-073e-4c97-a4b0-c9920505e50a"
      },
      "source": [
        "# Check null \n",
        "df.isnull()"
      ],
      "execution_count": 147,
      "outputs": [
        {
          "output_type": "execute_result",
          "data": {
            "text/html": [
              "<div>\n",
              "<style scoped>\n",
              "    .dataframe tbody tr th:only-of-type {\n",
              "        vertical-align: middle;\n",
              "    }\n",
              "\n",
              "    .dataframe tbody tr th {\n",
              "        vertical-align: top;\n",
              "    }\n",
              "\n",
              "    .dataframe thead th {\n",
              "        text-align: right;\n",
              "    }\n",
              "</style>\n",
              "<table border=\"1\" class=\"dataframe\">\n",
              "  <thead>\n",
              "    <tr style=\"text-align: right;\">\n",
              "      <th></th>\n",
              "      <th>Date</th>\n",
              "      <th>RACE</th>\n",
              "      <th>GENDER</th>\n",
              "      <th>AGE</th>\n",
              "      <th>Bond</th>\n",
              "      <th>OFFENSE</th>\n",
              "    </tr>\n",
              "  </thead>\n",
              "  <tbody>\n",
              "    <tr>\n",
              "      <th>0</th>\n",
              "      <td>False</td>\n",
              "      <td>False</td>\n",
              "      <td>False</td>\n",
              "      <td>False</td>\n",
              "      <td>False</td>\n",
              "      <td>False</td>\n",
              "    </tr>\n",
              "    <tr>\n",
              "      <th>1</th>\n",
              "      <td>False</td>\n",
              "      <td>False</td>\n",
              "      <td>False</td>\n",
              "      <td>False</td>\n",
              "      <td>False</td>\n",
              "      <td>False</td>\n",
              "    </tr>\n",
              "    <tr>\n",
              "      <th>2</th>\n",
              "      <td>False</td>\n",
              "      <td>False</td>\n",
              "      <td>False</td>\n",
              "      <td>False</td>\n",
              "      <td>False</td>\n",
              "      <td>False</td>\n",
              "    </tr>\n",
              "    <tr>\n",
              "      <th>3</th>\n",
              "      <td>False</td>\n",
              "      <td>False</td>\n",
              "      <td>False</td>\n",
              "      <td>False</td>\n",
              "      <td>False</td>\n",
              "      <td>False</td>\n",
              "    </tr>\n",
              "    <tr>\n",
              "      <th>4</th>\n",
              "      <td>False</td>\n",
              "      <td>False</td>\n",
              "      <td>False</td>\n",
              "      <td>False</td>\n",
              "      <td>False</td>\n",
              "      <td>False</td>\n",
              "    </tr>\n",
              "    <tr>\n",
              "      <th>...</th>\n",
              "      <td>...</td>\n",
              "      <td>...</td>\n",
              "      <td>...</td>\n",
              "      <td>...</td>\n",
              "      <td>...</td>\n",
              "      <td>...</td>\n",
              "    </tr>\n",
              "    <tr>\n",
              "      <th>5351844</th>\n",
              "      <td>False</td>\n",
              "      <td>False</td>\n",
              "      <td>False</td>\n",
              "      <td>False</td>\n",
              "      <td>False</td>\n",
              "      <td>False</td>\n",
              "    </tr>\n",
              "    <tr>\n",
              "      <th>5351845</th>\n",
              "      <td>False</td>\n",
              "      <td>False</td>\n",
              "      <td>False</td>\n",
              "      <td>False</td>\n",
              "      <td>False</td>\n",
              "      <td>False</td>\n",
              "    </tr>\n",
              "    <tr>\n",
              "      <th>5351846</th>\n",
              "      <td>False</td>\n",
              "      <td>False</td>\n",
              "      <td>False</td>\n",
              "      <td>False</td>\n",
              "      <td>False</td>\n",
              "      <td>False</td>\n",
              "    </tr>\n",
              "    <tr>\n",
              "      <th>5351847</th>\n",
              "      <td>False</td>\n",
              "      <td>False</td>\n",
              "      <td>False</td>\n",
              "      <td>False</td>\n",
              "      <td>False</td>\n",
              "      <td>False</td>\n",
              "    </tr>\n",
              "    <tr>\n",
              "      <th>5351848</th>\n",
              "      <td>False</td>\n",
              "      <td>False</td>\n",
              "      <td>False</td>\n",
              "      <td>False</td>\n",
              "      <td>False</td>\n",
              "      <td>False</td>\n",
              "    </tr>\n",
              "  </tbody>\n",
              "</table>\n",
              "<p>5351849 rows × 6 columns</p>\n",
              "</div>"
            ],
            "text/plain": [
              "          Date   RACE  GENDER    AGE   Bond  OFFENSE\n",
              "0        False  False   False  False  False    False\n",
              "1        False  False   False  False  False    False\n",
              "2        False  False   False  False  False    False\n",
              "3        False  False   False  False  False    False\n",
              "4        False  False   False  False  False    False\n",
              "...        ...    ...     ...    ...    ...      ...\n",
              "5351844  False  False   False  False  False    False\n",
              "5351845  False  False   False  False  False    False\n",
              "5351846  False  False   False  False  False    False\n",
              "5351847  False  False   False  False  False    False\n",
              "5351848  False  False   False  False  False    False\n",
              "\n",
              "[5351849 rows x 6 columns]"
            ]
          },
          "metadata": {
            "tags": []
          },
          "execution_count": 147
        }
      ]
    },
    {
      "cell_type": "code",
      "metadata": {
        "colab": {
          "base_uri": "https://localhost:8080/"
        },
        "id": "j6_syjhSWzmU",
        "outputId": "d0710cce-49d0-43d4-afa4-2124b6cec00f"
      },
      "source": [
        "# Null sum\n",
        "df.isnull().sum()"
      ],
      "execution_count": 148,
      "outputs": [
        {
          "output_type": "execute_result",
          "data": {
            "text/plain": [
              "Date       0\n",
              "RACE       0\n",
              "GENDER     0\n",
              "AGE        0\n",
              "Bond       0\n",
              "OFFENSE    0\n",
              "dtype: int64"
            ]
          },
          "metadata": {
            "tags": []
          },
          "execution_count": 148
        }
      ]
    },
    {
      "cell_type": "markdown",
      "metadata": {
        "id": "-TkLfo7iT7KB"
      },
      "source": [
        "## **Date/Time**"
      ]
    },
    {
      "cell_type": "code",
      "metadata": {
        "id": "BtXfCHkRnqt_"
      },
      "source": [
        "# Changing Date to datetime\n",
        "df.Date = pd.to_datetime(df.Date)"
      ],
      "execution_count": 149,
      "outputs": []
    },
    {
      "cell_type": "code",
      "metadata": {
        "id": "cuPGxpczsecF",
        "colab": {
          "base_uri": "https://localhost:8080/",
          "height": 80
        },
        "outputId": "ec1280e0-b342-4d00-862e-0da36ae6244d"
      },
      "source": [
        "# add a column for Year\n",
        "df['Year'] = df['Date'].dt.year\n",
        "df.head(1)"
      ],
      "execution_count": 150,
      "outputs": [
        {
          "output_type": "execute_result",
          "data": {
            "text/html": [
              "<div>\n",
              "<style scoped>\n",
              "    .dataframe tbody tr th:only-of-type {\n",
              "        vertical-align: middle;\n",
              "    }\n",
              "\n",
              "    .dataframe tbody tr th {\n",
              "        vertical-align: top;\n",
              "    }\n",
              "\n",
              "    .dataframe thead th {\n",
              "        text-align: right;\n",
              "    }\n",
              "</style>\n",
              "<table border=\"1\" class=\"dataframe\">\n",
              "  <thead>\n",
              "    <tr style=\"text-align: right;\">\n",
              "      <th></th>\n",
              "      <th>Date</th>\n",
              "      <th>RACE</th>\n",
              "      <th>GENDER</th>\n",
              "      <th>AGE</th>\n",
              "      <th>Bond</th>\n",
              "      <th>OFFENSE</th>\n",
              "      <th>Year</th>\n",
              "    </tr>\n",
              "  </thead>\n",
              "  <tbody>\n",
              "    <tr>\n",
              "      <th>0</th>\n",
              "      <td>2018-08-16</td>\n",
              "      <td>BLACK</td>\n",
              "      <td>M</td>\n",
              "      <td>27</td>\n",
              "      <td>150000</td>\n",
              "      <td>CRIMINAL POSS OF PISTOL/REVOLVER      DF</td>\n",
              "      <td>2018</td>\n",
              "    </tr>\n",
              "  </tbody>\n",
              "</table>\n",
              "</div>"
            ],
            "text/plain": [
              "        Date   RACE  ...                                   OFFENSE  Year\n",
              "0 2018-08-16  BLACK  ...  CRIMINAL POSS OF PISTOL/REVOLVER      DF  2018\n",
              "\n",
              "[1 rows x 7 columns]"
            ]
          },
          "metadata": {
            "tags": []
          },
          "execution_count": 150
        }
      ]
    },
    {
      "cell_type": "code",
      "metadata": {
        "id": "V9Kuzx4Fnu9r",
        "colab": {
          "base_uri": "https://localhost:8080/"
        },
        "outputId": "017c907b-2044-47fa-b18e-200c8e5a366d"
      },
      "source": [
        "# Checking data types for each column\n",
        "print(df.dtypes)"
      ],
      "execution_count": 151,
      "outputs": [
        {
          "output_type": "stream",
          "text": [
            "Date       datetime64[ns]\n",
            "RACE               object\n",
            "GENDER             object\n",
            "AGE                 int64\n",
            "Bond                int64\n",
            "OFFENSE            object\n",
            "Year                int64\n",
            "dtype: object\n"
          ],
          "name": "stdout"
        }
      ]
    },
    {
      "cell_type": "code",
      "metadata": {
        "colab": {
          "base_uri": "https://localhost:8080/",
          "height": 235
        },
        "id": "zRMaiLvPHjvP",
        "outputId": "18b59035-d024-4940-85c2-88435f676f8e"
      },
      "source": [
        "# Groupby Decade\n",
        "df_decade = df.groupby(df.Year // 10 * 10).sum()\n",
        "df_decade.head()"
      ],
      "execution_count": 152,
      "outputs": [
        {
          "output_type": "execute_result",
          "data": {
            "text/html": [
              "<div>\n",
              "<style scoped>\n",
              "    .dataframe tbody tr th:only-of-type {\n",
              "        vertical-align: middle;\n",
              "    }\n",
              "\n",
              "    .dataframe tbody tr th {\n",
              "        vertical-align: top;\n",
              "    }\n",
              "\n",
              "    .dataframe thead th {\n",
              "        text-align: right;\n",
              "    }\n",
              "</style>\n",
              "<table border=\"1\" class=\"dataframe\">\n",
              "  <thead>\n",
              "    <tr style=\"text-align: right;\">\n",
              "      <th></th>\n",
              "      <th>AGE</th>\n",
              "      <th>Bond</th>\n",
              "      <th>Year</th>\n",
              "    </tr>\n",
              "    <tr>\n",
              "      <th>Year</th>\n",
              "      <th></th>\n",
              "      <th></th>\n",
              "      <th></th>\n",
              "    </tr>\n",
              "  </thead>\n",
              "  <tbody>\n",
              "    <tr>\n",
              "      <th>1980</th>\n",
              "      <td>4605</td>\n",
              "      <td>2305000</td>\n",
              "      <td>154576</td>\n",
              "    </tr>\n",
              "    <tr>\n",
              "      <th>1990</th>\n",
              "      <td>56690</td>\n",
              "      <td>129739550</td>\n",
              "      <td>2225173</td>\n",
              "    </tr>\n",
              "    <tr>\n",
              "      <th>2000</th>\n",
              "      <td>2314462</td>\n",
              "      <td>12140035808</td>\n",
              "      <td>117485939</td>\n",
              "    </tr>\n",
              "    <tr>\n",
              "      <th>2010</th>\n",
              "      <td>158020882</td>\n",
              "      <td>1175134161337</td>\n",
              "      <td>9260608478</td>\n",
              "    </tr>\n",
              "    <tr>\n",
              "      <th>2020</th>\n",
              "      <td>24829139</td>\n",
              "      <td>138454390498</td>\n",
              "      <td>1417247860</td>\n",
              "    </tr>\n",
              "  </tbody>\n",
              "</table>\n",
              "</div>"
            ],
            "text/plain": [
              "            AGE           Bond        Year\n",
              "Year                                      \n",
              "1980       4605        2305000      154576\n",
              "1990      56690      129739550     2225173\n",
              "2000    2314462    12140035808   117485939\n",
              "2010  158020882  1175134161337  9260608478\n",
              "2020   24829139   138454390498  1417247860"
            ]
          },
          "metadata": {
            "tags": []
          },
          "execution_count": 152
        }
      ]
    },
    {
      "cell_type": "code",
      "metadata": {
        "colab": {
          "base_uri": "https://localhost:8080/",
          "height": 235
        },
        "id": "5-jly9kJtCch",
        "outputId": "53375bec-ddeb-4e3b-cf80-bd9cae123e90"
      },
      "source": [
        "# Groupby Decade\n",
        "df_decade_mean = df.groupby(df.Year // 10 * 10).mean()\n",
        "df_decade_mean.head()"
      ],
      "execution_count": 153,
      "outputs": [
        {
          "output_type": "execute_result",
          "data": {
            "text/html": [
              "<div>\n",
              "<style scoped>\n",
              "    .dataframe tbody tr th:only-of-type {\n",
              "        vertical-align: middle;\n",
              "    }\n",
              "\n",
              "    .dataframe tbody tr th {\n",
              "        vertical-align: top;\n",
              "    }\n",
              "\n",
              "    .dataframe thead th {\n",
              "        text-align: right;\n",
              "    }\n",
              "</style>\n",
              "<table border=\"1\" class=\"dataframe\">\n",
              "  <thead>\n",
              "    <tr style=\"text-align: right;\">\n",
              "      <th></th>\n",
              "      <th>AGE</th>\n",
              "      <th>Bond</th>\n",
              "      <th>Year</th>\n",
              "    </tr>\n",
              "    <tr>\n",
              "      <th>Year</th>\n",
              "      <th></th>\n",
              "      <th></th>\n",
              "      <th></th>\n",
              "    </tr>\n",
              "  </thead>\n",
              "  <tbody>\n",
              "    <tr>\n",
              "      <th>1980</th>\n",
              "      <td>59.038462</td>\n",
              "      <td>29551.282051</td>\n",
              "      <td>1981.743590</td>\n",
              "    </tr>\n",
              "    <tr>\n",
              "      <th>1990</th>\n",
              "      <td>50.888689</td>\n",
              "      <td>116462.791741</td>\n",
              "      <td>1997.462298</td>\n",
              "    </tr>\n",
              "    <tr>\n",
              "      <th>2000</th>\n",
              "      <td>39.521567</td>\n",
              "      <td>207302.274649</td>\n",
              "      <td>2006.180441</td>\n",
              "    </tr>\n",
              "    <tr>\n",
              "      <th>2010</th>\n",
              "      <td>34.423360</td>\n",
              "      <td>255991.903593</td>\n",
              "      <td>2017.336293</td>\n",
              "    </tr>\n",
              "    <tr>\n",
              "      <th>2020</th>\n",
              "      <td>35.390217</td>\n",
              "      <td>197345.984501</td>\n",
              "      <td>2020.074432</td>\n",
              "    </tr>\n",
              "  </tbody>\n",
              "</table>\n",
              "</div>"
            ],
            "text/plain": [
              "            AGE           Bond         Year\n",
              "Year                                       \n",
              "1980  59.038462   29551.282051  1981.743590\n",
              "1990  50.888689  116462.791741  1997.462298\n",
              "2000  39.521567  207302.274649  2006.180441\n",
              "2010  34.423360  255991.903593  2017.336293\n",
              "2020  35.390217  197345.984501  2020.074432"
            ]
          },
          "metadata": {
            "tags": []
          },
          "execution_count": 153
        }
      ]
    },
    {
      "cell_type": "code",
      "metadata": {
        "colab": {
          "base_uri": "https://localhost:8080/",
          "height": 235
        },
        "id": "Ctok2zf5HT2m",
        "outputId": "ca5873b5-7c35-4a97-970e-5813d737c81d"
      },
      "source": [
        "# Groupby Decade\n",
        "df_decade_median = df.groupby(df.Year // 10 * 10).median()\n",
        "df_decade_median.head()"
      ],
      "execution_count": 154,
      "outputs": [
        {
          "output_type": "execute_result",
          "data": {
            "text/html": [
              "<div>\n",
              "<style scoped>\n",
              "    .dataframe tbody tr th:only-of-type {\n",
              "        vertical-align: middle;\n",
              "    }\n",
              "\n",
              "    .dataframe tbody tr th {\n",
              "        vertical-align: top;\n",
              "    }\n",
              "\n",
              "    .dataframe thead th {\n",
              "        text-align: right;\n",
              "    }\n",
              "</style>\n",
              "<table border=\"1\" class=\"dataframe\">\n",
              "  <thead>\n",
              "    <tr style=\"text-align: right;\">\n",
              "      <th></th>\n",
              "      <th>AGE</th>\n",
              "      <th>Bond</th>\n",
              "      <th>Year</th>\n",
              "    </tr>\n",
              "    <tr>\n",
              "      <th>Year</th>\n",
              "      <th></th>\n",
              "      <th></th>\n",
              "      <th></th>\n",
              "    </tr>\n",
              "  </thead>\n",
              "  <tbody>\n",
              "    <tr>\n",
              "      <th>1980</th>\n",
              "      <td>61</td>\n",
              "      <td>35000</td>\n",
              "      <td>1980</td>\n",
              "    </tr>\n",
              "    <tr>\n",
              "      <th>1990</th>\n",
              "      <td>49</td>\n",
              "      <td>30000</td>\n",
              "      <td>1999</td>\n",
              "    </tr>\n",
              "    <tr>\n",
              "      <th>2000</th>\n",
              "      <td>38</td>\n",
              "      <td>50000</td>\n",
              "      <td>2007</td>\n",
              "    </tr>\n",
              "    <tr>\n",
              "      <th>2010</th>\n",
              "      <td>32</td>\n",
              "      <td>100000</td>\n",
              "      <td>2018</td>\n",
              "    </tr>\n",
              "    <tr>\n",
              "      <th>2020</th>\n",
              "      <td>34</td>\n",
              "      <td>80000</td>\n",
              "      <td>2020</td>\n",
              "    </tr>\n",
              "  </tbody>\n",
              "</table>\n",
              "</div>"
            ],
            "text/plain": [
              "      AGE    Bond  Year\n",
              "Year                   \n",
              "1980   61   35000  1980\n",
              "1990   49   30000  1999\n",
              "2000   38   50000  2007\n",
              "2010   32  100000  2018\n",
              "2020   34   80000  2020"
            ]
          },
          "metadata": {
            "tags": []
          },
          "execution_count": 154
        }
      ]
    },
    {
      "cell_type": "code",
      "metadata": {
        "colab": {
          "base_uri": "https://localhost:8080/"
        },
        "id": "0azs1DRSyWr-",
        "outputId": "44394464-7a95-4c0f-b17b-af396ea3f07b"
      },
      "source": [
        "# importing pandas as pd\n",
        "import pandas as pd\n",
        "  \n",
        "datetime_series = pd.Series(pd.date_range(\"1980-01-01\", periods=3, freq=\"Y\"))\n",
        "datetime_series"
      ],
      "execution_count": 155,
      "outputs": [
        {
          "output_type": "execute_result",
          "data": {
            "text/plain": [
              "0   1980-12-31\n",
              "1   1981-12-31\n",
              "2   1982-12-31\n",
              "dtype: datetime64[ns]"
            ]
          },
          "metadata": {
            "tags": []
          },
          "execution_count": 155
        }
      ]
    },
    {
      "cell_type": "code",
      "metadata": {
        "id": "MLZfPqoU6Kyn"
      },
      "source": [
        "# df.groupby(pd.(key='Date',freq='10Y')).sum()"
      ],
      "execution_count": 156,
      "outputs": []
    },
    {
      "cell_type": "code",
      "metadata": {
        "colab": {
          "base_uri": "https://localhost:8080/",
          "height": 979
        },
        "id": "AKmdCd-AGFB0",
        "outputId": "cee45b38-2085-43fb-939f-afa252fdab7e"
      },
      "source": [
        "df_Year = df.groupby('Year').sum()\n",
        "df_Year"
      ],
      "execution_count": 157,
      "outputs": [
        {
          "output_type": "execute_result",
          "data": {
            "text/html": [
              "<div>\n",
              "<style scoped>\n",
              "    .dataframe tbody tr th:only-of-type {\n",
              "        vertical-align: middle;\n",
              "    }\n",
              "\n",
              "    .dataframe tbody tr th {\n",
              "        vertical-align: top;\n",
              "    }\n",
              "\n",
              "    .dataframe thead th {\n",
              "        text-align: right;\n",
              "    }\n",
              "</style>\n",
              "<table border=\"1\" class=\"dataframe\">\n",
              "  <thead>\n",
              "    <tr style=\"text-align: right;\">\n",
              "      <th></th>\n",
              "      <th>AGE</th>\n",
              "      <th>Bond</th>\n",
              "    </tr>\n",
              "    <tr>\n",
              "      <th>Year</th>\n",
              "      <th></th>\n",
              "      <th></th>\n",
              "    </tr>\n",
              "  </thead>\n",
              "  <tbody>\n",
              "    <tr>\n",
              "      <th>1980</th>\n",
              "      <td>3721</td>\n",
              "      <td>2135000</td>\n",
              "    </tr>\n",
              "    <tr>\n",
              "      <th>1988</th>\n",
              "      <td>884</td>\n",
              "      <td>170000</td>\n",
              "    </tr>\n",
              "    <tr>\n",
              "      <th>1993</th>\n",
              "      <td>1484</td>\n",
              "      <td>140000</td>\n",
              "    </tr>\n",
              "    <tr>\n",
              "      <th>1994</th>\n",
              "      <td>456</td>\n",
              "      <td>8000</td>\n",
              "    </tr>\n",
              "    <tr>\n",
              "      <th>1996</th>\n",
              "      <td>27491</td>\n",
              "      <td>114419050</td>\n",
              "    </tr>\n",
              "    <tr>\n",
              "      <th>1998</th>\n",
              "      <td>68</td>\n",
              "      <td>180000</td>\n",
              "    </tr>\n",
              "    <tr>\n",
              "      <th>1999</th>\n",
              "      <td>27191</td>\n",
              "      <td>14992500</td>\n",
              "    </tr>\n",
              "    <tr>\n",
              "      <th>2000</th>\n",
              "      <td>101180</td>\n",
              "      <td>341716800</td>\n",
              "    </tr>\n",
              "    <tr>\n",
              "      <th>2001</th>\n",
              "      <td>103429</td>\n",
              "      <td>187671450</td>\n",
              "    </tr>\n",
              "    <tr>\n",
              "      <th>2002</th>\n",
              "      <td>54122</td>\n",
              "      <td>177669650</td>\n",
              "    </tr>\n",
              "    <tr>\n",
              "      <th>2003</th>\n",
              "      <td>113219</td>\n",
              "      <td>224141250</td>\n",
              "    </tr>\n",
              "    <tr>\n",
              "      <th>2004</th>\n",
              "      <td>155395</td>\n",
              "      <td>795401700</td>\n",
              "    </tr>\n",
              "    <tr>\n",
              "      <th>2005</th>\n",
              "      <td>308657</td>\n",
              "      <td>702018700</td>\n",
              "    </tr>\n",
              "    <tr>\n",
              "      <th>2006</th>\n",
              "      <td>297138</td>\n",
              "      <td>2974270950</td>\n",
              "    </tr>\n",
              "    <tr>\n",
              "      <th>2007</th>\n",
              "      <td>330222</td>\n",
              "      <td>1991986600</td>\n",
              "    </tr>\n",
              "    <tr>\n",
              "      <th>2008</th>\n",
              "      <td>477392</td>\n",
              "      <td>2892836458</td>\n",
              "    </tr>\n",
              "    <tr>\n",
              "      <th>2009</th>\n",
              "      <td>373708</td>\n",
              "      <td>1852322250</td>\n",
              "    </tr>\n",
              "    <tr>\n",
              "      <th>2010</th>\n",
              "      <td>661965</td>\n",
              "      <td>2576382450</td>\n",
              "    </tr>\n",
              "    <tr>\n",
              "      <th>2011</th>\n",
              "      <td>903917</td>\n",
              "      <td>5281272977</td>\n",
              "    </tr>\n",
              "    <tr>\n",
              "      <th>2012</th>\n",
              "      <td>1438078</td>\n",
              "      <td>9162091950</td>\n",
              "    </tr>\n",
              "    <tr>\n",
              "      <th>2013</th>\n",
              "      <td>1181021</td>\n",
              "      <td>12463748628</td>\n",
              "    </tr>\n",
              "    <tr>\n",
              "      <th>2014</th>\n",
              "      <td>1967417</td>\n",
              "      <td>19898348242</td>\n",
              "    </tr>\n",
              "    <tr>\n",
              "      <th>2015</th>\n",
              "      <td>4982746</td>\n",
              "      <td>78865038998</td>\n",
              "    </tr>\n",
              "    <tr>\n",
              "      <th>2016</th>\n",
              "      <td>26235391</td>\n",
              "      <td>169451398517</td>\n",
              "    </tr>\n",
              "    <tr>\n",
              "      <th>2017</th>\n",
              "      <td>40217145</td>\n",
              "      <td>278005301079</td>\n",
              "    </tr>\n",
              "    <tr>\n",
              "      <th>2018</th>\n",
              "      <td>41735050</td>\n",
              "      <td>321355589426</td>\n",
              "    </tr>\n",
              "    <tr>\n",
              "      <th>2019</th>\n",
              "      <td>38698152</td>\n",
              "      <td>278074989070</td>\n",
              "    </tr>\n",
              "    <tr>\n",
              "      <th>2020</th>\n",
              "      <td>22974182</td>\n",
              "      <td>129790513338</td>\n",
              "    </tr>\n",
              "    <tr>\n",
              "      <th>2021</th>\n",
              "      <td>1854957</td>\n",
              "      <td>8663877160</td>\n",
              "    </tr>\n",
              "  </tbody>\n",
              "</table>\n",
              "</div>"
            ],
            "text/plain": [
              "           AGE          Bond\n",
              "Year                        \n",
              "1980      3721       2135000\n",
              "1988       884        170000\n",
              "1993      1484        140000\n",
              "1994       456          8000\n",
              "1996     27491     114419050\n",
              "1998        68        180000\n",
              "1999     27191      14992500\n",
              "2000    101180     341716800\n",
              "2001    103429     187671450\n",
              "2002     54122     177669650\n",
              "2003    113219     224141250\n",
              "2004    155395     795401700\n",
              "2005    308657     702018700\n",
              "2006    297138    2974270950\n",
              "2007    330222    1991986600\n",
              "2008    477392    2892836458\n",
              "2009    373708    1852322250\n",
              "2010    661965    2576382450\n",
              "2011    903917    5281272977\n",
              "2012   1438078    9162091950\n",
              "2013   1181021   12463748628\n",
              "2014   1967417   19898348242\n",
              "2015   4982746   78865038998\n",
              "2016  26235391  169451398517\n",
              "2017  40217145  278005301079\n",
              "2018  41735050  321355589426\n",
              "2019  38698152  278074989070\n",
              "2020  22974182  129790513338\n",
              "2021   1854957    8663877160"
            ]
          },
          "metadata": {
            "tags": []
          },
          "execution_count": 157
        }
      ]
    },
    {
      "cell_type": "code",
      "metadata": {
        "colab": {
          "base_uri": "https://localhost:8080/",
          "height": 979
        },
        "id": "Aya9gsO0GYd3",
        "outputId": "809e1135-a003-467b-8e1a-55c20a58a979"
      },
      "source": [
        "df_Year_mean = df.groupby('Year').mean()\n",
        "df_Year_mean"
      ],
      "execution_count": 158,
      "outputs": [
        {
          "output_type": "execute_result",
          "data": {
            "text/html": [
              "<div>\n",
              "<style scoped>\n",
              "    .dataframe tbody tr th:only-of-type {\n",
              "        vertical-align: middle;\n",
              "    }\n",
              "\n",
              "    .dataframe tbody tr th {\n",
              "        vertical-align: top;\n",
              "    }\n",
              "\n",
              "    .dataframe thead th {\n",
              "        text-align: right;\n",
              "    }\n",
              "</style>\n",
              "<table border=\"1\" class=\"dataframe\">\n",
              "  <thead>\n",
              "    <tr style=\"text-align: right;\">\n",
              "      <th></th>\n",
              "      <th>AGE</th>\n",
              "      <th>Bond</th>\n",
              "    </tr>\n",
              "    <tr>\n",
              "      <th>Year</th>\n",
              "      <th></th>\n",
              "      <th></th>\n",
              "    </tr>\n",
              "  </thead>\n",
              "  <tbody>\n",
              "    <tr>\n",
              "      <th>1980</th>\n",
              "      <td>61.000000</td>\n",
              "      <td>35000.000000</td>\n",
              "    </tr>\n",
              "    <tr>\n",
              "      <th>1988</th>\n",
              "      <td>52.000000</td>\n",
              "      <td>10000.000000</td>\n",
              "    </tr>\n",
              "    <tr>\n",
              "      <th>1993</th>\n",
              "      <td>53.000000</td>\n",
              "      <td>5000.000000</td>\n",
              "    </tr>\n",
              "    <tr>\n",
              "      <th>1994</th>\n",
              "      <td>57.000000</td>\n",
              "      <td>1000.000000</td>\n",
              "    </tr>\n",
              "    <tr>\n",
              "      <th>1996</th>\n",
              "      <td>54.872255</td>\n",
              "      <td>228381.337325</td>\n",
              "    </tr>\n",
              "    <tr>\n",
              "      <th>1998</th>\n",
              "      <td>34.000000</td>\n",
              "      <td>90000.000000</td>\n",
              "    </tr>\n",
              "    <tr>\n",
              "      <th>1999</th>\n",
              "      <td>47.288696</td>\n",
              "      <td>26073.913043</td>\n",
              "    </tr>\n",
              "    <tr>\n",
              "      <th>2000</th>\n",
              "      <td>43.220846</td>\n",
              "      <td>145970.439983</td>\n",
              "    </tr>\n",
              "    <tr>\n",
              "      <th>2001</th>\n",
              "      <td>42.250408</td>\n",
              "      <td>76663.174020</td>\n",
              "    </tr>\n",
              "    <tr>\n",
              "      <th>2002</th>\n",
              "      <td>47.433830</td>\n",
              "      <td>155713.978966</td>\n",
              "    </tr>\n",
              "    <tr>\n",
              "      <th>2003</th>\n",
              "      <td>43.345712</td>\n",
              "      <td>85812.117152</td>\n",
              "    </tr>\n",
              "    <tr>\n",
              "      <th>2004</th>\n",
              "      <td>42.044102</td>\n",
              "      <td>215206.087662</td>\n",
              "    </tr>\n",
              "    <tr>\n",
              "      <th>2005</th>\n",
              "      <td>43.577157</td>\n",
              "      <td>99113.186503</td>\n",
              "    </tr>\n",
              "    <tr>\n",
              "      <th>2006</th>\n",
              "      <td>37.291416</td>\n",
              "      <td>373276.976657</td>\n",
              "    </tr>\n",
              "    <tr>\n",
              "      <th>2007</th>\n",
              "      <td>37.325873</td>\n",
              "      <td>225159.556912</td>\n",
              "    </tr>\n",
              "    <tr>\n",
              "      <th>2008</th>\n",
              "      <td>38.508671</td>\n",
              "      <td>233349.718319</td>\n",
              "    </tr>\n",
              "    <tr>\n",
              "      <th>2009</th>\n",
              "      <td>37.262738</td>\n",
              "      <td>184696.604846</td>\n",
              "    </tr>\n",
              "    <tr>\n",
              "      <th>2010</th>\n",
              "      <td>35.770291</td>\n",
              "      <td>139218.764185</td>\n",
              "    </tr>\n",
              "    <tr>\n",
              "      <th>2011</th>\n",
              "      <td>36.316472</td>\n",
              "      <td>212184.531016</td>\n",
              "    </tr>\n",
              "    <tr>\n",
              "      <th>2012</th>\n",
              "      <td>35.685203</td>\n",
              "      <td>227352.836299</td>\n",
              "    </tr>\n",
              "    <tr>\n",
              "      <th>2013</th>\n",
              "      <td>33.035552</td>\n",
              "      <td>348636.325259</td>\n",
              "    </tr>\n",
              "    <tr>\n",
              "      <th>2014</th>\n",
              "      <td>34.521538</td>\n",
              "      <td>349148.957590</td>\n",
              "    </tr>\n",
              "    <tr>\n",
              "      <th>2015</th>\n",
              "      <td>33.504885</td>\n",
              "      <td>530302.783125</td>\n",
              "    </tr>\n",
              "    <tr>\n",
              "      <th>2016</th>\n",
              "      <td>33.794296</td>\n",
              "      <td>218273.506899</td>\n",
              "    </tr>\n",
              "    <tr>\n",
              "      <th>2017</th>\n",
              "      <td>34.093941</td>\n",
              "      <td>235678.003082</td>\n",
              "    </tr>\n",
              "    <tr>\n",
              "      <th>2018</th>\n",
              "      <td>34.577363</td>\n",
              "      <td>266242.136052</td>\n",
              "    </tr>\n",
              "    <tr>\n",
              "      <th>2019</th>\n",
              "      <td>35.102562</td>\n",
              "      <td>252237.998632</td>\n",
              "    </tr>\n",
              "    <tr>\n",
              "      <th>2020</th>\n",
              "      <td>35.379622</td>\n",
              "      <td>199873.896745</td>\n",
              "    </tr>\n",
              "    <tr>\n",
              "      <th>2021</th>\n",
              "      <td>35.521965</td>\n",
              "      <td>165911.090770</td>\n",
              "    </tr>\n",
              "  </tbody>\n",
              "</table>\n",
              "</div>"
            ],
            "text/plain": [
              "            AGE           Bond\n",
              "Year                          \n",
              "1980  61.000000   35000.000000\n",
              "1988  52.000000   10000.000000\n",
              "1993  53.000000    5000.000000\n",
              "1994  57.000000    1000.000000\n",
              "1996  54.872255  228381.337325\n",
              "1998  34.000000   90000.000000\n",
              "1999  47.288696   26073.913043\n",
              "2000  43.220846  145970.439983\n",
              "2001  42.250408   76663.174020\n",
              "2002  47.433830  155713.978966\n",
              "2003  43.345712   85812.117152\n",
              "2004  42.044102  215206.087662\n",
              "2005  43.577157   99113.186503\n",
              "2006  37.291416  373276.976657\n",
              "2007  37.325873  225159.556912\n",
              "2008  38.508671  233349.718319\n",
              "2009  37.262738  184696.604846\n",
              "2010  35.770291  139218.764185\n",
              "2011  36.316472  212184.531016\n",
              "2012  35.685203  227352.836299\n",
              "2013  33.035552  348636.325259\n",
              "2014  34.521538  349148.957590\n",
              "2015  33.504885  530302.783125\n",
              "2016  33.794296  218273.506899\n",
              "2017  34.093941  235678.003082\n",
              "2018  34.577363  266242.136052\n",
              "2019  35.102562  252237.998632\n",
              "2020  35.379622  199873.896745\n",
              "2021  35.521965  165911.090770"
            ]
          },
          "metadata": {
            "tags": []
          },
          "execution_count": 158
        }
      ]
    },
    {
      "cell_type": "code",
      "metadata": {
        "colab": {
          "base_uri": "https://localhost:8080/",
          "height": 979
        },
        "id": "21oop8k2Gjen",
        "outputId": "21184093-ebcb-4c2b-8d76-83b5746bd130"
      },
      "source": [
        "df_Year_median = df.groupby('Year').median()\n",
        "df_Year_median"
      ],
      "execution_count": 159,
      "outputs": [
        {
          "output_type": "execute_result",
          "data": {
            "text/html": [
              "<div>\n",
              "<style scoped>\n",
              "    .dataframe tbody tr th:only-of-type {\n",
              "        vertical-align: middle;\n",
              "    }\n",
              "\n",
              "    .dataframe tbody tr th {\n",
              "        vertical-align: top;\n",
              "    }\n",
              "\n",
              "    .dataframe thead th {\n",
              "        text-align: right;\n",
              "    }\n",
              "</style>\n",
              "<table border=\"1\" class=\"dataframe\">\n",
              "  <thead>\n",
              "    <tr style=\"text-align: right;\">\n",
              "      <th></th>\n",
              "      <th>AGE</th>\n",
              "      <th>Bond</th>\n",
              "    </tr>\n",
              "    <tr>\n",
              "      <th>Year</th>\n",
              "      <th></th>\n",
              "      <th></th>\n",
              "    </tr>\n",
              "  </thead>\n",
              "  <tbody>\n",
              "    <tr>\n",
              "      <th>1980</th>\n",
              "      <td>61</td>\n",
              "      <td>35000</td>\n",
              "    </tr>\n",
              "    <tr>\n",
              "      <th>1988</th>\n",
              "      <td>52</td>\n",
              "      <td>10000</td>\n",
              "    </tr>\n",
              "    <tr>\n",
              "      <th>1993</th>\n",
              "      <td>53</td>\n",
              "      <td>5000</td>\n",
              "    </tr>\n",
              "    <tr>\n",
              "      <th>1994</th>\n",
              "      <td>57</td>\n",
              "      <td>1000</td>\n",
              "    </tr>\n",
              "    <tr>\n",
              "      <th>1996</th>\n",
              "      <td>60</td>\n",
              "      <td>82500</td>\n",
              "    </tr>\n",
              "    <tr>\n",
              "      <th>1998</th>\n",
              "      <td>34</td>\n",
              "      <td>90000</td>\n",
              "    </tr>\n",
              "    <tr>\n",
              "      <th>1999</th>\n",
              "      <td>48</td>\n",
              "      <td>10000</td>\n",
              "    </tr>\n",
              "    <tr>\n",
              "      <th>2000</th>\n",
              "      <td>43</td>\n",
              "      <td>100000</td>\n",
              "    </tr>\n",
              "    <tr>\n",
              "      <th>2001</th>\n",
              "      <td>41</td>\n",
              "      <td>25000</td>\n",
              "    </tr>\n",
              "    <tr>\n",
              "      <th>2002</th>\n",
              "      <td>48</td>\n",
              "      <td>30000</td>\n",
              "    </tr>\n",
              "    <tr>\n",
              "      <th>2003</th>\n",
              "      <td>41</td>\n",
              "      <td>45000</td>\n",
              "    </tr>\n",
              "    <tr>\n",
              "      <th>2004</th>\n",
              "      <td>41</td>\n",
              "      <td>50000</td>\n",
              "    </tr>\n",
              "    <tr>\n",
              "      <th>2005</th>\n",
              "      <td>41</td>\n",
              "      <td>75000</td>\n",
              "    </tr>\n",
              "    <tr>\n",
              "      <th>2006</th>\n",
              "      <td>36</td>\n",
              "      <td>60000</td>\n",
              "    </tr>\n",
              "    <tr>\n",
              "      <th>2007</th>\n",
              "      <td>36</td>\n",
              "      <td>50000</td>\n",
              "    </tr>\n",
              "    <tr>\n",
              "      <th>2008</th>\n",
              "      <td>37</td>\n",
              "      <td>75000</td>\n",
              "    </tr>\n",
              "    <tr>\n",
              "      <th>2009</th>\n",
              "      <td>35</td>\n",
              "      <td>45000</td>\n",
              "    </tr>\n",
              "    <tr>\n",
              "      <th>2010</th>\n",
              "      <td>35</td>\n",
              "      <td>50000</td>\n",
              "    </tr>\n",
              "    <tr>\n",
              "      <th>2011</th>\n",
              "      <td>36</td>\n",
              "      <td>95000</td>\n",
              "    </tr>\n",
              "    <tr>\n",
              "      <th>2012</th>\n",
              "      <td>33</td>\n",
              "      <td>90000</td>\n",
              "    </tr>\n",
              "    <tr>\n",
              "      <th>2013</th>\n",
              "      <td>31</td>\n",
              "      <td>100000</td>\n",
              "    </tr>\n",
              "    <tr>\n",
              "      <th>2014</th>\n",
              "      <td>32</td>\n",
              "      <td>165000</td>\n",
              "    </tr>\n",
              "    <tr>\n",
              "      <th>2015</th>\n",
              "      <td>30</td>\n",
              "      <td>250000</td>\n",
              "    </tr>\n",
              "    <tr>\n",
              "      <th>2016</th>\n",
              "      <td>32</td>\n",
              "      <td>100000</td>\n",
              "    </tr>\n",
              "    <tr>\n",
              "      <th>2017</th>\n",
              "      <td>32</td>\n",
              "      <td>96500</td>\n",
              "    </tr>\n",
              "    <tr>\n",
              "      <th>2018</th>\n",
              "      <td>33</td>\n",
              "      <td>100000</td>\n",
              "    </tr>\n",
              "    <tr>\n",
              "      <th>2019</th>\n",
              "      <td>33</td>\n",
              "      <td>100000</td>\n",
              "    </tr>\n",
              "    <tr>\n",
              "      <th>2020</th>\n",
              "      <td>34</td>\n",
              "      <td>85000</td>\n",
              "    </tr>\n",
              "    <tr>\n",
              "      <th>2021</th>\n",
              "      <td>34</td>\n",
              "      <td>50000</td>\n",
              "    </tr>\n",
              "  </tbody>\n",
              "</table>\n",
              "</div>"
            ],
            "text/plain": [
              "      AGE    Bond\n",
              "Year             \n",
              "1980   61   35000\n",
              "1988   52   10000\n",
              "1993   53    5000\n",
              "1994   57    1000\n",
              "1996   60   82500\n",
              "1998   34   90000\n",
              "1999   48   10000\n",
              "2000   43  100000\n",
              "2001   41   25000\n",
              "2002   48   30000\n",
              "2003   41   45000\n",
              "2004   41   50000\n",
              "2005   41   75000\n",
              "2006   36   60000\n",
              "2007   36   50000\n",
              "2008   37   75000\n",
              "2009   35   45000\n",
              "2010   35   50000\n",
              "2011   36   95000\n",
              "2012   33   90000\n",
              "2013   31  100000\n",
              "2014   32  165000\n",
              "2015   30  250000\n",
              "2016   32  100000\n",
              "2017   32   96500\n",
              "2018   33  100000\n",
              "2019   33  100000\n",
              "2020   34   85000\n",
              "2021   34   50000"
            ]
          },
          "metadata": {
            "tags": []
          },
          "execution_count": 159
        }
      ]
    },
    {
      "cell_type": "markdown",
      "metadata": {
        "id": "pvCF758mhStf"
      },
      "source": [
        "## **Looking at Types of Crime**"
      ]
    },
    {
      "cell_type": "code",
      "metadata": {
        "id": "7WWSgOh_V6ie",
        "colab": {
          "base_uri": "https://localhost:8080/"
        },
        "outputId": "57feb43b-4e21-4c5c-88b8-c74c63a31bed"
      },
      "source": [
        "# Checking data types for each column\n",
        "print(df.dtypes)"
      ],
      "execution_count": 160,
      "outputs": [
        {
          "output_type": "stream",
          "text": [
            "Date       datetime64[ns]\n",
            "RACE               object\n",
            "GENDER             object\n",
            "AGE                 int64\n",
            "Bond                int64\n",
            "OFFENSE            object\n",
            "Year                int64\n",
            "dtype: object\n"
          ],
          "name": "stdout"
        }
      ]
    },
    {
      "cell_type": "code",
      "metadata": {
        "id": "csk9qnUtUqst",
        "colab": {
          "base_uri": "https://localhost:8080/"
        },
        "outputId": "0ced977e-f5d9-46b8-d621-946599ab2bf7"
      },
      "source": [
        "# Examining Unique Entries\n",
        "df.nunique()"
      ],
      "execution_count": 161,
      "outputs": [
        {
          "output_type": "execute_result",
          "data": {
            "text/plain": [
              "Date       3085\n",
              "RACE          5\n",
              "GENDER        2\n",
              "AGE          72\n",
              "Bond       4121\n",
              "OFFENSE     371\n",
              "Year         29\n",
              "dtype: int64"
            ]
          },
          "metadata": {
            "tags": []
          },
          "execution_count": 161
        }
      ]
    },
    {
      "cell_type": "code",
      "metadata": {
        "id": "CAaCDJyIUvzi",
        "colab": {
          "base_uri": "https://localhost:8080/"
        },
        "outputId": "4add1fac-8acb-4b5a-f62c-4458ce78ff07"
      },
      "source": [
        "# Examining Offense Types Only\n",
        "df.OFFENSE.nunique()"
      ],
      "execution_count": 162,
      "outputs": [
        {
          "output_type": "execute_result",
          "data": {
            "text/plain": [
              "371"
            ]
          },
          "metadata": {
            "tags": []
          },
          "execution_count": 162
        }
      ]
    },
    {
      "cell_type": "code",
      "metadata": {
        "id": "gs4x1lr-U-RT",
        "colab": {
          "base_uri": "https://localhost:8080/"
        },
        "outputId": "df3f6b1f-1911-4df5-d9c6-3c2995903df4"
      },
      "source": [
        "# Examining Offense Types\n",
        "offense_array = df.OFFENSE.unique()\n",
        "print(offense_array)"
      ],
      "execution_count": 163,
      "outputs": [
        {
          "output_type": "stream",
          "text": [
            "['CRIMINAL POSS OF PISTOL/REVOLVER      DF'\n",
            " 'VIOLATION OF PROBATION OR COND DISCHG' 'CRIMINAL ATTEMPT'\n",
            " 'CRIM VIOL OF PROTECTIVE ORDER         DF'\n",
            " 'CRIM VIOL ST CRIM RESTR ORDER         DF'\n",
            " 'ASSAULT 2ND, VICTIM 60 OR OVER        DF'\n",
            " 'INTERFERING WITH AN OFFICER           AM'\n",
            " 'LARCENY, SECOND DEGREE                CF'\n",
            " 'MURDER                                AF'\n",
            " 'ASSAULT, SECOND DEGREE                DF' 'ARREST WARRANT'\n",
            " 'YOUTHFUL OFFENDER' 'UNLAWFUL RESTRAINT, FIRST DEGREE      DF'\n",
            " 'LARCENY, FIRST DEGREE                 BF'\n",
            " 'CRIMINAL TRESPASS, THIRD DEGREE       CM'\n",
            " 'STALKING, 1ST DEGREE                  DF'\n",
            " 'BURGLARY, THIRD DEGREE                DF'\n",
            " 'SALE OF NARC/AMPHET BY NON-DEPENDENT   F'\n",
            " 'ASSAULT 2ND DEGREE WITH A FIREARM     DF'\n",
            " 'FORGERY, FIRST DEGREE                 CF' 'JUVENILE TRANSFER'\n",
            " 'CONSPIRACY' 'SEXUAL ASSAULT, FIRST DEGREE           F'\n",
            " 'ASSAULT ON POLICE OR FIRE OFFICER     CF'\n",
            " 'FORGERY, SECOND DEGREE                DF'\n",
            " 'ASSAULT 3RD DEGREE, VICTIM OVER 59    AM'\n",
            " 'STEALING A FIREARM                    DF'\n",
            " 'SEXUAL ASSAULT, SECOND DEGREE          F'\n",
            " 'CRIMINAL POSSESSION OF A PISTOL       DF'\n",
            " 'LARCENY, THIRD DEGREE                 DF'\n",
            " 'ROBBERY, FIRST DEGREE                 BF'\n",
            " 'SEXUAL ASSAULT 1ST DEGREE-AGGRVTD      F'\n",
            " 'HOME INVASION                         AF'\n",
            " 'BURGLARY, SECOND DEGREE               CF'\n",
            " 'SALE OF HEROIN, COC BY NON-DEPENDENT'\n",
            " 'INJURY OR RISK OF INJURY TO MINOR      F'\n",
            " 'ARSON, FIRST DEGREE                   AF'\n",
            " 'INCITING INJURY TO PERSONS OR PROPTY  CF' 'STRANGULATION 3RD DEGREE'\n",
            " 'FAILURE TO APPEAR, FIRST DEGREE       DF'\n",
            " 'CARRYING WEAPONS WITHOUT A PERMIT      F'\n",
            " 'THREATENING                           AM'\n",
            " 'RECKLESS ENDANGERMENT, FIRST DEGREE   AM'\n",
            " 'ASSAULT, FIRST DEGREE                 BF'\n",
            " 'ASSAULT, 1ST VICTIM 60 OR OVER        BF'\n",
            " 'ROBBERY, THIRD DEGREE                 DF'\n",
            " 'LARCENY, FOURTH DEGREE                AM'\n",
            " 'HARASSMENT, 2ND DEGREE                CM' 'SPECIAL PAROLE'\n",
            " 'VIOLATION OF CONDITIONS OF RELEASE'\n",
            " 'IDENTITY THEFT 2ND DEGREE             CF'\n",
            " 'STRANGULATION 2ND DEGREE              DF'\n",
            " 'VIOLATE COND OF RELEASE-2ND DEG       AM' 'CRUELTY TO PERSONS'\n",
            " 'ALTERING OR REMOVING IDENT NUMBER      F'\n",
            " 'CRIM VIOL OF PROTECTIVE ORDER         AM'\n",
            " 'POSSESSING CHILD PORNOGRAPH            F'\n",
            " 'OPERATING UNDER SUSPENDED LIC OR REG.  M' 'CREDIT CARD THEFT'\n",
            " 'BURGLARY, FIRST DEGREE                BF'\n",
            " 'MANSLAUGHTER, SECOND DEGREE           CF'\n",
            " 'EVADING RESPONSIBILITY                 M'\n",
            " 'ASSAULT, THIRD DEGREE                 AM'\n",
            " 'LARCENY, FIFTH DEGREE                 BM'\n",
            " 'SALE OF HALLUCIGEN/NARCOTIC SUBSTANCE  F' 'ARREST WITHOUT WARRANT'\n",
            " 'CRIMINAL IMPERSONATION                BM'\n",
            " 'ROBBERY, SECOND DEGREE                CF' 'POSSESSION OF NARCOTICS'\n",
            " 'SEX ASLT, SPOUSE/COHAB RELATIONSHIP   BF'\n",
            " 'TAMPERING WITH OR FABRICATING EVIDNC  DF'\n",
            " 'INJURY/RISK OF INJURY TO MINOR- SEXUAL C'\n",
            " 'FAILURE TO APPEAR, SECOND DEGREE      AM'\n",
            " 'FELONY MURDER                         AF'\n",
            " 'PROBATION AND CONDITIONAL DISCHARGE'\n",
            " 'ILL POSSESS CHILD PORN 2ND DEG         F'\n",
            " 'CRIM VIOL RES ORDER                   AM'\n",
            " 'STRANGULATION 1ST DEGREE              CF'\n",
            " 'BURGLARY, FIRST DEGREE: 53A101A(2)    BF'\n",
            " 'RECKLESS ENDANGERMENT, SECOND DEGREE  BM'\n",
            " 'SELLING WEAPONS TO ALIENS PROHIBITED   F' '(REPEALED) 53-048'\n",
            " 'ESCAPE FROM CUSTODY' 'KIDNAPPING, FIRST DEGREE              AF'\n",
            " 'PERMIT TO SELL OR CARRY PISTOL'\n",
            " 'CARRYING WEAPON IN A MOTOR VEHICLE     F'\n",
            " 'CRIMINAL MISCHIEF, SECOND DEGREE      AM' '53A021'\n",
            " 'BREACH OF PEACE                       BM'\n",
            " 'CONVEY UNAUTHZD ITEMS INTO INST       DF'\n",
            " 'MANSLAUGHTER, FIRST DEGREE, FIREARM   BF'\n",
            " 'AGGAVTD SEX ASSLT-VCTM < 13YR         AF'\n",
            " 'ROBBERY, FIRST DEGREE                BF'\n",
            " 'MANSLAUGHTER 2ND WITH MV (INTOX)      CF'\n",
            " 'CARRYING OR SALE OF DANGEROUS WEAPON'\n",
            " 'CRIMINAL MISCHIEF, FIRST DEGREE       DF'\n",
            " 'ASSAULT 2ND WITH MV WHILE INTOXICATED DF'\n",
            " 'DRUG PARAPHERNALIA IN DRUG FACTORY     F'\n",
            " 'ORGANIZED RETAIL THEFT                 F'\n",
            " 'OPERATE UNDER INFLU OF LIQ OR DRUGS'\n",
            " 'CAPITAL FELONY                         F'\n",
            " 'PROMOTING MINOR IN OBSCENE PERFORMNCE BF'\n",
            " 'CRIMINAL LIABILITY FOR ANOTHER PERSON'\n",
            " 'MANSLAUGHTER, FIRST DEGREE            BF'\n",
            " 'OBSCENITY                             BM'\n",
            " 'IDENTITY THEFT 3RD DEGREE             DF'\n",
            " 'CRIMINAL TRESPASS, SECOND DEGREE      BM'\n",
            " 'ASSAULT 2ND, VICTIM 60+, WITH FIREARM DF'\n",
            " 'ESCAPE, FIRST DEGREE                  CF'\n",
            " 'PRIMARY OFFENSE NOT DETERMINED'\n",
            " 'THREATENING 1ST DEGREE                DF'\n",
            " 'NEGLG STORAGE OF A FIREARM            DF'\n",
            " 'CRIMINAL TRESPASS, FIRST DEGREE       AM'\n",
            " 'USING MOTOR VEHICLE W/O PERMISSION'\n",
            " 'DISORDERLY CONDUCT                    CM'\n",
            " 'LARCENY, SIXTH DEGREE                 CM'\n",
            " 'UNLAWFUL RESTRAINT, SECOND DEGREE     AM'\n",
            " 'BRIBERY OF WITNESS                    DF'\n",
            " 'KIDNAPPING, 2ND DEGREE                BF'\n",
            " 'SEXUAL ASSAULT, THIRD DEGREE          DF' 'CARRY PIST/RVOLV W/O PERMIT'\n",
            " 'SEXUAL ASSAULT, FOURTH DEGREE         AM'\n",
            " 'INTIMIDATING A WITNESS                CF'\n",
            " 'CUSTODIAL INTERFERENCE, FIRST DEGREE  DF'\n",
            " 'STALKING, 2ND DEGREE                  AM'\n",
            " 'MANUF OR POSSESSION OF BURGLAR TOOLS  AM'\n",
            " 'HARASSMENT 1ST DEGREE                 DF'\n",
            " 'INTIMIDATE DUE TO BIAS 3RD DEG        AM'\n",
            " 'CRIM VIOL CIVIL PROTECTION ORDER      DF'\n",
            " 'EMPLOYING MINOR IN OBSCENE PERFORMNCE AF'\n",
            " 'IDENTITY THEFT 1ST DEGREE             BF' 'VOYEURISM'\n",
            " 'KIDNAPPING 2ND DEG W/ FIREARM         BF'\n",
            " 'USING MACHINE GUN IN CRIME             F' 'FALSELY REPORTING INCIDENT'\n",
            " 'OPERATE UNDER INFLU OF LIQ OR DRUGS    M'\n",
            " 'ILLEGAL MANUFACTUAL OR SALE OF DRUGS'\n",
            " 'THEFT FROM PERSON                      F'\n",
            " 'DISSEMINATING VOYEURISTIC MATERIAL    DF'\n",
            " 'CRIMINAL MISCHIEF, THIRD DEGREE       BM'\n",
            " 'MISCONDUCT WITH A MOTOR VEHICLE       DF'\n",
            " 'IMPORTING CHILD PORNOGRAPHY            F' 'SEARCHES AND SEIZURES'\n",
            " 'POSS OF WEAPON IN A CCI               BF'\n",
            " 'SALE OF CONTROLLED SUBSTANCE           F'\n",
            " 'ARSON, THIRD DEGREE                   CF'\n",
            " 'PROHIB ACTS RE: DRUG PARAPHERNALIA'\n",
            " 'KIDNAPPING 1ST DEG W/ FIREARM         AF'\n",
            " 'RECKLESS BURNING                      DF'\n",
            " 'TAMPERING WITH WITNESS                DF'\n",
            " 'ASSAULT, ON DOC EMPLOYEE              BF'\n",
            " 'LEAV CHILD UNSUPERV IN PUBL/MOT VEH    C'\n",
            " 'TRAFFICKING IN PERSONS                BF'\n",
            " 'ARSON, SECOND DEGREE                  BF'\n",
            " 'RECKLESS DRIVING                       M'\n",
            " 'TELEPHONE FRAUD, 1ST DEGREE           BF'\n",
            " 'PUBLIC INDECENCY                      BM'\n",
            " 'IL POS LRG CAP MAG OBT AF 4/13        DF'\n",
            " 'MANUFACTURE OF BOMBS                  BF'\n",
            " 'MISREP OF SUB AS CONTROLLED SUB       DF'\n",
            " 'INTIMIDATION BSD BIGOTRY/BIAS         DF'\n",
            " 'BURGLARY, SECOND DEGREE WITH FIREARM  CF' 'CRUELTY TO ANIMALS'\n",
            " 'VIO DEADLY WEAPON REGIST REQS         DF'\n",
            " 'CRIMINAL USE OF A FIREARM             DF'\n",
            " 'REG PERSON WHO COMM OFF AGAINST MINOR DF'\n",
            " 'POSSESS OF HALLUC OR 4+ OZ MARIJUANA   F'\n",
            " 'REG PERSON WHO COMM SEX VIOL OFF      DF'\n",
            " 'INJUNCTION AND RESTRAINING ORDER'\n",
            " 'FORGERY, THIRD DEGREE                 BM'\n",
            " 'CRIMINAL TROVER, 1ST DEGREE            F' 'FAILURE TO OBEY AN OFFICER'\n",
            " 'POSS OF ASSAULT WEAPON PROHIBITED'\n",
            " 'CRIMINAL MISCHIEF, FOURTH DEGREE      CM'\n",
            " 'FAILURE TO PAY OR PLEAD                M'\n",
            " 'USE OF MACHINE GUN IN A CRIME  DELETED F'\n",
            " 'FOLLOW TOO CLOSELY W/ INTENT TO HARASS M' 'PURGE CIVIL COMMITMENT'\n",
            " 'INTERFERING WITH AN EMERGENCY CALL    AM'\n",
            " 'ABUSE OF PERSONS-1ST DEGREE           CF'\n",
            " 'PROMOTING PROSTITUTION, FIRST DEGREE  BF'\n",
            " 'DRINKING WHILE OPERATING MOTOR VEHICL CM'\n",
            " 'FLR KEEP NARC IN ORG CONTAINER         F'\n",
            " 'ILLEGAL REFUSAL OF DNA TESTING'\n",
            " 'BURGLARY, THIRD DEGREE WITH FIREARM   DF'\n",
            " 'POSSESSION OF SHOTGUN OR SILENCER     DF'\n",
            " 'HINDER PROSECUTION, FIRST DEGREE      DF' 'PROHIBITED ACTIVITIES'\n",
            " 'DRUGS NEAR PROBIBITED PLACE' 'NEGLIGENT HOMICIDE W/ MOTOR VEHICLE   BM'\n",
            " 'HINDERING PROSECUTION 2ND DEG'\n",
            " 'PROSTITUTION                          AM'\n",
            " 'POSS WEAPON ON SCHOOL GROUNDS         DF'\n",
            " 'PROMOTING PROSTITUTION, SECOND DEGREE CF'\n",
            " 'ILL AFFIX FRAUDULENT                   F'\n",
            " 'UNLAWFUL REPRODUCTION OF CREDIT CARD  DF'\n",
            " 'DRIVING WHILE LICENSE SUSP FOR DWI'\n",
            " 'ILLEGAL POSSES OF SHOP LIFTING DEVICE AM'\n",
            " 'ILLEGAL POSSESSION OF EXPLOSIVES       F'\n",
            " 'RECEIVING STOLEN PROPERTY, LARCENY     M'\n",
            " 'AFFIRMATIVE DEFENSES TO CIMINAL TRESPASS'\n",
            " 'RAPE, SECOND DEGREE                   CF'\n",
            " 'ILL POSSESS CHILD PORN 3RD DEG        DF'\n",
            " 'CRIMINALLY NEGLIGENT HOMICIDE         AM'\n",
            " 'REGULATION OF RESTRICTED SUBSTANCES' 'APPLICATION TO PURCHASE A FIREARM'\n",
            " 'FOLLOWING TOO CLOSELY' 'PROHIB ACTS RE: DRUG PARA, SCHOOL'\n",
            " 'ILLEGAL USE OF CREDIT CARD' 'ILL CARRY FIREARM-UI DRUGS/ALC'\n",
            " 'PRACTICE OF LAW BY NON-ATTORNEYS       M'\n",
            " 'MISAPPLICATION OF PROPERTY            AM'\n",
            " 'CRIMINAL CONTEMPT                      M'\n",
            " 'HINDERING PROSECUTION 3RD DEG         DF'\n",
            " 'EVADING RESPONSIBILITY, OTHER THAN MV  M'\n",
            " 'OPERATING MV W/O INSURANCE            CM' 'TEMPORARY SURRENDER'\n",
            " 'CRIM DAMAGE PROPERTY 1ST DEG          DF'\n",
            " 'STALKING, 3RD DEGREE                  BM'\n",
            " 'IMPERSONATION OF POLICE OFFICER       DF' 'INTERSTATE PAROLE COMPACT'\n",
            " 'SALE, CARRY & BRAND OF FACSIMILE'\n",
            " 'POSSESS OF LT 4 OZ MJ OR CONTROLD SUB'\n",
            " 'PERMITTING PROSTITUTION               AM' 'ISSUING A BAD CHECK'\n",
            " 'FAILURE TO PAY WAGES' 'CREATING A PUBLIC DISTURBANCE' 'SIMPLE TRESPASS'\n",
            " 'DIVERT FR STATE BENE LBR EMPLOYEES    AM'\n",
            " 'INJURY TO BAGGAGE ON PUBLIC CONVEYANCE M'\n",
            " 'TAMPERING W/AIRPORT OR AIRWAYS'\n",
            " 'PROMOTING PROSTITUTION, THIRD DEGREE  DF'\n",
            " 'INJURY TO FENCES, GATES, OTHER PROP    M'\n",
            " 'ILLEGAL GAIN FROM CREDIT CARD         AM'\n",
            " 'NOTICES IN SALES AGRREMENT           UM'\n",
            " 'FALSELY REPORTING AN INCIDENT 2ND     AM'\n",
            " 'THEFT OF POULTRY                       M' 'FAILURE TO OBEY STOP SIGN'\n",
            " '(REPEALED) 53-173' 'IL TRAFFIC IN PERSONAL ID INFO        DF'\n",
            " 'SPEEDING                               M'\n",
            " 'DRIVING IMPROPERLY ON MULTI-LANE HWY'\n",
            " 'ABUSE OF PERSONS-2ND DEGREE           DF' 'OBTAINING DRUGS ILLEGALLY'\n",
            " 'COERCION' 'COMMIT SEXUAL OFF IN ANOTHER JURIS    DF'\n",
            " 'ACT OF TERRORISM-ENHANCE SENT'\n",
            " 'ALLOWING PERSON UNDER 16 TO OPERATE MV M'\n",
            " 'FALSE STATEMENT, 2ND DEGREE           AM'\n",
            " 'INTIMIDATION BASED ON BIGOTRY/BIAS    DF' 'FORGERY RELATED'\n",
            " 'HINDER PROSECUTION DEFINED             F'\n",
            " 'ILL OP MV WO IGNITION DEVICE          CM'\n",
            " 'UNFAIR OR DECEPTIVE PRAC OR ACT'\n",
            " 'CRIMINAL MISREPRESENTATION            CF' 'STARTING OR BACKING VEHICLE'\n",
            " 'IMPROPER USE OF MARKER, LICENSE, REG   M' 'EXTRADITION'\n",
            " 'CRIM DAMAGE PROPERTY 2ND DEG          AM'\n",
            " 'PATRONIZING A PROSTITUTE              AM'\n",
            " 'ENCOURAGING THE COMMISSION OF ABORTION M'\n",
            " 'COUNTERFEITING MARKER PLATES           M'\n",
            " 'USE OF HIGHWAY BY PEDESTRIAN           M'\n",
            " 'SHOTGUNS AND RIFLES IN VEHICLE         M'\n",
            " 'FORGERY OF SYMBOLS                    AM'\n",
            " 'MONEY LAUNDERING FOURTH DEGREE        AM'\n",
            " 'SOLICITING RIDES FROM MOTOR VEHICLES   M'\n",
            " 'IDENTITY THEFT DEFINED                DF'\n",
            " 'FAILURE TO CARRY MIN INSURANCE         M'\n",
            " 'FAILURE TO OBEY TRAFFIC SIGNALS' 'OPERATING MV W/O A LICENSE'\n",
            " 'INTIMIDATION BSD BIGOTRY/BIAS, 1ST    CF' 'CHEATING AT GAMBLING'\n",
            " 'FALSE RPT INCIDNT CONCER INJ OR DEATH DF'\n",
            " 'FALSE RPT INCIDNT RESULT INJ OR DEATH DF'\n",
            " 'PART OR CONS FOR EXPORT MEANS         BF'\n",
            " 'DRIVING INPROPERLY ON A ONE WAY STREET I'\n",
            " 'CRIMINAL TROVER, 2ND DEGREE           AM'\n",
            " 'INSURANCE FRAUD                       DF'\n",
            " 'PROHIB ACTS RE: CONTROLLED SUBSTANCES'\n",
            " 'FAILURE TO DRIVE ON RIGHT HAND ROADWAY'\n",
            " 'UNLAWFUL DISCHARGE OF FIREARMS         M'\n",
            " 'EXPIRATION AND RENEWAL OF REGISTRATION M'\n",
            " 'LITTERING OR DUMPING PROHIBITED' 'ROBBERY BY CARJACKING'\n",
            " 'FALSE STATEMENT TO PROCURE CREDT CARD AM'\n",
            " 'FALSE ENTRY BY OFFICER OR PUB AGENT   AM' 'FUGITIVE FROM JUSTICE'\n",
            " 'EAVESDROPPING                         DF'\n",
            " 'TRAVELING UNREASONABLY FAST            M'\n",
            " 'DRIVING IMPROPERLY IN RIGHT HAND LANE' '53A223C'\n",
            " 'FAILURE TO CARRY DRIVERS LICENSE       M'\n",
            " 'TOWN ORDINANCE $90 OR LESS (CI)' 'PENALTY FAIL TO SUBMIT FINGERPRINTS'\n",
            " 'THEFT OF NUMBER PLATE OR INSER         M' 'CRIMINAL SIMULATION'\n",
            " 'LARCENY RELATED' 'TOWN ORDINANCE > $250 (VIOLTN)'\n",
            " 'OBSCENITY AS TO MINORS                 F'\n",
            " 'CRIMINAL LOCKOUT                      CM'\n",
            " 'POSS OF ARMS OR BURG TOOLS AT NIGHT    F'\n",
            " 'VIO MOTOR VEH RACING REQS             BM'\n",
            " 'INCEST                                 F'\n",
            " 'FRAUDULENT USE OF ATM                 CM'\n",
            " 'IMPROPER TURN/STOP NO PROPER SIGN'\n",
            " 'DESTRUCTION OF PROPERTY                M'\n",
            " 'COMPUTER CRIME FOURTH DEGREE          AM'\n",
            " 'BREACH OF PEACE 1ST DEG               DF' 'RECEIVING COMMERCIAL BRIBE'\n",
            " 'FALSELY REPORTING VEHICLE THEFT        M'\n",
            " 'MONEY LAUNDERING THIRD DEGREE         DF'\n",
            " 'REFUSAL TO DISPERSE                    M'\n",
            " 'COMPUTER CRIME FIRST DEGREE           BF'\n",
            " 'WILLFUL INJURY TO PROPERTY             M'\n",
            " 'PRODUCING CONTROLLED SUBS W/O LICENSE' 'ENTICING A MINOR'\n",
            " 'INSANITY AS DEFENSE' 'CRIMINAL VIOL. PROTECTION ORDER       AM'\n",
            " 'BRIBERY                               DF' 'ROBBERY RELATED'\n",
            " 'LARCENY DEFINED' 'FAILURE REGISTER SEXUAL PURPOSE       DF'\n",
            " 'RAPE, FIRST DEGREE                    BF' 'VIO REQ RE DISP OF DEAD BODY'\n",
            " 'INTERFERENCE WITH SEARCH' 'OP MV W/HNDHLD TEL/MOV ELC DEV'\n",
            " 'RESISTING ARREST' 'DUI .02 BAC AND UNDER 21 YRS'\n",
            " 'LOITERING ON SCHOOL GROUNDS           CM'\n",
            " 'INDECENT ASSAULT                       F'\n",
            " 'SALE/POSS/TRAN OF ASLT WEAPON          F'\n",
            " 'POSS OF UNSTAMP MARI/CONTROL SUB BY DEAL' 'LIQUOR SALES TO MINORS'\n",
            " 'THEFT OF HORSE' 'TOWN ORDINANCE=$90 OR <PARKING'\n",
            " 'FAILURE TO FURNISH TAX RETURN'\n",
            " 'ADULTERY                              AM'\n",
            " 'VIOLATION, HOME IMPROVE REGISTRATION'\n",
            " 'CONTEMPT OF COURT                      M'\n",
            " 'DISPERSION OF RIOTOUS ASSEMBLY         M' 'SELLING WITHOUT PERMIT'\n",
            " 'MANSLAUGHTER 2ND, W/FIREARM           CF'\n",
            " 'FAILURE TO CARRY AND MOUNT REFLECTORS'\n",
            " 'PISTOL AND REVOLVER PERMITS            M'\n",
            " 'CRIMINAL POSS BODY ARMOR              AM'\n",
            " 'PERJURY                               DF'\n",
            " 'ESCAPE, SECOND DEGREE                 DF'\n",
            " 'MONEY LAUNDERING 2ND DEGREE           CF'\n",
            " 'MISREP AGE TO ENTICE A MINOR          CF'\n",
            " 'OUI MV W/CHILD PSNGR                  AM'\n",
            " 'SOLIC OR ACCPT BENEFIT FOR RIGGING    AM'\n",
            " 'USE OF FORCE TO DEFEND PROPERTY' 'P19-187'\n",
            " 'THEFT OF UTILITY SERVICE FOR PROFIT   DF'\n",
            " 'UNLAWFUL ASSEMBLY                     BM' 'FEDERAL OFFENSE'\n",
            " 'SEXUAL ASSAULT, 3RD DEG W/ FIREARM    CF'\n",
            " 'FAILURE TO COMPLY W/ SEAT BELTS/SYSTEM' 'USE OF MACH GUN FOR AGGR PURP'\n",
            " '(REPEALED) 53-124' 'SALE/POSS/TRAFF OF WEAPON              F'\n",
            " 'MONEY LAUNDERING FIRST DEGREE         BF'\n",
            " 'CUSTODIAL INTERFERENCE, 2ND DEGREE    AM' 'SEX ABUSE MINOR'\n",
            " 'ASSAULT, SECOND DEGREE                 F' 'SEALED'\n",
            " 'INTENT TO INJURE WITH EXPLOSIVES       F'\n",
            " 'UNLAWFUL ENTRY INTO COIN MACHINE      AM'\n",
            " 'INCSTRUCTION UNLICENSED PERSON IN VEHICL'\n",
            " 'ASSAULT TERMINATING PREGNANCY         AF']\n"
          ],
          "name": "stdout"
        }
      ]
    },
    {
      "cell_type": "code",
      "metadata": {
        "id": "-DSvRSmdVjm4",
        "colab": {
          "base_uri": "https://localhost:8080/"
        },
        "outputId": "5db7fe23-8586-4fe9-9092-8f0e5ecfad3d"
      },
      "source": [
        "# Convert Array into DataFrame\n",
        "offense_df = pd.DataFrame(offense_array, columns=['Offense_Type'])\n",
        "print(offense_df)"
      ],
      "execution_count": 164,
      "outputs": [
        {
          "output_type": "stream",
          "text": [
            "                                 Offense_Type\n",
            "0    CRIMINAL POSS OF PISTOL/REVOLVER      DF\n",
            "1       VIOLATION OF PROBATION OR COND DISCHG\n",
            "2                            CRIMINAL ATTEMPT\n",
            "3    CRIM VIOL OF PROTECTIVE ORDER         DF\n",
            "4    CRIM VIOL ST CRIM RESTR ORDER         DF\n",
            "..                                        ...\n",
            "366                                    SEALED\n",
            "367  INTENT TO INJURE WITH EXPLOSIVES       F\n",
            "368  UNLAWFUL ENTRY INTO COIN MACHINE      AM\n",
            "369  INCSTRUCTION UNLICENSED PERSON IN VEHICL\n",
            "370  ASSAULT TERMINATING PREGNANCY         AF\n",
            "\n",
            "[371 rows x 1 columns]\n"
          ],
          "name": "stdout"
        }
      ]
    },
    {
      "cell_type": "code",
      "metadata": {
        "id": "sI47Nu6ovTd-",
        "colab": {
          "base_uri": "https://localhost:8080/",
          "height": 204
        },
        "outputId": "8a18da7b-c25c-4187-d378-7e0f153ec5d6"
      },
      "source": [
        "# Group by offense and bond amount\n",
        "df_3 = df.groupby(['OFFENSE'], as_index=False).agg({'Bond': sum})\n",
        "df_3.head()"
      ],
      "execution_count": 165,
      "outputs": [
        {
          "output_type": "execute_result",
          "data": {
            "text/html": [
              "<div>\n",
              "<style scoped>\n",
              "    .dataframe tbody tr th:only-of-type {\n",
              "        vertical-align: middle;\n",
              "    }\n",
              "\n",
              "    .dataframe tbody tr th {\n",
              "        vertical-align: top;\n",
              "    }\n",
              "\n",
              "    .dataframe thead th {\n",
              "        text-align: right;\n",
              "    }\n",
              "</style>\n",
              "<table border=\"1\" class=\"dataframe\">\n",
              "  <thead>\n",
              "    <tr style=\"text-align: right;\">\n",
              "      <th></th>\n",
              "      <th>OFFENSE</th>\n",
              "      <th>Bond</th>\n",
              "    </tr>\n",
              "  </thead>\n",
              "  <tbody>\n",
              "    <tr>\n",
              "      <th>0</th>\n",
              "      <td>(REPEALED) 53-048</td>\n",
              "      <td>332935000</td>\n",
              "    </tr>\n",
              "    <tr>\n",
              "      <th>1</th>\n",
              "      <td>(REPEALED) 53-124</td>\n",
              "      <td>10000</td>\n",
              "    </tr>\n",
              "    <tr>\n",
              "      <th>2</th>\n",
              "      <td>(REPEALED) 53-173</td>\n",
              "      <td>274750</td>\n",
              "    </tr>\n",
              "    <tr>\n",
              "      <th>3</th>\n",
              "      <td>53A021</td>\n",
              "      <td>883105836</td>\n",
              "    </tr>\n",
              "    <tr>\n",
              "      <th>4</th>\n",
              "      <td>53A223C</td>\n",
              "      <td>425900</td>\n",
              "    </tr>\n",
              "  </tbody>\n",
              "</table>\n",
              "</div>"
            ],
            "text/plain": [
              "             OFFENSE       Bond\n",
              "0  (REPEALED) 53-048  332935000\n",
              "1  (REPEALED) 53-124      10000\n",
              "2  (REPEALED) 53-173     274750\n",
              "3             53A021  883105836\n",
              "4            53A223C     425900"
            ]
          },
          "metadata": {
            "tags": []
          },
          "execution_count": 165
        }
      ]
    },
    {
      "cell_type": "code",
      "metadata": {
        "id": "Wjw8F91_1I8P",
        "colab": {
          "base_uri": "https://localhost:8080/",
          "height": 204
        },
        "outputId": "720c24bb-ce3d-4498-df9c-a359c1bbaa0e"
      },
      "source": [
        "df_3['Offense_Total'] = df['OFFENSE']\n",
        "df_3.head()"
      ],
      "execution_count": 166,
      "outputs": [
        {
          "output_type": "execute_result",
          "data": {
            "text/html": [
              "<div>\n",
              "<style scoped>\n",
              "    .dataframe tbody tr th:only-of-type {\n",
              "        vertical-align: middle;\n",
              "    }\n",
              "\n",
              "    .dataframe tbody tr th {\n",
              "        vertical-align: top;\n",
              "    }\n",
              "\n",
              "    .dataframe thead th {\n",
              "        text-align: right;\n",
              "    }\n",
              "</style>\n",
              "<table border=\"1\" class=\"dataframe\">\n",
              "  <thead>\n",
              "    <tr style=\"text-align: right;\">\n",
              "      <th></th>\n",
              "      <th>OFFENSE</th>\n",
              "      <th>Bond</th>\n",
              "      <th>Offense_Total</th>\n",
              "    </tr>\n",
              "  </thead>\n",
              "  <tbody>\n",
              "    <tr>\n",
              "      <th>0</th>\n",
              "      <td>(REPEALED) 53-048</td>\n",
              "      <td>332935000</td>\n",
              "      <td>CRIMINAL POSS OF PISTOL/REVOLVER      DF</td>\n",
              "    </tr>\n",
              "    <tr>\n",
              "      <th>1</th>\n",
              "      <td>(REPEALED) 53-124</td>\n",
              "      <td>10000</td>\n",
              "      <td>VIOLATION OF PROBATION OR COND DISCHG</td>\n",
              "    </tr>\n",
              "    <tr>\n",
              "      <th>2</th>\n",
              "      <td>(REPEALED) 53-173</td>\n",
              "      <td>274750</td>\n",
              "      <td>CRIMINAL ATTEMPT</td>\n",
              "    </tr>\n",
              "    <tr>\n",
              "      <th>3</th>\n",
              "      <td>53A021</td>\n",
              "      <td>883105836</td>\n",
              "      <td>CRIM VIOL OF PROTECTIVE ORDER         DF</td>\n",
              "    </tr>\n",
              "    <tr>\n",
              "      <th>4</th>\n",
              "      <td>53A223C</td>\n",
              "      <td>425900</td>\n",
              "      <td>CRIMINAL ATTEMPT</td>\n",
              "    </tr>\n",
              "  </tbody>\n",
              "</table>\n",
              "</div>"
            ],
            "text/plain": [
              "             OFFENSE       Bond                             Offense_Total\n",
              "0  (REPEALED) 53-048  332935000  CRIMINAL POSS OF PISTOL/REVOLVER      DF\n",
              "1  (REPEALED) 53-124      10000     VIOLATION OF PROBATION OR COND DISCHG\n",
              "2  (REPEALED) 53-173     274750                          CRIMINAL ATTEMPT\n",
              "3             53A021  883105836  CRIM VIOL OF PROTECTIVE ORDER         DF\n",
              "4            53A223C     425900                          CRIMINAL ATTEMPT"
            ]
          },
          "metadata": {
            "tags": []
          },
          "execution_count": 166
        }
      ]
    },
    {
      "cell_type": "code",
      "metadata": {
        "id": "vJY_LJbKe9_0"
      },
      "source": [
        "# Successfully creating excel sheet with cell output\n",
        "# offense_df.to_excel(\"./offensedf3.xlsx\")"
      ],
      "execution_count": 167,
      "outputs": []
    },
    {
      "cell_type": "code",
      "metadata": {
        "id": "nlQosSFwmpmr",
        "colab": {
          "base_uri": "https://localhost:8080/",
          "height": 204
        },
        "outputId": "10f6b266-5d53-4699-93c4-e9ae38da4462"
      },
      "source": [
        "# load newly coded .csv \n",
        "df_2 = pd.read_csv(\"offensedf3.csv\", index_col=False)\n",
        "df_2.head()"
      ],
      "execution_count": 168,
      "outputs": [
        {
          "output_type": "execute_result",
          "data": {
            "text/html": [
              "<div>\n",
              "<style scoped>\n",
              "    .dataframe tbody tr th:only-of-type {\n",
              "        vertical-align: middle;\n",
              "    }\n",
              "\n",
              "    .dataframe tbody tr th {\n",
              "        vertical-align: top;\n",
              "    }\n",
              "\n",
              "    .dataframe thead th {\n",
              "        text-align: right;\n",
              "    }\n",
              "</style>\n",
              "<table border=\"1\" class=\"dataframe\">\n",
              "  <thead>\n",
              "    <tr style=\"text-align: right;\">\n",
              "      <th></th>\n",
              "      <th>Unnamed: 0</th>\n",
              "      <th>Offense_Type</th>\n",
              "      <th>Category</th>\n",
              "    </tr>\n",
              "  </thead>\n",
              "  <tbody>\n",
              "    <tr>\n",
              "      <th>0</th>\n",
              "      <td>0</td>\n",
              "      <td>CRIMINAL POSS OF PISTOL/REVOLVER      DF</td>\n",
              "      <td>Weapons</td>\n",
              "    </tr>\n",
              "    <tr>\n",
              "      <th>1</th>\n",
              "      <td>1</td>\n",
              "      <td>VIOLATION OF PROBATION OR COND DISCHG</td>\n",
              "      <td>Probation</td>\n",
              "    </tr>\n",
              "    <tr>\n",
              "      <th>2</th>\n",
              "      <td>2</td>\n",
              "      <td>CRIMINAL ATTEMPT</td>\n",
              "      <td>Attempt</td>\n",
              "    </tr>\n",
              "    <tr>\n",
              "      <th>3</th>\n",
              "      <td>3</td>\n",
              "      <td>CRIM VIOL OF PROTECTIVE ORDER         DF</td>\n",
              "      <td>Order</td>\n",
              "    </tr>\n",
              "    <tr>\n",
              "      <th>4</th>\n",
              "      <td>4</td>\n",
              "      <td>CRIM VIOL ST CRIM RESTR ORDER         DF</td>\n",
              "      <td>Order</td>\n",
              "    </tr>\n",
              "  </tbody>\n",
              "</table>\n",
              "</div>"
            ],
            "text/plain": [
              "   Unnamed: 0                              Offense_Type   Category\n",
              "0           0  CRIMINAL POSS OF PISTOL/REVOLVER      DF    Weapons\n",
              "1           1     VIOLATION OF PROBATION OR COND DISCHG  Probation\n",
              "2           2                          CRIMINAL ATTEMPT    Attempt\n",
              "3           3  CRIM VIOL OF PROTECTIVE ORDER         DF      Order\n",
              "4           4  CRIM VIOL ST CRIM RESTR ORDER         DF      Order"
            ]
          },
          "metadata": {
            "tags": []
          },
          "execution_count": 168
        }
      ]
    },
    {
      "cell_type": "markdown",
      "metadata": {
        "id": "9u2D_yQWH7w1"
      },
      "source": [
        "Took exported excel sheet and coded each type of offense as one of following:\n",
        "1. Person\n",
        "2. Property\n",
        "3. Probation\n",
        "4. Order (Violation of Order by Court, Police, or Municipality)\n",
        "5. Drugs\n",
        "6. Weapon\n",
        "7. Juvenile\n",
        "8. Attempt"
      ]
    },
    {
      "cell_type": "code",
      "metadata": {
        "id": "BHKiWXzV3gju",
        "colab": {
          "base_uri": "https://localhost:8080/"
        },
        "outputId": "fa40e7ba-f7bb-4a02-8cc4-a96a3d419055"
      },
      "source": [
        "# Sum of each Type of Category\n",
        "df_2['Category'].value_counts()\n"
      ],
      "execution_count": 169,
      "outputs": [
        {
          "output_type": "execute_result",
          "data": {
            "text/plain": [
              "Person       153\n",
              "Property      89\n",
              "Order         55\n",
              "Weapons       32\n",
              "Drugs         23\n",
              "Attempt        7\n",
              "Probation      6\n",
              "ND             4\n",
              "Juvenile       2\n",
              "Name: Category, dtype: int64"
            ]
          },
          "metadata": {
            "tags": []
          },
          "execution_count": 169
        }
      ]
    },
    {
      "cell_type": "code",
      "metadata": {
        "id": "e4lnTQy4WxO-",
        "colab": {
          "base_uri": "https://localhost:8080/"
        },
        "outputId": "753e4e90-edc4-4235-abc1-b1c0b46b4325"
      },
      "source": [
        "# Sum of each Type of Offense\n",
        "df_offense = df['OFFENSE'].value_counts()\n",
        "df_offense.head(50)"
      ],
      "execution_count": 170,
      "outputs": [
        {
          "output_type": "execute_result",
          "data": {
            "text/plain": [
              "VIOLATION OF PROBATION OR COND DISCHG       624816\n",
              "CRIM VIOL OF PROTECTIVE ORDER         DF    271397\n",
              "INJURY OR RISK OF INJURY TO MINOR      F    245038\n",
              "ASSAULT, FIRST DEGREE                 BF    215743\n",
              "ROBBERY, FIRST DEGREE                 BF    199466\n",
              "MURDER                                AF    181229\n",
              "BURGLARY, THIRD DEGREE                DF    161147\n",
              "SEXUAL ASSAULT, FIRST DEGREE           F    150527\n",
              "ASSAULT ON POLICE OR FIRE OFFICER     CF    127775\n",
              "CRIMINAL POSSESSION OF A PISTOL       DF    120866\n",
              "FAILURE TO APPEAR, FIRST DEGREE       DF    119307\n",
              "SALE OF NARC/AMPHET BY NON-DEPENDENT   F    118456\n",
              "CRIMINAL POSS OF PISTOL/REVOLVER      DF    115349\n",
              "HOME INVASION                         AF    114861\n",
              "CRIMINAL ATTEMPT                            110031\n",
              "ASSAULT, THIRD DEGREE                 AM    101101\n",
              "FAILURE TO APPEAR, SECOND DEGREE      AM     94753\n",
              "ASSAULT, SECOND DEGREE                DF     94226\n",
              "LARCENY, FIRST DEGREE                 BF     91870\n",
              "LARCENY, THIRD DEGREE                 DF     85813\n",
              "INTERFERING WITH AN OFFICER           AM     84351\n",
              "LARCENY, SECOND DEGREE                CF     71728\n",
              "BURGLARY, FIRST DEGREE                BF     70155\n",
              "STRANGULATION 2ND DEGREE              DF     62660\n",
              "SALE OF HALLUCIGEN/NARCOTIC SUBSTANCE  F     62001\n",
              "THREATENING                           AM     58822\n",
              "POSSESSION OF NARCOTICS                      57556\n",
              "STEALING A FIREARM                    DF     56573\n",
              "CONSPIRACY                                   56487\n",
              "BURGLARY, SECOND DEGREE               CF     51051\n",
              "ROBBERY, SECOND DEGREE                CF     49950\n",
              "SEXUAL ASSAULT, SECOND DEGREE          F     49904\n",
              "CRIM VIOL OF PROTECTIVE ORDER         AM     38455\n",
              "YOUTHFUL OFFENDER                            37957\n",
              "ROBBERY, THIRD DEGREE                 DF     35268\n",
              "FELONY MURDER                         AF     34341\n",
              "ARREST WITHOUT WARRANT                       31590\n",
              "SEXUAL ASSAULT 1ST DEGREE-AGGRVTD      F     31336\n",
              "LARCENY, SIXTH DEGREE                 CM     30656\n",
              "SALE OF HEROIN, COC BY NON-DEPENDENT         30120\n",
              "KIDNAPPING, FIRST DEGREE              AF     28488\n",
              "CRIMINAL TRESPASS, FIRST DEGREE       AM     28315\n",
              "CRIM VIOL ST CRIM RESTR ORDER         DF     27855\n",
              "CRIM VIOL RES ORDER                   AM     27236\n",
              "DRUG PARAPHERNALIA IN DRUG FACTORY     F     25192\n",
              "CARRYING WEAPON IN A MOTOR VEHICLE     F     24878\n",
              "ARSON, FIRST DEGREE                   AF     24518\n",
              "OPERATE UNDER INFLU OF LIQ OR DRUGS          23563\n",
              "ASSAULT, 1ST VICTIM 60 OR OVER        BF     22418\n",
              "MANSLAUGHTER, FIRST DEGREE            BF     21409\n",
              "Name: OFFENSE, dtype: int64"
            ]
          },
          "metadata": {
            "tags": []
          },
          "execution_count": 170
        }
      ]
    },
    {
      "cell_type": "code",
      "metadata": {
        "id": "RPQNbxn0hvtw",
        "colab": {
          "base_uri": "https://localhost:8080/",
          "height": 204
        },
        "outputId": "9b7a39cd-a9c4-4c64-a340-648263d10231"
      },
      "source": [
        "#Add new column with offense category\n",
        "category = []\n",
        "for i in df[\"OFFENSE\"]:\n",
        "    if i == [\"CRIMINAL POSS OF PISTOL/REVOLVER DF\"]:\n",
        "        category.append(\"Weapons\")\n",
        "    elif i ==[\"VIOLATION OF PROBATION OR COND DISCHG\"]:\n",
        "        category.append(\"Probation\")\n",
        "    elif i == [\"CRIMINAL ATTEMPT\"]:\n",
        "        category.append(\"Attempt\")\n",
        "    elif i == [\"CRIM VIOL OF PROTECTIVE ORDER         DF\"]:\n",
        "        category.append(\"Order\")\n",
        "    elif i == [\"SALE OF NARC/AMPHET BY NON-DEPENDENT   F\"]:\n",
        "        category.append(\"Drugs\")\n",
        "    elif i == [\"LARCENY, SECOND DEGREE                CF\"]:\n",
        "        category.append(\"Property\")\n",
        "    elif i == [\"YOUTHFUL OFFENDER\"]:\n",
        "        category.append(\"Juvenile\")\n",
        "    else:\n",
        "        category.append(\"Person\")\n",
        "       \n",
        "df[\"Category\"] = category   \n",
        "df.head()"
      ],
      "execution_count": 171,
      "outputs": [
        {
          "output_type": "execute_result",
          "data": {
            "text/html": [
              "<div>\n",
              "<style scoped>\n",
              "    .dataframe tbody tr th:only-of-type {\n",
              "        vertical-align: middle;\n",
              "    }\n",
              "\n",
              "    .dataframe tbody tr th {\n",
              "        vertical-align: top;\n",
              "    }\n",
              "\n",
              "    .dataframe thead th {\n",
              "        text-align: right;\n",
              "    }\n",
              "</style>\n",
              "<table border=\"1\" class=\"dataframe\">\n",
              "  <thead>\n",
              "    <tr style=\"text-align: right;\">\n",
              "      <th></th>\n",
              "      <th>Date</th>\n",
              "      <th>RACE</th>\n",
              "      <th>GENDER</th>\n",
              "      <th>AGE</th>\n",
              "      <th>Bond</th>\n",
              "      <th>OFFENSE</th>\n",
              "      <th>Year</th>\n",
              "      <th>Category</th>\n",
              "    </tr>\n",
              "  </thead>\n",
              "  <tbody>\n",
              "    <tr>\n",
              "      <th>0</th>\n",
              "      <td>2018-08-16</td>\n",
              "      <td>BLACK</td>\n",
              "      <td>M</td>\n",
              "      <td>27</td>\n",
              "      <td>150000</td>\n",
              "      <td>CRIMINAL POSS OF PISTOL/REVOLVER      DF</td>\n",
              "      <td>2018</td>\n",
              "      <td>Person</td>\n",
              "    </tr>\n",
              "    <tr>\n",
              "      <th>1</th>\n",
              "      <td>2019-03-28</td>\n",
              "      <td>HISPANIC</td>\n",
              "      <td>M</td>\n",
              "      <td>41</td>\n",
              "      <td>30100</td>\n",
              "      <td>VIOLATION OF PROBATION OR COND DISCHG</td>\n",
              "      <td>2019</td>\n",
              "      <td>Person</td>\n",
              "    </tr>\n",
              "    <tr>\n",
              "      <th>2</th>\n",
              "      <td>2020-04-03</td>\n",
              "      <td>HISPANIC</td>\n",
              "      <td>M</td>\n",
              "      <td>21</td>\n",
              "      <td>150000</td>\n",
              "      <td>CRIMINAL ATTEMPT</td>\n",
              "      <td>2020</td>\n",
              "      <td>Person</td>\n",
              "    </tr>\n",
              "    <tr>\n",
              "      <th>3</th>\n",
              "      <td>2020-01-15</td>\n",
              "      <td>WHITE</td>\n",
              "      <td>M</td>\n",
              "      <td>36</td>\n",
              "      <td>50500</td>\n",
              "      <td>CRIM VIOL OF PROTECTIVE ORDER         DF</td>\n",
              "      <td>2020</td>\n",
              "      <td>Person</td>\n",
              "    </tr>\n",
              "    <tr>\n",
              "      <th>4</th>\n",
              "      <td>2018-12-26</td>\n",
              "      <td>HISPANIC</td>\n",
              "      <td>M</td>\n",
              "      <td>29</td>\n",
              "      <td>100000</td>\n",
              "      <td>CRIMINAL ATTEMPT</td>\n",
              "      <td>2018</td>\n",
              "      <td>Person</td>\n",
              "    </tr>\n",
              "  </tbody>\n",
              "</table>\n",
              "</div>"
            ],
            "text/plain": [
              "        Date      RACE  ...  Year  Category\n",
              "0 2018-08-16     BLACK  ...  2018    Person\n",
              "1 2019-03-28  HISPANIC  ...  2019    Person\n",
              "2 2020-04-03  HISPANIC  ...  2020    Person\n",
              "3 2020-01-15     WHITE  ...  2020    Person\n",
              "4 2018-12-26  HISPANIC  ...  2018    Person\n",
              "\n",
              "[5 rows x 8 columns]"
            ]
          },
          "metadata": {
            "tags": []
          },
          "execution_count": 171
        }
      ]
    },
    {
      "cell_type": "code",
      "metadata": {
        "id": "6eUjSJX5hyyO"
      },
      "source": [
        "#Add new column with offense category\n",
        "#category = []\n",
        "# for i in df[\"OFFENSE\"]:\n",
        "#    if \"PISTOL/REVOLVER\" in df.OFFENSE:\n",
        "#        category.append(\"Weapons\")\n",
        "#    elif \"VIOLATION OF PROBATION OR COND DISCHG\" in df.OFFENSE:\n",
        "#        category.append(\"Probation\")\n",
        "#    elif \"CRIMINAL ATTEMPT\" in df.OFFENSE:\n",
        "#        category.append(\"Attempt\")\n",
        "#    elif \"CRIM VIOL OF PROTECTIVE ORDER         DF\" in df.OFFENSE:\n",
        "#        category.append(\"Order\")\n",
        "#    elif \"SALE OF NARC/AMPHET BY NON-DEPENDENT   F\" in df.OFFENSE:\n",
        "#        category.append(\"Drugs\")\n",
        "#    elif \"LARCENY, SECOND DEGREE                CF\" in df.OFFENSE:\n",
        "#        category.append(\"Property\")\n",
        "#    elif \"YOUTHFUL OFFENDER\" in df.OFFENSE:\n",
        "#        category.append(\"Juvenile\")\n",
        "#    else:\n",
        "#        category.append(\"Person\")\n",
        "       \n",
        "# df[\"Category\"] = category   \n",
        "# df.head()"
      ],
      "execution_count": 172,
      "outputs": []
    },
    {
      "cell_type": "code",
      "metadata": {
        "id": "UuaGTie8h7je"
      },
      "source": [
        "#if 'PISTOL/REVOLVER' in df_set.OFFENSE:\n",
        "#        df_set.Category = [\"Weapons\"]\n",
        "\n",
        "#df_set.head()"
      ],
      "execution_count": 173,
      "outputs": []
    },
    {
      "cell_type": "code",
      "metadata": {
        "id": "3P50Djesh_RN"
      },
      "source": [
        "#if 'PISTOL/REVOLVER' in df_set.OFFENSE:\n",
        "#\t\tdf_set[\"Category\"] == \"Weapons\"\n",
        "#df_set.head()"
      ],
      "execution_count": 174,
      "outputs": []
    },
    {
      "cell_type": "code",
      "metadata": {
        "id": "1OyPRaVyiEMC",
        "colab": {
          "base_uri": "https://localhost:8080/"
        },
        "outputId": "dadb7d81-3396-4008-de63-90384668968d"
      },
      "source": [
        "df['Category'].value_counts() "
      ],
      "execution_count": 175,
      "outputs": [
        {
          "output_type": "execute_result",
          "data": {
            "text/plain": [
              "Person    5351849\n",
              "Name: Category, dtype: int64"
            ]
          },
          "metadata": {
            "tags": []
          },
          "execution_count": 175
        }
      ]
    },
    {
      "cell_type": "markdown",
      "metadata": {
        "id": "UImnUvuHgyzz"
      },
      "source": [
        "## **Comparing Bond Amounts Between Groups**"
      ]
    },
    {
      "cell_type": "code",
      "metadata": {
        "id": "Im2RRkGkbowa",
        "colab": {
          "base_uri": "https://localhost:8080/"
        },
        "outputId": "612568fe-fc17-4b0f-97f8-18dd181d9138"
      },
      "source": [
        "# Overall Median for Bond Amount\n",
        "df.median()"
      ],
      "execution_count": 176,
      "outputs": [
        {
          "output_type": "stream",
          "text": [
            "/usr/local/lib/python3.7/dist-packages/ipykernel_launcher.py:2: FutureWarning: DataFrame.mean and DataFrame.median with numeric_only=None will include datetime64 and datetime64tz columns in a future version.\n",
            "  \n"
          ],
          "name": "stderr"
        },
        {
          "output_type": "execute_result",
          "data": {
            "text/plain": [
              "AGE         33.0\n",
              "Bond    100000.0\n",
              "Year      2018.0\n",
              "dtype: float64"
            ]
          },
          "metadata": {
            "tags": []
          },
          "execution_count": 176
        }
      ]
    },
    {
      "cell_type": "code",
      "metadata": {
        "id": "5nHbDGRbyKR3",
        "colab": {
          "base_uri": "https://localhost:8080/"
        },
        "outputId": "3d7ea632-7303-4534-d185-c938df362fbd"
      },
      "source": [
        "# Group by Offense then Sum of each race\n",
        "df_race = df['RACE'].value_counts() \n",
        "df_race.head()"
      ],
      "execution_count": 177,
      "outputs": [
        {
          "output_type": "execute_result",
          "data": {
            "text/plain": [
              "BLACK       2206677\n",
              "WHITE       1663676\n",
              "HISPANIC    1432744\n",
              "ASIAN         31994\n",
              "AMER IND      16758\n",
              "Name: RACE, dtype: int64"
            ]
          },
          "metadata": {
            "tags": []
          },
          "execution_count": 177
        }
      ]
    },
    {
      "cell_type": "code",
      "metadata": {
        "id": "iSGcOuwqZ0x9",
        "colab": {
          "base_uri": "https://localhost:8080/",
          "height": 204
        },
        "outputId": "6e09df3b-8f20-4f2b-d45c-aee515fd1f25"
      },
      "source": [
        "# Sum of bail amount by race\n",
        "df_racebail = df.groupby(['RACE'], as_index=False).agg({'Bond': sum})\n",
        "df_racebail.head()"
      ],
      "execution_count": 178,
      "outputs": [
        {
          "output_type": "execute_result",
          "data": {
            "text/html": [
              "<div>\n",
              "<style scoped>\n",
              "    .dataframe tbody tr th:only-of-type {\n",
              "        vertical-align: middle;\n",
              "    }\n",
              "\n",
              "    .dataframe tbody tr th {\n",
              "        vertical-align: top;\n",
              "    }\n",
              "\n",
              "    .dataframe thead th {\n",
              "        text-align: right;\n",
              "    }\n",
              "</style>\n",
              "<table border=\"1\" class=\"dataframe\">\n",
              "  <thead>\n",
              "    <tr style=\"text-align: right;\">\n",
              "      <th></th>\n",
              "      <th>RACE</th>\n",
              "      <th>Bond</th>\n",
              "    </tr>\n",
              "  </thead>\n",
              "  <tbody>\n",
              "    <tr>\n",
              "      <th>0</th>\n",
              "      <td>AMER IND</td>\n",
              "      <td>2535846250</td>\n",
              "    </tr>\n",
              "    <tr>\n",
              "      <th>1</th>\n",
              "      <td>ASIAN</td>\n",
              "      <td>6745403232</td>\n",
              "    </tr>\n",
              "    <tr>\n",
              "      <th>2</th>\n",
              "      <td>BLACK</td>\n",
              "      <td>675255067723</td>\n",
              "    </tr>\n",
              "    <tr>\n",
              "      <th>3</th>\n",
              "      <td>HISPANIC</td>\n",
              "      <td>367035798673</td>\n",
              "    </tr>\n",
              "    <tr>\n",
              "      <th>4</th>\n",
              "      <td>WHITE</td>\n",
              "      <td>274288516315</td>\n",
              "    </tr>\n",
              "  </tbody>\n",
              "</table>\n",
              "</div>"
            ],
            "text/plain": [
              "       RACE          Bond\n",
              "0  AMER IND    2535846250\n",
              "1     ASIAN    6745403232\n",
              "2     BLACK  675255067723\n",
              "3  HISPANIC  367035798673\n",
              "4     WHITE  274288516315"
            ]
          },
          "metadata": {
            "tags": []
          },
          "execution_count": 178
        }
      ]
    },
    {
      "cell_type": "code",
      "metadata": {
        "id": "NfmlcX_rbL0p",
        "colab": {
          "base_uri": "https://localhost:8080/",
          "height": 204
        },
        "outputId": "de882e69-6bd9-4755-f39e-f2bffa51c1f7"
      },
      "source": [
        "# mean of bail amount and age by race\n",
        "df_racebailmean = df.groupby(['RACE'], as_index=False).mean()\n",
        "df_racebailmean.head()"
      ],
      "execution_count": 179,
      "outputs": [
        {
          "output_type": "execute_result",
          "data": {
            "text/html": [
              "<div>\n",
              "<style scoped>\n",
              "    .dataframe tbody tr th:only-of-type {\n",
              "        vertical-align: middle;\n",
              "    }\n",
              "\n",
              "    .dataframe tbody tr th {\n",
              "        vertical-align: top;\n",
              "    }\n",
              "\n",
              "    .dataframe thead th {\n",
              "        text-align: right;\n",
              "    }\n",
              "</style>\n",
              "<table border=\"1\" class=\"dataframe\">\n",
              "  <thead>\n",
              "    <tr style=\"text-align: right;\">\n",
              "      <th></th>\n",
              "      <th>RACE</th>\n",
              "      <th>AGE</th>\n",
              "      <th>Bond</th>\n",
              "      <th>Year</th>\n",
              "    </tr>\n",
              "  </thead>\n",
              "  <tbody>\n",
              "    <tr>\n",
              "      <th>0</th>\n",
              "      <td>AMER IND</td>\n",
              "      <td>31.753730</td>\n",
              "      <td>151321.532999</td>\n",
              "      <td>2017.811433</td>\n",
              "    </tr>\n",
              "    <tr>\n",
              "      <th>1</th>\n",
              "      <td>ASIAN</td>\n",
              "      <td>34.839064</td>\n",
              "      <td>210833.382259</td>\n",
              "      <td>2017.406764</td>\n",
              "    </tr>\n",
              "    <tr>\n",
              "      <th>2</th>\n",
              "      <td>BLACK</td>\n",
              "      <td>33.234479</td>\n",
              "      <td>306005.395317</td>\n",
              "      <td>2017.452547</td>\n",
              "    </tr>\n",
              "    <tr>\n",
              "      <th>3</th>\n",
              "      <td>HISPANIC</td>\n",
              "      <td>33.557529</td>\n",
              "      <td>256176.817822</td>\n",
              "      <td>2017.631587</td>\n",
              "    </tr>\n",
              "    <tr>\n",
              "      <th>4</th>\n",
              "      <td>WHITE</td>\n",
              "      <td>37.364185</td>\n",
              "      <td>164868.950634</td>\n",
              "      <td>2017.668673</td>\n",
              "    </tr>\n",
              "  </tbody>\n",
              "</table>\n",
              "</div>"
            ],
            "text/plain": [
              "       RACE        AGE           Bond         Year\n",
              "0  AMER IND  31.753730  151321.532999  2017.811433\n",
              "1     ASIAN  34.839064  210833.382259  2017.406764\n",
              "2     BLACK  33.234479  306005.395317  2017.452547\n",
              "3  HISPANIC  33.557529  256176.817822  2017.631587\n",
              "4     WHITE  37.364185  164868.950634  2017.668673"
            ]
          },
          "metadata": {
            "tags": []
          },
          "execution_count": 179
        }
      ]
    },
    {
      "cell_type": "code",
      "metadata": {
        "id": "lRhuTAR2b5-K",
        "colab": {
          "base_uri": "https://localhost:8080/",
          "height": 204
        },
        "outputId": "30f98fab-a2da-449c-a654-e13ff01d737e"
      },
      "source": [
        "# median of bail amount and age by race\n",
        "df_racebailmed = df.groupby(['RACE'], as_index=False).median()\n",
        "df_racebailmed.head()"
      ],
      "execution_count": 180,
      "outputs": [
        {
          "output_type": "execute_result",
          "data": {
            "text/html": [
              "<div>\n",
              "<style scoped>\n",
              "    .dataframe tbody tr th:only-of-type {\n",
              "        vertical-align: middle;\n",
              "    }\n",
              "\n",
              "    .dataframe tbody tr th {\n",
              "        vertical-align: top;\n",
              "    }\n",
              "\n",
              "    .dataframe thead th {\n",
              "        text-align: right;\n",
              "    }\n",
              "</style>\n",
              "<table border=\"1\" class=\"dataframe\">\n",
              "  <thead>\n",
              "    <tr style=\"text-align: right;\">\n",
              "      <th></th>\n",
              "      <th>RACE</th>\n",
              "      <th>AGE</th>\n",
              "      <th>Bond</th>\n",
              "      <th>Year</th>\n",
              "    </tr>\n",
              "  </thead>\n",
              "  <tbody>\n",
              "    <tr>\n",
              "      <th>0</th>\n",
              "      <td>AMER IND</td>\n",
              "      <td>30</td>\n",
              "      <td>100000</td>\n",
              "      <td>2018</td>\n",
              "    </tr>\n",
              "    <tr>\n",
              "      <th>1</th>\n",
              "      <td>ASIAN</td>\n",
              "      <td>35</td>\n",
              "      <td>90000</td>\n",
              "      <td>2018</td>\n",
              "    </tr>\n",
              "    <tr>\n",
              "      <th>2</th>\n",
              "      <td>BLACK</td>\n",
              "      <td>31</td>\n",
              "      <td>125000</td>\n",
              "      <td>2018</td>\n",
              "    </tr>\n",
              "    <tr>\n",
              "      <th>3</th>\n",
              "      <td>HISPANIC</td>\n",
              "      <td>32</td>\n",
              "      <td>100100</td>\n",
              "      <td>2018</td>\n",
              "    </tr>\n",
              "    <tr>\n",
              "      <th>4</th>\n",
              "      <td>WHITE</td>\n",
              "      <td>35</td>\n",
              "      <td>60600</td>\n",
              "      <td>2018</td>\n",
              "    </tr>\n",
              "  </tbody>\n",
              "</table>\n",
              "</div>"
            ],
            "text/plain": [
              "       RACE  AGE    Bond  Year\n",
              "0  AMER IND   30  100000  2018\n",
              "1     ASIAN   35   90000  2018\n",
              "2     BLACK   31  125000  2018\n",
              "3  HISPANIC   32  100100  2018\n",
              "4     WHITE   35   60600  2018"
            ]
          },
          "metadata": {
            "tags": []
          },
          "execution_count": 180
        }
      ]
    },
    {
      "cell_type": "code",
      "metadata": {
        "colab": {
          "base_uri": "https://localhost:8080/",
          "height": 450
        },
        "id": "sdYEghvhRdQX",
        "outputId": "219ae70a-6584-4904-8e19-b690e25426bf"
      },
      "source": [
        "# Group by Race and Year\n",
        "df_race_year = df.groupby(['Year', 'RACE']).sum()\n",
        "df_race_year"
      ],
      "execution_count": 181,
      "outputs": [
        {
          "output_type": "execute_result",
          "data": {
            "text/html": [
              "<div>\n",
              "<style scoped>\n",
              "    .dataframe tbody tr th:only-of-type {\n",
              "        vertical-align: middle;\n",
              "    }\n",
              "\n",
              "    .dataframe tbody tr th {\n",
              "        vertical-align: top;\n",
              "    }\n",
              "\n",
              "    .dataframe thead th {\n",
              "        text-align: right;\n",
              "    }\n",
              "</style>\n",
              "<table border=\"1\" class=\"dataframe\">\n",
              "  <thead>\n",
              "    <tr style=\"text-align: right;\">\n",
              "      <th></th>\n",
              "      <th></th>\n",
              "      <th>AGE</th>\n",
              "      <th>Bond</th>\n",
              "    </tr>\n",
              "    <tr>\n",
              "      <th>Year</th>\n",
              "      <th>RACE</th>\n",
              "      <th></th>\n",
              "      <th></th>\n",
              "    </tr>\n",
              "  </thead>\n",
              "  <tbody>\n",
              "    <tr>\n",
              "      <th>1980</th>\n",
              "      <th>WHITE</th>\n",
              "      <td>3721</td>\n",
              "      <td>2135000</td>\n",
              "    </tr>\n",
              "    <tr>\n",
              "      <th>1988</th>\n",
              "      <th>BLACK</th>\n",
              "      <td>884</td>\n",
              "      <td>170000</td>\n",
              "    </tr>\n",
              "    <tr>\n",
              "      <th>1993</th>\n",
              "      <th>BLACK</th>\n",
              "      <td>1484</td>\n",
              "      <td>140000</td>\n",
              "    </tr>\n",
              "    <tr>\n",
              "      <th>1994</th>\n",
              "      <th>WHITE</th>\n",
              "      <td>456</td>\n",
              "      <td>8000</td>\n",
              "    </tr>\n",
              "    <tr>\n",
              "      <th>1996</th>\n",
              "      <th>BLACK</th>\n",
              "      <td>6379</td>\n",
              "      <td>95934000</td>\n",
              "    </tr>\n",
              "    <tr>\n",
              "      <th>...</th>\n",
              "      <th>...</th>\n",
              "      <td>...</td>\n",
              "      <td>...</td>\n",
              "    </tr>\n",
              "    <tr>\n",
              "      <th rowspan=\"5\" valign=\"top\">2021</th>\n",
              "      <th>AMER IND</th>\n",
              "      <td>7123</td>\n",
              "      <td>64610000</td>\n",
              "    </tr>\n",
              "    <tr>\n",
              "      <th>ASIAN</th>\n",
              "      <td>13185</td>\n",
              "      <td>40070000</td>\n",
              "    </tr>\n",
              "    <tr>\n",
              "      <th>BLACK</th>\n",
              "      <td>688522</td>\n",
              "      <td>4267914717</td>\n",
              "    </tr>\n",
              "    <tr>\n",
              "      <th>HISPANIC</th>\n",
              "      <td>486007</td>\n",
              "      <td>2386174488</td>\n",
              "    </tr>\n",
              "    <tr>\n",
              "      <th>WHITE</th>\n",
              "      <td>660120</td>\n",
              "      <td>1905107955</td>\n",
              "    </tr>\n",
              "  </tbody>\n",
              "</table>\n",
              "<p>94 rows × 2 columns</p>\n",
              "</div>"
            ],
            "text/plain": [
              "                  AGE        Bond\n",
              "Year RACE                        \n",
              "1980 WHITE       3721     2135000\n",
              "1988 BLACK        884      170000\n",
              "1993 BLACK       1484      140000\n",
              "1994 WHITE        456        8000\n",
              "1996 BLACK       6379    95934000\n",
              "...               ...         ...\n",
              "2021 AMER IND    7123    64610000\n",
              "     ASIAN      13185    40070000\n",
              "     BLACK     688522  4267914717\n",
              "     HISPANIC  486007  2386174488\n",
              "     WHITE     660120  1905107955\n",
              "\n",
              "[94 rows x 2 columns]"
            ]
          },
          "metadata": {
            "tags": []
          },
          "execution_count": 181
        }
      ]
    },
    {
      "cell_type": "code",
      "metadata": {
        "colab": {
          "base_uri": "https://localhost:8080/",
          "height": 1000
        },
        "id": "G5P-sBx-Rn5L",
        "outputId": "a055c3b4-a5db-4a63-f1ce-1aefa7a846f9"
      },
      "source": [
        "# Group by Gender and Year\n",
        "df_gender_year = df.groupby(['Year', 'GENDER']).sum()\n",
        "df_gender_year"
      ],
      "execution_count": 182,
      "outputs": [
        {
          "output_type": "execute_result",
          "data": {
            "text/html": [
              "<div>\n",
              "<style scoped>\n",
              "    .dataframe tbody tr th:only-of-type {\n",
              "        vertical-align: middle;\n",
              "    }\n",
              "\n",
              "    .dataframe tbody tr th {\n",
              "        vertical-align: top;\n",
              "    }\n",
              "\n",
              "    .dataframe thead th {\n",
              "        text-align: right;\n",
              "    }\n",
              "</style>\n",
              "<table border=\"1\" class=\"dataframe\">\n",
              "  <thead>\n",
              "    <tr style=\"text-align: right;\">\n",
              "      <th></th>\n",
              "      <th></th>\n",
              "      <th>AGE</th>\n",
              "      <th>Bond</th>\n",
              "    </tr>\n",
              "    <tr>\n",
              "      <th>Year</th>\n",
              "      <th>GENDER</th>\n",
              "      <th></th>\n",
              "      <th></th>\n",
              "    </tr>\n",
              "  </thead>\n",
              "  <tbody>\n",
              "    <tr>\n",
              "      <th>1980</th>\n",
              "      <th>M</th>\n",
              "      <td>3721</td>\n",
              "      <td>2135000</td>\n",
              "    </tr>\n",
              "    <tr>\n",
              "      <th>1988</th>\n",
              "      <th>M</th>\n",
              "      <td>884</td>\n",
              "      <td>170000</td>\n",
              "    </tr>\n",
              "    <tr>\n",
              "      <th>1993</th>\n",
              "      <th>M</th>\n",
              "      <td>1484</td>\n",
              "      <td>140000</td>\n",
              "    </tr>\n",
              "    <tr>\n",
              "      <th>1994</th>\n",
              "      <th>M</th>\n",
              "      <td>456</td>\n",
              "      <td>8000</td>\n",
              "    </tr>\n",
              "    <tr>\n",
              "      <th>1996</th>\n",
              "      <th>M</th>\n",
              "      <td>27491</td>\n",
              "      <td>114419050</td>\n",
              "    </tr>\n",
              "    <tr>\n",
              "      <th>1998</th>\n",
              "      <th>M</th>\n",
              "      <td>68</td>\n",
              "      <td>180000</td>\n",
              "    </tr>\n",
              "    <tr>\n",
              "      <th>1999</th>\n",
              "      <th>M</th>\n",
              "      <td>27191</td>\n",
              "      <td>14992500</td>\n",
              "    </tr>\n",
              "    <tr>\n",
              "      <th>2000</th>\n",
              "      <th>M</th>\n",
              "      <td>101180</td>\n",
              "      <td>341716800</td>\n",
              "    </tr>\n",
              "    <tr>\n",
              "      <th>2001</th>\n",
              "      <th>M</th>\n",
              "      <td>103429</td>\n",
              "      <td>187671450</td>\n",
              "    </tr>\n",
              "    <tr>\n",
              "      <th>2002</th>\n",
              "      <th>M</th>\n",
              "      <td>54122</td>\n",
              "      <td>177669650</td>\n",
              "    </tr>\n",
              "    <tr>\n",
              "      <th>2003</th>\n",
              "      <th>M</th>\n",
              "      <td>113219</td>\n",
              "      <td>224141250</td>\n",
              "    </tr>\n",
              "    <tr>\n",
              "      <th>2004</th>\n",
              "      <th>M</th>\n",
              "      <td>155395</td>\n",
              "      <td>795401700</td>\n",
              "    </tr>\n",
              "    <tr>\n",
              "      <th>2005</th>\n",
              "      <th>M</th>\n",
              "      <td>308657</td>\n",
              "      <td>702018700</td>\n",
              "    </tr>\n",
              "    <tr>\n",
              "      <th rowspan=\"2\" valign=\"top\">2006</th>\n",
              "      <th>F</th>\n",
              "      <td>12430</td>\n",
              "      <td>8970000</td>\n",
              "    </tr>\n",
              "    <tr>\n",
              "      <th>M</th>\n",
              "      <td>284708</td>\n",
              "      <td>2965300950</td>\n",
              "    </tr>\n",
              "    <tr>\n",
              "      <th rowspan=\"2\" valign=\"top\">2007</th>\n",
              "      <th>F</th>\n",
              "      <td>6108</td>\n",
              "      <td>865000</td>\n",
              "    </tr>\n",
              "    <tr>\n",
              "      <th>M</th>\n",
              "      <td>324114</td>\n",
              "      <td>1991121600</td>\n",
              "    </tr>\n",
              "    <tr>\n",
              "      <th rowspan=\"2\" valign=\"top\">2008</th>\n",
              "      <th>F</th>\n",
              "      <td>3564</td>\n",
              "      <td>2705400</td>\n",
              "    </tr>\n",
              "    <tr>\n",
              "      <th>M</th>\n",
              "      <td>473828</td>\n",
              "      <td>2890131058</td>\n",
              "    </tr>\n",
              "    <tr>\n",
              "      <th rowspan=\"2\" valign=\"top\">2009</th>\n",
              "      <th>F</th>\n",
              "      <td>6036</td>\n",
              "      <td>3260000</td>\n",
              "    </tr>\n",
              "    <tr>\n",
              "      <th>M</th>\n",
              "      <td>367672</td>\n",
              "      <td>1849062250</td>\n",
              "    </tr>\n",
              "    <tr>\n",
              "      <th>2010</th>\n",
              "      <th>M</th>\n",
              "      <td>661965</td>\n",
              "      <td>2576382450</td>\n",
              "    </tr>\n",
              "    <tr>\n",
              "      <th rowspan=\"2\" valign=\"top\">2011</th>\n",
              "      <th>F</th>\n",
              "      <td>8950</td>\n",
              "      <td>172500</td>\n",
              "    </tr>\n",
              "    <tr>\n",
              "      <th>M</th>\n",
              "      <td>894967</td>\n",
              "      <td>5281100477</td>\n",
              "    </tr>\n",
              "    <tr>\n",
              "      <th rowspan=\"2\" valign=\"top\">2012</th>\n",
              "      <th>F</th>\n",
              "      <td>26482</td>\n",
              "      <td>284647000</td>\n",
              "    </tr>\n",
              "    <tr>\n",
              "      <th>M</th>\n",
              "      <td>1411596</td>\n",
              "      <td>8877444950</td>\n",
              "    </tr>\n",
              "    <tr>\n",
              "      <th rowspan=\"2\" valign=\"top\">2013</th>\n",
              "      <th>F</th>\n",
              "      <td>9774</td>\n",
              "      <td>6541700</td>\n",
              "    </tr>\n",
              "    <tr>\n",
              "      <th>M</th>\n",
              "      <td>1171247</td>\n",
              "      <td>12457206928</td>\n",
              "    </tr>\n",
              "    <tr>\n",
              "      <th rowspan=\"2\" valign=\"top\">2014</th>\n",
              "      <th>F</th>\n",
              "      <td>37355</td>\n",
              "      <td>721126528</td>\n",
              "    </tr>\n",
              "    <tr>\n",
              "      <th>M</th>\n",
              "      <td>1930062</td>\n",
              "      <td>19177221714</td>\n",
              "    </tr>\n",
              "    <tr>\n",
              "      <th rowspan=\"2\" valign=\"top\">2015</th>\n",
              "      <th>F</th>\n",
              "      <td>272364</td>\n",
              "      <td>5106065365</td>\n",
              "    </tr>\n",
              "    <tr>\n",
              "      <th>M</th>\n",
              "      <td>4710382</td>\n",
              "      <td>73758973633</td>\n",
              "    </tr>\n",
              "    <tr>\n",
              "      <th rowspan=\"2\" valign=\"top\">2016</th>\n",
              "      <th>F</th>\n",
              "      <td>2195700</td>\n",
              "      <td>8601977350</td>\n",
              "    </tr>\n",
              "    <tr>\n",
              "      <th>M</th>\n",
              "      <td>24039691</td>\n",
              "      <td>160849421167</td>\n",
              "    </tr>\n",
              "    <tr>\n",
              "      <th rowspan=\"2\" valign=\"top\">2017</th>\n",
              "      <th>F</th>\n",
              "      <td>4242185</td>\n",
              "      <td>13790820312</td>\n",
              "    </tr>\n",
              "    <tr>\n",
              "      <th>M</th>\n",
              "      <td>35974960</td>\n",
              "      <td>264214480767</td>\n",
              "    </tr>\n",
              "    <tr>\n",
              "      <th rowspan=\"2\" valign=\"top\">2018</th>\n",
              "      <th>F</th>\n",
              "      <td>4321357</td>\n",
              "      <td>17050356812</td>\n",
              "    </tr>\n",
              "    <tr>\n",
              "      <th>M</th>\n",
              "      <td>37413693</td>\n",
              "      <td>304305232614</td>\n",
              "    </tr>\n",
              "    <tr>\n",
              "      <th rowspan=\"2\" valign=\"top\">2019</th>\n",
              "      <th>F</th>\n",
              "      <td>4117366</td>\n",
              "      <td>15440876658</td>\n",
              "    </tr>\n",
              "    <tr>\n",
              "      <th>M</th>\n",
              "      <td>34580786</td>\n",
              "      <td>262634112412</td>\n",
              "    </tr>\n",
              "    <tr>\n",
              "      <th rowspan=\"2\" valign=\"top\">2020</th>\n",
              "      <th>F</th>\n",
              "      <td>2207953</td>\n",
              "      <td>7278064150</td>\n",
              "    </tr>\n",
              "    <tr>\n",
              "      <th>M</th>\n",
              "      <td>20766229</td>\n",
              "      <td>122512449188</td>\n",
              "    </tr>\n",
              "    <tr>\n",
              "      <th rowspan=\"2\" valign=\"top\">2021</th>\n",
              "      <th>F</th>\n",
              "      <td>251820</td>\n",
              "      <td>490900390</td>\n",
              "    </tr>\n",
              "    <tr>\n",
              "      <th>M</th>\n",
              "      <td>1603137</td>\n",
              "      <td>8172976770</td>\n",
              "    </tr>\n",
              "  </tbody>\n",
              "</table>\n",
              "</div>"
            ],
            "text/plain": [
              "                  AGE          Bond\n",
              "Year GENDER                        \n",
              "1980 M           3721       2135000\n",
              "1988 M            884        170000\n",
              "1993 M           1484        140000\n",
              "1994 M            456          8000\n",
              "1996 M          27491     114419050\n",
              "1998 M             68        180000\n",
              "1999 M          27191      14992500\n",
              "2000 M         101180     341716800\n",
              "2001 M         103429     187671450\n",
              "2002 M          54122     177669650\n",
              "2003 M         113219     224141250\n",
              "2004 M         155395     795401700\n",
              "2005 M         308657     702018700\n",
              "2006 F          12430       8970000\n",
              "     M         284708    2965300950\n",
              "2007 F           6108        865000\n",
              "     M         324114    1991121600\n",
              "2008 F           3564       2705400\n",
              "     M         473828    2890131058\n",
              "2009 F           6036       3260000\n",
              "     M         367672    1849062250\n",
              "2010 M         661965    2576382450\n",
              "2011 F           8950        172500\n",
              "     M         894967    5281100477\n",
              "2012 F          26482     284647000\n",
              "     M        1411596    8877444950\n",
              "2013 F           9774       6541700\n",
              "     M        1171247   12457206928\n",
              "2014 F          37355     721126528\n",
              "     M        1930062   19177221714\n",
              "2015 F         272364    5106065365\n",
              "     M        4710382   73758973633\n",
              "2016 F        2195700    8601977350\n",
              "     M       24039691  160849421167\n",
              "2017 F        4242185   13790820312\n",
              "     M       35974960  264214480767\n",
              "2018 F        4321357   17050356812\n",
              "     M       37413693  304305232614\n",
              "2019 F        4117366   15440876658\n",
              "     M       34580786  262634112412\n",
              "2020 F        2207953    7278064150\n",
              "     M       20766229  122512449188\n",
              "2021 F         251820     490900390\n",
              "     M        1603137    8172976770"
            ]
          },
          "metadata": {
            "tags": []
          },
          "execution_count": 182
        }
      ]
    },
    {
      "cell_type": "code",
      "metadata": {
        "id": "wOC-1HfpRmI-"
      },
      "source": [
        "# Have not yet figured out decade with another variable of race or gender - this gets error\n",
        "# df_decade_race = df.groupby([(df.Year // 10 * 10), 'Race']).sum()\n",
        "# df_decade_race.head()"
      ],
      "execution_count": 184,
      "outputs": []
    },
    {
      "cell_type": "markdown",
      "metadata": {
        "id": "GH7F2do2ZKDY"
      },
      "source": [
        "## **EDA and Data Visualization with Matplotlib and Seaborn**"
      ]
    },
    {
      "cell_type": "code",
      "metadata": {
        "id": "nBipkr6-ZIz1"
      },
      "source": [
        "# Basic Plots with Matplotlib\n",
        "import matplotlib as mpl\n",
        "import matplotlib.pyplot as plt\n",
        "plt.style.use('classic')"
      ],
      "execution_count": 185,
      "outputs": []
    },
    {
      "cell_type": "code",
      "metadata": {
        "id": "JN49lsSvbI1Z",
        "colab": {
          "base_uri": "https://localhost:8080/",
          "height": 470
        },
        "outputId": "ac8c2327-07b3-4f76-8329-ef79422ffdbf"
      },
      "source": [
        "# Race Histogram\n",
        "plt.hist(df.RACE, bins=5, facecolor='navy', alpha=0.5)\n",
        "plt.title('Race Histogram for Pre-Trial Detainment')\n",
        "plt.xlabel('Race')\n",
        "plt.ylabel('Frequency')\n",
        "plt.show()"
      ],
      "execution_count": 186,
      "outputs": [
        {
          "output_type": "display_data",
          "data": {
            "image/png": "[encoded data removed]",
            "text/plain": [
              "<Figure size 640x480 with 1 Axes>"
            ]
          },
          "metadata": {
            "tags": []
          }
        }
      ]
    },
    {
      "cell_type": "code",
      "metadata": {
        "id": "7uiXwneLbUKQ",
        "colab": {
          "base_uri": "https://localhost:8080/",
          "height": 470
        },
        "outputId": "3c7da6c4-c03d-4bfb-9c10-c670f8164961"
      },
      "source": [
        "# Age Histogram\n",
        "plt.hist(df.AGE, bins=40, facecolor='green', alpha=0.5)\n",
        "plt.title('Age Histogram for Pre-Trial Detainment')\n",
        "plt.xlabel('Age')\n",
        "plt.ylabel('Frequency')\n",
        "plt.show()"
      ],
      "execution_count": 187,
      "outputs": [
        {
          "output_type": "display_data",
          "data": {
            "image/png": "[encoded data removed]",
            "text/plain": [
              "<Figure size 640x480 with 1 Axes>"
            ]
          },
          "metadata": {
            "tags": []
          }
        }
      ]
    },
    {
      "cell_type": "code",
      "metadata": {
        "id": "NKKki0HUv8DO",
        "colab": {
          "base_uri": "https://localhost:8080/",
          "height": 521
        },
        "outputId": "5b0acd23-412e-4fe9-b811-64e658de4ae1"
      },
      "source": [
        "# Boxplot\n",
        "boxplot = df.boxplot(column=['Bond' ], by = ['GENDER'])"
      ],
      "execution_count": 188,
      "outputs": [
        {
          "output_type": "stream",
          "text": [
            "/usr/local/lib/python3.7/dist-packages/numpy/core/_asarray.py:83: VisibleDeprecationWarning: Creating an ndarray from ragged nested sequences (which is a list-or-tuple of lists-or-tuples-or ndarrays with different lengths or shapes) is deprecated. If you meant to do this, you must specify 'dtype=object' when creating the ndarray\n",
            "  return array(a, dtype, copy=False, order=order)\n"
          ],
          "name": "stderr"
        },
        {
          "output_type": "display_data",
          "data": {
            "image/png": "[encoded data removed]",
            "text/plain": [
              "<Figure size 640x480 with 1 Axes>"
            ]
          },
          "metadata": {
            "tags": []
          }
        }
      ]
    },
    {
      "cell_type": "code",
      "metadata": {
        "id": "nEjOlF5g16Kb",
        "colab": {
          "base_uri": "https://localhost:8080/",
          "height": 521
        },
        "outputId": "f9ae6137-950e-4f87-dd84-21f46889b646"
      },
      "source": [
        "import seaborn as sns\n",
        "boxplot = df.boxplot(column=['Bond' ], by = ['GENDER'])\n",
        "plt.ylim(0, 500000)\n",
        "plt.xlabel(\"Gender\")\n",
        "plt.ylabel(\"Bond\")\n",
        "plt.title(\"Boxplot of Gender and Bond\")\n",
        "plt.show()"
      ],
      "execution_count": 189,
      "outputs": [
        {
          "output_type": "stream",
          "text": [
            "/usr/local/lib/python3.7/dist-packages/numpy/core/_asarray.py:83: VisibleDeprecationWarning: Creating an ndarray from ragged nested sequences (which is a list-or-tuple of lists-or-tuples-or ndarrays with different lengths or shapes) is deprecated. If you meant to do this, you must specify 'dtype=object' when creating the ndarray\n",
            "  return array(a, dtype, copy=False, order=order)\n"
          ],
          "name": "stderr"
        },
        {
          "output_type": "display_data",
          "data": {
            "image/png": "[encoded data removed]",
            "text/plain": [
              "<Figure size 640x480 with 1 Axes>"
            ]
          },
          "metadata": {
            "tags": []
          }
        }
      ]
    },
    {
      "cell_type": "code",
      "metadata": {
        "id": "CRWXWFmuw52e",
        "colab": {
          "base_uri": "https://localhost:8080/",
          "height": 538
        },
        "outputId": "a0f785f1-5cff-471e-edef-f3285745ecc2"
      },
      "source": [
        "# Boxplot\n",
        "boxplot = df.boxplot(column=['Bond' ], by = ['RACE'])\n",
        "plt.xlabel(\"Race\")\n",
        "plt.ylabel(\"Bond\")\n",
        "plt.title(\"Boxplot of Race and Bond\")"
      ],
      "execution_count": 190,
      "outputs": [
        {
          "output_type": "stream",
          "text": [
            "/usr/local/lib/python3.7/dist-packages/numpy/core/_asarray.py:83: VisibleDeprecationWarning: Creating an ndarray from ragged nested sequences (which is a list-or-tuple of lists-or-tuples-or ndarrays with different lengths or shapes) is deprecated. If you meant to do this, you must specify 'dtype=object' when creating the ndarray\n",
            "  return array(a, dtype, copy=False, order=order)\n"
          ],
          "name": "stderr"
        },
        {
          "output_type": "execute_result",
          "data": {
            "text/plain": [
              "Text(0.5, 1.0, 'Boxplot of Race and Bond')"
            ]
          },
          "metadata": {
            "tags": []
          },
          "execution_count": 190
        },
        {
          "output_type": "display_data",
          "data": {
            "image/png": "[encoded data removed]",
            "text/plain": [
              "<Figure size 640x480 with 1 Axes>"
            ]
          },
          "metadata": {
            "tags": []
          }
        }
      ]
    },
    {
      "cell_type": "code",
      "metadata": {
        "id": "tiW01Ymfy8rs",
        "colab": {
          "base_uri": "https://localhost:8080/",
          "height": 521
        },
        "outputId": "46cb5d72-0ea3-436b-97b9-7200cf764c6f"
      },
      "source": [
        "import seaborn as sns\n",
        "boxplot = df.boxplot(column=['Bond' ], by = ['RACE'])\n",
        "plt.ylim(0, 500000)\n",
        "plt.xlabel(\"Race\")\n",
        "plt.ylabel(\"Bond\")\n",
        "plt.title(\"Boxplot of Race and Bond\")\n",
        "plt.show()"
      ],
      "execution_count": 191,
      "outputs": [
        {
          "output_type": "stream",
          "text": [
            "/usr/local/lib/python3.7/dist-packages/numpy/core/_asarray.py:83: VisibleDeprecationWarning: Creating an ndarray from ragged nested sequences (which is a list-or-tuple of lists-or-tuples-or ndarrays with different lengths or shapes) is deprecated. If you meant to do this, you must specify 'dtype=object' when creating the ndarray\n",
            "  return array(a, dtype, copy=False, order=order)\n"
          ],
          "name": "stderr"
        },
        {
          "output_type": "display_data",
          "data": {
            "image/png": "[encoded data removed]",
            "text/plain": [
              "<Figure size 640x480 with 1 Axes>"
            ]
          },
          "metadata": {
            "tags": []
          }
        }
      ]
    },
    {
      "cell_type": "code",
      "metadata": {
        "id": "9upBtM8DxYQM",
        "colab": {
          "base_uri": "https://localhost:8080/",
          "height": 483
        },
        "outputId": "f825ad50-0982-4d06-b543-6a007a954d2d"
      },
      "source": [
        "#Importing required modules\n",
        "import seaborn as sns\n",
        "import pandas as ppd\n",
        " \n",
        " \n",
        "sns.boxplot(data = df , x = 'RACE' , y = 'Bond' , hue = 'GENDER' , notch = True )"
      ],
      "execution_count": 192,
      "outputs": [
        {
          "output_type": "execute_result",
          "data": {
            "text/plain": [
              "<matplotlib.axes._subplots.AxesSubplot at 0x7f8ed7829290>"
            ]
          },
          "metadata": {
            "tags": []
          },
          "execution_count": 192
        },
        {
          "output_type": "display_data",
          "data": {
            "image/png": "[encoded data removed]",
            "text/plain": [
              "<Figure size 640x480 with 1 Axes>"
            ]
          },
          "metadata": {
            "tags": []
          }
        }
      ]
    },
    {
      "cell_type": "code",
      "metadata": {
        "id": "vkAQ82lFycMd",
        "colab": {
          "base_uri": "https://localhost:8080/",
          "height": 463
        },
        "outputId": "0844ce1e-b8a6-47ff-a952-dc5cacc89793"
      },
      "source": [
        "sns.set_style(\"whitegrid\")\n",
        "sns.boxplot(data = df , x = 'RACE' , y = 'Bond' , hue = 'GENDER', notch = True, palette=\"Blues\")\n",
        "# place the legend outside the figure/plot\n",
        "plt.legend(bbox_to_anchor=(1,1),borderaxespad=0)\n",
        "plt.ylim(0, 500000)\n",
        "plt.show()"
      ],
      "execution_count": 193,
      "outputs": [
        {
          "output_type": "display_data",
          "data": {
            "image/png": "[encoded data removed]",
            "text/plain": [
              "<Figure size 640x480 with 1 Axes>"
            ]
          },
          "metadata": {
            "tags": []
          }
        }
      ]
    },
    {
      "cell_type": "markdown",
      "metadata": {
        "id": "uJUVkwwNcCXo"
      },
      "source": [
        "## **Simulated Nonparametric Inference of the Median, Mean and CI for Quantitative Variable - Bond Amount**"
      ]
    },
    {
      "cell_type": "code",
      "metadata": {
        "id": "hsk3G91PcFDy"
      },
      "source": [
        "# Multiple functions\n",
        "# grouped['C'].agg([np.sum, np.mean, np.std])"
      ],
      "execution_count": 194,
      "outputs": []
    },
    {
      "cell_type": "code",
      "metadata": {
        "id": "rJLbp6nRcNw6"
      },
      "source": [
        "#df.groupby('A').aggregate('C').mean()"
      ],
      "execution_count": null,
      "outputs": []
    },
    {
      "cell_type": "code",
      "metadata": {
        "id": "TLac9VKbcQ2E"
      },
      "source": [
        "#df.groupby('A').C.mean()"
      ],
      "execution_count": null,
      "outputs": []
    },
    {
      "cell_type": "code",
      "metadata": {
        "id": "xYv6xaHhcRM5"
      },
      "source": [
        "# Median Bootstrapping \n",
        "bootstrap = pd.DataFrame({'df': [df.sample(100, replace = True).Bond.median() for i in range (1000)]})"
      ],
      "execution_count": 195,
      "outputs": []
    },
    {
      "cell_type": "code",
      "metadata": {
        "id": "7oHYT1I0ZX5M",
        "colab": {
          "base_uri": "https://localhost:8080/",
          "height": 204
        },
        "outputId": "bdb459dc-d4cb-45c3-ba30-84aa1062e915"
      },
      "source": [
        "bootstrap.head()"
      ],
      "execution_count": 196,
      "outputs": [
        {
          "output_type": "execute_result",
          "data": {
            "text/html": [
              "<div>\n",
              "<style scoped>\n",
              "    .dataframe tbody tr th:only-of-type {\n",
              "        vertical-align: middle;\n",
              "    }\n",
              "\n",
              "    .dataframe tbody tr th {\n",
              "        vertical-align: top;\n",
              "    }\n",
              "\n",
              "    .dataframe thead th {\n",
              "        text-align: right;\n",
              "    }\n",
              "</style>\n",
              "<table border=\"1\" class=\"dataframe\">\n",
              "  <thead>\n",
              "    <tr style=\"text-align: right;\">\n",
              "      <th></th>\n",
              "      <th>df</th>\n",
              "    </tr>\n",
              "  </thead>\n",
              "  <tbody>\n",
              "    <tr>\n",
              "      <th>0</th>\n",
              "      <td>75000.0</td>\n",
              "    </tr>\n",
              "    <tr>\n",
              "      <th>1</th>\n",
              "      <td>100000.5</td>\n",
              "    </tr>\n",
              "    <tr>\n",
              "      <th>2</th>\n",
              "      <td>78250.0</td>\n",
              "    </tr>\n",
              "    <tr>\n",
              "      <th>3</th>\n",
              "      <td>92500.0</td>\n",
              "    </tr>\n",
              "    <tr>\n",
              "      <th>4</th>\n",
              "      <td>100025.0</td>\n",
              "    </tr>\n",
              "  </tbody>\n",
              "</table>\n",
              "</div>"
            ],
            "text/plain": [
              "         df\n",
              "0   75000.0\n",
              "1  100000.5\n",
              "2   78250.0\n",
              "3   92500.0\n",
              "4  100025.0"
            ]
          },
          "metadata": {
            "tags": []
          },
          "execution_count": 196
        }
      ]
    },
    {
      "cell_type": "code",
      "metadata": {
        "id": "OaDET8RbZjcE",
        "colab": {
          "base_uri": "https://localhost:8080/"
        },
        "outputId": "c498f072-5ba7-4f46-e125-5dc007f05617"
      },
      "source": [
        "bootstrap.median()"
      ],
      "execution_count": 197,
      "outputs": [
        {
          "output_type": "execute_result",
          "data": {
            "text/plain": [
              "df    100000.0\n",
              "dtype: float64"
            ]
          },
          "metadata": {
            "tags": []
          },
          "execution_count": 197
        }
      ]
    },
    {
      "cell_type": "code",
      "metadata": {
        "id": "0HiJ_Li2Ztjn",
        "colab": {
          "base_uri": "https://localhost:8080/"
        },
        "outputId": "8e1acfeb-0a00-40e5-f8c3-888b4e64d907"
      },
      "source": [
        "df.Bond.median()"
      ],
      "execution_count": 198,
      "outputs": [
        {
          "output_type": "execute_result",
          "data": {
            "text/plain": [
              "100000.0"
            ]
          },
          "metadata": {
            "tags": []
          },
          "execution_count": 198
        }
      ]
    },
    {
      "cell_type": "code",
      "metadata": {
        "id": "HtGU3Z_SZxPc"
      },
      "source": [
        "# Median Bootstrapping 2\n",
        "bootstrap2 = pd.DataFrame({'df': [df.sample(100, replace = True).Bond.median() for i in range (1000)]})"
      ],
      "execution_count": 199,
      "outputs": []
    },
    {
      "cell_type": "code",
      "metadata": {
        "id": "f1vM8vX8Z3XA",
        "colab": {
          "base_uri": "https://localhost:8080/"
        },
        "outputId": "2fcf3ee4-bec7-4275-dbd6-fcdd5959d45c"
      },
      "source": [
        "bootstrap2.median()"
      ],
      "execution_count": 200,
      "outputs": [
        {
          "output_type": "execute_result",
          "data": {
            "text/plain": [
              "df    100000.0\n",
              "dtype: float64"
            ]
          },
          "metadata": {
            "tags": []
          },
          "execution_count": 200
        }
      ]
    },
    {
      "cell_type": "code",
      "metadata": {
        "id": "1UYJLamhZ9eZ"
      },
      "source": [
        "# Median Bootstrapping 3\n",
        "bootstrap3 = pd.DataFrame({'df': [df.sample(1000, replace = True).Bond.median() for i in range (5000)]})"
      ],
      "execution_count": 201,
      "outputs": []
    },
    {
      "cell_type": "code",
      "metadata": {
        "id": "2PYJ6frRaWbh",
        "colab": {
          "base_uri": "https://localhost:8080/"
        },
        "outputId": "dcb63c7a-efbb-42fc-942b-677dabe3c3b9"
      },
      "source": [
        "bootstrap3.median()"
      ],
      "execution_count": 202,
      "outputs": [
        {
          "output_type": "execute_result",
          "data": {
            "text/plain": [
              "df    100000.0\n",
              "dtype: float64"
            ]
          },
          "metadata": {
            "tags": []
          },
          "execution_count": 202
        }
      ]
    },
    {
      "cell_type": "code",
      "metadata": {
        "id": "TBTdg7gIabK4",
        "colab": {
          "base_uri": "https://localhost:8080/"
        },
        "outputId": "feb98dae-bcdb-406a-e115-7207b8d1f8b3"
      },
      "source": [
        "df.Bond.mean()"
      ],
      "execution_count": 203,
      "outputs": [
        {
          "output_type": "execute_result",
          "data": {
            "text/plain": [
              "247738.79685189176"
            ]
          },
          "metadata": {
            "tags": []
          },
          "execution_count": 203
        }
      ]
    },
    {
      "cell_type": "code",
      "metadata": {
        "id": "KoLlNXufmdz8",
        "colab": {
          "base_uri": "https://localhost:8080/"
        },
        "outputId": "307ca8d0-29d7-41fa-9d84-cb2d5a96a905"
      },
      "source": [
        "# Mean Bootstrapping \n",
        "bootstrap4 = pd.DataFrame({'df': [df.sample(100, replace = True).Bond.mean() for i in range (5000)]})\n",
        "bootstrap4.mean()"
      ],
      "execution_count": 204,
      "outputs": [
        {
          "output_type": "execute_result",
          "data": {
            "text/plain": [
              "df    248216.619428\n",
              "dtype: float64"
            ]
          },
          "metadata": {
            "tags": []
          },
          "execution_count": 204
        }
      ]
    },
    {
      "cell_type": "code",
      "metadata": {
        "id": "DqlXdKDBmtZb",
        "colab": {
          "base_uri": "https://localhost:8080/"
        },
        "outputId": "327d033f-46ee-4fe8-f36d-9c4e3f1ea3c2"
      },
      "source": [
        "# Mean Bootstrapping 2\n",
        "bootstrap5 = pd.DataFrame({'df': [df.sample(100, replace = True).Bond.mean() for i in range (5000)]})\n",
        "bootstrap5.mean()"
      ],
      "execution_count": 205,
      "outputs": [
        {
          "output_type": "execute_result",
          "data": {
            "text/plain": [
              "df    247889.024666\n",
              "dtype: float64"
            ]
          },
          "metadata": {
            "tags": []
          },
          "execution_count": 205
        }
      ]
    },
    {
      "cell_type": "code",
      "metadata": {
        "id": "G0NsVc_TFlv0",
        "colab": {
          "base_uri": "https://localhost:8080/"
        },
        "outputId": "0874269d-7236-495b-bc26-1c07d31c46a3"
      },
      "source": [
        "# 95% Confidence Interval\n",
        "conf_int = np.percentile(bootstrap, [2.5, 97.5]) # The middle 95% interval\n",
        "conf_int\n",
        "\n"
      ],
      "execution_count": 206,
      "outputs": [
        {
          "output_type": "execute_result",
          "data": {
            "text/plain": [
              "array([ 72500., 149500.])"
            ]
          },
          "metadata": {
            "tags": []
          },
          "execution_count": 206
        }
      ]
    },
    {
      "cell_type": "code",
      "metadata": {
        "id": "N-Ab4SjWHfvi",
        "colab": {
          "base_uri": "https://localhost:8080/"
        },
        "outputId": "cc1f84d7-a776-47c3-badf-e1f11744cdaf"
      },
      "source": [
        "conf_int = np.percentile(bootstrap2, [2.5, 97.5]) # The middle 95% interval\n",
        "conf_int\n"
      ],
      "execution_count": 207,
      "outputs": [
        {
          "output_type": "execute_result",
          "data": {
            "text/plain": [
              "array([ 75000., 150000.])"
            ]
          },
          "metadata": {
            "tags": []
          },
          "execution_count": 207
        }
      ]
    },
    {
      "cell_type": "code",
      "metadata": {
        "id": "69Wa9An-HiQb",
        "colab": {
          "base_uri": "https://localhost:8080/"
        },
        "outputId": "b60e25b9-88cc-4df6-9d22-93d0c1dd659d"
      },
      "source": [
        "conf_int = np.percentile(bootstrap3, [2.5, 97.5]) # The middle 95% interval\n",
        "conf_int\n"
      ],
      "execution_count": 208,
      "outputs": [
        {
          "output_type": "execute_result",
          "data": {
            "text/plain": [
              "array([ 95000., 100050.])"
            ]
          },
          "metadata": {
            "tags": []
          },
          "execution_count": 208
        }
      ]
    },
    {
      "cell_type": "code",
      "metadata": {
        "id": "vqJg-hAJHkUO",
        "colab": {
          "base_uri": "https://localhost:8080/"
        },
        "outputId": "6e696940-0d65-4ade-80ad-506cce214ff4"
      },
      "source": [
        "conf_int = np.percentile(df.Bond.median(), [2.5, 97.5]) # The middle 95% interval\n",
        "conf_int\n"
      ],
      "execution_count": 209,
      "outputs": [
        {
          "output_type": "execute_result",
          "data": {
            "text/plain": [
              "array([100000., 100000.])"
            ]
          },
          "metadata": {
            "tags": []
          },
          "execution_count": 209
        }
      ]
    },
    {
      "cell_type": "code",
      "metadata": {
        "id": "LDHRKQVTHtzy",
        "colab": {
          "base_uri": "https://localhost:8080/"
        },
        "outputId": "31407caa-9800-4ed6-b7e8-7f459964cd2a"
      },
      "source": [
        "conf_int = np.percentile(bootstrap4, [2.5, 97.5]) # The middle 95% interval\n",
        "conf_int\n"
      ],
      "execution_count": 210,
      "outputs": [
        {
          "output_type": "execute_result",
          "data": {
            "text/plain": [
              "array([170534.25525, 349899.09875])"
            ]
          },
          "metadata": {
            "tags": []
          },
          "execution_count": 210
        }
      ]
    },
    {
      "cell_type": "code",
      "metadata": {
        "id": "sBkqbvI_HwzK",
        "colab": {
          "base_uri": "https://localhost:8080/"
        },
        "outputId": "bca91495-be08-4b06-e1a2-34be70b95655"
      },
      "source": [
        "conf_int = np.percentile(df.Bond.mean(), [2.5, 97.5]) # The middle 95% interval\n",
        "conf_int\n"
      ],
      "execution_count": 211,
      "outputs": [
        {
          "output_type": "execute_result",
          "data": {
            "text/plain": [
              "array([247738.79685189, 247738.79685189])"
            ]
          },
          "metadata": {
            "tags": []
          },
          "execution_count": 211
        }
      ]
    },
    {
      "cell_type": "code",
      "metadata": {
        "id": "gYI9aAMdIZPy",
        "colab": {
          "base_uri": "https://localhost:8080/"
        },
        "outputId": "94283200-d49f-4c49-b13f-8866b0b68db0"
      },
      "source": [
        "df_bootstrap = pd.DataFrame(bootstrap, index=[0])\n",
        "print(df_bootstrap)"
      ],
      "execution_count": 212,
      "outputs": [
        {
          "output_type": "stream",
          "text": [
            "        df\n",
            "0  75000.0\n"
          ],
          "name": "stdout"
        }
      ]
    },
    {
      "cell_type": "code",
      "metadata": {
        "id": "fs5MZ3pdH-B_",
        "colab": {
          "base_uri": "https://localhost:8080/",
          "height": 463
        },
        "outputId": "fdbdf35e-4124-407c-d715-922724e4f495"
      },
      "source": [
        "# Confidence Interval Graph for Dataset\n",
        "import seaborn as sns\n",
        "sns.kdeplot(df.Bond)\n",
        "for endpoint in conf_int:\n",
        "    plt.axvline(endpoint, color='red')"
      ],
      "execution_count": 213,
      "outputs": [
        {
          "output_type": "display_data",
          "data": {
            "image/png": "[encoded data removed]",
            "text/plain": [
              "<Figure size 640x480 with 1 Axes>"
            ]
          },
          "metadata": {
            "tags": []
          }
        }
      ]
    },
    {
      "cell_type": "code",
      "metadata": {
        "id": "KPQ8pfibRdqZ",
        "colab": {
          "base_uri": "https://localhost:8080/",
          "height": 463
        },
        "outputId": "3202a853-ad8a-499a-b9d9-200fa7250185"
      },
      "source": [
        "# Confidence Interval Graph for Bootstrap Sample\n",
        "import seaborn as sns\n",
        "sns.kdeplot(bootstrap3.df)\n",
        "for endpoint in conf_int:\n",
        "    plt.axvline(endpoint, color='red')"
      ],
      "execution_count": 215,
      "outputs": [
        {
          "output_type": "display_data",
          "data": {
            "image/png": "[encoded data removed]",
            "text/plain": [
              "<Figure size 640x480 with 1 Axes>"
            ]
          },
          "metadata": {
            "tags": []
          }
        }
      ]
    },
    {
      "cell_type": "code",
      "metadata": {
        "id": "dAHKAfUWKzJd",
        "colab": {
          "base_uri": "https://localhost:8080/"
        },
        "outputId": "e3923b46-02c5-42e4-9646-1d16a6a639be"
      },
      "source": [
        "median_boot_samples = []\n",
        "for i in range(1000):\n",
        "                df.Bond = np.random.choice(df.Bond, 5351849)\n",
        "                median_boot_samples.append(df.Bond.median())\n",
        "        \n",
        "np.median(median_boot_samples)"
      ],
      "execution_count": 217,
      "outputs": [
        {
          "output_type": "execute_result",
          "data": {
            "text/plain": [
              "100000.0"
            ]
          },
          "metadata": {
            "tags": []
          },
          "execution_count": 217
        }
      ]
    }
  ]
}