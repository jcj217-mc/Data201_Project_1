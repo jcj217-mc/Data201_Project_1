{
  "nbformat": 4,
  "nbformat_minor": 0,
  "metadata": {
    "colab": {
      "name": "jj_CT_bail_csv.ipynb",
      "provenance": [],
      "collapsed_sections": [],
      "toc_visible": true,
      "authorship_tag": "ABX9TyOh+JFAwz8m1+OcVh1PvuSI",
      "include_colab_link": true
    },
    "kernelspec": {
      "display_name": "Python 3",
      "name": "python3"
    },
    "language_info": {
      "name": "python"
    }
  },
  "cells": [
    {
      "cell_type": "markdown",
      "metadata": {
        "id": "view-in-github",
        "colab_type": "text"
      },
      "source": [
        "<a href=\"https://colab.research.google.com/github/jcj217-mc/Data201_Project_1/blob/main/jj_CT_bail_csv.ipynb\" target=\"_parent\"><img src=\"https://colab.research.google.com/assets/colab-badge.svg\" alt=\"Open In Colab\"/></a>"
      ]
    },
    {
      "cell_type": "code",
      "metadata": {
        "id": "lJh6zQg4VvRb"
      },
      "source": [
        "# import packages\n",
        "import pandas as pd\n",
        "import numpy as np\n",
        "import os \n",
        "import json"
      ],
      "execution_count": 64,
      "outputs": []
    },
    {
      "cell_type": "code",
      "metadata": {
        "id": "dWajxBmeV60M"
      },
      "source": [
        "# .json file data imported as pandas data frame\n",
        "# df = pd.read_json('https://data.ct.gov/resource/b674-jy6w.json')"
      ],
      "execution_count": 65,
      "outputs": []
    },
    {
      "cell_type": "code",
      "metadata": {
        "id": "e7EO6SQna5F4"
      },
      "source": [
        "# .csv file import\n",
        "# First, check  working directory\n",
        "# os.getcwd()\n",
        "# If need to change working directory\n",
        "# os.chdir(path)\n",
        "df = pd.read_csv(\"Accused_Pre-Trial_Inmates_in_Correctional_Facilities (1).csv\", index_col=False)"
      ],
      "execution_count": 66,
      "outputs": []
    },
    {
      "cell_type": "code",
      "metadata": {
        "id": "ONUl8HAooJJj"
      },
      "source": [
        "#Set CSV\n",
        "#df_set = pd.read_csv(\"setdf.csv\", index_col=False)"
      ],
      "execution_count": 67,
      "outputs": []
    },
    {
      "cell_type": "markdown",
      "metadata": {
        "id": "Dyua3yZ8ZPyo"
      },
      "source": [
        "**Data Wrangling**"
      ]
    },
    {
      "cell_type": "code",
      "metadata": {
        "colab": {
          "base_uri": "https://localhost:8080/",
          "height": 411
        },
        "id": "el19b9VvWEB2",
        "outputId": "ffc1fd8a-1912-4923-8102-77d8d72e7801"
      },
      "source": [
        "# Evaluating initial data \n",
        "df.head()"
      ],
      "execution_count": 68,
      "outputs": [
        {
          "output_type": "execute_result",
          "data": {
            "text/html": [
              "<div>\n",
              "<style scoped>\n",
              "    .dataframe tbody tr th:only-of-type {\n",
              "        vertical-align: middle;\n",
              "    }\n",
              "\n",
              "    .dataframe tbody tr th {\n",
              "        vertical-align: top;\n",
              "    }\n",
              "\n",
              "    .dataframe thead th {\n",
              "        text-align: right;\n",
              "    }\n",
              "</style>\n",
              "<table border=\"1\" class=\"dataframe\">\n",
              "  <thead>\n",
              "    <tr style=\"text-align: right;\">\n",
              "      <th></th>\n",
              "      <th>DOWNLOAD DATE</th>\n",
              "      <th>IDENTIFIER</th>\n",
              "      <th>LATEST ADMISSION DATE</th>\n",
              "      <th>RACE</th>\n",
              "      <th>GENDER</th>\n",
              "      <th>AGE</th>\n",
              "      <th>BOND AMOUNT</th>\n",
              "      <th>OFFENSE</th>\n",
              "      <th>FACILITY</th>\n",
              "      <th>DETAINER</th>\n",
              "    </tr>\n",
              "  </thead>\n",
              "  <tbody>\n",
              "    <tr>\n",
              "      <th>0</th>\n",
              "      <td>05/15/2020</td>\n",
              "      <td>ZZHCZBZZ</td>\n",
              "      <td>08/16/2018</td>\n",
              "      <td>BLACK</td>\n",
              "      <td>M</td>\n",
              "      <td>27</td>\n",
              "      <td>150000</td>\n",
              "      <td>CRIMINAL POSS OF PISTOL/REVOLVER      DF</td>\n",
              "      <td>NEW HAVEN CC</td>\n",
              "      <td>NONE</td>\n",
              "    </tr>\n",
              "    <tr>\n",
              "      <th>1</th>\n",
              "      <td>05/15/2020</td>\n",
              "      <td>ZZHZZRLR</td>\n",
              "      <td>03/28/2019</td>\n",
              "      <td>HISPANIC</td>\n",
              "      <td>M</td>\n",
              "      <td>41</td>\n",
              "      <td>30100</td>\n",
              "      <td>VIOLATION OF PROBATION OR COND DISCHG</td>\n",
              "      <td>CORRIGAN CI</td>\n",
              "      <td>NONE</td>\n",
              "    </tr>\n",
              "    <tr>\n",
              "      <th>2</th>\n",
              "      <td>05/15/2020</td>\n",
              "      <td>ZZSRJBEE</td>\n",
              "      <td>04/03/2020</td>\n",
              "      <td>HISPANIC</td>\n",
              "      <td>M</td>\n",
              "      <td>21</td>\n",
              "      <td>150000</td>\n",
              "      <td>CRIMINAL ATTEMPT</td>\n",
              "      <td>CORRIGAN CI</td>\n",
              "      <td>NONE</td>\n",
              "    </tr>\n",
              "    <tr>\n",
              "      <th>3</th>\n",
              "      <td>05/15/2020</td>\n",
              "      <td>ZZHBJLRZ</td>\n",
              "      <td>01/15/2020</td>\n",
              "      <td>WHITE</td>\n",
              "      <td>M</td>\n",
              "      <td>36</td>\n",
              "      <td>50500</td>\n",
              "      <td>CRIM VIOL OF PROTECTIVE ORDER         DF</td>\n",
              "      <td>BRIDGEPORT CC</td>\n",
              "      <td>NONE</td>\n",
              "    </tr>\n",
              "    <tr>\n",
              "      <th>4</th>\n",
              "      <td>05/15/2020</td>\n",
              "      <td>ZZSRRCHH</td>\n",
              "      <td>12/26/2018</td>\n",
              "      <td>HISPANIC</td>\n",
              "      <td>M</td>\n",
              "      <td>29</td>\n",
              "      <td>100000</td>\n",
              "      <td>CRIMINAL ATTEMPT</td>\n",
              "      <td>HARTFORD CC</td>\n",
              "      <td>NONE</td>\n",
              "    </tr>\n",
              "  </tbody>\n",
              "</table>\n",
              "</div>"
            ],
            "text/plain": [
              "  DOWNLOAD DATE  ... DETAINER                                        \n",
              "0    05/15/2020  ...                                             NONE\n",
              "1    05/15/2020  ...                                             NONE\n",
              "2    05/15/2020  ...                                             NONE\n",
              "3    05/15/2020  ...                                             NONE\n",
              "4    05/15/2020  ...                                             NONE\n",
              "\n",
              "[5 rows x 10 columns]"
            ]
          },
          "metadata": {
            "tags": []
          },
          "execution_count": 68
        }
      ]
    },
    {
      "cell_type": "code",
      "metadata": {
        "colab": {
          "base_uri": "https://localhost:8080/"
        },
        "id": "sRe_qwOj_4el",
        "outputId": "5e69bfcb-fc1f-4489-ab37-26386248a9c7"
      },
      "source": [
        "df.info()"
      ],
      "execution_count": 69,
      "outputs": [
        {
          "output_type": "stream",
          "text": [
            "<class 'pandas.core.frame.DataFrame'>\n",
            "RangeIndex: 5355017 entries, 0 to 5355016\n",
            "Data columns (total 10 columns):\n",
            " #   Column                                            Dtype \n",
            "---  ------                                            ----- \n",
            " 0   DOWNLOAD DATE                                     object\n",
            " 1   IDENTIFIER                                        object\n",
            " 2   LATEST ADMISSION DATE                             object\n",
            " 3   RACE                                              object\n",
            " 4   GENDER                                            object\n",
            " 5   AGE                                               int64 \n",
            " 6   BOND AMOUNT                                       int64 \n",
            " 7   OFFENSE                                           object\n",
            " 8   FACILITY                                          object\n",
            " 9   DETAINER                                          object\n",
            "dtypes: int64(2), object(8)\n",
            "memory usage: 408.6+ MB\n"
          ],
          "name": "stdout"
        }
      ]
    },
    {
      "cell_type": "code",
      "metadata": {
        "colab": {
          "base_uri": "https://localhost:8080/",
          "height": 297
        },
        "id": "AG-Ha8_a_8pe",
        "outputId": "21141d1f-81f1-4aa5-b491-4a3d8e5e55e6"
      },
      "source": [
        "df.describe()"
      ],
      "execution_count": 70,
      "outputs": [
        {
          "output_type": "execute_result",
          "data": {
            "text/html": [
              "<div>\n",
              "<style scoped>\n",
              "    .dataframe tbody tr th:only-of-type {\n",
              "        vertical-align: middle;\n",
              "    }\n",
              "\n",
              "    .dataframe tbody tr th {\n",
              "        vertical-align: top;\n",
              "    }\n",
              "\n",
              "    .dataframe thead th {\n",
              "        text-align: right;\n",
              "    }\n",
              "</style>\n",
              "<table border=\"1\" class=\"dataframe\">\n",
              "  <thead>\n",
              "    <tr style=\"text-align: right;\">\n",
              "      <th></th>\n",
              "      <th>AGE</th>\n",
              "      <th>BOND AMOUNT</th>\n",
              "    </tr>\n",
              "  </thead>\n",
              "  <tbody>\n",
              "    <tr>\n",
              "      <th>count</th>\n",
              "      <td>5.355017e+06</td>\n",
              "      <td>5.355017e+06</td>\n",
              "    </tr>\n",
              "    <tr>\n",
              "      <th>mean</th>\n",
              "      <td>3.461006e+01</td>\n",
              "      <td>2.477937e+05</td>\n",
              "    </tr>\n",
              "    <tr>\n",
              "      <th>std</th>\n",
              "      <td>1.139501e+01</td>\n",
              "      <td>4.503512e+05</td>\n",
              "    </tr>\n",
              "    <tr>\n",
              "      <th>min</th>\n",
              "      <td>1.500000e+01</td>\n",
              "      <td>1.000000e+00</td>\n",
              "    </tr>\n",
              "    <tr>\n",
              "      <th>25%</th>\n",
              "      <td>2.600000e+01</td>\n",
              "      <td>3.350000e+04</td>\n",
              "    </tr>\n",
              "    <tr>\n",
              "      <th>50%</th>\n",
              "      <td>3.300000e+01</td>\n",
              "      <td>1.000000e+05</td>\n",
              "    </tr>\n",
              "    <tr>\n",
              "      <th>75%</th>\n",
              "      <td>4.200000e+01</td>\n",
              "      <td>2.500000e+05</td>\n",
              "    </tr>\n",
              "    <tr>\n",
              "      <th>max</th>\n",
              "      <td>8.700000e+01</td>\n",
              "      <td>9.200000e+06</td>\n",
              "    </tr>\n",
              "  </tbody>\n",
              "</table>\n",
              "</div>"
            ],
            "text/plain": [
              "                AGE   BOND AMOUNT\n",
              "count  5.355017e+06  5.355017e+06\n",
              "mean   3.461006e+01  2.477937e+05\n",
              "std    1.139501e+01  4.503512e+05\n",
              "min    1.500000e+01  1.000000e+00\n",
              "25%    2.600000e+01  3.350000e+04\n",
              "50%    3.300000e+01  1.000000e+05\n",
              "75%    4.200000e+01  2.500000e+05\n",
              "max    8.700000e+01  9.200000e+06"
            ]
          },
          "metadata": {
            "tags": []
          },
          "execution_count": 70
        }
      ]
    },
    {
      "cell_type": "code",
      "metadata": {
        "colab": {
          "base_uri": "https://localhost:8080/"
        },
        "id": "xLb5cUGVWqBt",
        "outputId": "f4ef5bbd-9506-4151-d069-99ca425f2f9d"
      },
      "source": [
        "#Checking Shape\n",
        "print(df.shape)"
      ],
      "execution_count": 71,
      "outputs": [
        {
          "output_type": "stream",
          "text": [
            "(5355017, 10)\n"
          ],
          "name": "stdout"
        }
      ]
    },
    {
      "cell_type": "code",
      "metadata": {
        "colab": {
          "base_uri": "https://localhost:8080/"
        },
        "id": "Ehd1am1TmA15",
        "outputId": "e01617ed-6af6-450f-cc00-e122a59468d2"
      },
      "source": [
        "#Check DataFrame type\n",
        "type(df)"
      ],
      "execution_count": 72,
      "outputs": [
        {
          "output_type": "execute_result",
          "data": {
            "text/plain": [
              "pandas.core.frame.DataFrame"
            ]
          },
          "metadata": {
            "tags": []
          },
          "execution_count": 72
        }
      ]
    },
    {
      "cell_type": "markdown",
      "metadata": {
        "id": "kRq9uMXEWG1Z"
      },
      "source": [
        "**Clean/Arrange Data**"
      ]
    },
    {
      "cell_type": "code",
      "metadata": {
        "id": "rOcCCYUmWYo9",
        "colab": {
          "base_uri": "https://localhost:8080/",
          "height": 377
        },
        "outputId": "16325d8a-f724-4cea-b54b-d5e0d3ecffb6"
      },
      "source": [
        "# change column names\n",
        "df = df.rename(columns = {\"DOWNLOAD DATE\": \"Download_Date\", \"LATEST ADMISSION DATE\": \"Admission_Date\", \"BOND AMOUNT\":\"Bond\"})\n",
        "df.head()"
      ],
      "execution_count": 73,
      "outputs": [
        {
          "output_type": "execute_result",
          "data": {
            "text/html": [
              "<div>\n",
              "<style scoped>\n",
              "    .dataframe tbody tr th:only-of-type {\n",
              "        vertical-align: middle;\n",
              "    }\n",
              "\n",
              "    .dataframe tbody tr th {\n",
              "        vertical-align: top;\n",
              "    }\n",
              "\n",
              "    .dataframe thead th {\n",
              "        text-align: right;\n",
              "    }\n",
              "</style>\n",
              "<table border=\"1\" class=\"dataframe\">\n",
              "  <thead>\n",
              "    <tr style=\"text-align: right;\">\n",
              "      <th></th>\n",
              "      <th>Download_Date</th>\n",
              "      <th>IDENTIFIER</th>\n",
              "      <th>Admission_Date</th>\n",
              "      <th>RACE</th>\n",
              "      <th>GENDER</th>\n",
              "      <th>AGE</th>\n",
              "      <th>Bond</th>\n",
              "      <th>OFFENSE</th>\n",
              "      <th>FACILITY</th>\n",
              "      <th>DETAINER</th>\n",
              "    </tr>\n",
              "  </thead>\n",
              "  <tbody>\n",
              "    <tr>\n",
              "      <th>0</th>\n",
              "      <td>05/15/2020</td>\n",
              "      <td>ZZHCZBZZ</td>\n",
              "      <td>08/16/2018</td>\n",
              "      <td>BLACK</td>\n",
              "      <td>M</td>\n",
              "      <td>27</td>\n",
              "      <td>150000</td>\n",
              "      <td>CRIMINAL POSS OF PISTOL/REVOLVER      DF</td>\n",
              "      <td>NEW HAVEN CC</td>\n",
              "      <td>NONE</td>\n",
              "    </tr>\n",
              "    <tr>\n",
              "      <th>1</th>\n",
              "      <td>05/15/2020</td>\n",
              "      <td>ZZHZZRLR</td>\n",
              "      <td>03/28/2019</td>\n",
              "      <td>HISPANIC</td>\n",
              "      <td>M</td>\n",
              "      <td>41</td>\n",
              "      <td>30100</td>\n",
              "      <td>VIOLATION OF PROBATION OR COND DISCHG</td>\n",
              "      <td>CORRIGAN CI</td>\n",
              "      <td>NONE</td>\n",
              "    </tr>\n",
              "    <tr>\n",
              "      <th>2</th>\n",
              "      <td>05/15/2020</td>\n",
              "      <td>ZZSRJBEE</td>\n",
              "      <td>04/03/2020</td>\n",
              "      <td>HISPANIC</td>\n",
              "      <td>M</td>\n",
              "      <td>21</td>\n",
              "      <td>150000</td>\n",
              "      <td>CRIMINAL ATTEMPT</td>\n",
              "      <td>CORRIGAN CI</td>\n",
              "      <td>NONE</td>\n",
              "    </tr>\n",
              "    <tr>\n",
              "      <th>3</th>\n",
              "      <td>05/15/2020</td>\n",
              "      <td>ZZHBJLRZ</td>\n",
              "      <td>01/15/2020</td>\n",
              "      <td>WHITE</td>\n",
              "      <td>M</td>\n",
              "      <td>36</td>\n",
              "      <td>50500</td>\n",
              "      <td>CRIM VIOL OF PROTECTIVE ORDER         DF</td>\n",
              "      <td>BRIDGEPORT CC</td>\n",
              "      <td>NONE</td>\n",
              "    </tr>\n",
              "    <tr>\n",
              "      <th>4</th>\n",
              "      <td>05/15/2020</td>\n",
              "      <td>ZZSRRCHH</td>\n",
              "      <td>12/26/2018</td>\n",
              "      <td>HISPANIC</td>\n",
              "      <td>M</td>\n",
              "      <td>29</td>\n",
              "      <td>100000</td>\n",
              "      <td>CRIMINAL ATTEMPT</td>\n",
              "      <td>HARTFORD CC</td>\n",
              "      <td>NONE</td>\n",
              "    </tr>\n",
              "  </tbody>\n",
              "</table>\n",
              "</div>"
            ],
            "text/plain": [
              "  Download_Date  ... DETAINER                                        \n",
              "0    05/15/2020  ...                                             NONE\n",
              "1    05/15/2020  ...                                             NONE\n",
              "2    05/15/2020  ...                                             NONE\n",
              "3    05/15/2020  ...                                             NONE\n",
              "4    05/15/2020  ...                                             NONE\n",
              "\n",
              "[5 rows x 10 columns]"
            ]
          },
          "metadata": {
            "tags": []
          },
          "execution_count": 73
        }
      ]
    },
    {
      "cell_type": "code",
      "metadata": {
        "colab": {
          "base_uri": "https://localhost:8080/",
          "height": 357
        },
        "id": "3rnIekF0U146",
        "outputId": "f614688b-0b60-41b9-dbcf-45e92a8eaae8"
      },
      "source": [
        "# Drop Columns\n",
        "df.drop(df.columns[[0]], axis=1, inplace=True)\n",
        "df.head()"
      ],
      "execution_count": 74,
      "outputs": [
        {
          "output_type": "execute_result",
          "data": {
            "text/html": [
              "<div>\n",
              "<style scoped>\n",
              "    .dataframe tbody tr th:only-of-type {\n",
              "        vertical-align: middle;\n",
              "    }\n",
              "\n",
              "    .dataframe tbody tr th {\n",
              "        vertical-align: top;\n",
              "    }\n",
              "\n",
              "    .dataframe thead th {\n",
              "        text-align: right;\n",
              "    }\n",
              "</style>\n",
              "<table border=\"1\" class=\"dataframe\">\n",
              "  <thead>\n",
              "    <tr style=\"text-align: right;\">\n",
              "      <th></th>\n",
              "      <th>IDENTIFIER</th>\n",
              "      <th>Admission_Date</th>\n",
              "      <th>RACE</th>\n",
              "      <th>GENDER</th>\n",
              "      <th>AGE</th>\n",
              "      <th>Bond</th>\n",
              "      <th>OFFENSE</th>\n",
              "      <th>FACILITY</th>\n",
              "      <th>DETAINER</th>\n",
              "    </tr>\n",
              "  </thead>\n",
              "  <tbody>\n",
              "    <tr>\n",
              "      <th>0</th>\n",
              "      <td>ZZHCZBZZ</td>\n",
              "      <td>08/16/2018</td>\n",
              "      <td>BLACK</td>\n",
              "      <td>M</td>\n",
              "      <td>27</td>\n",
              "      <td>150000</td>\n",
              "      <td>CRIMINAL POSS OF PISTOL/REVOLVER      DF</td>\n",
              "      <td>NEW HAVEN CC</td>\n",
              "      <td>NONE</td>\n",
              "    </tr>\n",
              "    <tr>\n",
              "      <th>1</th>\n",
              "      <td>ZZHZZRLR</td>\n",
              "      <td>03/28/2019</td>\n",
              "      <td>HISPANIC</td>\n",
              "      <td>M</td>\n",
              "      <td>41</td>\n",
              "      <td>30100</td>\n",
              "      <td>VIOLATION OF PROBATION OR COND DISCHG</td>\n",
              "      <td>CORRIGAN CI</td>\n",
              "      <td>NONE</td>\n",
              "    </tr>\n",
              "    <tr>\n",
              "      <th>2</th>\n",
              "      <td>ZZSRJBEE</td>\n",
              "      <td>04/03/2020</td>\n",
              "      <td>HISPANIC</td>\n",
              "      <td>M</td>\n",
              "      <td>21</td>\n",
              "      <td>150000</td>\n",
              "      <td>CRIMINAL ATTEMPT</td>\n",
              "      <td>CORRIGAN CI</td>\n",
              "      <td>NONE</td>\n",
              "    </tr>\n",
              "    <tr>\n",
              "      <th>3</th>\n",
              "      <td>ZZHBJLRZ</td>\n",
              "      <td>01/15/2020</td>\n",
              "      <td>WHITE</td>\n",
              "      <td>M</td>\n",
              "      <td>36</td>\n",
              "      <td>50500</td>\n",
              "      <td>CRIM VIOL OF PROTECTIVE ORDER         DF</td>\n",
              "      <td>BRIDGEPORT CC</td>\n",
              "      <td>NONE</td>\n",
              "    </tr>\n",
              "    <tr>\n",
              "      <th>4</th>\n",
              "      <td>ZZSRRCHH</td>\n",
              "      <td>12/26/2018</td>\n",
              "      <td>HISPANIC</td>\n",
              "      <td>M</td>\n",
              "      <td>29</td>\n",
              "      <td>100000</td>\n",
              "      <td>CRIMINAL ATTEMPT</td>\n",
              "      <td>HARTFORD CC</td>\n",
              "      <td>NONE</td>\n",
              "    </tr>\n",
              "  </tbody>\n",
              "</table>\n",
              "</div>"
            ],
            "text/plain": [
              "  IDENTIFIER  ... DETAINER                                        \n",
              "0   ZZHCZBZZ  ...                                             NONE\n",
              "1   ZZHZZRLR  ...                                             NONE\n",
              "2   ZZSRJBEE  ...                                             NONE\n",
              "3   ZZHBJLRZ  ...                                             NONE\n",
              "4   ZZSRRCHH  ...                                             NONE\n",
              "\n",
              "[5 rows x 9 columns]"
            ]
          },
          "metadata": {
            "tags": []
          },
          "execution_count": 74
        }
      ]
    },
    {
      "cell_type": "code",
      "metadata": {
        "colab": {
          "base_uri": "https://localhost:8080/",
          "height": 289
        },
        "id": "gkGZAkFxVPPv",
        "outputId": "8ec5ce51-59cc-41ef-be12-26a0808f6d44"
      },
      "source": [
        "# Drop Columns\n",
        "df.drop(df.columns[[-1]], axis=1, inplace=True)\n",
        "df.head()"
      ],
      "execution_count": 75,
      "outputs": [
        {
          "output_type": "execute_result",
          "data": {
            "text/html": [
              "<div>\n",
              "<style scoped>\n",
              "    .dataframe tbody tr th:only-of-type {\n",
              "        vertical-align: middle;\n",
              "    }\n",
              "\n",
              "    .dataframe tbody tr th {\n",
              "        vertical-align: top;\n",
              "    }\n",
              "\n",
              "    .dataframe thead th {\n",
              "        text-align: right;\n",
              "    }\n",
              "</style>\n",
              "<table border=\"1\" class=\"dataframe\">\n",
              "  <thead>\n",
              "    <tr style=\"text-align: right;\">\n",
              "      <th></th>\n",
              "      <th>IDENTIFIER</th>\n",
              "      <th>Admission_Date</th>\n",
              "      <th>RACE</th>\n",
              "      <th>GENDER</th>\n",
              "      <th>AGE</th>\n",
              "      <th>Bond</th>\n",
              "      <th>OFFENSE</th>\n",
              "      <th>FACILITY</th>\n",
              "    </tr>\n",
              "  </thead>\n",
              "  <tbody>\n",
              "    <tr>\n",
              "      <th>0</th>\n",
              "      <td>ZZHCZBZZ</td>\n",
              "      <td>08/16/2018</td>\n",
              "      <td>BLACK</td>\n",
              "      <td>M</td>\n",
              "      <td>27</td>\n",
              "      <td>150000</td>\n",
              "      <td>CRIMINAL POSS OF PISTOL/REVOLVER      DF</td>\n",
              "      <td>NEW HAVEN CC</td>\n",
              "    </tr>\n",
              "    <tr>\n",
              "      <th>1</th>\n",
              "      <td>ZZHZZRLR</td>\n",
              "      <td>03/28/2019</td>\n",
              "      <td>HISPANIC</td>\n",
              "      <td>M</td>\n",
              "      <td>41</td>\n",
              "      <td>30100</td>\n",
              "      <td>VIOLATION OF PROBATION OR COND DISCHG</td>\n",
              "      <td>CORRIGAN CI</td>\n",
              "    </tr>\n",
              "    <tr>\n",
              "      <th>2</th>\n",
              "      <td>ZZSRJBEE</td>\n",
              "      <td>04/03/2020</td>\n",
              "      <td>HISPANIC</td>\n",
              "      <td>M</td>\n",
              "      <td>21</td>\n",
              "      <td>150000</td>\n",
              "      <td>CRIMINAL ATTEMPT</td>\n",
              "      <td>CORRIGAN CI</td>\n",
              "    </tr>\n",
              "    <tr>\n",
              "      <th>3</th>\n",
              "      <td>ZZHBJLRZ</td>\n",
              "      <td>01/15/2020</td>\n",
              "      <td>WHITE</td>\n",
              "      <td>M</td>\n",
              "      <td>36</td>\n",
              "      <td>50500</td>\n",
              "      <td>CRIM VIOL OF PROTECTIVE ORDER         DF</td>\n",
              "      <td>BRIDGEPORT CC</td>\n",
              "    </tr>\n",
              "    <tr>\n",
              "      <th>4</th>\n",
              "      <td>ZZSRRCHH</td>\n",
              "      <td>12/26/2018</td>\n",
              "      <td>HISPANIC</td>\n",
              "      <td>M</td>\n",
              "      <td>29</td>\n",
              "      <td>100000</td>\n",
              "      <td>CRIMINAL ATTEMPT</td>\n",
              "      <td>HARTFORD CC</td>\n",
              "    </tr>\n",
              "  </tbody>\n",
              "</table>\n",
              "</div>"
            ],
            "text/plain": [
              "  IDENTIFIER  ...       FACILITY\n",
              "0   ZZHCZBZZ  ...   NEW HAVEN CC\n",
              "1   ZZHZZRLR  ...    CORRIGAN CI\n",
              "2   ZZSRJBEE  ...    CORRIGAN CI\n",
              "3   ZZHBJLRZ  ...  BRIDGEPORT CC\n",
              "4   ZZSRRCHH  ...    HARTFORD CC\n",
              "\n",
              "[5 rows x 8 columns]"
            ]
          },
          "metadata": {
            "tags": []
          },
          "execution_count": 75
        }
      ]
    },
    {
      "cell_type": "code",
      "metadata": {
        "colab": {
          "base_uri": "https://localhost:8080/",
          "height": 204
        },
        "id": "AYQgbzRFVlew",
        "outputId": "602888af-02bb-4945-d26f-74033fd8fab2"
      },
      "source": [
        "# Drop Columns\n",
        "df.drop(df.columns[[-1]], axis=1, inplace=True)\n",
        "df.head()"
      ],
      "execution_count": 76,
      "outputs": [
        {
          "output_type": "execute_result",
          "data": {
            "text/html": [
              "<div>\n",
              "<style scoped>\n",
              "    .dataframe tbody tr th:only-of-type {\n",
              "        vertical-align: middle;\n",
              "    }\n",
              "\n",
              "    .dataframe tbody tr th {\n",
              "        vertical-align: top;\n",
              "    }\n",
              "\n",
              "    .dataframe thead th {\n",
              "        text-align: right;\n",
              "    }\n",
              "</style>\n",
              "<table border=\"1\" class=\"dataframe\">\n",
              "  <thead>\n",
              "    <tr style=\"text-align: right;\">\n",
              "      <th></th>\n",
              "      <th>IDENTIFIER</th>\n",
              "      <th>Admission_Date</th>\n",
              "      <th>RACE</th>\n",
              "      <th>GENDER</th>\n",
              "      <th>AGE</th>\n",
              "      <th>Bond</th>\n",
              "      <th>OFFENSE</th>\n",
              "    </tr>\n",
              "  </thead>\n",
              "  <tbody>\n",
              "    <tr>\n",
              "      <th>0</th>\n",
              "      <td>ZZHCZBZZ</td>\n",
              "      <td>08/16/2018</td>\n",
              "      <td>BLACK</td>\n",
              "      <td>M</td>\n",
              "      <td>27</td>\n",
              "      <td>150000</td>\n",
              "      <td>CRIMINAL POSS OF PISTOL/REVOLVER      DF</td>\n",
              "    </tr>\n",
              "    <tr>\n",
              "      <th>1</th>\n",
              "      <td>ZZHZZRLR</td>\n",
              "      <td>03/28/2019</td>\n",
              "      <td>HISPANIC</td>\n",
              "      <td>M</td>\n",
              "      <td>41</td>\n",
              "      <td>30100</td>\n",
              "      <td>VIOLATION OF PROBATION OR COND DISCHG</td>\n",
              "    </tr>\n",
              "    <tr>\n",
              "      <th>2</th>\n",
              "      <td>ZZSRJBEE</td>\n",
              "      <td>04/03/2020</td>\n",
              "      <td>HISPANIC</td>\n",
              "      <td>M</td>\n",
              "      <td>21</td>\n",
              "      <td>150000</td>\n",
              "      <td>CRIMINAL ATTEMPT</td>\n",
              "    </tr>\n",
              "    <tr>\n",
              "      <th>3</th>\n",
              "      <td>ZZHBJLRZ</td>\n",
              "      <td>01/15/2020</td>\n",
              "      <td>WHITE</td>\n",
              "      <td>M</td>\n",
              "      <td>36</td>\n",
              "      <td>50500</td>\n",
              "      <td>CRIM VIOL OF PROTECTIVE ORDER         DF</td>\n",
              "    </tr>\n",
              "    <tr>\n",
              "      <th>4</th>\n",
              "      <td>ZZSRRCHH</td>\n",
              "      <td>12/26/2018</td>\n",
              "      <td>HISPANIC</td>\n",
              "      <td>M</td>\n",
              "      <td>29</td>\n",
              "      <td>100000</td>\n",
              "      <td>CRIMINAL ATTEMPT</td>\n",
              "    </tr>\n",
              "  </tbody>\n",
              "</table>\n",
              "</div>"
            ],
            "text/plain": [
              "  IDENTIFIER Admission_Date  ...    Bond                                   OFFENSE\n",
              "0   ZZHCZBZZ     08/16/2018  ...  150000  CRIMINAL POSS OF PISTOL/REVOLVER      DF\n",
              "1   ZZHZZRLR     03/28/2019  ...   30100     VIOLATION OF PROBATION OR COND DISCHG\n",
              "2   ZZSRJBEE     04/03/2020  ...  150000                          CRIMINAL ATTEMPT\n",
              "3   ZZHBJLRZ     01/15/2020  ...   50500  CRIM VIOL OF PROTECTIVE ORDER         DF\n",
              "4   ZZSRRCHH     12/26/2018  ...  100000                          CRIMINAL ATTEMPT\n",
              "\n",
              "[5 rows x 7 columns]"
            ]
          },
          "metadata": {
            "tags": []
          },
          "execution_count": 76
        }
      ]
    },
    {
      "cell_type": "code",
      "metadata": {
        "colab": {
          "base_uri": "https://localhost:8080/",
          "height": 204
        },
        "id": "76exeuiwVpgu",
        "outputId": "a9ebc300-108a-4d60-8e7a-aa95995b3b39"
      },
      "source": [
        "# Drop Columns\n",
        "df.drop(df.columns[[0]], axis=1, inplace=True)\n",
        "df.head()"
      ],
      "execution_count": 77,
      "outputs": [
        {
          "output_type": "execute_result",
          "data": {
            "text/html": [
              "<div>\n",
              "<style scoped>\n",
              "    .dataframe tbody tr th:only-of-type {\n",
              "        vertical-align: middle;\n",
              "    }\n",
              "\n",
              "    .dataframe tbody tr th {\n",
              "        vertical-align: top;\n",
              "    }\n",
              "\n",
              "    .dataframe thead th {\n",
              "        text-align: right;\n",
              "    }\n",
              "</style>\n",
              "<table border=\"1\" class=\"dataframe\">\n",
              "  <thead>\n",
              "    <tr style=\"text-align: right;\">\n",
              "      <th></th>\n",
              "      <th>Admission_Date</th>\n",
              "      <th>RACE</th>\n",
              "      <th>GENDER</th>\n",
              "      <th>AGE</th>\n",
              "      <th>Bond</th>\n",
              "      <th>OFFENSE</th>\n",
              "    </tr>\n",
              "  </thead>\n",
              "  <tbody>\n",
              "    <tr>\n",
              "      <th>0</th>\n",
              "      <td>08/16/2018</td>\n",
              "      <td>BLACK</td>\n",
              "      <td>M</td>\n",
              "      <td>27</td>\n",
              "      <td>150000</td>\n",
              "      <td>CRIMINAL POSS OF PISTOL/REVOLVER      DF</td>\n",
              "    </tr>\n",
              "    <tr>\n",
              "      <th>1</th>\n",
              "      <td>03/28/2019</td>\n",
              "      <td>HISPANIC</td>\n",
              "      <td>M</td>\n",
              "      <td>41</td>\n",
              "      <td>30100</td>\n",
              "      <td>VIOLATION OF PROBATION OR COND DISCHG</td>\n",
              "    </tr>\n",
              "    <tr>\n",
              "      <th>2</th>\n",
              "      <td>04/03/2020</td>\n",
              "      <td>HISPANIC</td>\n",
              "      <td>M</td>\n",
              "      <td>21</td>\n",
              "      <td>150000</td>\n",
              "      <td>CRIMINAL ATTEMPT</td>\n",
              "    </tr>\n",
              "    <tr>\n",
              "      <th>3</th>\n",
              "      <td>01/15/2020</td>\n",
              "      <td>WHITE</td>\n",
              "      <td>M</td>\n",
              "      <td>36</td>\n",
              "      <td>50500</td>\n",
              "      <td>CRIM VIOL OF PROTECTIVE ORDER         DF</td>\n",
              "    </tr>\n",
              "    <tr>\n",
              "      <th>4</th>\n",
              "      <td>12/26/2018</td>\n",
              "      <td>HISPANIC</td>\n",
              "      <td>M</td>\n",
              "      <td>29</td>\n",
              "      <td>100000</td>\n",
              "      <td>CRIMINAL ATTEMPT</td>\n",
              "    </tr>\n",
              "  </tbody>\n",
              "</table>\n",
              "</div>"
            ],
            "text/plain": [
              "  Admission_Date      RACE  ...    Bond                                   OFFENSE\n",
              "0     08/16/2018     BLACK  ...  150000  CRIMINAL POSS OF PISTOL/REVOLVER      DF\n",
              "1     03/28/2019  HISPANIC  ...   30100     VIOLATION OF PROBATION OR COND DISCHG\n",
              "2     04/03/2020  HISPANIC  ...  150000                          CRIMINAL ATTEMPT\n",
              "3     01/15/2020     WHITE  ...   50500  CRIM VIOL OF PROTECTIVE ORDER         DF\n",
              "4     12/26/2018  HISPANIC  ...  100000                          CRIMINAL ATTEMPT\n",
              "\n",
              "[5 rows x 6 columns]"
            ]
          },
          "metadata": {
            "tags": []
          },
          "execution_count": 77
        }
      ]
    },
    {
      "cell_type": "code",
      "metadata": {
        "colab": {
          "base_uri": "https://localhost:8080/"
        },
        "id": "NvbZu7n3Wml8",
        "outputId": "c0cc2449-7d3b-4da4-8da4-39c66384c5c6"
      },
      "source": [
        "# Checking data types for each column\n",
        "print(df.dtypes)"
      ],
      "execution_count": 78,
      "outputs": [
        {
          "output_type": "stream",
          "text": [
            "Admission_Date    object\n",
            "RACE              object\n",
            "GENDER            object\n",
            "AGE                int64\n",
            "Bond               int64\n",
            "OFFENSE           object\n",
            "dtype: object\n"
          ],
          "name": "stdout"
        }
      ]
    },
    {
      "cell_type": "markdown",
      "metadata": {
        "id": "YikyqaxLT0Ru"
      },
      "source": [
        "**Addressing NA/Null Values**"
      ]
    },
    {
      "cell_type": "code",
      "metadata": {
        "colab": {
          "base_uri": "https://localhost:8080/",
          "height": 419
        },
        "id": "rvWY21EOWxFj",
        "outputId": "24fb1ee7-0d04-4711-8313-49569c3c4b55"
      },
      "source": [
        "# Check null \n",
        "df.isnull()"
      ],
      "execution_count": 79,
      "outputs": [
        {
          "output_type": "execute_result",
          "data": {
            "text/html": [
              "<div>\n",
              "<style scoped>\n",
              "    .dataframe tbody tr th:only-of-type {\n",
              "        vertical-align: middle;\n",
              "    }\n",
              "\n",
              "    .dataframe tbody tr th {\n",
              "        vertical-align: top;\n",
              "    }\n",
              "\n",
              "    .dataframe thead th {\n",
              "        text-align: right;\n",
              "    }\n",
              "</style>\n",
              "<table border=\"1\" class=\"dataframe\">\n",
              "  <thead>\n",
              "    <tr style=\"text-align: right;\">\n",
              "      <th></th>\n",
              "      <th>Admission_Date</th>\n",
              "      <th>RACE</th>\n",
              "      <th>GENDER</th>\n",
              "      <th>AGE</th>\n",
              "      <th>Bond</th>\n",
              "      <th>OFFENSE</th>\n",
              "    </tr>\n",
              "  </thead>\n",
              "  <tbody>\n",
              "    <tr>\n",
              "      <th>0</th>\n",
              "      <td>False</td>\n",
              "      <td>False</td>\n",
              "      <td>False</td>\n",
              "      <td>False</td>\n",
              "      <td>False</td>\n",
              "      <td>False</td>\n",
              "    </tr>\n",
              "    <tr>\n",
              "      <th>1</th>\n",
              "      <td>False</td>\n",
              "      <td>False</td>\n",
              "      <td>False</td>\n",
              "      <td>False</td>\n",
              "      <td>False</td>\n",
              "      <td>False</td>\n",
              "    </tr>\n",
              "    <tr>\n",
              "      <th>2</th>\n",
              "      <td>False</td>\n",
              "      <td>False</td>\n",
              "      <td>False</td>\n",
              "      <td>False</td>\n",
              "      <td>False</td>\n",
              "      <td>False</td>\n",
              "    </tr>\n",
              "    <tr>\n",
              "      <th>3</th>\n",
              "      <td>False</td>\n",
              "      <td>False</td>\n",
              "      <td>False</td>\n",
              "      <td>False</td>\n",
              "      <td>False</td>\n",
              "      <td>False</td>\n",
              "    </tr>\n",
              "    <tr>\n",
              "      <th>4</th>\n",
              "      <td>False</td>\n",
              "      <td>False</td>\n",
              "      <td>False</td>\n",
              "      <td>False</td>\n",
              "      <td>False</td>\n",
              "      <td>False</td>\n",
              "    </tr>\n",
              "    <tr>\n",
              "      <th>...</th>\n",
              "      <td>...</td>\n",
              "      <td>...</td>\n",
              "      <td>...</td>\n",
              "      <td>...</td>\n",
              "      <td>...</td>\n",
              "      <td>...</td>\n",
              "    </tr>\n",
              "    <tr>\n",
              "      <th>5355012</th>\n",
              "      <td>False</td>\n",
              "      <td>False</td>\n",
              "      <td>False</td>\n",
              "      <td>False</td>\n",
              "      <td>False</td>\n",
              "      <td>False</td>\n",
              "    </tr>\n",
              "    <tr>\n",
              "      <th>5355013</th>\n",
              "      <td>False</td>\n",
              "      <td>False</td>\n",
              "      <td>False</td>\n",
              "      <td>False</td>\n",
              "      <td>False</td>\n",
              "      <td>False</td>\n",
              "    </tr>\n",
              "    <tr>\n",
              "      <th>5355014</th>\n",
              "      <td>False</td>\n",
              "      <td>False</td>\n",
              "      <td>False</td>\n",
              "      <td>False</td>\n",
              "      <td>False</td>\n",
              "      <td>False</td>\n",
              "    </tr>\n",
              "    <tr>\n",
              "      <th>5355015</th>\n",
              "      <td>False</td>\n",
              "      <td>False</td>\n",
              "      <td>False</td>\n",
              "      <td>False</td>\n",
              "      <td>False</td>\n",
              "      <td>False</td>\n",
              "    </tr>\n",
              "    <tr>\n",
              "      <th>5355016</th>\n",
              "      <td>False</td>\n",
              "      <td>False</td>\n",
              "      <td>False</td>\n",
              "      <td>False</td>\n",
              "      <td>False</td>\n",
              "      <td>False</td>\n",
              "    </tr>\n",
              "  </tbody>\n",
              "</table>\n",
              "<p>5355017 rows × 6 columns</p>\n",
              "</div>"
            ],
            "text/plain": [
              "         Admission_Date   RACE  GENDER    AGE   Bond  OFFENSE\n",
              "0                 False  False   False  False  False    False\n",
              "1                 False  False   False  False  False    False\n",
              "2                 False  False   False  False  False    False\n",
              "3                 False  False   False  False  False    False\n",
              "4                 False  False   False  False  False    False\n",
              "...                 ...    ...     ...    ...    ...      ...\n",
              "5355012           False  False   False  False  False    False\n",
              "5355013           False  False   False  False  False    False\n",
              "5355014           False  False   False  False  False    False\n",
              "5355015           False  False   False  False  False    False\n",
              "5355016           False  False   False  False  False    False\n",
              "\n",
              "[5355017 rows x 6 columns]"
            ]
          },
          "metadata": {
            "tags": []
          },
          "execution_count": 79
        }
      ]
    },
    {
      "cell_type": "code",
      "metadata": {
        "colab": {
          "base_uri": "https://localhost:8080/"
        },
        "id": "j6_syjhSWzmU",
        "outputId": "1b524513-226c-4344-f550-c5504ca0cd83"
      },
      "source": [
        "# Null sum\n",
        "df.isnull().sum()"
      ],
      "execution_count": 80,
      "outputs": [
        {
          "output_type": "execute_result",
          "data": {
            "text/plain": [
              "Admission_Date    0\n",
              "RACE              0\n",
              "GENDER            0\n",
              "AGE               0\n",
              "Bond              0\n",
              "OFFENSE           0\n",
              "dtype: int64"
            ]
          },
          "metadata": {
            "tags": []
          },
          "execution_count": 80
        }
      ]
    },
    {
      "cell_type": "code",
      "metadata": {
        "id": "_cao-sT4UDyU"
      },
      "source": [
        "# Filling NAs\n",
        "# df_2.fillna(0)"
      ],
      "execution_count": 81,
      "outputs": []
    },
    {
      "cell_type": "markdown",
      "metadata": {
        "id": "-TkLfo7iT7KB"
      },
      "source": [
        "**Date/Time**"
      ]
    },
    {
      "cell_type": "code",
      "metadata": {
        "id": "0GJ09gvCXsOO"
      },
      "source": [
        "# Create separate columns for month day and year \n",
        "# df.Date = pd.to_datetime(df_2.Date)\n",
        "# df_2[['month', 'year']] = df_2.Date.apply(lambda x: pd.Series(x.strftime(\"%m, %Y\").split(\",\")))\n",
        "# df_2"
      ],
      "execution_count": 82,
      "outputs": []
    },
    {
      "cell_type": "code",
      "metadata": {
        "id": "UVubDJc3Xzds"
      },
      "source": [
        "# Changing Date to datetime\n",
        "df.Admission_Date = pd.to_datetime(df.Admission_Date)"
      ],
      "execution_count": 83,
      "outputs": []
    },
    {
      "cell_type": "code",
      "metadata": {
        "colab": {
          "base_uri": "https://localhost:8080/"
        },
        "id": "7WWSgOh_V6ie",
        "outputId": "dd2051e8-7a28-4aef-c570-ae52cb4be561"
      },
      "source": [
        "# Checking data types for each column\n",
        "print(df.dtypes)"
      ],
      "execution_count": 84,
      "outputs": [
        {
          "output_type": "stream",
          "text": [
            "Admission_Date    datetime64[ns]\n",
            "RACE                      object\n",
            "GENDER                    object\n",
            "AGE                        int64\n",
            "Bond                       int64\n",
            "OFFENSE                   object\n",
            "dtype: object\n"
          ],
          "name": "stdout"
        }
      ]
    },
    {
      "cell_type": "code",
      "metadata": {
        "id": "SFF8yvyGbfiy"
      },
      "source": [
        "# Drop rows or columns\n",
        "# df.dropna() # default is row-wise\n",
        "# df.dropna(axis = 1) #column-wise. "
      ],
      "execution_count": 85,
      "outputs": []
    },
    {
      "cell_type": "code",
      "metadata": {
        "id": "-Th13CCgYaeg"
      },
      "source": [
        "# Remove Column(s) by index number\n",
        "# df.drop(df_2.columns[[2]], axis=1, inplace=True,)\n",
        "# df.head(5)"
      ],
      "execution_count": 86,
      "outputs": []
    },
    {
      "cell_type": "code",
      "metadata": {
        "id": "HAHYtF0LXCST"
      },
      "source": [
        "# Group by\n",
        "# df_group = df_1.groupby('Column name')\n",
        "# df_group.head()"
      ],
      "execution_count": 87,
      "outputs": []
    },
    {
      "cell_type": "code",
      "metadata": {
        "id": "xeCWv-TgXXtX"
      },
      "source": [
        "# Group by then sort by Date\n",
        "# df_3 = df_1.groupby('column name').apply(lambda x: x.sort_values('Date'))\n",
        "# df_3.head(30)"
      ],
      "execution_count": 88,
      "outputs": []
    },
    {
      "cell_type": "code",
      "metadata": {
        "id": "Vwu3lFS8Xoeu"
      },
      "source": [
        "# Group by Year Sum\n",
        "# df_year = df_3.groupby(['year'], as_index=False).agg({'column name': sum})\n",
        "# df_year.head()"
      ],
      "execution_count": 89,
      "outputs": []
    },
    {
      "cell_type": "code",
      "metadata": {
        "id": "W6cHlOE6Z8Hi"
      },
      "source": [
        "# Sum of avg. daily pop by month and year\n",
        "# df_monthyear = df_3.groupby(['year', 'month'], as_index=False).agg({'Column name': sum})\n",
        "# df_monthyear.head(20)"
      ],
      "execution_count": 90,
      "outputs": []
    },
    {
      "cell_type": "code",
      "metadata": {
        "id": "9i0KRdbCaNv1"
      },
      "source": [
        "# Changing column type to integer\n",
        "# df_monthyear['column_name'].astype(int)"
      ],
      "execution_count": 91,
      "outputs": []
    },
    {
      "cell_type": "code",
      "metadata": {
        "colab": {
          "base_uri": "https://localhost:8080/"
        },
        "id": "csk9qnUtUqst",
        "outputId": "c0119f98-2850-4e3a-861d-fcd35e4220b1"
      },
      "source": [
        "# Examining Unique Entries\n",
        "df.nunique()"
      ],
      "execution_count": 92,
      "outputs": [
        {
          "output_type": "execute_result",
          "data": {
            "text/plain": [
              "Admission_Date    3086\n",
              "RACE                 5\n",
              "GENDER               2\n",
              "AGE                 72\n",
              "Bond              4124\n",
              "OFFENSE            371\n",
              "dtype: int64"
            ]
          },
          "metadata": {
            "tags": []
          },
          "execution_count": 92
        }
      ]
    },
    {
      "cell_type": "code",
      "metadata": {
        "colab": {
          "base_uri": "https://localhost:8080/"
        },
        "id": "CAaCDJyIUvzi",
        "outputId": "195553d7-51bd-4a52-d223-cb02567dcca4"
      },
      "source": [
        "# Examining Offense Types Only\n",
        "df.OFFENSE.nunique()"
      ],
      "execution_count": 93,
      "outputs": [
        {
          "output_type": "execute_result",
          "data": {
            "text/plain": [
              "371"
            ]
          },
          "metadata": {
            "tags": []
          },
          "execution_count": 93
        }
      ]
    },
    {
      "cell_type": "code",
      "metadata": {
        "colab": {
          "base_uri": "https://localhost:8080/"
        },
        "id": "gs4x1lr-U-RT",
        "outputId": "518a84eb-232e-4b7a-c78c-4755b28ece32"
      },
      "source": [
        "# Examining Offense Types\n",
        "offense_array = df.OFFENSE.unique()\n",
        "print(offense_array)"
      ],
      "execution_count": 94,
      "outputs": [
        {
          "output_type": "stream",
          "text": [
            "['CRIMINAL POSS OF PISTOL/REVOLVER      DF'\n",
            " 'VIOLATION OF PROBATION OR COND DISCHG' 'CRIMINAL ATTEMPT'\n",
            " 'CRIM VIOL OF PROTECTIVE ORDER         DF'\n",
            " 'CRIM VIOL ST CRIM RESTR ORDER         DF'\n",
            " 'ASSAULT 2ND, VICTIM 60 OR OVER        DF'\n",
            " 'INTERFERING WITH AN OFFICER           AM'\n",
            " 'LARCENY, SECOND DEGREE                CF'\n",
            " 'MURDER                                AF'\n",
            " 'ASSAULT, SECOND DEGREE                DF' 'ARREST WARRANT'\n",
            " 'YOUTHFUL OFFENDER' 'UNLAWFUL RESTRAINT, FIRST DEGREE      DF'\n",
            " 'LARCENY, FIRST DEGREE                 BF'\n",
            " 'CRIMINAL TRESPASS, THIRD DEGREE       CM'\n",
            " 'STALKING, 1ST DEGREE                  DF'\n",
            " 'BURGLARY, THIRD DEGREE                DF'\n",
            " 'SALE OF NARC/AMPHET BY NON-DEPENDENT   F'\n",
            " 'ASSAULT 2ND DEGREE WITH A FIREARM     DF'\n",
            " 'FORGERY, FIRST DEGREE                 CF' 'JUVENILE TRANSFER'\n",
            " 'CONSPIRACY' 'SEXUAL ASSAULT, FIRST DEGREE           F'\n",
            " 'ASSAULT ON POLICE OR FIRE OFFICER     CF'\n",
            " 'FORGERY, SECOND DEGREE                DF'\n",
            " 'ASSAULT 3RD DEGREE, VICTIM OVER 59    AM'\n",
            " 'STEALING A FIREARM                    DF'\n",
            " 'SEXUAL ASSAULT, SECOND DEGREE          F'\n",
            " 'CRIMINAL POSSESSION OF A PISTOL       DF'\n",
            " 'LARCENY, THIRD DEGREE                 DF'\n",
            " 'ROBBERY, FIRST DEGREE                 BF'\n",
            " 'SEXUAL ASSAULT 1ST DEGREE-AGGRVTD      F'\n",
            " 'HOME INVASION                         AF'\n",
            " 'BURGLARY, SECOND DEGREE               CF'\n",
            " 'SALE OF HEROIN, COC BY NON-DEPENDENT'\n",
            " 'INJURY OR RISK OF INJURY TO MINOR      F'\n",
            " 'ARSON, FIRST DEGREE                   AF'\n",
            " 'INCITING INJURY TO PERSONS OR PROPTY  CF' 'STRANGULATION 3RD DEGREE'\n",
            " 'FAILURE TO APPEAR, FIRST DEGREE       DF'\n",
            " 'CARRYING WEAPONS WITHOUT A PERMIT      F'\n",
            " 'THREATENING                           AM'\n",
            " 'RECKLESS ENDANGERMENT, FIRST DEGREE   AM'\n",
            " 'ASSAULT, FIRST DEGREE                 BF'\n",
            " 'ASSAULT, 1ST VICTIM 60 OR OVER        BF'\n",
            " 'ROBBERY, THIRD DEGREE                 DF'\n",
            " 'LARCENY, FOURTH DEGREE                AM'\n",
            " 'HARASSMENT, 2ND DEGREE                CM' 'SPECIAL PAROLE'\n",
            " 'VIOLATION OF CONDITIONS OF RELEASE'\n",
            " 'IDENTITY THEFT 2ND DEGREE             CF'\n",
            " 'STRANGULATION 2ND DEGREE              DF'\n",
            " 'VIOLATE COND OF RELEASE-2ND DEG       AM' 'CRUELTY TO PERSONS'\n",
            " 'ALTERING OR REMOVING IDENT NUMBER      F'\n",
            " 'CRIM VIOL OF PROTECTIVE ORDER         AM'\n",
            " 'POSSESSING CHILD PORNOGRAPH            F'\n",
            " 'OPERATING UNDER SUSPENDED LIC OR REG.  M' 'CREDIT CARD THEFT'\n",
            " 'BURGLARY, FIRST DEGREE                BF'\n",
            " 'MANSLAUGHTER, SECOND DEGREE           CF'\n",
            " 'EVADING RESPONSIBILITY                 M'\n",
            " 'ASSAULT, THIRD DEGREE                 AM'\n",
            " 'LARCENY, FIFTH DEGREE                 BM'\n",
            " 'SALE OF HALLUCIGEN/NARCOTIC SUBSTANCE  F' 'ARREST WITHOUT WARRANT'\n",
            " 'CRIMINAL IMPERSONATION                BM'\n",
            " 'ROBBERY, SECOND DEGREE                CF' 'POSSESSION OF NARCOTICS'\n",
            " 'SEX ASLT, SPOUSE/COHAB RELATIONSHIP   BF'\n",
            " 'TAMPERING WITH OR FABRICATING EVIDNC  DF'\n",
            " 'INJURY/RISK OF INJURY TO MINOR- SEXUAL C'\n",
            " 'FAILURE TO APPEAR, SECOND DEGREE      AM'\n",
            " 'FELONY MURDER                         AF'\n",
            " 'PROBATION AND CONDITIONAL DISCHARGE'\n",
            " 'ILL POSSESS CHILD PORN 2ND DEG         F'\n",
            " 'CRIM VIOL RES ORDER                   AM'\n",
            " 'STRANGULATION 1ST DEGREE              CF'\n",
            " 'BURGLARY, FIRST DEGREE: 53A101A(2)    BF'\n",
            " 'RECKLESS ENDANGERMENT, SECOND DEGREE  BM'\n",
            " 'SELLING WEAPONS TO ALIENS PROHIBITED   F' '(REPEALED) 53-048'\n",
            " 'ESCAPE FROM CUSTODY' 'KIDNAPPING, FIRST DEGREE              AF'\n",
            " 'PERMIT TO SELL OR CARRY PISTOL'\n",
            " 'CARRYING WEAPON IN A MOTOR VEHICLE     F'\n",
            " 'CRIMINAL MISCHIEF, SECOND DEGREE      AM' '53A021'\n",
            " 'BREACH OF PEACE                       BM'\n",
            " 'CONVEY UNAUTHZD ITEMS INTO INST       DF'\n",
            " 'MANSLAUGHTER, FIRST DEGREE, FIREARM   BF'\n",
            " 'AGGAVTD SEX ASSLT-VCTM < 13YR         AF'\n",
            " 'ROBBERY, FIRST DEGREE                BF'\n",
            " 'MANSLAUGHTER 2ND WITH MV (INTOX)      CF'\n",
            " 'CARRYING OR SALE OF DANGEROUS WEAPON'\n",
            " 'CRIMINAL MISCHIEF, FIRST DEGREE       DF'\n",
            " 'ASSAULT 2ND WITH MV WHILE INTOXICATED DF'\n",
            " 'DRUG PARAPHERNALIA IN DRUG FACTORY     F'\n",
            " 'ORGANIZED RETAIL THEFT                 F'\n",
            " 'OPERATE UNDER INFLU OF LIQ OR DRUGS'\n",
            " 'CAPITAL FELONY                         F'\n",
            " 'PROMOTING MINOR IN OBSCENE PERFORMNCE BF'\n",
            " 'CRIMINAL LIABILITY FOR ANOTHER PERSON'\n",
            " 'MANSLAUGHTER, FIRST DEGREE            BF'\n",
            " 'OBSCENITY                             BM'\n",
            " 'IDENTITY THEFT 3RD DEGREE             DF'\n",
            " 'CRIMINAL TRESPASS, SECOND DEGREE      BM'\n",
            " 'ASSAULT 2ND, VICTIM 60+, WITH FIREARM DF'\n",
            " 'ESCAPE, FIRST DEGREE                  CF'\n",
            " 'PRIMARY OFFENSE NOT DETERMINED'\n",
            " 'THREATENING 1ST DEGREE                DF'\n",
            " 'NEGLG STORAGE OF A FIREARM            DF'\n",
            " 'CRIMINAL TRESPASS, FIRST DEGREE       AM'\n",
            " 'USING MOTOR VEHICLE W/O PERMISSION'\n",
            " 'DISORDERLY CONDUCT                    CM'\n",
            " 'LARCENY, SIXTH DEGREE                 CM'\n",
            " 'UNLAWFUL RESTRAINT, SECOND DEGREE     AM'\n",
            " 'BRIBERY OF WITNESS                    DF'\n",
            " 'KIDNAPPING, 2ND DEGREE                BF'\n",
            " 'SEXUAL ASSAULT, THIRD DEGREE          DF' 'CARRY PIST/RVOLV W/O PERMIT'\n",
            " 'SEXUAL ASSAULT, FOURTH DEGREE         AM'\n",
            " 'INTIMIDATING A WITNESS                CF'\n",
            " 'CUSTODIAL INTERFERENCE, FIRST DEGREE  DF'\n",
            " 'STALKING, 2ND DEGREE                  AM'\n",
            " 'MANUF OR POSSESSION OF BURGLAR TOOLS  AM'\n",
            " 'HARASSMENT 1ST DEGREE                 DF'\n",
            " 'INTIMIDATE DUE TO BIAS 3RD DEG        AM'\n",
            " 'CRIM VIOL CIVIL PROTECTION ORDER      DF'\n",
            " 'EMPLOYING MINOR IN OBSCENE PERFORMNCE AF'\n",
            " 'IDENTITY THEFT 1ST DEGREE             BF' 'VOYEURISM'\n",
            " 'KIDNAPPING 2ND DEG W/ FIREARM         BF'\n",
            " 'USING MACHINE GUN IN CRIME             F' 'FALSELY REPORTING INCIDENT'\n",
            " 'OPERATE UNDER INFLU OF LIQ OR DRUGS    M'\n",
            " 'ILLEGAL MANUFACTUAL OR SALE OF DRUGS'\n",
            " 'THEFT FROM PERSON                      F'\n",
            " 'DISSEMINATING VOYEURISTIC MATERIAL    DF'\n",
            " 'CRIMINAL MISCHIEF, THIRD DEGREE       BM'\n",
            " 'MISCONDUCT WITH A MOTOR VEHICLE       DF'\n",
            " 'IMPORTING CHILD PORNOGRAPHY            F' 'SEARCHES AND SEIZURES'\n",
            " 'POSS OF WEAPON IN A CCI               BF'\n",
            " 'SALE OF CONTROLLED SUBSTANCE           F'\n",
            " 'ARSON, THIRD DEGREE                   CF'\n",
            " 'PROHIB ACTS RE: DRUG PARAPHERNALIA'\n",
            " 'KIDNAPPING 1ST DEG W/ FIREARM         AF'\n",
            " 'RECKLESS BURNING                      DF'\n",
            " 'TAMPERING WITH WITNESS                DF'\n",
            " 'ASSAULT, ON DOC EMPLOYEE              BF'\n",
            " 'LEAV CHILD UNSUPERV IN PUBL/MOT VEH    C'\n",
            " 'TRAFFICKING IN PERSONS                BF'\n",
            " 'ARSON, SECOND DEGREE                  BF'\n",
            " 'RECKLESS DRIVING                       M'\n",
            " 'TELEPHONE FRAUD, 1ST DEGREE           BF'\n",
            " 'PUBLIC INDECENCY                      BM'\n",
            " 'IL POS LRG CAP MAG OBT AF 4/13        DF'\n",
            " 'MANUFACTURE OF BOMBS                  BF'\n",
            " 'MISREP OF SUB AS CONTROLLED SUB       DF'\n",
            " 'INTIMIDATION BSD BIGOTRY/BIAS         DF'\n",
            " 'BURGLARY, SECOND DEGREE WITH FIREARM  CF' 'CRUELTY TO ANIMALS'\n",
            " 'VIO DEADLY WEAPON REGIST REQS         DF'\n",
            " 'CRIMINAL USE OF A FIREARM             DF'\n",
            " 'REG PERSON WHO COMM OFF AGAINST MINOR DF'\n",
            " 'POSSESS OF HALLUC OR 4+ OZ MARIJUANA   F'\n",
            " 'REG PERSON WHO COMM SEX VIOL OFF      DF'\n",
            " 'INJUNCTION AND RESTRAINING ORDER'\n",
            " 'FORGERY, THIRD DEGREE                 BM'\n",
            " 'CRIMINAL TROVER, 1ST DEGREE            F' 'FAILURE TO OBEY AN OFFICER'\n",
            " 'POSS OF ASSAULT WEAPON PROHIBITED'\n",
            " 'CRIMINAL MISCHIEF, FOURTH DEGREE      CM'\n",
            " 'FAILURE TO PAY OR PLEAD                M'\n",
            " 'USE OF MACHINE GUN IN A CRIME  DELETED F'\n",
            " 'FOLLOW TOO CLOSELY W/ INTENT TO HARASS M' 'PURGE CIVIL COMMITMENT'\n",
            " 'INTERFERING WITH AN EMERGENCY CALL    AM'\n",
            " 'ABUSE OF PERSONS-1ST DEGREE           CF'\n",
            " 'PROMOTING PROSTITUTION, FIRST DEGREE  BF'\n",
            " 'DRINKING WHILE OPERATING MOTOR VEHICL CM'\n",
            " 'FLR KEEP NARC IN ORG CONTAINER         F'\n",
            " 'ILLEGAL REFUSAL OF DNA TESTING'\n",
            " 'BURGLARY, THIRD DEGREE WITH FIREARM   DF'\n",
            " 'POSSESSION OF SHOTGUN OR SILENCER     DF'\n",
            " 'HINDER PROSECUTION, FIRST DEGREE      DF' 'PROHIBITED ACTIVITIES'\n",
            " 'DRUGS NEAR PROBIBITED PLACE' 'NEGLIGENT HOMICIDE W/ MOTOR VEHICLE   BM'\n",
            " 'HINDERING PROSECUTION 2ND DEG'\n",
            " 'PROSTITUTION                          AM'\n",
            " 'POSS WEAPON ON SCHOOL GROUNDS         DF'\n",
            " 'PROMOTING PROSTITUTION, SECOND DEGREE CF'\n",
            " 'ILL AFFIX FRAUDULENT                   F'\n",
            " 'UNLAWFUL REPRODUCTION OF CREDIT CARD  DF'\n",
            " 'DRIVING WHILE LICENSE SUSP FOR DWI'\n",
            " 'ILLEGAL POSSES OF SHOP LIFTING DEVICE AM'\n",
            " 'ILLEGAL POSSESSION OF EXPLOSIVES       F'\n",
            " 'RECEIVING STOLEN PROPERTY, LARCENY     M'\n",
            " 'AFFIRMATIVE DEFENSES TO CIMINAL TRESPASS'\n",
            " 'RAPE, SECOND DEGREE                   CF'\n",
            " 'ILL POSSESS CHILD PORN 3RD DEG        DF'\n",
            " 'CRIMINALLY NEGLIGENT HOMICIDE         AM'\n",
            " 'REGULATION OF RESTRICTED SUBSTANCES' 'APPLICATION TO PURCHASE A FIREARM'\n",
            " 'FOLLOWING TOO CLOSELY' 'PROHIB ACTS RE: DRUG PARA, SCHOOL'\n",
            " 'ILLEGAL USE OF CREDIT CARD' 'ILL CARRY FIREARM-UI DRUGS/ALC'\n",
            " 'PRACTICE OF LAW BY NON-ATTORNEYS       M'\n",
            " 'MISAPPLICATION OF PROPERTY            AM'\n",
            " 'CRIMINAL CONTEMPT                      M'\n",
            " 'HINDERING PROSECUTION 3RD DEG         DF'\n",
            " 'EVADING RESPONSIBILITY, OTHER THAN MV  M'\n",
            " 'OPERATING MV W/O INSURANCE            CM' 'TEMPORARY SURRENDER'\n",
            " 'CRIM DAMAGE PROPERTY 1ST DEG          DF'\n",
            " 'STALKING, 3RD DEGREE                  BM'\n",
            " 'IMPERSONATION OF POLICE OFFICER       DF' 'INTERSTATE PAROLE COMPACT'\n",
            " 'SALE, CARRY & BRAND OF FACSIMILE'\n",
            " 'POSSESS OF LT 4 OZ MJ OR CONTROLD SUB'\n",
            " 'PERMITTING PROSTITUTION               AM' 'ISSUING A BAD CHECK'\n",
            " 'FAILURE TO PAY WAGES' 'CREATING A PUBLIC DISTURBANCE' 'SIMPLE TRESPASS'\n",
            " 'DIVERT FR STATE BENE LBR EMPLOYEES    AM'\n",
            " 'INJURY TO BAGGAGE ON PUBLIC CONVEYANCE M'\n",
            " 'TAMPERING W/AIRPORT OR AIRWAYS'\n",
            " 'PROMOTING PROSTITUTION, THIRD DEGREE  DF'\n",
            " 'INJURY TO FENCES, GATES, OTHER PROP    M'\n",
            " 'ILLEGAL GAIN FROM CREDIT CARD         AM'\n",
            " 'NOTICES IN SALES AGRREMENT           UM'\n",
            " 'FALSELY REPORTING AN INCIDENT 2ND     AM'\n",
            " 'THEFT OF POULTRY                       M' 'FAILURE TO OBEY STOP SIGN'\n",
            " '(REPEALED) 53-173' 'IL TRAFFIC IN PERSONAL ID INFO        DF'\n",
            " 'SPEEDING                               M'\n",
            " 'DRIVING IMPROPERLY ON MULTI-LANE HWY'\n",
            " 'ABUSE OF PERSONS-2ND DEGREE           DF' 'OBTAINING DRUGS ILLEGALLY'\n",
            " 'COERCION' 'COMMIT SEXUAL OFF IN ANOTHER JURIS    DF'\n",
            " 'ACT OF TERRORISM-ENHANCE SENT'\n",
            " 'ALLOWING PERSON UNDER 16 TO OPERATE MV M'\n",
            " 'FALSE STATEMENT, 2ND DEGREE           AM'\n",
            " 'INTIMIDATION BASED ON BIGOTRY/BIAS    DF' 'FORGERY RELATED'\n",
            " 'HINDER PROSECUTION DEFINED             F'\n",
            " 'ILL OP MV WO IGNITION DEVICE          CM'\n",
            " 'UNFAIR OR DECEPTIVE PRAC OR ACT'\n",
            " 'CRIMINAL MISREPRESENTATION            CF' 'STARTING OR BACKING VEHICLE'\n",
            " 'IMPROPER USE OF MARKER, LICENSE, REG   M' 'EXTRADITION'\n",
            " 'CRIM DAMAGE PROPERTY 2ND DEG          AM'\n",
            " 'PATRONIZING A PROSTITUTE              AM'\n",
            " 'ENCOURAGING THE COMMISSION OF ABORTION M'\n",
            " 'COUNTERFEITING MARKER PLATES           M'\n",
            " 'USE OF HIGHWAY BY PEDESTRIAN           M'\n",
            " 'SHOTGUNS AND RIFLES IN VEHICLE         M'\n",
            " 'FORGERY OF SYMBOLS                    AM'\n",
            " 'MONEY LAUNDERING FOURTH DEGREE        AM'\n",
            " 'SOLICITING RIDES FROM MOTOR VEHICLES   M'\n",
            " 'IDENTITY THEFT DEFINED                DF'\n",
            " 'FAILURE TO CARRY MIN INSURANCE         M'\n",
            " 'FAILURE TO OBEY TRAFFIC SIGNALS' 'OPERATING MV W/O A LICENSE'\n",
            " 'INTIMIDATION BSD BIGOTRY/BIAS, 1ST    CF' 'CHEATING AT GAMBLING'\n",
            " 'FALSE RPT INCIDNT CONCER INJ OR DEATH DF'\n",
            " 'FALSE RPT INCIDNT RESULT INJ OR DEATH DF'\n",
            " 'PART OR CONS FOR EXPORT MEANS         BF'\n",
            " 'DRIVING INPROPERLY ON A ONE WAY STREET I'\n",
            " 'CRIMINAL TROVER, 2ND DEGREE           AM'\n",
            " 'INSURANCE FRAUD                       DF'\n",
            " 'PROHIB ACTS RE: CONTROLLED SUBSTANCES'\n",
            " 'FAILURE TO DRIVE ON RIGHT HAND ROADWAY'\n",
            " 'UNLAWFUL DISCHARGE OF FIREARMS         M'\n",
            " 'EXPIRATION AND RENEWAL OF REGISTRATION M'\n",
            " 'LITTERING OR DUMPING PROHIBITED' 'ROBBERY BY CARJACKING'\n",
            " 'FALSE STATEMENT TO PROCURE CREDT CARD AM'\n",
            " 'FALSE ENTRY BY OFFICER OR PUB AGENT   AM' 'FUGITIVE FROM JUSTICE'\n",
            " 'EAVESDROPPING                         DF'\n",
            " 'TRAVELING UNREASONABLY FAST            M'\n",
            " 'DRIVING IMPROPERLY IN RIGHT HAND LANE' '53A223C'\n",
            " 'FAILURE TO CARRY DRIVERS LICENSE       M'\n",
            " 'TOWN ORDINANCE $90 OR LESS (CI)' 'PENALTY FAIL TO SUBMIT FINGERPRINTS'\n",
            " 'THEFT OF NUMBER PLATE OR INSER         M' 'CRIMINAL SIMULATION'\n",
            " 'LARCENY RELATED' 'TOWN ORDINANCE > $250 (VIOLTN)'\n",
            " 'OBSCENITY AS TO MINORS                 F'\n",
            " 'CRIMINAL LOCKOUT                      CM'\n",
            " 'POSS OF ARMS OR BURG TOOLS AT NIGHT    F'\n",
            " 'VIO MOTOR VEH RACING REQS             BM'\n",
            " 'INCEST                                 F'\n",
            " 'FRAUDULENT USE OF ATM                 CM'\n",
            " 'IMPROPER TURN/STOP NO PROPER SIGN'\n",
            " 'DESTRUCTION OF PROPERTY                M'\n",
            " 'COMPUTER CRIME FOURTH DEGREE          AM'\n",
            " 'BREACH OF PEACE 1ST DEG               DF' 'RECEIVING COMMERCIAL BRIBE'\n",
            " 'FALSELY REPORTING VEHICLE THEFT        M'\n",
            " 'MONEY LAUNDERING THIRD DEGREE         DF'\n",
            " 'REFUSAL TO DISPERSE                    M'\n",
            " 'COMPUTER CRIME FIRST DEGREE           BF'\n",
            " 'WILLFUL INJURY TO PROPERTY             M'\n",
            " 'PRODUCING CONTROLLED SUBS W/O LICENSE' 'ENTICING A MINOR'\n",
            " 'INSANITY AS DEFENSE' 'CRIMINAL VIOL. PROTECTION ORDER       AM'\n",
            " 'BRIBERY                               DF' 'ROBBERY RELATED'\n",
            " 'LARCENY DEFINED' 'FAILURE REGISTER SEXUAL PURPOSE       DF'\n",
            " 'RAPE, FIRST DEGREE                    BF' 'VIO REQ RE DISP OF DEAD BODY'\n",
            " 'INTERFERENCE WITH SEARCH' 'OP MV W/HNDHLD TEL/MOV ELC DEV'\n",
            " 'RESISTING ARREST' 'DUI .02 BAC AND UNDER 21 YRS'\n",
            " 'LOITERING ON SCHOOL GROUNDS           CM'\n",
            " 'INDECENT ASSAULT                       F'\n",
            " 'SALE/POSS/TRAN OF ASLT WEAPON          F'\n",
            " 'POSS OF UNSTAMP MARI/CONTROL SUB BY DEAL' 'LIQUOR SALES TO MINORS'\n",
            " 'THEFT OF HORSE' 'TOWN ORDINANCE=$90 OR <PARKING'\n",
            " 'FAILURE TO FURNISH TAX RETURN'\n",
            " 'ADULTERY                              AM'\n",
            " 'VIOLATION, HOME IMPROVE REGISTRATION'\n",
            " 'CONTEMPT OF COURT                      M'\n",
            " 'DISPERSION OF RIOTOUS ASSEMBLY         M' 'SELLING WITHOUT PERMIT'\n",
            " 'MANSLAUGHTER 2ND, W/FIREARM           CF'\n",
            " 'FAILURE TO CARRY AND MOUNT REFLECTORS'\n",
            " 'PISTOL AND REVOLVER PERMITS            M'\n",
            " 'CRIMINAL POSS BODY ARMOR              AM'\n",
            " 'PERJURY                               DF'\n",
            " 'ESCAPE, SECOND DEGREE                 DF'\n",
            " 'MONEY LAUNDERING 2ND DEGREE           CF'\n",
            " 'MISREP AGE TO ENTICE A MINOR          CF'\n",
            " 'OUI MV W/CHILD PSNGR                  AM'\n",
            " 'SOLIC OR ACCPT BENEFIT FOR RIGGING    AM'\n",
            " 'USE OF FORCE TO DEFEND PROPERTY' 'P19-187'\n",
            " 'THEFT OF UTILITY SERVICE FOR PROFIT   DF'\n",
            " 'UNLAWFUL ASSEMBLY                     BM' 'FEDERAL OFFENSE'\n",
            " 'SEXUAL ASSAULT, 3RD DEG W/ FIREARM    CF'\n",
            " 'FAILURE TO COMPLY W/ SEAT BELTS/SYSTEM' 'USE OF MACH GUN FOR AGGR PURP'\n",
            " '(REPEALED) 53-124' 'SALE/POSS/TRAFF OF WEAPON              F'\n",
            " 'MONEY LAUNDERING FIRST DEGREE         BF'\n",
            " 'CUSTODIAL INTERFERENCE, 2ND DEGREE    AM' 'SEX ABUSE MINOR'\n",
            " 'ASSAULT, SECOND DEGREE                 F' 'SEALED'\n",
            " 'INTENT TO INJURE WITH EXPLOSIVES       F'\n",
            " 'UNLAWFUL ENTRY INTO COIN MACHINE      AM'\n",
            " 'INCSTRUCTION UNLICENSED PERSON IN VEHICL'\n",
            " 'ASSAULT TERMINATING PREGNANCY         AF']\n"
          ],
          "name": "stdout"
        }
      ]
    },
    {
      "cell_type": "code",
      "metadata": {
        "colab": {
          "base_uri": "https://localhost:8080/"
        },
        "id": "-DSvRSmdVjm4",
        "outputId": "4c124fca-bce5-443f-ff8b-21bb2e6eed47"
      },
      "source": [
        "# Convert Array into DataFrame\n",
        "offense_df = pd.DataFrame(offense_array, columns=['Offense_Type'])\n",
        "print(offense_df)"
      ],
      "execution_count": 95,
      "outputs": [
        {
          "output_type": "stream",
          "text": [
            "                                 Offense_Type\n",
            "0    CRIMINAL POSS OF PISTOL/REVOLVER      DF\n",
            "1       VIOLATION OF PROBATION OR COND DISCHG\n",
            "2                            CRIMINAL ATTEMPT\n",
            "3    CRIM VIOL OF PROTECTIVE ORDER         DF\n",
            "4    CRIM VIOL ST CRIM RESTR ORDER         DF\n",
            "..                                        ...\n",
            "366                                    SEALED\n",
            "367  INTENT TO INJURE WITH EXPLOSIVES       F\n",
            "368  UNLAWFUL ENTRY INTO COIN MACHINE      AM\n",
            "369  INCSTRUCTION UNLICENSED PERSON IN VEHICL\n",
            "370  ASSAULT TERMINATING PREGNANCY         AF\n",
            "\n",
            "[371 rows x 1 columns]\n"
          ],
          "name": "stdout"
        }
      ]
    },
    {
      "cell_type": "code",
      "metadata": {
        "colab": {
          "base_uri": "https://localhost:8080/",
          "height": 204
        },
        "id": "sI47Nu6ovTd-",
        "outputId": "3e84c587-f215-4bba-d47d-4e72fcac433e"
      },
      "source": [
        "# Group by offense type, race, age, and bail amount\n",
        "df_3 = df.groupby(['OFFENSE'], as_index=False).agg({'Bond': sum})\n",
        "df_3.head()"
      ],
      "execution_count": 96,
      "outputs": [
        {
          "output_type": "execute_result",
          "data": {
            "text/html": [
              "<div>\n",
              "<style scoped>\n",
              "    .dataframe tbody tr th:only-of-type {\n",
              "        vertical-align: middle;\n",
              "    }\n",
              "\n",
              "    .dataframe tbody tr th {\n",
              "        vertical-align: top;\n",
              "    }\n",
              "\n",
              "    .dataframe thead th {\n",
              "        text-align: right;\n",
              "    }\n",
              "</style>\n",
              "<table border=\"1\" class=\"dataframe\">\n",
              "  <thead>\n",
              "    <tr style=\"text-align: right;\">\n",
              "      <th></th>\n",
              "      <th>OFFENSE</th>\n",
              "      <th>Bond</th>\n",
              "    </tr>\n",
              "  </thead>\n",
              "  <tbody>\n",
              "    <tr>\n",
              "      <th>0</th>\n",
              "      <td>(REPEALED) 53-048</td>\n",
              "      <td>332935000</td>\n",
              "    </tr>\n",
              "    <tr>\n",
              "      <th>1</th>\n",
              "      <td>(REPEALED) 53-124</td>\n",
              "      <td>10000</td>\n",
              "    </tr>\n",
              "    <tr>\n",
              "      <th>2</th>\n",
              "      <td>(REPEALED) 53-173</td>\n",
              "      <td>274750</td>\n",
              "    </tr>\n",
              "    <tr>\n",
              "      <th>3</th>\n",
              "      <td>53A021</td>\n",
              "      <td>883236836</td>\n",
              "    </tr>\n",
              "    <tr>\n",
              "      <th>4</th>\n",
              "      <td>53A223C</td>\n",
              "      <td>425900</td>\n",
              "    </tr>\n",
              "  </tbody>\n",
              "</table>\n",
              "</div>"
            ],
            "text/plain": [
              "             OFFENSE       Bond\n",
              "0  (REPEALED) 53-048  332935000\n",
              "1  (REPEALED) 53-124      10000\n",
              "2  (REPEALED) 53-173     274750\n",
              "3             53A021  883236836\n",
              "4            53A223C     425900"
            ]
          },
          "metadata": {
            "tags": []
          },
          "execution_count": 96
        }
      ]
    },
    {
      "cell_type": "code",
      "metadata": {
        "colab": {
          "base_uri": "https://localhost:8080/",
          "height": 204
        },
        "id": "Wjw8F91_1I8P",
        "outputId": "92a6df8b-2ca2-463a-a599-b9b68aaa8844"
      },
      "source": [
        "df_3['Offense_Total'] = df['OFFENSE'].value_counts()\n",
        "df_3.head()"
      ],
      "execution_count": 97,
      "outputs": [
        {
          "output_type": "execute_result",
          "data": {
            "text/html": [
              "<div>\n",
              "<style scoped>\n",
              "    .dataframe tbody tr th:only-of-type {\n",
              "        vertical-align: middle;\n",
              "    }\n",
              "\n",
              "    .dataframe tbody tr th {\n",
              "        vertical-align: top;\n",
              "    }\n",
              "\n",
              "    .dataframe thead th {\n",
              "        text-align: right;\n",
              "    }\n",
              "</style>\n",
              "<table border=\"1\" class=\"dataframe\">\n",
              "  <thead>\n",
              "    <tr style=\"text-align: right;\">\n",
              "      <th></th>\n",
              "      <th>OFFENSE</th>\n",
              "      <th>Bond</th>\n",
              "      <th>Offense_Total</th>\n",
              "    </tr>\n",
              "  </thead>\n",
              "  <tbody>\n",
              "    <tr>\n",
              "      <th>0</th>\n",
              "      <td>(REPEALED) 53-048</td>\n",
              "      <td>332935000</td>\n",
              "      <td>NaN</td>\n",
              "    </tr>\n",
              "    <tr>\n",
              "      <th>1</th>\n",
              "      <td>(REPEALED) 53-124</td>\n",
              "      <td>10000</td>\n",
              "      <td>NaN</td>\n",
              "    </tr>\n",
              "    <tr>\n",
              "      <th>2</th>\n",
              "      <td>(REPEALED) 53-173</td>\n",
              "      <td>274750</td>\n",
              "      <td>NaN</td>\n",
              "    </tr>\n",
              "    <tr>\n",
              "      <th>3</th>\n",
              "      <td>53A021</td>\n",
              "      <td>883236836</td>\n",
              "      <td>NaN</td>\n",
              "    </tr>\n",
              "    <tr>\n",
              "      <th>4</th>\n",
              "      <td>53A223C</td>\n",
              "      <td>425900</td>\n",
              "      <td>NaN</td>\n",
              "    </tr>\n",
              "  </tbody>\n",
              "</table>\n",
              "</div>"
            ],
            "text/plain": [
              "             OFFENSE       Bond  Offense_Total\n",
              "0  (REPEALED) 53-048  332935000            NaN\n",
              "1  (REPEALED) 53-124      10000            NaN\n",
              "2  (REPEALED) 53-173     274750            NaN\n",
              "3             53A021  883236836            NaN\n",
              "4            53A223C     425900            NaN"
            ]
          },
          "metadata": {
            "tags": []
          },
          "execution_count": 97
        }
      ]
    },
    {
      "cell_type": "markdown",
      "metadata": {
        "id": "oJjT8tLRc9i9"
      },
      "source": [
        "# You can use the python csv module.\n",
        "\n",
        "\n",
        "import csv\n",
        "import random\n",
        "\n",
        "offense_df = pd.DataFrame(offense_array, columns=['Offense_Type'])\n",
        "print(offense_df)\n",
        "\n",
        "with open('data.csv', 'w') as f:\n",
        "    writer = csv.writer(f)\n",
        "    writer.writerow(offense_df)"
      ]
    },
    {
      "cell_type": "code",
      "metadata": {
        "id": "vJY_LJbKe9_0"
      },
      "source": [
        "# Successfully creating excel sheet with cell output\n",
        "# offense_df.to_excel(\"./offensedf3.xlsx\")"
      ],
      "execution_count": 98,
      "outputs": []
    },
    {
      "cell_type": "code",
      "metadata": {
        "id": "ui6KMrvDmHW8"
      },
      "source": [
        "# Took exported excel sheet and coded each type of offense as one of following:\n",
        "# 1. Person\n",
        "# 2. Property\n",
        "# 3. Probation\n",
        "# 4. Order (Violation of Order by Court, Police, or Municipality)\n",
        "# 5. Drugs\n",
        "# 6. Weapon\n",
        "# 7. Juvenile\n",
        "# 8. Attempt"
      ],
      "execution_count": 99,
      "outputs": []
    },
    {
      "cell_type": "code",
      "metadata": {
        "colab": {
          "base_uri": "https://localhost:8080/",
          "height": 204
        },
        "id": "nlQosSFwmpmr",
        "outputId": "7b4189e7-de9e-4dd7-a73c-e14ce18e7def"
      },
      "source": [
        "# load newly coded .csv \n",
        "df_2 = pd.read_csv(\"offensedf3.csv\", index_col=False)\n",
        "df_2.head()"
      ],
      "execution_count": 100,
      "outputs": [
        {
          "output_type": "execute_result",
          "data": {
            "text/html": [
              "<div>\n",
              "<style scoped>\n",
              "    .dataframe tbody tr th:only-of-type {\n",
              "        vertical-align: middle;\n",
              "    }\n",
              "\n",
              "    .dataframe tbody tr th {\n",
              "        vertical-align: top;\n",
              "    }\n",
              "\n",
              "    .dataframe thead th {\n",
              "        text-align: right;\n",
              "    }\n",
              "</style>\n",
              "<table border=\"1\" class=\"dataframe\">\n",
              "  <thead>\n",
              "    <tr style=\"text-align: right;\">\n",
              "      <th></th>\n",
              "      <th>Unnamed: 0</th>\n",
              "      <th>Offense_Type</th>\n",
              "      <th>Category</th>\n",
              "    </tr>\n",
              "  </thead>\n",
              "  <tbody>\n",
              "    <tr>\n",
              "      <th>0</th>\n",
              "      <td>0</td>\n",
              "      <td>CRIMINAL POSS OF PISTOL/REVOLVER      DF</td>\n",
              "      <td>Weapons</td>\n",
              "    </tr>\n",
              "    <tr>\n",
              "      <th>1</th>\n",
              "      <td>1</td>\n",
              "      <td>VIOLATION OF PROBATION OR COND DISCHG</td>\n",
              "      <td>Probation</td>\n",
              "    </tr>\n",
              "    <tr>\n",
              "      <th>2</th>\n",
              "      <td>2</td>\n",
              "      <td>CRIMINAL ATTEMPT</td>\n",
              "      <td>Attempt</td>\n",
              "    </tr>\n",
              "    <tr>\n",
              "      <th>3</th>\n",
              "      <td>3</td>\n",
              "      <td>CRIM VIOL OF PROTECTIVE ORDER         DF</td>\n",
              "      <td>Order</td>\n",
              "    </tr>\n",
              "    <tr>\n",
              "      <th>4</th>\n",
              "      <td>4</td>\n",
              "      <td>CRIM VIOL ST CRIM RESTR ORDER         DF</td>\n",
              "      <td>Order</td>\n",
              "    </tr>\n",
              "  </tbody>\n",
              "</table>\n",
              "</div>"
            ],
            "text/plain": [
              "   Unnamed: 0                              Offense_Type   Category\n",
              "0           0  CRIMINAL POSS OF PISTOL/REVOLVER      DF    Weapons\n",
              "1           1     VIOLATION OF PROBATION OR COND DISCHG  Probation\n",
              "2           2                          CRIMINAL ATTEMPT    Attempt\n",
              "3           3  CRIM VIOL OF PROTECTIVE ORDER         DF      Order\n",
              "4           4  CRIM VIOL ST CRIM RESTR ORDER         DF      Order"
            ]
          },
          "metadata": {
            "tags": []
          },
          "execution_count": 100
        }
      ]
    },
    {
      "cell_type": "code",
      "metadata": {
        "colab": {
          "base_uri": "https://localhost:8080/"
        },
        "id": "BHKiWXzV3gju",
        "outputId": "4816df69-8791-4d03-b2f5-136410adb1f3"
      },
      "source": [
        "# Sum of each Type of Category\n",
        "df_2['Category'].value_counts()\n"
      ],
      "execution_count": 101,
      "outputs": [
        {
          "output_type": "execute_result",
          "data": {
            "text/plain": [
              "Person       153\n",
              "Property      89\n",
              "Order         55\n",
              "Weapons       32\n",
              "Drugs         23\n",
              "Attempt        7\n",
              "Probation      6\n",
              "ND             4\n",
              "Juvenile       2\n",
              "Name: Category, dtype: int64"
            ]
          },
          "metadata": {
            "tags": []
          },
          "execution_count": 101
        }
      ]
    },
    {
      "cell_type": "code",
      "metadata": {
        "id": "PR2CCDqCouzd"
      },
      "source": [
        "#inner join in python pandas\n",
        "\n",
        "#join_df = pd.merge(offense_df, df_2, on='Offense_Type', how='inner')\n",
        "#join_df"
      ],
      "execution_count": 102,
      "outputs": []
    },
    {
      "cell_type": "code",
      "metadata": {
        "id": "iBrswz-Lx9B1"
      },
      "source": [
        "#join_df.info()"
      ],
      "execution_count": 103,
      "outputs": []
    },
    {
      "cell_type": "code",
      "metadata": {
        "id": "yQqCN7dNxhNj"
      },
      "source": [
        "#df_2['Offense_Total'] = df_2.Offense_Type.value_counts()\n",
        "#df_2.head()"
      ],
      "execution_count": 104,
      "outputs": []
    },
    {
      "cell_type": "code",
      "metadata": {
        "colab": {
          "base_uri": "https://localhost:8080/"
        },
        "id": "e4lnTQy4WxO-",
        "outputId": "a6e73555-6655-4f2e-dca7-4e0dc80bc59e"
      },
      "source": [
        "# Sum of each Type of Offense\n",
        "df_offense = df['OFFENSE'].value_counts()\n",
        "df_offense.head(50)"
      ],
      "execution_count": 105,
      "outputs": [
        {
          "output_type": "execute_result",
          "data": {
            "text/plain": [
              "VIOLATION OF PROBATION OR COND DISCHG       625103\n",
              "CRIM VIOL OF PROTECTIVE ORDER         DF    271656\n",
              "INJURY OR RISK OF INJURY TO MINOR      F    245183\n",
              "ASSAULT, FIRST DEGREE                 BF    215887\n",
              "ROBBERY, FIRST DEGREE                 BF    199587\n",
              "MURDER                                AF    181411\n",
              "BURGLARY, THIRD DEGREE                DF    161234\n",
              "SEXUAL ASSAULT, FIRST DEGREE           F    150628\n",
              "ASSAULT ON POLICE OR FIRE OFFICER     CF    127859\n",
              "CRIMINAL POSSESSION OF A PISTOL       DF    120961\n",
              "FAILURE TO APPEAR, FIRST DEGREE       DF    119358\n",
              "SALE OF NARC/AMPHET BY NON-DEPENDENT   F    118501\n",
              "CRIMINAL POSS OF PISTOL/REVOLVER      DF    115429\n",
              "HOME INVASION                         AF    114941\n",
              "CRIMINAL ATTEMPT                            110111\n",
              "ASSAULT, THIRD DEGREE                 AM    101153\n",
              "FAILURE TO APPEAR, SECOND DEGREE      AM     94767\n",
              "ASSAULT, SECOND DEGREE                DF     94226\n",
              "LARCENY, FIRST DEGREE                 BF     91944\n",
              "LARCENY, THIRD DEGREE                 DF     85856\n",
              "INTERFERING WITH AN OFFICER           AM     84387\n",
              "LARCENY, SECOND DEGREE                CF     71769\n",
              "BURGLARY, FIRST DEGREE                BF     70199\n",
              "STRANGULATION 2ND DEGREE              DF     62698\n",
              "SALE OF HALLUCIGEN/NARCOTIC SUBSTANCE  F     62032\n",
              "THREATENING                           AM     58852\n",
              "POSSESSION OF NARCOTICS                      57573\n",
              "STEALING A FIREARM                    DF     56618\n",
              "CONSPIRACY                                   56524\n",
              "BURGLARY, SECOND DEGREE               CF     51095\n",
              "ROBBERY, SECOND DEGREE                CF     49966\n",
              "SEXUAL ASSAULT, SECOND DEGREE          F     49929\n",
              "CRIM VIOL OF PROTECTIVE ORDER         AM     38469\n",
              "YOUTHFUL OFFENDER                            37979\n",
              "ROBBERY, THIRD DEGREE                 DF     35290\n",
              "FELONY MURDER                         AF     34360\n",
              "ARREST WITHOUT WARRANT                       31604\n",
              "SEXUAL ASSAULT 1ST DEGREE-AGGRVTD      F     31360\n",
              "LARCENY, SIXTH DEGREE                 CM     30663\n",
              "SALE OF HEROIN, COC BY NON-DEPENDENT         30133\n",
              "KIDNAPPING, FIRST DEGREE              AF     28511\n",
              "CRIMINAL TRESPASS, FIRST DEGREE       AM     28327\n",
              "CRIM VIOL ST CRIM RESTR ORDER         DF     27863\n",
              "CRIM VIOL RES ORDER                   AM     27243\n",
              "DRUG PARAPHERNALIA IN DRUG FACTORY     F     25202\n",
              "CARRYING WEAPON IN A MOTOR VEHICLE     F     24891\n",
              "ARSON, FIRST DEGREE                   AF     24536\n",
              "OPERATE UNDER INFLU OF LIQ OR DRUGS          23570\n",
              "ASSAULT, 1ST VICTIM 60 OR OVER        BF     22437\n",
              "MANSLAUGHTER, FIRST DEGREE            BF     21430\n",
              "Name: OFFENSE, dtype: int64"
            ]
          },
          "metadata": {
            "tags": []
          },
          "execution_count": 105
        }
      ]
    },
    {
      "cell_type": "code",
      "metadata": {
        "colab": {
          "base_uri": "https://localhost:8080/"
        },
        "id": "Im2RRkGkbowa",
        "outputId": "c0fd16f7-14a0-4882-eefe-c67ee87e551d"
      },
      "source": [
        "# Overall Median for Bond Amount\n",
        "df.median()"
      ],
      "execution_count": 106,
      "outputs": [
        {
          "output_type": "stream",
          "text": [
            "/usr/local/lib/python3.7/dist-packages/ipykernel_launcher.py:2: FutureWarning: DataFrame.mean and DataFrame.median with numeric_only=None will include datetime64 and datetime64tz columns in a future version.\n",
            "  \n"
          ],
          "name": "stderr"
        },
        {
          "output_type": "execute_result",
          "data": {
            "text/plain": [
              "AGE         33.0\n",
              "Bond    100000.0\n",
              "dtype: float64"
            ]
          },
          "metadata": {
            "tags": []
          },
          "execution_count": 106
        }
      ]
    },
    {
      "cell_type": "code",
      "metadata": {
        "colab": {
          "base_uri": "https://localhost:8080/"
        },
        "id": "5nHbDGRbyKR3",
        "outputId": "f651a96e-a2ea-4acb-86c6-94575bd650ba"
      },
      "source": [
        "# Group by Offense then Sum of each race\n",
        "df_race = df['RACE'].value_counts() \n",
        "df_race.head()"
      ],
      "execution_count": 107,
      "outputs": [
        {
          "output_type": "execute_result",
          "data": {
            "text/plain": [
              "BLACK       2208052\n",
              "WHITE       1664532\n",
              "HISPANIC    1433655\n",
              "ASIAN         32011\n",
              "AMER IND      16767\n",
              "Name: RACE, dtype: int64"
            ]
          },
          "metadata": {
            "tags": []
          },
          "execution_count": 107
        }
      ]
    },
    {
      "cell_type": "code",
      "metadata": {
        "colab": {
          "base_uri": "https://localhost:8080/",
          "height": 204
        },
        "id": "iSGcOuwqZ0x9",
        "outputId": "ab0c2c51-ecb8-4a88-e557-84833939e8d2"
      },
      "source": [
        "# Sum of bail amount by race\n",
        "df_racebail = df.groupby(['RACE'], as_index=False).agg({'Bond': sum})\n",
        "df_racebail.head()"
      ],
      "execution_count": 108,
      "outputs": [
        {
          "output_type": "execute_result",
          "data": {
            "text/html": [
              "<div>\n",
              "<style scoped>\n",
              "    .dataframe tbody tr th:only-of-type {\n",
              "        vertical-align: middle;\n",
              "    }\n",
              "\n",
              "    .dataframe tbody tr th {\n",
              "        vertical-align: top;\n",
              "    }\n",
              "\n",
              "    .dataframe thead th {\n",
              "        text-align: right;\n",
              "    }\n",
              "</style>\n",
              "<table border=\"1\" class=\"dataframe\">\n",
              "  <thead>\n",
              "    <tr style=\"text-align: right;\">\n",
              "      <th></th>\n",
              "      <th>RACE</th>\n",
              "      <th>Bond</th>\n",
              "    </tr>\n",
              "  </thead>\n",
              "  <tbody>\n",
              "    <tr>\n",
              "      <th>0</th>\n",
              "      <td>AMER IND</td>\n",
              "      <td>2541158250</td>\n",
              "    </tr>\n",
              "    <tr>\n",
              "      <th>1</th>\n",
              "      <td>ASIAN</td>\n",
              "      <td>6748155732</td>\n",
              "    </tr>\n",
              "    <tr>\n",
              "      <th>2</th>\n",
              "      <td>BLACK</td>\n",
              "      <td>675830919056</td>\n",
              "    </tr>\n",
              "    <tr>\n",
              "      <th>3</th>\n",
              "      <td>HISPANIC</td>\n",
              "      <td>367343610708</td>\n",
              "    </tr>\n",
              "    <tr>\n",
              "      <th>4</th>\n",
              "      <td>WHITE</td>\n",
              "      <td>274475448444</td>\n",
              "    </tr>\n",
              "  </tbody>\n",
              "</table>\n",
              "</div>"
            ],
            "text/plain": [
              "       RACE          Bond\n",
              "0  AMER IND    2541158250\n",
              "1     ASIAN    6748155732\n",
              "2     BLACK  675830919056\n",
              "3  HISPANIC  367343610708\n",
              "4     WHITE  274475448444"
            ]
          },
          "metadata": {
            "tags": []
          },
          "execution_count": 108
        }
      ]
    },
    {
      "cell_type": "code",
      "metadata": {
        "colab": {
          "base_uri": "https://localhost:8080/",
          "height": 204
        },
        "id": "NfmlcX_rbL0p",
        "outputId": "45deb5e9-10a4-4a27-b759-081700836eaf"
      },
      "source": [
        "# mean of bail amount and age by race\n",
        "df_racebailmean = df.groupby(['RACE'], as_index=False).mean()\n",
        "df_racebailmean.head()"
      ],
      "execution_count": 109,
      "outputs": [
        {
          "output_type": "execute_result",
          "data": {
            "text/html": [
              "<div>\n",
              "<style scoped>\n",
              "    .dataframe tbody tr th:only-of-type {\n",
              "        vertical-align: middle;\n",
              "    }\n",
              "\n",
              "    .dataframe tbody tr th {\n",
              "        vertical-align: top;\n",
              "    }\n",
              "\n",
              "    .dataframe thead th {\n",
              "        text-align: right;\n",
              "    }\n",
              "</style>\n",
              "<table border=\"1\" class=\"dataframe\">\n",
              "  <thead>\n",
              "    <tr style=\"text-align: right;\">\n",
              "      <th></th>\n",
              "      <th>RACE</th>\n",
              "      <th>AGE</th>\n",
              "      <th>Bond</th>\n",
              "    </tr>\n",
              "  </thead>\n",
              "  <tbody>\n",
              "    <tr>\n",
              "      <th>0</th>\n",
              "      <td>AMER IND</td>\n",
              "      <td>31.756009</td>\n",
              "      <td>151557.121131</td>\n",
              "    </tr>\n",
              "    <tr>\n",
              "      <th>1</th>\n",
              "      <td>ASIAN</td>\n",
              "      <td>34.839711</td>\n",
              "      <td>210807.401581</td>\n",
              "    </tr>\n",
              "    <tr>\n",
              "      <th>2</th>\n",
              "      <td>BLACK</td>\n",
              "      <td>33.234849</td>\n",
              "      <td>306075.635472</td>\n",
              "    </tr>\n",
              "    <tr>\n",
              "      <th>3</th>\n",
              "      <td>HISPANIC</td>\n",
              "      <td>33.558388</td>\n",
              "      <td>256228.737533</td>\n",
              "    </tr>\n",
              "    <tr>\n",
              "      <th>4</th>\n",
              "      <td>WHITE</td>\n",
              "      <td>37.364463</td>\n",
              "      <td>164896.468463</td>\n",
              "    </tr>\n",
              "  </tbody>\n",
              "</table>\n",
              "</div>"
            ],
            "text/plain": [
              "       RACE        AGE           Bond\n",
              "0  AMER IND  31.756009  151557.121131\n",
              "1     ASIAN  34.839711  210807.401581\n",
              "2     BLACK  33.234849  306075.635472\n",
              "3  HISPANIC  33.558388  256228.737533\n",
              "4     WHITE  37.364463  164896.468463"
            ]
          },
          "metadata": {
            "tags": []
          },
          "execution_count": 109
        }
      ]
    },
    {
      "cell_type": "code",
      "metadata": {
        "colab": {
          "base_uri": "https://localhost:8080/",
          "height": 204
        },
        "id": "lRhuTAR2b5-K",
        "outputId": "33029683-c684-4095-d0a9-d3d82edb8457"
      },
      "source": [
        "# median of bail amount and age by race\n",
        "df_racebailmed = df.groupby(['RACE'], as_index=False).median()\n",
        "df_racebailmed.head()"
      ],
      "execution_count": 110,
      "outputs": [
        {
          "output_type": "execute_result",
          "data": {
            "text/html": [
              "<div>\n",
              "<style scoped>\n",
              "    .dataframe tbody tr th:only-of-type {\n",
              "        vertical-align: middle;\n",
              "    }\n",
              "\n",
              "    .dataframe tbody tr th {\n",
              "        vertical-align: top;\n",
              "    }\n",
              "\n",
              "    .dataframe thead th {\n",
              "        text-align: right;\n",
              "    }\n",
              "</style>\n",
              "<table border=\"1\" class=\"dataframe\">\n",
              "  <thead>\n",
              "    <tr style=\"text-align: right;\">\n",
              "      <th></th>\n",
              "      <th>RACE</th>\n",
              "      <th>AGE</th>\n",
              "      <th>Bond</th>\n",
              "    </tr>\n",
              "  </thead>\n",
              "  <tbody>\n",
              "    <tr>\n",
              "      <th>0</th>\n",
              "      <td>AMER IND</td>\n",
              "      <td>30</td>\n",
              "      <td>100000</td>\n",
              "    </tr>\n",
              "    <tr>\n",
              "      <th>1</th>\n",
              "      <td>ASIAN</td>\n",
              "      <td>35</td>\n",
              "      <td>90000</td>\n",
              "    </tr>\n",
              "    <tr>\n",
              "      <th>2</th>\n",
              "      <td>BLACK</td>\n",
              "      <td>31</td>\n",
              "      <td>125000</td>\n",
              "    </tr>\n",
              "    <tr>\n",
              "      <th>3</th>\n",
              "      <td>HISPANIC</td>\n",
              "      <td>32</td>\n",
              "      <td>100100</td>\n",
              "    </tr>\n",
              "    <tr>\n",
              "      <th>4</th>\n",
              "      <td>WHITE</td>\n",
              "      <td>35</td>\n",
              "      <td>60600</td>\n",
              "    </tr>\n",
              "  </tbody>\n",
              "</table>\n",
              "</div>"
            ],
            "text/plain": [
              "       RACE  AGE    Bond\n",
              "0  AMER IND   30  100000\n",
              "1     ASIAN   35   90000\n",
              "2     BLACK   31  125000\n",
              "3  HISPANIC   32  100100\n",
              "4     WHITE   35   60600"
            ]
          },
          "metadata": {
            "tags": []
          },
          "execution_count": 110
        }
      ]
    },
    {
      "cell_type": "code",
      "metadata": {
        "colab": {
          "base_uri": "https://localhost:8080/",
          "height": 204
        },
        "id": "vPRVd1JY05GA",
        "outputId": "4a3ce360-0191-4bf1-d81b-ff37a3c8d935"
      },
      "source": [
        "#Add new column with offense category\n",
        "category = []\n",
        "for i in df[\"OFFENSE\"]:\n",
        "    if i == [\"CRIMINAL POSS OF PISTOL/REVOLVER DF\"]:\n",
        "        category.append(\"Weapons\")\n",
        "    elif i ==[\"VIOLATION OF PROBATION OR COND DISCHG\"]:\n",
        "        category.append(\"Probation\")\n",
        "    elif i == [\"CRIMINAL ATTEMPT\"]:\n",
        "        category.append(\"Attempt\")\n",
        "    elif i == [\"CRIM VIOL OF PROTECTIVE ORDER         DF\"]:\n",
        "        category.append(\"Order\")\n",
        "    elif i == [\"SALE OF NARC/AMPHET BY NON-DEPENDENT   F\"]:\n",
        "        category.append(\"Drugs\")\n",
        "    elif i == [\"LARCENY, SECOND DEGREE                CF\"]:\n",
        "        category.append(\"Property\")\n",
        "    elif i == [\"YOUTHFUL OFFENDER\"]:\n",
        "        category.append(\"Juvenile\")\n",
        "    else:\n",
        "        category.append(\"Person\")\n",
        "       \n",
        "df[\"Category\"] = category   \n",
        "df.head()"
      ],
      "execution_count": 111,
      "outputs": [
        {
          "output_type": "execute_result",
          "data": {
            "text/html": [
              "<div>\n",
              "<style scoped>\n",
              "    .dataframe tbody tr th:only-of-type {\n",
              "        vertical-align: middle;\n",
              "    }\n",
              "\n",
              "    .dataframe tbody tr th {\n",
              "        vertical-align: top;\n",
              "    }\n",
              "\n",
              "    .dataframe thead th {\n",
              "        text-align: right;\n",
              "    }\n",
              "</style>\n",
              "<table border=\"1\" class=\"dataframe\">\n",
              "  <thead>\n",
              "    <tr style=\"text-align: right;\">\n",
              "      <th></th>\n",
              "      <th>Admission_Date</th>\n",
              "      <th>RACE</th>\n",
              "      <th>GENDER</th>\n",
              "      <th>AGE</th>\n",
              "      <th>Bond</th>\n",
              "      <th>OFFENSE</th>\n",
              "      <th>Category</th>\n",
              "    </tr>\n",
              "  </thead>\n",
              "  <tbody>\n",
              "    <tr>\n",
              "      <th>0</th>\n",
              "      <td>2018-08-16</td>\n",
              "      <td>BLACK</td>\n",
              "      <td>M</td>\n",
              "      <td>27</td>\n",
              "      <td>150000</td>\n",
              "      <td>CRIMINAL POSS OF PISTOL/REVOLVER      DF</td>\n",
              "      <td>Person</td>\n",
              "    </tr>\n",
              "    <tr>\n",
              "      <th>1</th>\n",
              "      <td>2019-03-28</td>\n",
              "      <td>HISPANIC</td>\n",
              "      <td>M</td>\n",
              "      <td>41</td>\n",
              "      <td>30100</td>\n",
              "      <td>VIOLATION OF PROBATION OR COND DISCHG</td>\n",
              "      <td>Person</td>\n",
              "    </tr>\n",
              "    <tr>\n",
              "      <th>2</th>\n",
              "      <td>2020-04-03</td>\n",
              "      <td>HISPANIC</td>\n",
              "      <td>M</td>\n",
              "      <td>21</td>\n",
              "      <td>150000</td>\n",
              "      <td>CRIMINAL ATTEMPT</td>\n",
              "      <td>Person</td>\n",
              "    </tr>\n",
              "    <tr>\n",
              "      <th>3</th>\n",
              "      <td>2020-01-15</td>\n",
              "      <td>WHITE</td>\n",
              "      <td>M</td>\n",
              "      <td>36</td>\n",
              "      <td>50500</td>\n",
              "      <td>CRIM VIOL OF PROTECTIVE ORDER         DF</td>\n",
              "      <td>Person</td>\n",
              "    </tr>\n",
              "    <tr>\n",
              "      <th>4</th>\n",
              "      <td>2018-12-26</td>\n",
              "      <td>HISPANIC</td>\n",
              "      <td>M</td>\n",
              "      <td>29</td>\n",
              "      <td>100000</td>\n",
              "      <td>CRIMINAL ATTEMPT</td>\n",
              "      <td>Person</td>\n",
              "    </tr>\n",
              "  </tbody>\n",
              "</table>\n",
              "</div>"
            ],
            "text/plain": [
              "  Admission_Date      RACE  ...                                   OFFENSE  Category\n",
              "0     2018-08-16     BLACK  ...  CRIMINAL POSS OF PISTOL/REVOLVER      DF    Person\n",
              "1     2019-03-28  HISPANIC  ...     VIOLATION OF PROBATION OR COND DISCHG    Person\n",
              "2     2020-04-03  HISPANIC  ...                          CRIMINAL ATTEMPT    Person\n",
              "3     2020-01-15     WHITE  ...  CRIM VIOL OF PROTECTIVE ORDER         DF    Person\n",
              "4     2018-12-26  HISPANIC  ...                          CRIMINAL ATTEMPT    Person\n",
              "\n",
              "[5 rows x 7 columns]"
            ]
          },
          "metadata": {
            "tags": []
          },
          "execution_count": 111
        }
      ]
    },
    {
      "cell_type": "code",
      "metadata": {
        "id": "zWxy4DuV7EZV"
      },
      "source": [
        "#Add new column with offense category\n",
        "#category = []\n",
        "# for i in df[\"OFFENSE\"]:\n",
        "#    if \"PISTOL/REVOLVER\" in df.OFFENSE:\n",
        "#        category.append(\"Weapons\")\n",
        "#    elif \"VIOLATION OF PROBATION OR COND DISCHG\" in df.OFFENSE:\n",
        "#        category.append(\"Probation\")\n",
        "#    elif \"CRIMINAL ATTEMPT\" in df.OFFENSE:\n",
        "#        category.append(\"Attempt\")\n",
        "#    elif \"CRIM VIOL OF PROTECTIVE ORDER         DF\" in df.OFFENSE:\n",
        "#        category.append(\"Order\")\n",
        "#    elif \"SALE OF NARC/AMPHET BY NON-DEPENDENT   F\" in df.OFFENSE:\n",
        "#        category.append(\"Drugs\")\n",
        "#    elif \"LARCENY, SECOND DEGREE                CF\" in df.OFFENSE:\n",
        "#        category.append(\"Property\")\n",
        "#    elif \"YOUTHFUL OFFENDER\" in df.OFFENSE:\n",
        "#        category.append(\"Juvenile\")\n",
        "#    else:\n",
        "#        category.append(\"Person\")\n",
        "       \n",
        "# df[\"Category\"] = category   \n",
        "# df.head()"
      ],
      "execution_count": 112,
      "outputs": []
    },
    {
      "cell_type": "code",
      "metadata": {
        "id": "bRNlIWOQ9OhQ"
      },
      "source": [
        "#Add new column with offense category\n",
        "# category = []\n",
        "# for i in df_set[\"OFFENSE\"]:\n",
        "  #  if \"PISTOL/REVOLVER\" in df_set.OFFENSE:\n",
        "  #     category.append(\"Weapons\")\n",
        "  #  elif \"VIOLATION OF PROBATION OR COND DISCHG\" in df_set.OFFENSE:\n",
        "  #      category.append(\"Probation\")\n",
        "  #  elif \"CRIMINAL ATTEMPT\" in df_set.OFFENSE:\n",
        "  #      category.append(\"Attempt\")\n",
        "  #  elif \"CRIM VIOL OF PROTECTIVE ORDER         DF\" in df_set.OFFENSE:\n",
        "  #      category.append(\"Order\")\n",
        "  #  elif \"SALE OF NARC/AMPHET BY NON-DEPENDENT   F\" in df_set.OFFENSE:\n",
        "  #      category.append(\"Drugs\")\n",
        "  #  elif \"LARCENY, SECOND DEGREE                CF\" in df_set.OFFENSE:\n",
        "  #      category.append(\"Property\")\n",
        "  #  elif \"YOUTHFUL OFFENDER\" in df_set.OFFENSE:\n",
        "  #      category.append(\"Juvenile\")\n",
        "  #  else:\n",
        "  #      category.append(\"Person\")\n",
        "       \n",
        "# df_set[\"Category\"] = category   \n",
        "# df_set.head()"
      ],
      "execution_count": 113,
      "outputs": []
    },
    {
      "cell_type": "code",
      "metadata": {
        "id": "lInM6pVL-t5O"
      },
      "source": [
        "#if 'PISTOL/REVOLVER' in df_set.OFFENSE:\n",
        "#        df_set.Category = [\"Weapons\"]\n",
        "\n",
        "#df_set.head()"
      ],
      "execution_count": 114,
      "outputs": []
    },
    {
      "cell_type": "code",
      "metadata": {
        "id": "ETAb4WTW_r_9"
      },
      "source": [
        "\n",
        "#if 'PISTOL/REVOLVER' in df_set.OFFENSE:\n",
        "#\t\tdf_set[\"Category\"] == \"Weapons\"\n",
        "#df_set.head()"
      ],
      "execution_count": 115,
      "outputs": []
    },
    {
      "cell_type": "code",
      "metadata": {
        "colab": {
          "base_uri": "https://localhost:8080/"
        },
        "id": "5zqbOjdI5OzG",
        "outputId": "3ac9d5d8-9c4b-4fb4-eac1-f517e7c24fe5"
      },
      "source": [
        "df['Category'].value_counts() "
      ],
      "execution_count": 116,
      "outputs": [
        {
          "output_type": "execute_result",
          "data": {
            "text/plain": [
              "Person    5355017\n",
              "Name: Category, dtype: int64"
            ]
          },
          "metadata": {
            "tags": []
          },
          "execution_count": 116
        }
      ]
    },
    {
      "cell_type": "code",
      "metadata": {
        "id": "bt0uWcfna8-a"
      },
      "source": [
        ""
      ],
      "execution_count": 116,
      "outputs": []
    },
    {
      "cell_type": "markdown",
      "metadata": {
        "id": "GH7F2do2ZKDY"
      },
      "source": [
        "**Data Visualization**"
      ]
    },
    {
      "cell_type": "code",
      "metadata": {
        "id": "nBipkr6-ZIz1"
      },
      "source": [
        "# Basic Plots with Matplotlib\n",
        "import matplotlib as mpl\n",
        "import matplotlib.pyplot as plt\n",
        "plt.style.use('classic')"
      ],
      "execution_count": 117,
      "outputs": []
    },
    {
      "cell_type": "code",
      "metadata": {
        "colab": {
          "base_uri": "https://localhost:8080/",
          "height": 470
        },
        "id": "JN49lsSvbI1Z",
        "outputId": "ce4ce444-5047-415e-f89a-424328f734ed"
      },
      "source": [
        "# Race Histogram\n",
        "plt.hist(df.RACE, bins=5, facecolor='navy', alpha=0.5)\n",
        "plt.title('Race Histogram for Pre-Trial Detainment')\n",
        "plt.xlabel('Race')\n",
        "plt.ylabel('Frequency')\n",
        "plt.show()"
      ],
      "execution_count": 133,
      "outputs": [
        {
          "output_type": "display_data",
          "data": {
            "image/png": "[encoded data removed]",
            "text/plain": [
              "<Figure size 640x480 with 1 Axes>"
            ]
          },
          "metadata": {
            "tags": []
          }
        }
      ]
    },
    {
      "cell_type": "code",
      "metadata": {
        "colab": {
          "base_uri": "https://localhost:8080/",
          "height": 470
        },
        "id": "7uiXwneLbUKQ",
        "outputId": "4bec143a-b5ea-4fca-acbc-9713a6d4fd67"
      },
      "source": [
        "# Age Histogram\n",
        "plt.hist(df.AGE, bins=40, facecolor='green', alpha=0.5)\n",
        "plt.title('Age Histogram for Pre-Trial Detainment')\n",
        "plt.xlabel('Age')\n",
        "plt.ylabel('Frequency')\n",
        "plt.show()"
      ],
      "execution_count": 119,
      "outputs": [
        {
          "output_type": "display_data",
          "data": {
            "image/png": "[encoded data removed]",
            "text/plain": [
              "<Figure size 640x480 with 1 Axes>"
            ]
          },
          "metadata": {
            "tags": []
          }
        }
      ]
    },
    {
      "cell_type": "code",
      "metadata": {
        "colab": {
          "base_uri": "https://localhost:8080/",
          "height": 470
        },
        "id": "HH2idDTRouvI",
        "outputId": "0de5b87c-c591-44cc-f5ad-224a7e1bc146"
      },
      "source": [
        "# Bond Histogram\n",
        "plt.hist(df.Bond, bins=40, facecolor='royalblue', alpha=0.5)\n",
        "plt.title('Bond Histogram for Pre-Trial Detainment')\n",
        "plt.xlabel('Bond')\n",
        "plt.ylabel('Frequency')\n",
        "plt.show()"
      ],
      "execution_count": 120,
      "outputs": [
        {
          "output_type": "display_data",
          "data": {
            "image/png": "[encoded data removed]",
            "text/plain": [
              "<Figure size 640x480 with 1 Axes>"
            ]
          },
          "metadata": {
            "tags": []
          }
        }
      ]
    },
    {
      "cell_type": "code",
      "metadata": {
        "colab": {
          "base_uri": "https://localhost:8080/",
          "height": 470
        },
        "id": "eDeRJ2uHqScR",
        "outputId": "cc41a4b7-bad8-46b1-db95-ebd0518a3bfb"
      },
      "source": [
        "# Change Range on Bond Histogram\n",
        "# example: plt.hist(hmag, 30, range=[6.5, 12.5], facecolor='gray', align='mid')\n",
        "# Bond Histogram\n",
        "plt.hist(df.Bond, bins=20, range = [0, 700000], facecolor='royalblue', alpha=0.5)\n",
        "plt.title('Bond Histogram for Pre-Trial Detainment')\n",
        "plt.xlabel('Bond')\n",
        "plt.ylabel('Frequency')\n",
        "plt.show()"
      ],
      "execution_count": 124,
      "outputs": [
        {
          "output_type": "display_data",
          "data": {
            "image/png": "[encoded data removed]",
            "text/plain": [
              "<Figure size 640x480 with 1 Axes>"
            ]
          },
          "metadata": {
            "tags": []
          }
        }
      ]
    },
    {
      "cell_type": "code",
      "metadata": {
        "id": "R4q8NkAicP9X"
      },
      "source": [
        "# Histogram Example with best fit line\n",
        "#import numpy as np\n",
        "#import matplotlib.mlab as mlab\n",
        "#import matplotlib.pyplot as plt\n",
        "\n",
        "# example data\n",
        "#\n",
        "#mu = 100 # mean of distribution\n",
        "#sigma = 15 # standard deviation of distribution\n",
        "#x = mu + sigma * np.random.randn(10000)\n",
        "\n",
        "#num_bins = 20\n",
        "# the histogram of the data\n",
        "#n, bins, patches = plt.hist(x, num_bins, normed=1, facecolor='blue', alpha=0.5)\n",
        "\n",
        "# add a 'best fit' line\n",
        "#y = mlab.normpdf(bins, mu, sigma)\n",
        "#plt.plot(bins, y, 'r--')\n",
        "#plt.xlabel('Smarts')\n",
        "#plt.ylabel('Probability')\n",
        "#plt.title(r'Histogram of IQ: $\\mu=100$, $\\sigma=15$')\n",
        "\n",
        "# Tweak spacing to prevent clipping of ylabel\n",
        "#plt.subplots_adjust(left=0.15)\n",
        "#plt.show()"
      ],
      "execution_count": 59,
      "outputs": []
    },
    {
      "cell_type": "code",
      "metadata": {
        "id": "cWymH38JZFkO",
        "colab": {
          "base_uri": "https://localhost:8080/",
          "height": 507
        },
        "outputId": "9ac24f48-e2e2-4707-b020-dbc7d5d183a5"
      },
      "source": [
        "# Plot\n",
        "plt.scatter(df.RACE, df.Bond, alpha=0.5)\n",
        "plt.title('Scatter plot pythonspot.com')\n",
        "plt.xlabel('x')\n",
        "plt.ylabel('y')\n",
        "plt.show()"
      ],
      "execution_count": 137,
      "outputs": [
        {
          "output_type": "stream",
          "text": [
            "*c* argument looks like a single numeric RGB or RGBA sequence, which should be avoided as value-mapping will have precedence in case its length matches with *x* & *y*.  Please use the *color* keyword-argument or provide a 2-D array with a single row if you intend to specify the same RGB or RGBA value for all points.\n"
          ],
          "name": "stderr"
        },
        {
          "output_type": "display_data",
          "data": {
            "image/png": "[encoded data removed]",
            "text/plain": [
              "<Figure size 640x480 with 1 Axes>"
            ]
          },
          "metadata": {
            "tags": []
          }
        }
      ]
    },
    {
      "cell_type": "code",
      "metadata": {
        "colab": {
          "base_uri": "https://localhost:8080/",
          "height": 521
        },
        "id": "NKKki0HUv8DO",
        "outputId": "64757a23-3409-480e-bbd5-676aa8c39902"
      },
      "source": [
        "# Boxplot\n",
        "boxplot = df.boxplot(column=['Bond' ], by = ['GENDER'])"
      ],
      "execution_count": 142,
      "outputs": [
        {
          "output_type": "stream",
          "text": [
            "/usr/local/lib/python3.7/dist-packages/numpy/core/_asarray.py:83: VisibleDeprecationWarning: Creating an ndarray from ragged nested sequences (which is a list-or-tuple of lists-or-tuples-or ndarrays with different lengths or shapes) is deprecated. If you meant to do this, you must specify 'dtype=object' when creating the ndarray\n",
            "  return array(a, dtype, copy=False, order=order)\n"
          ],
          "name": "stderr"
        },
        {
          "output_type": "display_data",
          "data": {
            "image/png": "[encoded data removed]",
            "text/plain": [
              "<Figure size 640x480 with 1 Axes>"
            ]
          },
          "metadata": {
            "tags": []
          }
        }
      ]
    },
    {
      "cell_type": "code",
      "metadata": {
        "colab": {
          "base_uri": "https://localhost:8080/",
          "height": 525
        },
        "id": "nEjOlF5g16Kb",
        "outputId": "d9e77b11-bb5e-4b29-a7e1-7fb4f92df807"
      },
      "source": [
        "import seaborn as sns\n",
        "boxplot = df.boxplot(column=['Bond' ], by = ['GENDER'])\n",
        "plt.ylim(0, 500000)\n",
        "plt.xlabel(\"Gender\")\n",
        "plt.ylabel(\"Bond\")\n",
        "plt.title(\"Boxplot of Gender and Bond\")\n",
        "plt.show()"
      ],
      "execution_count": 182,
      "outputs": [
        {
          "output_type": "stream",
          "text": [
            "/usr/local/lib/python3.7/dist-packages/numpy/core/_asarray.py:83: VisibleDeprecationWarning: Creating an ndarray from ragged nested sequences (which is a list-or-tuple of lists-or-tuples-or ndarrays with different lengths or shapes) is deprecated. If you meant to do this, you must specify 'dtype=object' when creating the ndarray\n",
            "  return array(a, dtype, copy=False, order=order)\n"
          ],
          "name": "stderr"
        },
        {
          "output_type": "display_data",
          "data": {
            "image/png": "[encoded data removed]",
            "text/plain": [
              "<Figure size 640x480 with 1 Axes>"
            ]
          },
          "metadata": {
            "tags": []
          }
        }
      ]
    },
    {
      "cell_type": "code",
      "metadata": {
        "colab": {
          "base_uri": "https://localhost:8080/",
          "height": 542
        },
        "id": "CRWXWFmuw52e",
        "outputId": "21c315ac-9ba8-4ba1-d076-18e7c5e7b4d2"
      },
      "source": [
        "# Boxplot\n",
        "boxplot = df.boxplot(column=['Bond' ], by = ['RACE'])\n",
        "plt.xlabel(\"Race\")\n",
        "plt.ylabel(\"Bond\")\n",
        "plt.title(\"Boxplot of Race and Bond\")"
      ],
      "execution_count": 183,
      "outputs": [
        {
          "output_type": "stream",
          "text": [
            "/usr/local/lib/python3.7/dist-packages/numpy/core/_asarray.py:83: VisibleDeprecationWarning: Creating an ndarray from ragged nested sequences (which is a list-or-tuple of lists-or-tuples-or ndarrays with different lengths or shapes) is deprecated. If you meant to do this, you must specify 'dtype=object' when creating the ndarray\n",
            "  return array(a, dtype, copy=False, order=order)\n"
          ],
          "name": "stderr"
        },
        {
          "output_type": "execute_result",
          "data": {
            "text/plain": [
              "Text(0.5, 1.0, 'Boxplot of Race and Bond')"
            ]
          },
          "metadata": {
            "tags": []
          },
          "execution_count": 183
        },
        {
          "output_type": "display_data",
          "data": {
            "image/png": "[encoded data removed]",
            "text/plain": [
              "<Figure size 640x480 with 1 Axes>"
            ]
          },
          "metadata": {
            "tags": []
          }
        }
      ]
    },
    {
      "cell_type": "code",
      "metadata": {
        "colab": {
          "base_uri": "https://localhost:8080/",
          "height": 525
        },
        "id": "tiW01Ymfy8rs",
        "outputId": "2a2fe6fb-a057-4f8e-96fa-a75f79a4cb3a"
      },
      "source": [
        "import seaborn as sns\n",
        "boxplot = df.boxplot(column=['Bond' ], by = ['RACE'])\n",
        "plt.ylim(0, 500000)\n",
        "plt.xlabel(\"Race\")\n",
        "plt.ylabel(\"Bond\")\n",
        "plt.title(\"Boxplot of Race and Bond\")\n",
        "plt.show()"
      ],
      "execution_count": 184,
      "outputs": [
        {
          "output_type": "stream",
          "text": [
            "/usr/local/lib/python3.7/dist-packages/numpy/core/_asarray.py:83: VisibleDeprecationWarning: Creating an ndarray from ragged nested sequences (which is a list-or-tuple of lists-or-tuples-or ndarrays with different lengths or shapes) is deprecated. If you meant to do this, you must specify 'dtype=object' when creating the ndarray\n",
            "  return array(a, dtype, copy=False, order=order)\n"
          ],
          "name": "stderr"
        },
        {
          "output_type": "display_data",
          "data": {
            "image/png": "[encoded data removed]",
            "text/plain": [
              "<Figure size 640x480 with 1 Axes>"
            ]
          },
          "metadata": {
            "tags": []
          }
        }
      ]
    },
    {
      "cell_type": "code",
      "metadata": {
        "colab": {
          "base_uri": "https://localhost:8080/",
          "height": 483
        },
        "id": "9upBtM8DxYQM",
        "outputId": "e33d22d1-523c-4076-df2a-447ae3380e66"
      },
      "source": [
        "#Importing required modules\n",
        "import seaborn as sns\n",
        "import pandas as ppd\n",
        " \n",
        " \n",
        "sns.boxplot(data = df , x = 'RACE' , y = 'Bond' , hue = 'GENDER' , notch = True )"
      ],
      "execution_count": 153,
      "outputs": [
        {
          "output_type": "execute_result",
          "data": {
            "text/plain": [
              "<matplotlib.axes._subplots.AxesSubplot at 0x7f12d6f8b550>"
            ]
          },
          "metadata": {
            "tags": []
          },
          "execution_count": 153
        },
        {
          "output_type": "display_data",
          "data": {
            "image/png": "[encoded data removed]",
            "text/plain": [
              "<Figure size 640x480 with 1 Axes>"
            ]
          },
          "metadata": {
            "tags": []
          }
        }
      ]
    },
    {
      "cell_type": "code",
      "metadata": {
        "colab": {
          "base_uri": "https://localhost:8080/",
          "height": 463
        },
        "id": "vkAQ82lFycMd",
        "outputId": "b124bd82-9e99-4fde-f1ed-a3d5e78ca8a6"
      },
      "source": [
        "sns.set_style(\"whitegrid\")\n",
        "sns.boxplot(data = df , x = 'RACE' , y = 'Bond' , hue = 'GENDER', notch = True, palette=\"Blues\")\n",
        "# place the legend outside the figure/plot\n",
        "plt.legend(bbox_to_anchor=(1,1),borderaxespad=0)\n",
        "plt.ylim(0, 500000)\n",
        "plt.show()"
      ],
      "execution_count": 175,
      "outputs": [
        {
          "output_type": "display_data",
          "data": {
            "image/png": "[encoded data removed]",
            "text/plain": [
              "<Figure size 640x480 with 1 Axes>"
            ]
          },
          "metadata": {
            "tags": []
          }
        }
      ]
    },
    {
      "cell_type": "code",
      "metadata": {
        "colab": {
          "base_uri": "https://localhost:8080/",
          "height": 463
        },
        "id": "6kuxZysH0_4j",
        "outputId": "50a19bd8-9466-44d4-f64a-a38c4be77fb0"
      },
      "source": [
        "sns.set_style(\"whitegrid\")\n",
        "sns.boxplot(data = df , x = 'AGE' , y = 'Bond' , hue = 'GENDER', notch = True, palette=\"Blues\")\n",
        "# place the legend outside the figure/plot\n",
        "plt.legend(bbox_to_anchor=(1,1),borderaxespad=0)\n",
        "plt.ylim(0, 500000)\n",
        "plt.show()"
      ],
      "execution_count": 178,
      "outputs": [
        {
          "output_type": "display_data",
          "data": {
            "image/png": "[encoded data removed]",
            "text/plain": [
              "<Figure size 640x480 with 1 Axes>"
            ]
          },
          "metadata": {
            "tags": []
          }
        }
      ]
    },
    {
      "cell_type": "code",
      "metadata": {
        "colab": {
          "base_uri": "https://localhost:8080/",
          "height": 475
        },
        "id": "LdNTJL8D1hCA",
        "outputId": "a3a883b8-b895-44ab-df12-bc3debbc0e28"
      },
      "source": [
        "# Plot of Age and Bond\n",
        "plt.scatter(df.AGE, df.Bond, alpha=0.5)\n",
        "plt.title('Scatter plot pythonspot.com')\n",
        "plt.xlabel('x')\n",
        "plt.ylabel('y')\n",
        "plt.show()"
      ],
      "execution_count": 179,
      "outputs": [
        {
          "output_type": "display_data",
          "data": {
            "image/png": "[encoded data removed]",
            "text/plain": [
              "<Figure size 640x480 with 1 Axes>"
            ]
          },
          "metadata": {
            "tags": []
          }
        }
      ]
    },
    {
      "cell_type": "code",
      "metadata": {
        "colab": {
          "base_uri": "https://localhost:8080/",
          "height": 475
        },
        "id": "1whKl8I_1vGb",
        "outputId": "2d658eb2-2fab-4e6d-9d1d-910ac6a4209f"
      },
      "source": [
        "# Plot of Gender and Bond\n",
        "plt.scatter(df.GENDER, df.Bond, alpha=0.5)\n",
        "plt.title('Scatter plot pythonspot.com')\n",
        "plt.xlabel('x')\n",
        "plt.ylabel('y')\n",
        "plt.show()"
      ],
      "execution_count": 180,
      "outputs": [
        {
          "output_type": "display_data",
          "data": {
            "image/png": "[encoded data removed]",
            "text/plain": [
              "<Figure size 640x480 with 1 Axes>"
            ]
          },
          "metadata": {
            "tags": []
          }
        }
      ]
    },
    {
      "cell_type": "markdown",
      "metadata": {
        "id": "uJUVkwwNcCXo"
      },
      "source": [
        "**Statistics**"
      ]
    },
    {
      "cell_type": "code",
      "metadata": {
        "id": "hsk3G91PcFDy"
      },
      "source": [
        "# Multiple functions\n",
        "grouped['C'].agg([np.sum, np.mean, np.std])"
      ],
      "execution_count": null,
      "outputs": []
    },
    {
      "cell_type": "code",
      "metadata": {
        "id": "rJLbp6nRcNw6"
      },
      "source": [
        "df.groupby('A').aggregate('C').mean()"
      ],
      "execution_count": null,
      "outputs": []
    },
    {
      "cell_type": "code",
      "metadata": {
        "id": "TLac9VKbcQ2E"
      },
      "source": [
        "df.groupby('A').C.mean()"
      ],
      "execution_count": null,
      "outputs": []
    },
    {
      "cell_type": "code",
      "metadata": {
        "id": "xYv6xaHhcRM5"
      },
      "source": [
        "# Median Bootstrapping \n",
        "bootstrap = pd.DataFrame({'df': [df.sample(100, replace = True).Bond.median() for i in range (1000)]})"
      ],
      "execution_count": 139,
      "outputs": []
    },
    {
      "cell_type": "code",
      "metadata": {
        "colab": {
          "base_uri": "https://localhost:8080/",
          "height": 204
        },
        "id": "7oHYT1I0ZX5M",
        "outputId": "335925e4-7981-4f95-d959-8594ed2e74c1"
      },
      "source": [
        "bootstrap.head()"
      ],
      "execution_count": 140,
      "outputs": [
        {
          "output_type": "execute_result",
          "data": {
            "text/html": [
              "<div>\n",
              "<style scoped>\n",
              "    .dataframe tbody tr th:only-of-type {\n",
              "        vertical-align: middle;\n",
              "    }\n",
              "\n",
              "    .dataframe tbody tr th {\n",
              "        vertical-align: top;\n",
              "    }\n",
              "\n",
              "    .dataframe thead th {\n",
              "        text-align: right;\n",
              "    }\n",
              "</style>\n",
              "<table border=\"1\" class=\"dataframe\">\n",
              "  <thead>\n",
              "    <tr style=\"text-align: right;\">\n",
              "      <th></th>\n",
              "      <th>df</th>\n",
              "    </tr>\n",
              "  </thead>\n",
              "  <tbody>\n",
              "    <tr>\n",
              "      <th>0</th>\n",
              "      <td>92050.0</td>\n",
              "    </tr>\n",
              "    <tr>\n",
              "      <th>1</th>\n",
              "      <td>152500.0</td>\n",
              "    </tr>\n",
              "    <tr>\n",
              "      <th>2</th>\n",
              "      <td>92500.0</td>\n",
              "    </tr>\n",
              "    <tr>\n",
              "      <th>3</th>\n",
              "      <td>125500.0</td>\n",
              "    </tr>\n",
              "    <tr>\n",
              "      <th>4</th>\n",
              "      <td>100100.0</td>\n",
              "    </tr>\n",
              "  </tbody>\n",
              "</table>\n",
              "</div>"
            ],
            "text/plain": [
              "         df\n",
              "0   92050.0\n",
              "1  152500.0\n",
              "2   92500.0\n",
              "3  125500.0\n",
              "4  100100.0"
            ]
          },
          "metadata": {
            "tags": []
          },
          "execution_count": 140
        }
      ]
    },
    {
      "cell_type": "code",
      "metadata": {
        "colab": {
          "base_uri": "https://localhost:8080/"
        },
        "id": "OaDET8RbZjcE",
        "outputId": "352ca6a0-9820-4415-8b9b-a7ea64040177"
      },
      "source": [
        "bootstrap.median()"
      ],
      "execution_count": 141,
      "outputs": [
        {
          "output_type": "execute_result",
          "data": {
            "text/plain": [
              "df    100000.0\n",
              "dtype: float64"
            ]
          },
          "metadata": {
            "tags": []
          },
          "execution_count": 141
        }
      ]
    },
    {
      "cell_type": "code",
      "metadata": {
        "colab": {
          "base_uri": "https://localhost:8080/"
        },
        "id": "0HiJ_Li2Ztjn",
        "outputId": "7ad00366-fac1-4dfb-f292-82dba2ba2726"
      },
      "source": [
        "df.Bond.median()"
      ],
      "execution_count": 142,
      "outputs": [
        {
          "output_type": "execute_result",
          "data": {
            "text/plain": [
              "100000.0"
            ]
          },
          "metadata": {
            "tags": []
          },
          "execution_count": 142
        }
      ]
    },
    {
      "cell_type": "code",
      "metadata": {
        "id": "HtGU3Z_SZxPc"
      },
      "source": [
        "# Median Bootstrapping 2\n",
        "bootstrap2 = pd.DataFrame({'df': [df.sample(100, replace = True).Bond.median() for i in range (1000)]})"
      ],
      "execution_count": 146,
      "outputs": []
    },
    {
      "cell_type": "code",
      "metadata": {
        "colab": {
          "base_uri": "https://localhost:8080/"
        },
        "id": "f1vM8vX8Z3XA",
        "outputId": "7fe948aa-0974-4b28-92af-9a247d55fe9d"
      },
      "source": [
        "bootstrap2.median()"
      ],
      "execution_count": 147,
      "outputs": [
        {
          "output_type": "execute_result",
          "data": {
            "text/plain": [
              "df    100000.0\n",
              "dtype: float64"
            ]
          },
          "metadata": {
            "tags": []
          },
          "execution_count": 147
        }
      ]
    },
    {
      "cell_type": "code",
      "metadata": {
        "id": "1UYJLamhZ9eZ"
      },
      "source": [
        "# Median Bootstrapping 3\n",
        "bootstrap3 = pd.DataFrame({'df': [df.sample(100, replace = True).Bond.median() for i in range (5000)]})"
      ],
      "execution_count": 150,
      "outputs": []
    },
    {
      "cell_type": "code",
      "metadata": {
        "colab": {
          "base_uri": "https://localhost:8080/"
        },
        "id": "2PYJ6frRaWbh",
        "outputId": "98674f1a-80f9-4d2c-b441-7a76ac1e8dc1"
      },
      "source": [
        "bootstrap3.median()"
      ],
      "execution_count": 151,
      "outputs": [
        {
          "output_type": "execute_result",
          "data": {
            "text/plain": [
              "df    100000.0\n",
              "dtype: float64"
            ]
          },
          "metadata": {
            "tags": []
          },
          "execution_count": 151
        }
      ]
    },
    {
      "cell_type": "code",
      "metadata": {
        "colab": {
          "base_uri": "https://localhost:8080/"
        },
        "id": "TBTdg7gIabK4",
        "outputId": "c342dde9-d163-42c9-eb94-ce9900a81fad"
      },
      "source": [
        "df.Bond.mean()"
      ],
      "execution_count": 152,
      "outputs": [
        {
          "output_type": "execute_result",
          "data": {
            "text/plain": [
              "247793.66567650487"
            ]
          },
          "metadata": {
            "tags": []
          },
          "execution_count": 152
        }
      ]
    },
    {
      "cell_type": "code",
      "metadata": {
        "colab": {
          "base_uri": "https://localhost:8080/"
        },
        "id": "KoLlNXufmdz8",
        "outputId": "e3f91235-9fb4-4976-cbb6-9b14e822067f"
      },
      "source": [
        "# Mean Bootstrapping \n",
        "bootstrap4 = pd.DataFrame({'df': [df.sample(100, replace = True).Bond.mean() for i in range (5000)]})\n",
        "bootstrap4.mean()"
      ],
      "execution_count": 154,
      "outputs": [
        {
          "output_type": "execute_result",
          "data": {
            "text/plain": [
              "df    247360.216342\n",
              "dtype: float64"
            ]
          },
          "metadata": {
            "tags": []
          },
          "execution_count": 154
        }
      ]
    },
    {
      "cell_type": "code",
      "metadata": {
        "colab": {
          "base_uri": "https://localhost:8080/"
        },
        "id": "DqlXdKDBmtZb",
        "outputId": "6782d011-2a08-44c3-dbad-833f97d69ef2"
      },
      "source": [
        "# Mean Bootstrapping 2\n",
        "bootstrap5 = pd.DataFrame({'df': [df.sample(100, replace = True).Bond.mean() for i in range (5000)]})\n",
        "bootstrap5.mean()"
      ],
      "execution_count": 155,
      "outputs": [
        {
          "output_type": "execute_result",
          "data": {
            "text/plain": [
              "df    248065.519118\n",
              "dtype: float64"
            ]
          },
          "metadata": {
            "tags": []
          },
          "execution_count": 155
        }
      ]
    }
  ]
}